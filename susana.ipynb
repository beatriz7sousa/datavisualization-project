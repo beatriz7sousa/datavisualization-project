{
 "cells": [
  {
   "cell_type": "markdown",
   "id": "b625e312",
   "metadata": {},
   "source": [
    "### Imports"
   ]
  },
  {
   "cell_type": "code",
   "execution_count": 1,
   "id": "13e43b3e",
   "metadata": {},
   "outputs": [],
   "source": [
    "import pandas as pd\n",
    "import numpy as np\n",
    "import plotly.graph_objects as go\n",
    "#pip install dash\n",
    "from dash import Dash, dcc, html, Input, Output\n",
    "import plotly.express as px\n",
    "# So we can see all columns\n",
    "pd.set_option(\"display.max_columns\", None)"
   ]
  },
  {
   "cell_type": "code",
   "execution_count": 23,
   "id": "9b74843a",
   "metadata": {},
   "outputs": [],
   "source": [
    "# Importing the datasets\n",
    "tournaments = pd.read_csv('tournaments_preparation.csv')\n",
    "all_match = pd.read_csv('all_match_preparation.csv')"
   ]
  },
  {
   "cell_type": "code",
   "execution_count": 24,
   "id": "cf5af335",
   "metadata": {},
   "outputs": [],
   "source": [
    "tournaments_original = tournaments.copy()"
   ]
  },
  {
   "cell_type": "markdown",
   "id": "a06f51d5",
   "metadata": {},
   "source": [
    "# Just with the 5 continents"
   ]
  },
  {
   "cell_type": "markdown",
   "id": "c534ce99",
   "metadata": {},
   "source": [
    "### Adding the `Continent` column to the dataset"
   ]
  },
  {
   "cell_type": "code",
   "execution_count": 25,
   "id": "a115dc36",
   "metadata": {},
   "outputs": [],
   "source": [
    "# Creating a dictionary where the key is the tourney_location and the value is the Continent to where it belongs to\n",
    "continents_code = {\n",
    "    'Brisbane': 'Oceania',\n",
    "    'Doha': 'Asia',\n",
    "    'Chennai': 'Asia',\n",
    "    'Sydney': 'Oceania',\n",
    "    'Auckland': 'Oceania',\n",
    "    'Johannesburg': 'Africa',\n",
    "    'Santiago': 'America',\n",
    "    'San Jose': 'America',\n",
    "    'Costa do Sauipe': 'America',\n",
    "    'Memphis': 'America',\n",
    "    'Buenos Aires': 'America',\n",
    "    'Dubai, United Arab Emirates': 'Asia',\n",
    "    'Acapulco, Mexico': 'America',\n",
    "    'Delray Beach': 'America',\n",
    "    'Indian Wells': 'America',\n",
    "    'Miami': 'America',\n",
    "    'Houston, United States': 'America',\n",
    "    'Newport, United States': 'America',\n",
    "    'Atlanta, United States': 'America',\n",
    "    'Los Angeles, United States': 'America',\n",
    "    'Washington, United States': 'America',\n",
    "    'Toronto, Canada': 'America',\n",
    "    'Cincinnati, United States': 'America',\n",
    "    'New Haven': 'America',\n",
    "    'New York': 'America',\n",
    "    'Kuala Lumpur': 'Asia',\n",
    "    'Bangkok': 'Asia',\n",
    "    'Beijing, China': 'Asia',\n",
    "    'Tokyo': 'Asia',\n",
    "    'Shanghai, China': 'Asia',\n",
    "    'Moscow, Russia': 'Europe',\n",
    "    'St. Petersburg, Russia': 'Europe',\n",
    "    'London, Great Britain': 'Europe',\n",
    "    'Brisbane, Australia': 'Oceania',\n",
    "    'Doha, Qatar': 'Asia',\n",
    "    'Chennai, India': 'Asia',\n",
    "    'Sydney, Australia': 'Oceania',\n",
    "    'Auckland, New Zealand': 'Oceania',\n",
    "    'Johannesburg, South Africa': 'Africa',\n",
    "    'Santiago, Chile': 'America',\n",
    "    'San Jose, United States': 'America',\n",
    "    'Costa do Sauipe, Brazil': 'America',\n",
    "    'Memphis, United States': 'America',\n",
    "    'Buenos Aires, Argentina': 'America',\n",
    "    'Delray Beach, United States': 'America',\n",
    "    'Indian Wells, United States': 'America',\n",
    "    'Miami, United States': 'America',\n",
    "    'Montreal, Canada': 'America',\n",
    "    'Winston-Salem, United States': 'America',\n",
    "    'New York, United States': 'America',\n",
    "    'Kuala Lumpur, Malaysia': 'Asia',\n",
    "    'Bangkok, Thailand': 'Asia',\n",
    "    'Tokyo, Japan': 'Asia',\n",
    "    'Vina del Mar, Chile': 'America',\n",
    "    'Sao Paulo, Brazil': 'America',\n",
    "    'Bogota, Colombia': 'America',\n",
    "    'Rio de Janeiro, Brazil': 'America',\n",
    "    'New York City, United States': 'America',\n",
    "    'Shenzhen, China': 'Asia',\n",
    "    'Quito, Ecuador': 'America',\n",
    "    'Los Cabos, Mexico': 'America',\n",
    "    'Chengdu, China': 'Asia',\n",
    "    'Milan, Italy': 'Europe',\n",
    "    'Pune, India': 'Asia',\n",
    "    'Cordoba, Argentina': 'America',\n",
    "    'Zhuhai, China': 'Asia',\n",
    "    'Melbourne': 'Oceania',\n",
    "    'Melbourne, Australia': 'Oceania',\n",
    "    'Africagreb': 'Europe',\n",
    "    'Rotterdam': 'Europe',\n",
    "    'Marseille, France': 'Europe',\n",
    "    'Casablanca': 'Africa',\n",
    "    'Monte Carlo': 'Europa',\n",
    "    'Barcelona': 'Europe',\n",
    "    'Rome': 'Europe',\n",
    "    'Munich': 'Europe',\n",
    "    'Estoril': 'Europe',\n",
    "    'Belgrade': 'Europe',\n",
    "    'Madrid': 'Europe',\n",
    "    'Nice': 'Europe',\n",
    "    'Paris': 'Europe',\n",
    "    'Halle': 'Europe',\n",
    "    'Eastbourne': 'Europe',\n",
    "    's-Hertogenbosch': 'Europe',\n",
    "    'Bastad': 'Europe',\n",
    "    'Stuttgart': 'Europe',\n",
    "    'Hamburg': 'Europe',\n",
    "    'Gstaad': 'Europe',\n",
    "    'Umag': 'Europe',\n",
    "    'Metz': 'Europe',\n",
    "    'Bucharest': 'Europe',\n",
    "    'Stockholm': 'Europe',\n",
    "    'Montpellier': 'Europe',\n",
    "    'Vienna': 'Europe',\n",
    "    'Valencia': 'Europe',\n",
    "    'Basel': 'Europe',\n",
    "    'Zagreb': 'Europe',\n",
    "    'Rotterdam': 'Europe',\n",
    "    'Casablanca': 'Africa',\n",
    "    'Monte Carlo': 'Europe',\n",
    "    'Barcelona': 'Europe',\n",
    "    'Estoril': 'Europe',\n",
    "    'Belgrade': 'Europe',\n",
    "    'Rome': 'Europe',\n",
    "    'Kitzbuhel': 'Europe',\n",
    "    'Metz': 'Europe',\n",
    "    'Bucharest': 'Europe',\n",
    "    'Stockholm': 'Europe',\n",
    "    'Valencia': 'Europe',\n",
    "    'Bastad': 'Europe',\n",
    "    'Kitzbuhel': 'Europe',\n",
    "    'Monte-Carlo': 'Europe',\n",
    "    'Oeiras': 'Europe',\n",
    "    'Dusseldorf': 'Europe',\n",
    "    'Istanbul': 'Asia',\n",
    "    'Geneva': 'Europe',\n",
    "    'Nottingham': 'Europe',\n",
    "    'Sofia': 'Europe',\n",
    "    'Marrakech': 'Africa',\n",
    "    'Antwerp': 'Europe',\n",
    "    'Budapest': 'Europe',\n",
    "    'Lyon': 'Europe',\n",
    "    'Antalya': 'Asia',\n",
    "    'Munich, Germany' : 'Europe',\n",
    "    'Madrid, Spain' : 'Europe',\n",
    "    'Nice, France' : 'Europe',\n",
    "    'Paris, France' : 'Europe',\n",
    "    'Halle, Germany' : 'Europe',\n",
    "    'Eastbourne, Great Britain' : 'Europe',\n",
    "    's-Hertogenbosch, Netherlands' : 'Europe',\n",
    "    'Bastad, Sweden' : 'Europe',\n",
    "    'Stuttgart, Germany' : 'Europe',\n",
    "    'Hamburg, Germany' : 'Europe',\n",
    "    'Gstaad, Switzerland' : 'Europe',\n",
    "    'Umag, Croatia' : 'Europe',\n",
    "    'Montpellier, France' : 'Europe',\n",
    "    'Vienna, Austria' : 'Europe',\n",
    "    'Valencia, Switzerland' : 'Europe',\n",
    "    'Basel, Switzerland' : 'Europe',\n",
    "    'Zagreb, Croatia' : 'Europe',\n",
    "    'Rotterdam, Netherlands' : 'Europe',\n",
    "    'Casablanca, Morocco' : 'Africa',\n",
    "    'Monte Carlo, Monaco' : 'Europe',\n",
    "    'Barcelona, Spain' : 'Europe',\n",
    "    'Estoril, Portugal' : 'Europe',\n",
    "    'Belgrade, Serbia' : 'Europe',\n",
    "    'Rome, Italy' : 'Europe',\n",
    "    'Kitzbhel, Austria' : 'Europe',\n",
    "    'Metz, France' : 'Europe',\n",
    "    'Bucharest, Romania' : 'Europe',\n",
    "    'Stockholm, Sweden' : 'Europe',\n",
    "    'Valencia, Spain' : 'Europe',\n",
    "    'B†stad, Sweden' : 'Europe',\n",
    "    'Kitzbuhel, Austria' : 'Europe',\n",
    "    'Monte-Carlo, Monaco' : 'Europe',\n",
    "    'Oeiras, Portugal' : 'Europe',\n",
    "    'Dusseldorf, Germany' : 'Europe',\n",
    "    'Istanbul, Turkey': 'Europe',\n",
    "    'Geneva, Switzerland': 'Europe',\n",
    "    'Nottingham, Great Britain': 'Europe',\n",
    "    'Sofia, Bulgaria': 'Europe',\n",
    "    'Marrakech, Morocco': 'Africa',\n",
    "    'Antwerp, Belgium': 'Europe',\n",
    "    'Budapest, Hungary': 'Europe',\n",
    "    'Lyon, France': 'Europe',\n",
    "    'Antalya, Turkey': 'Europe'\n",
    "}"
   ]
  },
  {
   "cell_type": "code",
   "execution_count": 26,
   "id": "9be3a2e2",
   "metadata": {},
   "outputs": [],
   "source": [
    "# Create a new column called \"Continent\"\n",
    "tournaments['Continent'] = ''\n",
    "\n",
    "# Loop over the rows of the `tournaments` dataframe and map the country names to Continents\n",
    "for i, row in tournaments.iterrows():\n",
    "    continent_name = row['tourney_location']\n",
    "    if continent_name in continents_code:\n",
    "        continent_code = continents_code[continent_name]\n",
    "    else:\n",
    "        continent_code = 'Unknown'  # Set the Continent as 'Unknown' if not found in the dictionary\n",
    "    tournaments.loc[i, 'Continent'] = continent_code"
   ]
  },
  {
   "cell_type": "code",
   "execution_count": 27,
   "id": "945f88f1",
   "metadata": {},
   "outputs": [
    {
     "data": {
      "text/html": [
       "<div>\n",
       "<style scoped>\n",
       "    .dataframe tbody tr th:only-of-type {\n",
       "        vertical-align: middle;\n",
       "    }\n",
       "\n",
       "    .dataframe tbody tr th {\n",
       "        vertical-align: top;\n",
       "    }\n",
       "\n",
       "    .dataframe thead th {\n",
       "        text-align: right;\n",
       "    }\n",
       "</style>\n",
       "<table border=\"1\" class=\"dataframe\">\n",
       "  <thead>\n",
       "    <tr style=\"text-align: right;\">\n",
       "      <th></th>\n",
       "      <th>Unnamed: 0</th>\n",
       "      <th>tourney_year_id</th>\n",
       "      <th>tourney_order</th>\n",
       "      <th>tourney_type</th>\n",
       "      <th>tourney_name</th>\n",
       "      <th>tourney_id</th>\n",
       "      <th>tourney_slug</th>\n",
       "      <th>tourney_location</th>\n",
       "      <th>tourney_date</th>\n",
       "      <th>year</th>\n",
       "      <th>tourney_singles_draw</th>\n",
       "      <th>tourney_doubles_draw</th>\n",
       "      <th>tourney_conditions</th>\n",
       "      <th>tourney_surface</th>\n",
       "      <th>singles_winner_name</th>\n",
       "      <th>singles_winner_player_slug</th>\n",
       "      <th>singles_winner_player_id</th>\n",
       "      <th>doubles_winner_1_name</th>\n",
       "      <th>doubles_winner_1_player_slug</th>\n",
       "      <th>doubles_winner_1_player_id</th>\n",
       "      <th>doubles_winner_2_name</th>\n",
       "      <th>doubles_winner_2_player_slug</th>\n",
       "      <th>doubles_winner_2_player_id</th>\n",
       "      <th>tourney_fin_commit_USD</th>\n",
       "      <th>tourney_region</th>\n",
       "      <th>tourney_city</th>\n",
       "      <th>country_code</th>\n",
       "      <th>latitude</th>\n",
       "      <th>longitude</th>\n",
       "      <th>Continent</th>\n",
       "    </tr>\n",
       "  </thead>\n",
       "  <tbody>\n",
       "    <tr>\n",
       "      <th>0</th>\n",
       "      <td>0</td>\n",
       "      <td>2010-339</td>\n",
       "      <td>1</td>\n",
       "      <td>ATP 250</td>\n",
       "      <td>Brisbane</td>\n",
       "      <td>339</td>\n",
       "      <td>brisbane</td>\n",
       "      <td>Brisbane</td>\n",
       "      <td>2010-01-03</td>\n",
       "      <td>2010</td>\n",
       "      <td>32</td>\n",
       "      <td>16</td>\n",
       "      <td>Outdoor</td>\n",
       "      <td>Hard</td>\n",
       "      <td>Andy Roddick</td>\n",
       "      <td>andy-roddick</td>\n",
       "      <td>r485</td>\n",
       "      <td>Jeremy Chardy</td>\n",
       "      <td>jeremy-chardy</td>\n",
       "      <td>ca12</td>\n",
       "      <td>Marc Gicquel</td>\n",
       "      <td>marc-gicquel</td>\n",
       "      <td>g436</td>\n",
       "      <td>424250.0</td>\n",
       "      <td>Oceania</td>\n",
       "      <td>Brisbane</td>\n",
       "      <td>AU</td>\n",
       "      <td>-27.46794</td>\n",
       "      <td>153.02809</td>\n",
       "      <td>Oceania</td>\n",
       "    </tr>\n",
       "    <tr>\n",
       "      <th>1</th>\n",
       "      <td>1</td>\n",
       "      <td>2010-451</td>\n",
       "      <td>2</td>\n",
       "      <td>ATP 250</td>\n",
       "      <td>Doha</td>\n",
       "      <td>451</td>\n",
       "      <td>doha</td>\n",
       "      <td>Doha</td>\n",
       "      <td>2010-01-04</td>\n",
       "      <td>2010</td>\n",
       "      <td>32</td>\n",
       "      <td>16</td>\n",
       "      <td>Outdoor</td>\n",
       "      <td>Hard</td>\n",
       "      <td>Nikolay Davydenko</td>\n",
       "      <td>nikolay-davydenko</td>\n",
       "      <td>d402</td>\n",
       "      <td>Guillermo Garcia-Lopez</td>\n",
       "      <td>guillermo-garcia-lopez</td>\n",
       "      <td>g476</td>\n",
       "      <td>Albert Montanes</td>\n",
       "      <td>albert-montanes</td>\n",
       "      <td>m824</td>\n",
       "      <td>1110250.0</td>\n",
       "      <td>Asia</td>\n",
       "      <td>Doha</td>\n",
       "      <td>QA</td>\n",
       "      <td>25.28545</td>\n",
       "      <td>51.53096</td>\n",
       "      <td>Asia</td>\n",
       "    </tr>\n",
       "    <tr>\n",
       "      <th>2</th>\n",
       "      <td>2</td>\n",
       "      <td>2010-891</td>\n",
       "      <td>3</td>\n",
       "      <td>ATP 250</td>\n",
       "      <td>Chennai</td>\n",
       "      <td>891</td>\n",
       "      <td>chennai</td>\n",
       "      <td>Chennai</td>\n",
       "      <td>2010-01-04</td>\n",
       "      <td>2010</td>\n",
       "      <td>32</td>\n",
       "      <td>16</td>\n",
       "      <td>Outdoor</td>\n",
       "      <td>Hard</td>\n",
       "      <td>Marin Cilic</td>\n",
       "      <td>marin-cilic</td>\n",
       "      <td>c977</td>\n",
       "      <td>Marcel Granollers</td>\n",
       "      <td>marcel-granollers</td>\n",
       "      <td>g710</td>\n",
       "      <td>Santiago Ventura</td>\n",
       "      <td>santiago-ventura</td>\n",
       "      <td>v251</td>\n",
       "      <td>450000.0</td>\n",
       "      <td>Asia</td>\n",
       "      <td>Chennai</td>\n",
       "      <td>IN</td>\n",
       "      <td>13.08784</td>\n",
       "      <td>80.27847</td>\n",
       "      <td>Asia</td>\n",
       "    </tr>\n",
       "    <tr>\n",
       "      <th>3</th>\n",
       "      <td>3</td>\n",
       "      <td>2010-338</td>\n",
       "      <td>4</td>\n",
       "      <td>ATP 250</td>\n",
       "      <td>Sydney</td>\n",
       "      <td>338</td>\n",
       "      <td>sydney</td>\n",
       "      <td>Sydney</td>\n",
       "      <td>2010-01-11</td>\n",
       "      <td>2010</td>\n",
       "      <td>28</td>\n",
       "      <td>16</td>\n",
       "      <td>Outdoor</td>\n",
       "      <td>Hard</td>\n",
       "      <td>Marcos Baghdatis</td>\n",
       "      <td>marcos-baghdatis</td>\n",
       "      <td>b837</td>\n",
       "      <td>Daniel Nestor</td>\n",
       "      <td>daniel-nestor</td>\n",
       "      <td>n210</td>\n",
       "      <td>Nenad Zimonjic</td>\n",
       "      <td>nenad-zimonjic</td>\n",
       "      <td>z072</td>\n",
       "      <td>424250.0</td>\n",
       "      <td>Oceania</td>\n",
       "      <td>Sydney</td>\n",
       "      <td>AU</td>\n",
       "      <td>-33.86785</td>\n",
       "      <td>151.20732</td>\n",
       "      <td>Oceania</td>\n",
       "    </tr>\n",
       "    <tr>\n",
       "      <th>4</th>\n",
       "      <td>4</td>\n",
       "      <td>2010-301</td>\n",
       "      <td>5</td>\n",
       "      <td>ATP 250</td>\n",
       "      <td>Auckland</td>\n",
       "      <td>301</td>\n",
       "      <td>auckland</td>\n",
       "      <td>Auckland</td>\n",
       "      <td>2010-01-11</td>\n",
       "      <td>2010</td>\n",
       "      <td>28</td>\n",
       "      <td>16</td>\n",
       "      <td>Outdoor</td>\n",
       "      <td>Hard</td>\n",
       "      <td>John Isner</td>\n",
       "      <td>john-isner</td>\n",
       "      <td>i186</td>\n",
       "      <td>Marcus Daniell</td>\n",
       "      <td>marcus-daniell</td>\n",
       "      <td>d763</td>\n",
       "      <td>Horia Tecau</td>\n",
       "      <td>horia-tecau</td>\n",
       "      <td>t749</td>\n",
       "      <td>407250.0</td>\n",
       "      <td>Oceania</td>\n",
       "      <td>Auckland</td>\n",
       "      <td>NZ</td>\n",
       "      <td>-36.84853</td>\n",
       "      <td>174.76349</td>\n",
       "      <td>Oceania</td>\n",
       "    </tr>\n",
       "  </tbody>\n",
       "</table>\n",
       "</div>"
      ],
      "text/plain": [
       "   Unnamed: 0 tourney_year_id  tourney_order tourney_type tourney_name  \\\n",
       "0           0        2010-339              1      ATP 250     Brisbane   \n",
       "1           1        2010-451              2      ATP 250         Doha   \n",
       "2           2        2010-891              3      ATP 250      Chennai   \n",
       "3           3        2010-338              4      ATP 250       Sydney   \n",
       "4           4        2010-301              5      ATP 250     Auckland   \n",
       "\n",
       "   tourney_id tourney_slug tourney_location tourney_date  year  \\\n",
       "0         339     brisbane         Brisbane   2010-01-03  2010   \n",
       "1         451         doha             Doha   2010-01-04  2010   \n",
       "2         891      chennai          Chennai   2010-01-04  2010   \n",
       "3         338       sydney           Sydney   2010-01-11  2010   \n",
       "4         301     auckland         Auckland   2010-01-11  2010   \n",
       "\n",
       "   tourney_singles_draw  tourney_doubles_draw tourney_conditions  \\\n",
       "0                    32                    16            Outdoor   \n",
       "1                    32                    16            Outdoor   \n",
       "2                    32                    16            Outdoor   \n",
       "3                    28                    16            Outdoor   \n",
       "4                    28                    16            Outdoor   \n",
       "\n",
       "  tourney_surface singles_winner_name singles_winner_player_slug  \\\n",
       "0            Hard        Andy Roddick               andy-roddick   \n",
       "1            Hard   Nikolay Davydenko          nikolay-davydenko   \n",
       "2            Hard         Marin Cilic                marin-cilic   \n",
       "3            Hard    Marcos Baghdatis           marcos-baghdatis   \n",
       "4            Hard          John Isner                 john-isner   \n",
       "\n",
       "  singles_winner_player_id   doubles_winner_1_name  \\\n",
       "0                     r485           Jeremy Chardy   \n",
       "1                     d402  Guillermo Garcia-Lopez   \n",
       "2                     c977       Marcel Granollers   \n",
       "3                     b837           Daniel Nestor   \n",
       "4                     i186          Marcus Daniell   \n",
       "\n",
       "  doubles_winner_1_player_slug doubles_winner_1_player_id  \\\n",
       "0                jeremy-chardy                       ca12   \n",
       "1       guillermo-garcia-lopez                       g476   \n",
       "2            marcel-granollers                       g710   \n",
       "3                daniel-nestor                       n210   \n",
       "4               marcus-daniell                       d763   \n",
       "\n",
       "  doubles_winner_2_name doubles_winner_2_player_slug  \\\n",
       "0          Marc Gicquel                 marc-gicquel   \n",
       "1       Albert Montanes              albert-montanes   \n",
       "2      Santiago Ventura             santiago-ventura   \n",
       "3        Nenad Zimonjic               nenad-zimonjic   \n",
       "4           Horia Tecau                  horia-tecau   \n",
       "\n",
       "  doubles_winner_2_player_id  tourney_fin_commit_USD tourney_region  \\\n",
       "0                       g436                424250.0        Oceania   \n",
       "1                       m824               1110250.0           Asia   \n",
       "2                       v251                450000.0           Asia   \n",
       "3                       z072                424250.0        Oceania   \n",
       "4                       t749                407250.0        Oceania   \n",
       "\n",
       "  tourney_city country_code  latitude  longitude Continent  \n",
       "0     Brisbane           AU -27.46794  153.02809   Oceania  \n",
       "1         Doha           QA  25.28545   51.53096      Asia  \n",
       "2      Chennai           IN  13.08784   80.27847      Asia  \n",
       "3       Sydney           AU -33.86785  151.20732   Oceania  \n",
       "4     Auckland           NZ -36.84853  174.76349   Oceania  "
      ]
     },
     "execution_count": 27,
     "metadata": {},
     "output_type": "execute_result"
    }
   ],
   "source": [
    "tournaments.head()"
   ]
  },
  {
   "cell_type": "markdown",
   "id": "48facf24",
   "metadata": {},
   "source": [
    "### Easy and simple Barplot"
   ]
  },
  {
   "cell_type": "code",
   "execution_count": 28,
   "id": "cf87efec",
   "metadata": {},
   "outputs": [],
   "source": [
    "# Getting the x and y axis vairables\n",
    "\n",
    "x_bar = tournaments[\"tourney_name\"] #categorical variable\n",
    "y_bar = tournaments[\"tourney_fin_commit_USD\"] #numeric variable"
   ]
  },
  {
   "cell_type": "code",
   "execution_count": 29,
   "id": "68ad8448",
   "metadata": {},
   "outputs": [],
   "source": [
    "data_4 = dict(type='bar', x=x_bar, y=y_bar)\n",
    "\n",
    "layout_4 = dict(title=dict(text='Most Valuable Tournments'),\n",
    "               yaxis=dict(title='Tourney USD'))\n",
    "\n",
    "fig_4 = go.Figure(data=data_4, layout=layout_4)"
   ]
  },
  {
   "cell_type": "code",
   "execution_count": 31,
   "id": "968b3df6",
   "metadata": {},
   "outputs": [
    {
     "data": {
      "application/vnd.plotly.v1+json": {
       "config": {
        "plotlyServerURL": "https://plot.ly"
       },
       "data": [
        {
         "type": "bar",
         "x": [
          "Brisbane",
          "Doha",
          "Chennai",
          "Sydney",
          "Auckland",
          "Johannesburg",
          "Santiago",
          "San Jose",
          "Costa do Sauipe",
          "Memphis",
          "Buenos Aires",
          "Dubai",
          "Acapulco",
          "Delray Beach",
          "ATP Masters 1000 Indian Wells",
          "ATP Masters 1000 Miami",
          "Houston",
          "Newport",
          "Atlanta",
          "Los Angeles",
          "Washington",
          "ATP Masters 1000 Canada",
          "ATP Masters 1000 Cincinnati",
          "New Haven",
          "US Open",
          "Kuala Lumpur",
          "Bangkok",
          "Beijing",
          "Tokyo",
          "ATP Masters 1000 Shanghai",
          "Moscow",
          "St. Petersburg",
          "ATP Finals",
          "Brisbane",
          "Doha",
          "Chennai",
          "Sydney",
          "Auckland",
          "Johannesburg",
          "Santiago",
          "San Jose",
          "Costa do Sauipe",
          "Memphis",
          "Buenos Aires",
          "Dubai",
          "Acapulco",
          "Delray Beach",
          "ATP Masters 1000 Indian Wells",
          "ATP Masters 1000 Miami",
          "Houston",
          "Newport",
          "Atlanta",
          "Los Angeles",
          "Washington",
          "ATP Masters 1000 Canada",
          "ATP Masters 1000 Cincinnati",
          "Winston-Salem",
          "US Open",
          "Kuala Lumpur",
          "Bangkok",
          "Beijing",
          "Tokyo",
          "ATP Masters 1000 Shanghai",
          "Moscow",
          "St. Petersburg",
          "ATP Finals",
          "Brisbane",
          "Doha",
          "Chennai",
          "Sydney",
          "Auckland",
          "Vina del Mar",
          "San Jose",
          "Sao Paulo",
          "Memphis",
          "Buenos Aires",
          "Dubai",
          "Acapulco",
          "Delray Beach",
          "ATP Masters 1000 Indian Wells",
          "ATP Masters 1000 Miami",
          "Houston",
          "Newport",
          "Atlanta",
          "Los Angeles",
          "Washington",
          "ATP Masters 1000 Canada",
          "ATP Masters 1000 Cincinnati",
          "Winston-Salem",
          "US Open",
          "St. Petersburg",
          "Kuala Lumpur",
          "Bangkok",
          "Beijing",
          "Tokyo",
          "ATP Masters 1000 Shanghai",
          "Moscow",
          "ATP Finals",
          "Brisbane",
          "Doha",
          "Chennai",
          "Sydney",
          "Auckland",
          "Vina del Mar",
          "San Jose",
          "Sao Paulo",
          "Memphis",
          "Buenos Aires",
          "Dubai",
          "Acapulco",
          "Delray Beach",
          "ATP Masters 1000 Indian Wells",
          "ATP Masters 1000 Miami",
          "Houston",
          "Newport",
          "Bogota",
          "Atlanta",
          "Washington",
          "ATP Masters 1000 Canada",
          "ATP Masters 1000 Cincinnati",
          "Winston-Salem",
          "US Open",
          "St. Petersburg",
          "Kuala Lumpur",
          "Bangkok",
          "Beijing",
          "Tokyo",
          "ATP Masters 1000 Shanghai",
          "Moscow",
          "ATP Finals",
          "Brisbane",
          "Doha",
          "Chennai",
          "Auckland",
          "Sydney",
          "Vina del Mar",
          "Memphis",
          "Memphis",
          "Buenos Aires",
          "Rio de Janeiro",
          "Delray Beach",
          "Dubai",
          "Acapulco",
          "Sao Paulo",
          "ATP Masters 1000 Indian Wells",
          "ATP Masters 1000 Miami",
          "Houston",
          "Newport",
          "Bogota",
          "Atlanta",
          "Washington",
          "ATP Masters 1000 Canada",
          "ATP Masters 1000 Cincinnati",
          "Winston-Salem",
          "US Open",
          "Kuala Lumpur",
          "Shenzhen",
          "Beijing",
          "Tokyo",
          "ATP Masters 1000 Shanghai",
          "Moscow",
          "ATP Finals",
          "Brisbane",
          "Doha",
          "Chennai",
          "Sydney",
          "Auckland",
          "Quito",
          "Memphis",
          "Sao Paulo",
          "Rio de Janeiro",
          "Delray Beach",
          "Dubai",
          "Acapulco",
          "Buenos Aires",
          "ATP Masters 1000 Indian Wells",
          "ATP Masters 1000 Miami",
          "Houston",
          "Newport",
          "Bogota",
          "Atlanta",
          "Washington",
          "ATP Masters 1000 Canada",
          "ATP Masters 1000 Cincinnati",
          "Winston-Salem",
          "US Open",
          "St. Petersburg",
          "Kuala Lumpur",
          "Shenzhen",
          "Beijing",
          "Tokyo",
          "ATP Masters 1000 Shanghai",
          "Moscow",
          "ATP Finals",
          "Doha",
          "Chennai",
          "Brisbane",
          "Auckland",
          "Sydney",
          "Quito",
          "Memphis",
          "Buenos Aires",
          "Rio de Janeiro",
          "Delray Beach",
          "Dubai",
          "Acapulco",
          "Sao Paulo",
          "ATP Masters 1000 Indian Wells",
          "ATP Masters 1000 Miami",
          "Houston",
          "Newport",
          "Washington",
          "ATP Masters 1000 Canada",
          "Atlanta",
          "Los Cabos",
          "ATP Masters 1000 Cincinnati",
          "Winston-Salem",
          "US Open",
          "St. Petersburg",
          "Chengdu",
          "Shenzhen",
          "Beijing",
          "Tokyo",
          "ATP Masters 1000 Shanghai",
          "Moscow",
          "ATP Finals",
          "Brisbane",
          "Doha",
          "Chennai",
          "Sydney",
          "Auckland",
          "Quito",
          "Memphis",
          "Buenos Aires",
          "Rio de Janeiro",
          "Delray Beach",
          "Dubai",
          "Acapulco",
          "Sao Paulo",
          "ATP Masters 1000 Indian Wells",
          "ATP Masters 1000 Miami",
          "Houston",
          "Newport",
          "Atlanta",
          "Washington",
          "Los Cabos",
          "ATP Masters 1000 Canada",
          "ATP Masters 1000 Cincinnati",
          "Winston-Salem",
          "US Open",
          "St. Petersburg",
          "Chengdu",
          "Shenzhen",
          "Beijing",
          "Tokyo",
          "ATP Masters 1000 Shanghai",
          "Moscow",
          "Next Gen ATP Finals",
          "Nitto ATP Finals",
          "Brisbane",
          "Doha",
          "Pune",
          "Sydney",
          "Auckland",
          "Quito",
          "New York",
          "Buenos Aires",
          "Rio de Janeiro",
          "Delray Beach",
          "Dubai",
          "Acapulco",
          "Sao Paulo",
          "ATP Masters 1000 Indian Wells",
          "ATP Masters 1000 Miami",
          "Houston",
          "Newport",
          "Atlanta",
          "Washington",
          "Los Cabos",
          "ATP Masters 1000 Canada",
          "ATP Masters 1000 Cincinnati",
          "Winston-Salem",
          "US Open",
          "St. Petersburg",
          "Chengdu",
          "Shenzhen",
          "Beijing",
          "Tokyo",
          "ATP Masters 1000 Shanghai",
          "Moscow",
          "Next Gen ATP Finals",
          "Nitto ATP Finals",
          "Doha",
          "Brisbane",
          "Pune",
          "Sydney",
          "Auckland",
          "Cordoba",
          "New York",
          "Buenos Aires",
          "Rio de Janeiro",
          "Delray Beach",
          "Dubai",
          "Acapulco",
          "Sao Paulo",
          "ATP Masters 1000 Indian Wells",
          "ATP Masters 1000 Miami",
          "Houston",
          "Newport",
          "Atlanta",
          "Washington",
          "Los Cabos",
          "ATP Masters 1000 Canada",
          "ATP Masters 1000 Cincinnati",
          "Winston-Salem",
          "US Open",
          "St. Petersburg",
          "Chengdu",
          "Zhuhai",
          "Beijing",
          "Tokyo",
          "ATP Masters 1000 Shanghai",
          "Moscow",
          "Next Gen ATP Finals",
          "Nitto ATP Finals",
          "Australian Open",
          "Australian Open",
          "Australian Open",
          "Australian Open",
          "Australian Open",
          "Australian Open",
          "Australian Open",
          "Australian Open",
          "Australian Open",
          "Australian Open",
          "Zagreb",
          "Rotterdam",
          "Marseille",
          "Casablanca",
          "ATP Masters 1000 Monte Carlo",
          "Barcelona",
          "ATP Masters 1000 Rome",
          "Munich",
          "Estoril",
          "Belgrade",
          "ATP Masters 1000 Madrid",
          "Nice",
          "Roland Garros",
          "Halle",
          "London / Queen's Club",
          "Eastbourne",
          "s-Hertogenbosch",
          "Bastad",
          "Stuttgart",
          "Hamburg",
          "Gstaad",
          "Umag",
          "Metz",
          "Bucharest",
          "Stockholm",
          "Montpellier",
          "Vienna",
          "Valencia",
          "Basel",
          "ATP Masters 1000 Paris",
          "Zagreb",
          "Rotterdam",
          "Marseille",
          "Casablanca",
          "ATP Masters 1000 Monte Carlo",
          "Barcelona",
          "Munich",
          "Estoril",
          "Belgrade",
          "ATP Masters 1000 Madrid",
          "ATP Masters 1000 Rome",
          "Nice",
          "Roland Garros",
          "Halle",
          "London / Queen's Club",
          "Eastbourne",
          "s-Hertogenbosch",
          "Bastad",
          "Stuttgart",
          "Hamburg",
          "Gstaad",
          "Umag",
          "Kitzbühel",
          "Metz",
          "Bucharest",
          "Stockholm",
          "Vienna",
          "Valencia",
          "Basel",
          "ATP Masters 1000 Paris",
          "Montpellier",
          "Zagreb",
          "Rotterdam",
          "Marseille",
          "Casablanca",
          "ATP Masters 1000 Monte Carlo",
          "Barcelona",
          "Bucharest",
          "Estoril",
          "Munich",
          "Belgrade",
          "ATP Masters 1000 Madrid",
          "ATP Masters 1000 Rome",
          "Nice",
          "Roland Garros",
          "Halle",
          "London / Queen's Club",
          "s-Hertogenbosch",
          "Eastbourne",
          "Bastad",
          "Stuttgart",
          "Umag",
          "Hamburg",
          "Gstaad",
          "Kitzbühel",
          "Metz",
          "Stockholm",
          "Vienna",
          "Valencia",
          "Basel",
          "ATP Masters 1000 Paris",
          "Montpellier",
          "Zagreb",
          "Rotterdam",
          "Marseille",
          "Casablanca",
          "ATP Masters 1000 Monte Carlo",
          "Barcelona",
          "Bucharest",
          "Munich",
          "Oeiras",
          "ATP Masters 1000 Madrid",
          "ATP Masters 1000 Rome",
          "Dusseldorf",
          "Nice",
          "Roland Garros",
          "Halle",
          "London / Queen's Club",
          "s-Hertogenbosch",
          "Eastbourne",
          "Bastad",
          "Stuttgart",
          "Hamburg",
          "Gstaad",
          "Umag",
          "Kitzbühel",
          "Metz",
          "Stockholm",
          "Vienna",
          "Valencia",
          "Basel",
          "ATP Masters 1000 Paris",
          "Montpellier",
          "Zagreb",
          "Rotterdam",
          "Marseille",
          "Casablanca",
          "ATP Masters 1000 Monte Carlo",
          "Barcelona",
          "Bucharest",
          "Munich",
          "Oeiras",
          "ATP Masters 1000 Madrid",
          "ATP Masters 1000 Rome",
          "Dusseldorf",
          "Nice",
          "Roland Garros",
          "Halle",
          "London / Queen's Club",
          "s-Hertogenbosch",
          "Eastbourne",
          "Bastad",
          "Stuttgart",
          "Hamburg",
          "Gstaad",
          "Umag",
          "Kitzbühel",
          "Metz",
          "Stockholm",
          "Vienna",
          "Valencia",
          "Basel",
          "ATP Masters 1000 Paris",
          "Montpellier",
          "Zagreb",
          "Rotterdam",
          "Marseille",
          "Casablanca",
          "ATP Masters 1000 Monte Carlo",
          "Barcelona",
          "Bucharest",
          "Estoril",
          "Istanbul",
          "Munich",
          "ATP Masters 1000 Madrid",
          "ATP Masters 1000 Rome",
          "Geneva",
          "Nice",
          "Roland Garros",
          "Stuttgart",
          "s-Hertogenbosch",
          "Halle",
          "London / Queen's Club",
          "Nottingham",
          "Bastad",
          "Umag",
          "Hamburg",
          "Gstaad",
          "Kitzbühel",
          "Metz",
          "Vienna",
          "Stockholm",
          "Basel",
          "Valencia",
          "ATP Masters 1000 Paris",
          "Montpellier",
          "Sofia",
          "Rotterdam",
          "Marseille",
          "Marrakech",
          "ATP Masters 1000 Monte Carlo",
          "Barcelona",
          "Bucharest",
          "Estoril",
          "Munich",
          "Istanbul",
          "ATP Masters 1000 Madrid",
          "ATP Masters 1000 Rome",
          "Geneva",
          "Nice",
          "Roland Garros",
          "Stuttgart",
          "s-Hertogenbosch",
          "London / Queen's Club",
          "Halle",
          "Nottingham",
          "Hamburg",
          "Bastad",
          "Gstaad",
          "Kitzbühel",
          "Umag",
          "Metz",
          "Antwerp",
          "Stockholm",
          "Vienna",
          "Basel",
          "ATP Masters 1000 Paris",
          "Montpellier",
          "Sofia",
          "Rotterdam",
          "Marseille",
          "Marrakech",
          "ATP Masters 1000 Monte Carlo",
          "Barcelona",
          "Budapest",
          "Estoril",
          "Munich",
          "Istanbul",
          "ATP Masters 1000 Madrid",
          "ATP Masters 1000 Rome",
          "Geneva",
          "Lyon",
          "Roland Garros",
          "Stuttgart",
          "s-Hertogenbosch",
          "Halle",
          "London / Queen's Club",
          "Antalya",
          "Eastbourne",
          "Bastad",
          "Umag",
          "Hamburg",
          "Gstaad",
          "Kitzbühel",
          "Metz",
          "Antwerp",
          "Stockholm",
          "Vienna",
          "Basel",
          "ATP Masters 1000 Paris",
          "Montpellier",
          "Sofia",
          "Rotterdam",
          "Marseille",
          "Marrakech",
          "ATP Masters 1000 Monte Carlo",
          "Barcelona",
          "Budapest",
          "Estoril",
          "Munich",
          "Istanbul",
          "ATP Masters 1000 Madrid",
          "ATP Masters 1000 Rome",
          "Lyon",
          "Geneva",
          "Roland Garros",
          "Stuttgart",
          "s-Hertogenbosch",
          "Halle",
          "London / Queen's Club",
          "Antalya",
          "Eastbourne",
          "Bastad",
          "Umag",
          "Hamburg",
          "Gstaad",
          "Kitzbühel",
          "Metz",
          "Antwerp",
          "Stockholm",
          "Vienna",
          "Basel",
          "ATP Masters 1000 Paris",
          "Montpellier",
          "Sofia",
          "Rotterdam",
          "Marseille",
          "Marrakech",
          "ATP Masters 1000 Monte Carlo",
          "Barcelona",
          "Budapest",
          "Estoril",
          "Munich",
          "ATP Masters 1000 Madrid",
          "ATP Masters 1000 Rome",
          "Geneva",
          "Lyon",
          "Roland Garros",
          "Stuttgart",
          "s-Hertogenbosch",
          "Halle",
          "London / Queen's Club",
          "Antalya",
          "Eastbourne",
          "Bastad",
          "Umag",
          "Hamburg",
          "Gstaad",
          "Kitzbühel",
          "Metz",
          "Antwerp",
          "Stockholm",
          "Vienna",
          "Basel",
          "ATP Masters 1000 Paris",
          "Wimbledon",
          "Wimbledon",
          "Wimbledon",
          "Wimbledon",
          "Wimbledon",
          "Wimbledon",
          "Wimbledon",
          "Wimbledon",
          "Wimbledon",
          "Wimbledon"
         ],
         "y": [
          424250,
          1110250,
          450000,
          424250,
          407250,
          500000,
          450000,
          600000,
          500000,
          1226500,
          544300,
          2233000,
          1081500,
          500000,
          4702285,
          4500000,
          500000,
          500000,
          600000,
          700000,
          1402000,
          3000000,
          3000000,
          750000,
          10508000,
          947750,
          608500,
          3336500,
          1226500,
          5250000,
          1080500,
          750000,
          5070000,
          474050,
          1110250,
          450000,
          474050,
          450000,
          500000,
          450000,
          600000,
          527700,
          1226500,
          547900,
          2233000,
          1226500,
          442500,
          4717540,
          4500000,
          500000,
          500000,
          600000,
          700000,
          1402900,
          3000000,
          3200000,
          625000,
          10768000,
          947750,
          644500,
          3336500,
          1341000,
          5650000,
          805500,
          750000,
          5070000,
          486000,
          1110250,
          450000,
          486000,
          450000,
          450000,
          600000,
          532800,
          1281500,
          553100,
          2313975,
          1281500,
          500000,
          5816010,
          4828050,
          500000,
          455750,
          546900,
          638050,
          1286260,
          3218700,
          3433280,
          625000,
          11777000,
          468350,
          947750,
          608500,
          3441500,
          1407065,
          5891600,
          742150,
          5500000,
          494230,
          1150720,
          442750,
          494230,
          491000,
          467800,
          623730,
          519775,
          1353550,
          570470,
          2413300,
          1353550,
          519775,
          6676605,
          5244125,
          519775,
          519775,
          727685,
          623730,
          1546590,
          3496085,
          3729155,
          658450,
          16102000,
          519775,
          984300,
          631530,
          3566050,
          1437800,
          6211445,
          823550,
          6000000,
          511825,
          1195500,
          459140,
          514345,
          511825,
          485760,
          647675,
          647675,
          567760,
          1454365,
          539730,
          2359935,
          1454365,
          539730,
          6959295,
          5649405,
          539730,
          539730,
          730102,
          647675,
          1654295,
          3766270,
          4017355,
          683705,
          17851868,
          1022255,
          655955,
          3755065,
          1373420,
          6521695,
          855490,
          6500000,
          494310,
          1221320,
          458400,
          494310,
          519395,
          494310,
          659070,
          505655,
          1548755,
          549230,
          2503810,
          1548755,
          573750,
          7107445,
          6267755,
          549230,
          549230,
          768915,
          659070,
          1753020,
          4178500,
          4457065,
          695515,
          19852700,
          1091000,
          1041540,
          668945,
          3944715,
          1397250,
          7021335,
          771525,
          7000000,
          1283855,
          482085,
          461330,
          520070,
          461330,
          520070,
          693425,
          598865,
          1471315,
          576900,
          2674445,
          1551830,
          499055,
          7037595,
          7037595,
          577860,
          577860,
          1877705,
          4691730,
          693425,
          808995,
          5004505,
          720940,
          21862744,
          986380,
          947735,
          704140,
          4164780,
          1506835,
          7655640,
          792645,
          7500000,
          495630,
          1334270,
          505730,
          495630,
          508360,
          540310,
          720410,
          624340,
          1603940,
          599345,
          2858530,
          1633690,
          520285,
          7913405,
          7913405,
          600345,
          600345,
          720410,
          2002460,
          727995,
          5275595,
          5627305,
          748960,
          24193400,
          1064715,
          1138910,
          731680,
          4280460,
          1706175,
          8092625,
          823600,
          1275000,
          8000000,
          528910,
          1386665,
          561345,
          528910,
          561345,
          561345,
          748450,
          648180,
          1842475,
          622675,
          3057135,
          1789445,
          582870,
          8909960,
          8909960,
          623710,
          623710,
          748450,
          2146815,
          808770,
          5939970,
          6335970,
          778070,
          25282400,
          1241850,
          1183360,
          800320,
          4658510,
          1928580,
          9219970,
          936435,
          1335000,
          8500000,
          1416205,
          589680,
          589680,
          589680,
          589680,
          589680,
          777385,
          673135,
          1937740,
          651215,
          2887895,
          1931110,
          618810,
          9314875,
          9314875,
          652245,
          652245,
          777385,
          2046340,
          858565,
          6338885,
          6735690,
          807210,
          28619350,
          1248665,
          1213295,
          1000000,
          3666275,
          2046340,
          8322885,
          922520,
          1400000,
          9000000,
          7273319.712,
          7514461.585,
          7772251.865,
          9086620.228,
          9862782.26,
          11683903.38,
          12970484.9,
          14893379.2,
          16520696.8,
          19542952.1,
          479070,
          1538347,
          613209.6,
          479070,
          2927650,
          2123877,
          2927650,
          479070,
          479070,
          452401.77,
          3939020,
          479070,
          8070519.68,
          798450,
          760071.17,
          486256.05,
          479070,
          479070,
          479070,
          1187029,
          479070,
          479070,
          479070,
          447344.92,
          638760,
          691990,
          691990,
          2149427.4,
          1868373,
          2927650,
          479070,
          1538347,
          613209.6,
          479070,
          2708076.25,
          2123877,
          479070,
          479070,
          443565.59,
          3945407.6,
          2927650,
          479070,
          8393306.4,
          798450,
          739098.55,
          492563.805,
          479070,
          479070,
          479070,
          1187029,
          479070,
          479070,
          479070,
          479070,
          450272.57,
          638760,
          691990,
          2149427.4,
          1956841.26,
          2927650,
          479070,
          479070,
          1599561.5,
          613209.6,
          479070,
          2921501.935,
          2206383.5,
          479070,
          479070,
          479070,
          445748.02,
          4230395.697,
          3141075.685,
          479070,
          9035260.2,
          798450,
          757516.13,
          479070,
          485138.22,
          436672.305,
          436672.305,
          436672.305,
          1080569,
          436672.305,
          436672.305,
          479070,
          585530,
          585530,
          2221660.51,
          2059255.78,
          3141075.685,
          498019.88,
          498019.88,
          1677676.525,
          637200.361,
          498019.88,
          3192197.777,
          2306855.125,
          498019.88,
          498019.88,
          498019.88,
          4581896.8082,
          3411771.527,
          498019.88,
          498019.88,
          10756718.4,
          830031.3589999999,
          830031.3589999999,
          498019.88,
          560043.476,
          523112.502,
          498019.88,
          1309990.3,
          498019.88,
          498019.88,
          498019.88,
          498019.88,
          639361.499,
          608690.373,
          2311347.737,
          2117313.741,
          3411771.527,
          517140.096,
          517140.096,
          1597703.773,
          661712.776,
          517140.096,
          3455867.259,
          2264441.461,
          517140.096,
          517140.096,
          517140.096,
          4924663.941,
          3675441.009,
          517140.096,
          517140.096,
          12298259.2,
          861900.16,
          861900.16,
          517140.096,
          598667.164,
          517140.096,
          517140.096,
          1407560.89,
          517140.096,
          517140.096,
          517140.096,
          517140.096,
          632058.343,
          632058.343,
          2346623.258,
          2038772.876,
          3675441.009,
          526242.426,
          526242.426,
          1704270.233,
          673721.464,
          526242.426,
          3858158.307,
          2411569.181,
          526242.426,
          526242.426,
          526242.426,
          526242.426,
          5444076.958,
          4077732.057,
          526242.426,
          526242.426,
          13848316.8,
          683547.722,
          643183.413,
          1806248.267,
          1806248.267,
          685671.599,
          526242.426,
          526242.426,
          1498914.216,
          526242.426,
          526242.426,
          526242.426,
          2474178.307,
          643183.413,
          2152940.58,
          643183.413,
          4077732.057,
          553666.522,
          553666.522,
          1834114.172,
          708927.786,
          553666.522,
          4359010.023,
          2585226.733,
          553666.522,
          553666.522,
          553666.522,
          514286.968,
          6089150.036,
          4578583.773,
          592125.197,
          553666.522,
          17042915.25,
          719291.667,
          676707.667,
          2053198.206,
          1944252.365,
          750335.403,
          1612331.377,
          553666.522,
          553666.522,
          553666.522,
          553666.522,
          553666.522,
          676707.667,
          676707.667,
          2626698.226,
          2291003.231,
          4578583.773,
          575214.026,
          575214.026,
          1974156.979,
          736543.51,
          575214.026,
          4928805.235,
          2772580.364,
          575214.026,
          575214.026,
          575214.026,
          529377.673,
          6822201.658,
          5148378.985,
          575214.026,
          575214.026,
          17874634,
          747322.585,
          703035.225,
          2093104.737,
          2093104.737,
          529377.673,
          738736.586,
          575214.026,
          575214.026,
          1734632.625,
          575214.026,
          575214.026,
          575214.026,
          703035.225,
          703035.225,
          2791221.51,
          2439914.156,
          5148378.985,
          597607.887,
          597607.887,
          2125202.427,
          765245.126,
          597607.887,
          5577157.281,
          2974726.612,
          597607.887,
          597607.887,
          597607.887,
          517549.967,
          7655464.078,
          5796731.031,
          597607.887,
          597607.887,
          19409787.2,
          776455.364,
          730400.768,
          2253667.709,
          2253667.709,
          517549.967,
          767667.091,
          597607.887,
          597607.887,
          1866515.273,
          597607.887,
          597607.887,
          597607.887,
          730400.768,
          730400.768,
          2968711.622,
          2600541.004,
          5796731.031,
          624004.644,
          624004.644,
          2234041.808,
          792073.046,
          624004.644,
          5945822.938,
          2923875.993,
          624004.644,
          624004.644,
          624004.644,
          7749510.842,
          6165396.688,
          624004.644,
          624004.644,
          21355876,
          803283.284,
          757223.365,
          2362507.09,
          2362507.09,
          540273.854,
          794063.848,
          624004.644,
          624004.644,
          1975354.654,
          624004.644,
          624004.644,
          624004.644,
          757223.365,
          757223.365,
          2591034.126,
          2363385.385,
          6165396.688,
          7456266.4,
          7979745.4,
          8767009.68,
          12652547.6,
          14097831,
          15124331.2,
          15840354.2,
          17858456,
          19232738.8,
          21383214.6
         ]
        }
       ],
       "layout": {
        "template": {
         "data": {
          "bar": [
           {
            "error_x": {
             "color": "#2a3f5f"
            },
            "error_y": {
             "color": "#2a3f5f"
            },
            "marker": {
             "line": {
              "color": "#E5ECF6",
              "width": 0.5
             },
             "pattern": {
              "fillmode": "overlay",
              "size": 10,
              "solidity": 0.2
             }
            },
            "type": "bar"
           }
          ],
          "barpolar": [
           {
            "marker": {
             "line": {
              "color": "#E5ECF6",
              "width": 0.5
             },
             "pattern": {
              "fillmode": "overlay",
              "size": 10,
              "solidity": 0.2
             }
            },
            "type": "barpolar"
           }
          ],
          "carpet": [
           {
            "aaxis": {
             "endlinecolor": "#2a3f5f",
             "gridcolor": "white",
             "linecolor": "white",
             "minorgridcolor": "white",
             "startlinecolor": "#2a3f5f"
            },
            "baxis": {
             "endlinecolor": "#2a3f5f",
             "gridcolor": "white",
             "linecolor": "white",
             "minorgridcolor": "white",
             "startlinecolor": "#2a3f5f"
            },
            "type": "carpet"
           }
          ],
          "choropleth": [
           {
            "colorbar": {
             "outlinewidth": 0,
             "ticks": ""
            },
            "type": "choropleth"
           }
          ],
          "contour": [
           {
            "colorbar": {
             "outlinewidth": 0,
             "ticks": ""
            },
            "colorscale": [
             [
              0,
              "#0d0887"
             ],
             [
              0.1111111111111111,
              "#46039f"
             ],
             [
              0.2222222222222222,
              "#7201a8"
             ],
             [
              0.3333333333333333,
              "#9c179e"
             ],
             [
              0.4444444444444444,
              "#bd3786"
             ],
             [
              0.5555555555555556,
              "#d8576b"
             ],
             [
              0.6666666666666666,
              "#ed7953"
             ],
             [
              0.7777777777777778,
              "#fb9f3a"
             ],
             [
              0.8888888888888888,
              "#fdca26"
             ],
             [
              1,
              "#f0f921"
             ]
            ],
            "type": "contour"
           }
          ],
          "contourcarpet": [
           {
            "colorbar": {
             "outlinewidth": 0,
             "ticks": ""
            },
            "type": "contourcarpet"
           }
          ],
          "heatmap": [
           {
            "colorbar": {
             "outlinewidth": 0,
             "ticks": ""
            },
            "colorscale": [
             [
              0,
              "#0d0887"
             ],
             [
              0.1111111111111111,
              "#46039f"
             ],
             [
              0.2222222222222222,
              "#7201a8"
             ],
             [
              0.3333333333333333,
              "#9c179e"
             ],
             [
              0.4444444444444444,
              "#bd3786"
             ],
             [
              0.5555555555555556,
              "#d8576b"
             ],
             [
              0.6666666666666666,
              "#ed7953"
             ],
             [
              0.7777777777777778,
              "#fb9f3a"
             ],
             [
              0.8888888888888888,
              "#fdca26"
             ],
             [
              1,
              "#f0f921"
             ]
            ],
            "type": "heatmap"
           }
          ],
          "heatmapgl": [
           {
            "colorbar": {
             "outlinewidth": 0,
             "ticks": ""
            },
            "colorscale": [
             [
              0,
              "#0d0887"
             ],
             [
              0.1111111111111111,
              "#46039f"
             ],
             [
              0.2222222222222222,
              "#7201a8"
             ],
             [
              0.3333333333333333,
              "#9c179e"
             ],
             [
              0.4444444444444444,
              "#bd3786"
             ],
             [
              0.5555555555555556,
              "#d8576b"
             ],
             [
              0.6666666666666666,
              "#ed7953"
             ],
             [
              0.7777777777777778,
              "#fb9f3a"
             ],
             [
              0.8888888888888888,
              "#fdca26"
             ],
             [
              1,
              "#f0f921"
             ]
            ],
            "type": "heatmapgl"
           }
          ],
          "histogram": [
           {
            "marker": {
             "pattern": {
              "fillmode": "overlay",
              "size": 10,
              "solidity": 0.2
             }
            },
            "type": "histogram"
           }
          ],
          "histogram2d": [
           {
            "colorbar": {
             "outlinewidth": 0,
             "ticks": ""
            },
            "colorscale": [
             [
              0,
              "#0d0887"
             ],
             [
              0.1111111111111111,
              "#46039f"
             ],
             [
              0.2222222222222222,
              "#7201a8"
             ],
             [
              0.3333333333333333,
              "#9c179e"
             ],
             [
              0.4444444444444444,
              "#bd3786"
             ],
             [
              0.5555555555555556,
              "#d8576b"
             ],
             [
              0.6666666666666666,
              "#ed7953"
             ],
             [
              0.7777777777777778,
              "#fb9f3a"
             ],
             [
              0.8888888888888888,
              "#fdca26"
             ],
             [
              1,
              "#f0f921"
             ]
            ],
            "type": "histogram2d"
           }
          ],
          "histogram2dcontour": [
           {
            "colorbar": {
             "outlinewidth": 0,
             "ticks": ""
            },
            "colorscale": [
             [
              0,
              "#0d0887"
             ],
             [
              0.1111111111111111,
              "#46039f"
             ],
             [
              0.2222222222222222,
              "#7201a8"
             ],
             [
              0.3333333333333333,
              "#9c179e"
             ],
             [
              0.4444444444444444,
              "#bd3786"
             ],
             [
              0.5555555555555556,
              "#d8576b"
             ],
             [
              0.6666666666666666,
              "#ed7953"
             ],
             [
              0.7777777777777778,
              "#fb9f3a"
             ],
             [
              0.8888888888888888,
              "#fdca26"
             ],
             [
              1,
              "#f0f921"
             ]
            ],
            "type": "histogram2dcontour"
           }
          ],
          "mesh3d": [
           {
            "colorbar": {
             "outlinewidth": 0,
             "ticks": ""
            },
            "type": "mesh3d"
           }
          ],
          "parcoords": [
           {
            "line": {
             "colorbar": {
              "outlinewidth": 0,
              "ticks": ""
             }
            },
            "type": "parcoords"
           }
          ],
          "pie": [
           {
            "automargin": true,
            "type": "pie"
           }
          ],
          "scatter": [
           {
            "fillpattern": {
             "fillmode": "overlay",
             "size": 10,
             "solidity": 0.2
            },
            "type": "scatter"
           }
          ],
          "scatter3d": [
           {
            "line": {
             "colorbar": {
              "outlinewidth": 0,
              "ticks": ""
             }
            },
            "marker": {
             "colorbar": {
              "outlinewidth": 0,
              "ticks": ""
             }
            },
            "type": "scatter3d"
           }
          ],
          "scattercarpet": [
           {
            "marker": {
             "colorbar": {
              "outlinewidth": 0,
              "ticks": ""
             }
            },
            "type": "scattercarpet"
           }
          ],
          "scattergeo": [
           {
            "marker": {
             "colorbar": {
              "outlinewidth": 0,
              "ticks": ""
             }
            },
            "type": "scattergeo"
           }
          ],
          "scattergl": [
           {
            "marker": {
             "colorbar": {
              "outlinewidth": 0,
              "ticks": ""
             }
            },
            "type": "scattergl"
           }
          ],
          "scattermapbox": [
           {
            "marker": {
             "colorbar": {
              "outlinewidth": 0,
              "ticks": ""
             }
            },
            "type": "scattermapbox"
           }
          ],
          "scatterpolar": [
           {
            "marker": {
             "colorbar": {
              "outlinewidth": 0,
              "ticks": ""
             }
            },
            "type": "scatterpolar"
           }
          ],
          "scatterpolargl": [
           {
            "marker": {
             "colorbar": {
              "outlinewidth": 0,
              "ticks": ""
             }
            },
            "type": "scatterpolargl"
           }
          ],
          "scatterternary": [
           {
            "marker": {
             "colorbar": {
              "outlinewidth": 0,
              "ticks": ""
             }
            },
            "type": "scatterternary"
           }
          ],
          "surface": [
           {
            "colorbar": {
             "outlinewidth": 0,
             "ticks": ""
            },
            "colorscale": [
             [
              0,
              "#0d0887"
             ],
             [
              0.1111111111111111,
              "#46039f"
             ],
             [
              0.2222222222222222,
              "#7201a8"
             ],
             [
              0.3333333333333333,
              "#9c179e"
             ],
             [
              0.4444444444444444,
              "#bd3786"
             ],
             [
              0.5555555555555556,
              "#d8576b"
             ],
             [
              0.6666666666666666,
              "#ed7953"
             ],
             [
              0.7777777777777778,
              "#fb9f3a"
             ],
             [
              0.8888888888888888,
              "#fdca26"
             ],
             [
              1,
              "#f0f921"
             ]
            ],
            "type": "surface"
           }
          ],
          "table": [
           {
            "cells": {
             "fill": {
              "color": "#EBF0F8"
             },
             "line": {
              "color": "white"
             }
            },
            "header": {
             "fill": {
              "color": "#C8D4E3"
             },
             "line": {
              "color": "white"
             }
            },
            "type": "table"
           }
          ]
         },
         "layout": {
          "annotationdefaults": {
           "arrowcolor": "#2a3f5f",
           "arrowhead": 0,
           "arrowwidth": 1
          },
          "autotypenumbers": "strict",
          "coloraxis": {
           "colorbar": {
            "outlinewidth": 0,
            "ticks": ""
           }
          },
          "colorscale": {
           "diverging": [
            [
             0,
             "#8e0152"
            ],
            [
             0.1,
             "#c51b7d"
            ],
            [
             0.2,
             "#de77ae"
            ],
            [
             0.3,
             "#f1b6da"
            ],
            [
             0.4,
             "#fde0ef"
            ],
            [
             0.5,
             "#f7f7f7"
            ],
            [
             0.6,
             "#e6f5d0"
            ],
            [
             0.7,
             "#b8e186"
            ],
            [
             0.8,
             "#7fbc41"
            ],
            [
             0.9,
             "#4d9221"
            ],
            [
             1,
             "#276419"
            ]
           ],
           "sequential": [
            [
             0,
             "#0d0887"
            ],
            [
             0.1111111111111111,
             "#46039f"
            ],
            [
             0.2222222222222222,
             "#7201a8"
            ],
            [
             0.3333333333333333,
             "#9c179e"
            ],
            [
             0.4444444444444444,
             "#bd3786"
            ],
            [
             0.5555555555555556,
             "#d8576b"
            ],
            [
             0.6666666666666666,
             "#ed7953"
            ],
            [
             0.7777777777777778,
             "#fb9f3a"
            ],
            [
             0.8888888888888888,
             "#fdca26"
            ],
            [
             1,
             "#f0f921"
            ]
           ],
           "sequentialminus": [
            [
             0,
             "#0d0887"
            ],
            [
             0.1111111111111111,
             "#46039f"
            ],
            [
             0.2222222222222222,
             "#7201a8"
            ],
            [
             0.3333333333333333,
             "#9c179e"
            ],
            [
             0.4444444444444444,
             "#bd3786"
            ],
            [
             0.5555555555555556,
             "#d8576b"
            ],
            [
             0.6666666666666666,
             "#ed7953"
            ],
            [
             0.7777777777777778,
             "#fb9f3a"
            ],
            [
             0.8888888888888888,
             "#fdca26"
            ],
            [
             1,
             "#f0f921"
            ]
           ]
          },
          "colorway": [
           "#636efa",
           "#EF553B",
           "#00cc96",
           "#ab63fa",
           "#FFA15A",
           "#19d3f3",
           "#FF6692",
           "#B6E880",
           "#FF97FF",
           "#FECB52"
          ],
          "font": {
           "color": "#2a3f5f"
          },
          "geo": {
           "bgcolor": "white",
           "lakecolor": "white",
           "landcolor": "#E5ECF6",
           "showlakes": true,
           "showland": true,
           "subunitcolor": "white"
          },
          "hoverlabel": {
           "align": "left"
          },
          "hovermode": "closest",
          "mapbox": {
           "style": "light"
          },
          "paper_bgcolor": "white",
          "plot_bgcolor": "#E5ECF6",
          "polar": {
           "angularaxis": {
            "gridcolor": "white",
            "linecolor": "white",
            "ticks": ""
           },
           "bgcolor": "#E5ECF6",
           "radialaxis": {
            "gridcolor": "white",
            "linecolor": "white",
            "ticks": ""
           }
          },
          "scene": {
           "xaxis": {
            "backgroundcolor": "#E5ECF6",
            "gridcolor": "white",
            "gridwidth": 2,
            "linecolor": "white",
            "showbackground": true,
            "ticks": "",
            "zerolinecolor": "white"
           },
           "yaxis": {
            "backgroundcolor": "#E5ECF6",
            "gridcolor": "white",
            "gridwidth": 2,
            "linecolor": "white",
            "showbackground": true,
            "ticks": "",
            "zerolinecolor": "white"
           },
           "zaxis": {
            "backgroundcolor": "#E5ECF6",
            "gridcolor": "white",
            "gridwidth": 2,
            "linecolor": "white",
            "showbackground": true,
            "ticks": "",
            "zerolinecolor": "white"
           }
          },
          "shapedefaults": {
           "line": {
            "color": "#2a3f5f"
           }
          },
          "ternary": {
           "aaxis": {
            "gridcolor": "white",
            "linecolor": "white",
            "ticks": ""
           },
           "baxis": {
            "gridcolor": "white",
            "linecolor": "white",
            "ticks": ""
           },
           "bgcolor": "#E5ECF6",
           "caxis": {
            "gridcolor": "white",
            "linecolor": "white",
            "ticks": ""
           }
          },
          "title": {
           "x": 0.05
          },
          "xaxis": {
           "automargin": true,
           "gridcolor": "white",
           "linecolor": "white",
           "ticks": "",
           "title": {
            "standoff": 15
           },
           "zerolinecolor": "white",
           "zerolinewidth": 2
          },
          "yaxis": {
           "automargin": true,
           "gridcolor": "white",
           "linecolor": "white",
           "ticks": "",
           "title": {
            "standoff": 15
           },
           "zerolinecolor": "white",
           "zerolinewidth": 2
          }
         }
        },
        "title": {
         "text": "Most Valuable Tournments"
        },
        "yaxis": {
         "title": {
          "text": "Tourney USD"
         }
        }
       }
      }
     },
     "metadata": {},
     "output_type": "display_data"
    }
   ],
   "source": [
    "fig_4.show()"
   ]
  },
  {
   "cell_type": "markdown",
   "id": "f45b648e",
   "metadata": {},
   "source": [
    "### Interactive Barplot"
   ]
  },
  {
   "cell_type": "code",
   "execution_count": null,
   "id": "b356e763",
   "metadata": {},
   "outputs": [
    {
     "data": {
      "application/vnd.plotly.v1+json": {
       "config": {
        "plotlyServerURL": "https://plot.ly"
       },
       "data": [
        {
         "name": "Oceania",
         "type": "bar",
         "visible": true,
         "x": [
          "Australian Open",
          "Australian Open",
          "Australian Open",
          "Australian Open",
          "Australian Open",
          "Australian Open",
          "Australian Open",
          "Australian Open",
          "Australian Open",
          "Australian Open",
          "Brisbane",
          "Auckland",
          "Sydney",
          "Auckland",
          "Brisbane",
          "Sydney",
          "Auckland",
          "Auckland",
          "Auckland",
          "Sydney",
          "Brisbane",
          "Auckland",
          "Brisbane",
          "Sydney",
          "Brisbane",
          "Sydney",
          "Brisbane",
          "Sydney",
          "Auckland",
          "Sydney",
          "Brisbane",
          "Sydney",
          "Brisbane",
          "Sydney",
          "Brisbane",
          "Auckland",
          "Auckland",
          "Sydney",
          "Brisbane",
          "Auckland"
         ],
         "y": [
          19542952.1,
          16520696.8,
          14893379.2,
          12970484.9,
          11683903.38,
          9862782.26,
          9086620.228,
          7772251.865,
          7514461.585,
          7273319.712,
          589680,
          589680,
          589680,
          561345,
          528910,
          528910,
          520070,
          519395,
          514345,
          511825,
          511825,
          508360,
          495630,
          495630,
          494310,
          494310,
          494230,
          494230,
          491000,
          486000,
          486000,
          474050,
          474050,
          461330,
          461330,
          450000,
          450000,
          424250,
          424250,
          407250
         ]
        },
        {
         "name": "Asia",
         "type": "bar",
         "visible": false,
         "x": [
          "ATP Masters 1000 Shanghai",
          "ATP Masters 1000 Shanghai",
          "ATP Masters 1000 Shanghai",
          "ATP Masters 1000 Shanghai",
          "ATP Masters 1000 Shanghai",
          "ATP Masters 1000 Shanghai",
          "ATP Masters 1000 Shanghai",
          "ATP Masters 1000 Shanghai",
          "ATP Masters 1000 Shanghai",
          "ATP Masters 1000 Shanghai",
          "Beijing",
          "Beijing",
          "Beijing",
          "Beijing",
          "Beijing",
          "Beijing",
          "Beijing",
          "Beijing",
          "Beijing",
          "Beijing",
          "Dubai",
          "Dubai",
          "Dubai",
          "Dubai",
          "Dubai",
          "Dubai",
          "Dubai",
          "Dubai",
          "Dubai",
          "Dubai",
          "Tokyo",
          "Tokyo",
          "Tokyo",
          "Tokyo",
          "Tokyo",
          "Doha",
          "Tokyo",
          "Tokyo",
          "Doha",
          "Tokyo",
          "Tokyo",
          "Doha",
          "Doha",
          "Tokyo",
          "Doha",
          "Chengdu",
          "Doha",
          "Chengdu",
          "Doha",
          "Chengdu",
          "Doha",
          "Doha",
          "Doha",
          "Kuala Lumpur",
          "Kuala Lumpur",
          "Zhuhai",
          "Kuala Lumpur",
          "Kuala Lumpur",
          "Kuala Lumpur",
          "Kuala Lumpur",
          "Chengdu",
          "Shenzhen",
          "Shenzhen",
          "Shenzhen",
          "Shenzhen",
          "Shenzhen",
          "Bangkok",
          "Bangkok",
          "Bangkok",
          "Bangkok",
          "Pune",
          "Pune",
          "Chennai",
          "Chennai",
          "Chennai",
          "Chennai",
          "Chennai",
          "Chennai",
          "Chennai",
          "Chennai"
         ],
         "y": [
          9219970,
          8322885,
          8092625,
          7655640,
          7021335,
          6521695,
          6211445,
          5891600,
          5650000,
          5250000,
          4658510,
          4280460,
          4164780,
          3944715,
          3755065,
          3666275,
          3566050,
          3441500,
          3336500,
          3336500,
          3057135,
          2887895,
          2858530,
          2674445,
          2503810,
          2413300,
          2359935,
          2313975,
          2233000,
          2233000,
          2046340,
          1928580,
          1706175,
          1506835,
          1437800,
          1416205,
          1407065,
          1397250,
          1386665,
          1373420,
          1341000,
          1334270,
          1283855,
          1226500,
          1221320,
          1213295,
          1195500,
          1183360,
          1150720,
          1138910,
          1110250,
          1110250,
          1110250,
          1041540,
          1022255,
          1000000,
          984300,
          947750,
          947750,
          947750,
          947735,
          800320,
          731680,
          704140,
          668945,
          655955,
          644500,
          631530,
          608500,
          608500,
          589680,
          561345,
          505730,
          482085,
          459140,
          458400,
          450000,
          450000,
          450000,
          442750
         ]
        },
        {
         "name": "Africa",
         "type": "bar",
         "visible": false,
         "x": [
          "Marrakech",
          "Marrakech",
          "Marrakech",
          "Marrakech",
          "Casablanca",
          "Casablanca",
          "Johannesburg",
          "Johannesburg",
          "Casablanca",
          "Casablanca",
          "Casablanca",
          "Casablanca"
         ],
         "y": [
          624004.644,
          597607.887,
          575214.026,
          553666.522,
          526242.426,
          517140.096,
          500000,
          500000,
          498019.88,
          479070,
          479070,
          479070
         ]
        },
        {
         "name": "America",
         "type": "bar",
         "visible": false,
         "x": [
          "US Open",
          "US Open",
          "US Open",
          "US Open",
          "US Open",
          "US Open",
          "US Open",
          "US Open",
          "US Open",
          "US Open",
          "ATP Masters 1000 Miami",
          "ATP Masters 1000 Indian Wells",
          "ATP Masters 1000 Miami",
          "ATP Masters 1000 Indian Wells",
          "ATP Masters 1000 Indian Wells",
          "ATP Masters 1000 Miami",
          "ATP Masters 1000 Indian Wells",
          "ATP Masters 1000 Miami",
          "ATP Masters 1000 Indian Wells",
          "ATP Masters 1000 Indian Wells",
          "ATP Masters 1000 Cincinnati",
          "ATP Masters 1000 Indian Wells",
          "ATP Masters 1000 Canada",
          "ATP Masters 1000 Cincinnati",
          "ATP Masters 1000 Miami",
          "ATP Masters 1000 Canada",
          "ATP Masters 1000 Indian Wells",
          "ATP Masters 1000 Miami",
          "ATP Masters 1000 Cincinnati",
          "ATP Masters 1000 Canada",
          "ATP Masters 1000 Miami",
          "ATP Masters 1000 Cincinnati",
          "ATP Masters 1000 Miami",
          "ATP Masters 1000 Indian Wells",
          "ATP Masters 1000 Indian Wells",
          "ATP Masters 1000 Canada",
          "ATP Masters 1000 Miami",
          "ATP Masters 1000 Miami",
          "ATP Masters 1000 Cincinnati",
          "ATP Masters 1000 Canada",
          "ATP Masters 1000 Cincinnati",
          "ATP Masters 1000 Canada",
          "ATP Masters 1000 Cincinnati",
          "ATP Masters 1000 Canada",
          "ATP Masters 1000 Cincinnati",
          "ATP Masters 1000 Canada",
          "ATP Masters 1000 Cincinnati",
          "ATP Masters 1000 Canada",
          "ATP Masters 1000 Canada",
          "ATP Masters 1000 Cincinnati",
          "Washington",
          "Washington",
          "Washington",
          "Rio de Janeiro",
          "Acapulco",
          "Washington",
          "Rio de Janeiro",
          "Acapulco",
          "Washington",
          "Washington",
          "Acapulco",
          "Rio de Janeiro",
          "Acapulco",
          "Acapulco",
          "Rio de Janeiro",
          "Washington",
          "Rio de Janeiro",
          "Acapulco",
          "Rio de Janeiro",
          "Washington",
          "Washington",
          "Acapulco",
          "Memphis",
          "Washington",
          "Memphis",
          "Acapulco",
          "Memphis",
          "Acapulco",
          "Memphis",
          "Acapulco",
          "Los Cabos",
          "Los Cabos",
          "Los Cabos",
          "Winston-Salem",
          "Winston-Salem",
          "New York",
          "Atlanta",
          "Bogota",
          "New Haven",
          "Winston-Salem",
          "Atlanta",
          "New York",
          "Bogota",
          "Los Cabos",
          "Bogota",
          "Winston-Salem",
          "Memphis",
          "Atlanta",
          "Los Angeles",
          "Los Angeles",
          "Winston-Salem",
          "Atlanta",
          "Memphis",
          "Winston-Salem",
          "Buenos Aires",
          "Atlanta",
          "Memphis",
          "Winston-Salem",
          "Newport",
          "Houston",
          "Delray Beach",
          "Buenos Aires",
          "Memphis",
          "Atlanta",
          "Memphis",
          "Los Angeles",
          "Winston-Salem",
          "Winston-Salem",
          "Buenos Aires",
          "Atlanta",
          "San Jose",
          "Newport",
          "Houston",
          "Delray Beach",
          "Sao Paulo",
          "Newport",
          "Houston",
          "San Jose",
          "San Jose",
          "Atlanta",
          "San Jose",
          "Atlanta",
          "Delray Beach",
          "Buenos Aires",
          "Cordoba",
          "Sao Paulo",
          "Newport",
          "Houston",
          "Delray Beach",
          "Buenos Aires",
          "Buenos Aires",
          "Buenos Aires",
          "Quito",
          "Buenos Aires",
          "Delray Beach",
          "Houston",
          "Newport",
          "Buenos Aires",
          "Atlanta",
          "Buenos Aires",
          "Quito",
          "Newport",
          "Houston",
          "Delray Beach",
          "Sao Paulo",
          "Sao Paulo",
          "Costa do Sauipe",
          "Sao Paulo",
          "Quito",
          "Sao Paulo",
          "Delray Beach",
          "Houston",
          "Newport",
          "Sao Paulo",
          "Delray Beach",
          "Costa do Sauipe",
          "Houston",
          "Delray Beach",
          "Newport",
          "Houston",
          "Newport",
          "Houston",
          "Sao Paulo",
          "Quito",
          "Vina del Mar",
          "Vina del Mar",
          "Newport",
          "Vina del Mar",
          "Santiago",
          "Santiago",
          "Delray Beach"
         ],
         "y": [
          28619350,
          25282400,
          24193400,
          21862744,
          19852700,
          17851868,
          16102000,
          11777000,
          10768000,
          10508000,
          9314875,
          9314875,
          8909960,
          8909960,
          7913405,
          7913405,
          7107445,
          7037595,
          7037595,
          6959295,
          6735690,
          6676605,
          6338885,
          6335970,
          6267755,
          5939970,
          5816010,
          5649405,
          5627305,
          5275595,
          5244125,
          5004505,
          4828050,
          4717540,
          4702285,
          4691730,
          4500000,
          4500000,
          4457065,
          4178500,
          4017355,
          3766270,
          3729155,
          3496085,
          3433280,
          3218700,
          3200000,
          3000000,
          3000000,
          3000000,
          2146815,
          2046340,
          2002460,
          1937740,
          1931110,
          1877705,
          1842475,
          1789445,
          1753020,
          1654295,
          1633690,
          1603940,
          1551830,
          1548755,
          1548755,
          1546590,
          1471315,
          1454365,
          1454365,
          1402900,
          1402000,
          1353550,
          1353550,
          1286260,
          1281500,
          1281500,
          1226500,
          1226500,
          1226500,
          1081500,
          858565,
          808995,
          808770,
          807210,
          778070,
          777385,
          777385,
          768915,
          750000,
          748960,
          748450,
          748450,
          730102,
          727995,
          727685,
          720940,
          720410,
          720410,
          700000,
          700000,
          695515,
          693425,
          693425,
          683705,
          673135,
          659070,
          659070,
          658450,
          652245,
          652245,
          651215,
          648180,
          647675,
          647675,
          647675,
          638050,
          625000,
          625000,
          624340,
          623730,
          623730,
          623710,
          623710,
          622675,
          618810,
          600345,
          600345,
          600000,
          600000,
          600000,
          600000,
          600000,
          599345,
          598865,
          589680,
          582870,
          577860,
          577860,
          576900,
          573750,
          570470,
          567760,
          561345,
          553100,
          549230,
          549230,
          549230,
          547900,
          546900,
          544300,
          540310,
          539730,
          539730,
          539730,
          539730,
          532800,
          527700,
          520285,
          520070,
          519775,
          519775,
          519775,
          519775,
          505655,
          500000,
          500000,
          500000,
          500000,
          500000,
          500000,
          500000,
          500000,
          499055,
          494310,
          485760,
          467800,
          455750,
          450000,
          450000,
          450000,
          442500
         ]
        },
        {
         "name": "Europe",
         "type": "bar",
         "visible": false,
         "x": [
          "Wimbledon",
          "Roland Garros",
          "Roland Garros",
          "Wimbledon",
          "Roland Garros",
          "Wimbledon",
          "Roland Garros",
          "Wimbledon",
          "Wimbledon",
          "Wimbledon",
          "Roland Garros",
          "Wimbledon",
          "Roland Garros",
          "Roland Garros",
          "Roland Garros",
          "Nitto ATP Finals",
          "Wimbledon",
          "Nitto ATP Finals",
          "Roland Garros",
          "Roland Garros",
          "Nitto ATP Finals",
          "Wimbledon",
          "ATP Masters 1000 Madrid",
          "ATP Masters 1000 Madrid",
          "ATP Finals",
          "Wimbledon",
          "ATP Finals",
          "ATP Masters 1000 Madrid",
          "ATP Finals",
          "ATP Masters 1000 Paris",
          "ATP Masters 1000 Rome",
          "ATP Masters 1000 Madrid",
          "ATP Finals",
          "ATP Masters 1000 Monte Carlo",
          "ATP Masters 1000 Paris",
          "ATP Masters 1000 Rome",
          "ATP Masters 1000 Monte Carlo",
          "ATP Finals",
          "ATP Masters 1000 Madrid",
          "ATP Masters 1000 Rome",
          "ATP Masters 1000 Paris",
          "ATP Finals",
          "ATP Finals",
          "ATP Masters 1000 Monte Carlo",
          "ATP Masters 1000 Madrid",
          "ATP Masters 1000 Madrid",
          "ATP Masters 1000 Paris",
          "ATP Masters 1000 Rome",
          "ATP Masters 1000 Monte Carlo",
          "ATP Masters 1000 Madrid",
          "ATP Masters 1000 Rome",
          "ATP Masters 1000 Paris",
          "ATP Masters 1000 Madrid",
          "ATP Masters 1000 Madrid",
          "ATP Masters 1000 Monte Carlo",
          "ATP Masters 1000 Paris",
          "ATP Masters 1000 Rome",
          "ATP Masters 1000 Monte Carlo",
          "ATP Masters 1000 Rome",
          "ATP Masters 1000 Paris",
          "ATP Masters 1000 Monte Carlo",
          "ATP Masters 1000 Paris",
          "ATP Masters 1000 Rome",
          "Barcelona",
          "Vienna",
          "ATP Masters 1000 Rome",
          "ATP Masters 1000 Paris",
          "ATP Masters 1000 Monte Carlo",
          "ATP Masters 1000 Paris",
          "ATP Masters 1000 Rome",
          "Barcelona",
          "ATP Masters 1000 Monte Carlo",
          "Vienna",
          "Barcelona",
          "ATP Masters 1000 Monte Carlo",
          "Vienna",
          "Basel",
          "Vienna",
          "Barcelona",
          "Vienna",
          "Basel",
          "Barcelona",
          "Basel",
          "Halle",
          "London / Queen's Club",
          "Valencia",
          "Valencia",
          "Barcelona",
          "Basel",
          "Barcelona",
          "London / Queen's Club",
          "Halle",
          "Rotterdam",
          "Valencia",
          "Barcelona",
          "Basel",
          "Valencia",
          "Valencia",
          "Rotterdam",
          "Barcelona",
          "Barcelona",
          "Basel",
          "London / Queen's Club",
          "Halle",
          "Basel",
          "London / Queen's Club",
          "Basel",
          "Hamburg",
          "Rotterdam",
          "Basel",
          "Halle",
          "Basel",
          "Hamburg",
          "Rotterdam",
          "Halle",
          "London / Queen's Club",
          "Hamburg",
          "Rotterdam",
          "Rotterdam",
          "Hamburg",
          "Rotterdam",
          "Rotterdam",
          "Rotterdam",
          "Rotterdam",
          "Hamburg",
          "Hamburg",
          "Next Gen ATP Finals",
          "Next Gen ATP Finals",
          "Hamburg",
          "Next Gen ATP Finals",
          "St. Petersburg",
          "St. Petersburg",
          "Hamburg",
          "Hamburg",
          "St. Petersburg",
          "Hamburg",
          "Moscow",
          "St. Petersburg",
          "St. Petersburg",
          "Moscow",
          "Moscow",
          "Halle",
          "London / Queen's Club",
          "Moscow",
          "London / Queen's Club",
          "Halle",
          "Moscow",
          "Moscow",
          "Moscow",
          "Stuttgart",
          "Halle",
          "Halle",
          "Halle",
          "Eastbourne",
          "Moscow",
          "Marseille",
          "Stuttgart",
          "Moscow",
          "Eastbourne",
          "Marseille",
          "London / Queen's Club",
          "London / Queen's Club",
          "s-Hertogenbosch",
          "Antwerp",
          "Stockholm",
          "Nottingham",
          "St. Petersburg",
          "St. Petersburg",
          "Stuttgart",
          "Moscow",
          "London / Queen's Club",
          "Eastbourne",
          "Marseille",
          "s-Hertogenbosch",
          "Stockholm",
          "Antwerp",
          "Stuttgart",
          "Marseille",
          "Stockholm",
          "Antwerp",
          "s-Hertogenbosch",
          "Vienna",
          "Montpellier",
          "Vienna",
          "Nottingham",
          "Stuttgart",
          "s-Hertogenbosch",
          "Stockholm",
          "Antwerp",
          "Marseille",
          "Marseille",
          "s-Hertogenbosch",
          "Valencia",
          "Stockholm",
          "Stockholm",
          "Stockholm",
          "Stockholm",
          "Marseille",
          "Stockholm",
          "Vienna",
          "Lyon",
          "Geneva",
          "Bastad",
          "Umag",
          "Munich",
          "Gstaad",
          "Kitzbühel",
          "Metz",
          "Estoril",
          "Budapest",
          "Sofia",
          "Montpellier",
          "Marseille",
          "Marseille",
          "Marseille",
          "Vienna",
          "Eastbourne",
          "Metz",
          "Montpellier",
          "Estoril",
          "Gstaad",
          "Umag",
          "Bastad",
          "Geneva",
          "Lyon",
          "Sofia",
          "Munich",
          "Budapest",
          "Kitzbühel",
          "Geneva",
          "Vienna",
          "Stockholm",
          "Geneva",
          "Munich",
          "Estoril",
          "Budapest",
          "Montpellier",
          "Lyon",
          "Bastad",
          "Umag",
          "Gstaad",
          "Kitzbühel",
          "Metz",
          "Sofia",
          "Eastbourne",
          "Metz",
          "Kitzbühel",
          "Sofia",
          "Bucharest",
          "Montpellier",
          "Estoril",
          "Bastad",
          "Munich",
          "Gstaad",
          "Nice",
          "Umag",
          "Antalya",
          "Istanbul",
          "Antalya",
          "Bucharest",
          "Bastad",
          "Estoril",
          "Istanbul",
          "Geneva",
          "Kitzbühel",
          "Metz",
          "Zagreb",
          "Munich",
          "Nice",
          "Gstaad",
          "Umag",
          "Montpellier",
          "Bastad",
          "St. Petersburg",
          "Istanbul",
          "Antalya",
          "Metz",
          "Umag",
          "Gstaad",
          "Bastad",
          "s-Hertogenbosch",
          "Nice",
          "Dusseldorf",
          "Oeiras",
          "Munich",
          "Bucharest",
          "Zagreb",
          "Montpellier",
          "Stuttgart",
          "Kitzbühel",
          "Istanbul",
          "Metz",
          "Zagreb",
          "Bucharest",
          "Munich",
          "Oeiras",
          "Dusseldorf",
          "Nice",
          "Montpellier",
          "Kitzbühel",
          "Gstaad",
          "Stuttgart",
          "s-Hertogenbosch",
          "Umag",
          "Eastbourne",
          "Eastbourne",
          "Eastbourne",
          "Gstaad",
          "s-Hertogenbosch",
          "Nice",
          "Umag",
          "Metz",
          "Gstaad",
          "Estoril",
          "Zagreb",
          "Montpellier",
          "Zagreb",
          "Kitzbühel",
          "s-Hertogenbosch",
          "Munich",
          "Estoril",
          "Stuttgart",
          "Umag",
          "Metz",
          "Bastad",
          "Bastad",
          "Nice",
          "s-Hertogenbosch",
          "Munich",
          "Munich",
          "Stuttgart",
          "Metz",
          "Estoril",
          "Nice",
          "Zagreb",
          "Bucharest",
          "St. Petersburg",
          "Belgrade",
          "Bucharest",
          "Bucharest",
          "Belgrade",
          "Belgrade",
          "Kitzbühel",
          "Bastad",
          "Gstaad",
          "Umag",
          "Stuttgart"
         ],
         "y": [
          21383214.6,
          21355876,
          19409787.2,
          19232738.8,
          17874634,
          17858456,
          17042915.25,
          15840354.2,
          15124331.2,
          14097831,
          13848316.8,
          12652547.6,
          12298259.2,
          10756718.4,
          9035260.2,
          9000000,
          8767009.68,
          8500000,
          8393306.4,
          8070519.68,
          8000000,
          7979745.4,
          7749510.842,
          7655464.078,
          7500000,
          7456266.4,
          7000000,
          6822201.658,
          6500000,
          6165396.688,
          6165396.688,
          6089150.036,
          6000000,
          5945822.938,
          5796731.031,
          5796731.031,
          5577157.281,
          5500000,
          5444076.958,
          5148378.985,
          5148378.985,
          5070000,
          5070000,
          4928805.235,
          4924663.941,
          4581896.8082,
          4578583.773,
          4578583.773,
          4359010.023,
          4230395.697,
          4077732.057,
          4077732.057,
          3945407.6,
          3939020,
          3858158.307,
          3675441.009,
          3675441.009,
          3455867.259,
          3411771.527,
          3411771.527,
          3192197.777,
          3141075.685,
          3141075.685,
          2974726.612,
          2968711.622,
          2927650,
          2927650,
          2927650,
          2927650,
          2927650,
          2923875.993,
          2921501.935,
          2791221.51,
          2772580.364,
          2708076.25,
          2626698.226,
          2600541.004,
          2591034.126,
          2585226.733,
          2474178.307,
          2439914.156,
          2411569.181,
          2363385.385,
          2362507.09,
          2362507.09,
          2346623.258,
          2311347.737,
          2306855.125,
          2291003.231,
          2264441.461,
          2253667.709,
          2253667.709,
          2234041.808,
          2221660.51,
          2206383.5,
          2152940.58,
          2149427.4,
          2149427.4,
          2125202.427,
          2123877,
          2123877,
          2117313.741,
          2093104.737,
          2093104.737,
          2059255.78,
          2053198.206,
          2038772.876,
          1975354.654,
          1974156.979,
          1956841.26,
          1944252.365,
          1868373,
          1866515.273,
          1834114.172,
          1806248.267,
          1806248.267,
          1734632.625,
          1704270.233,
          1677676.525,
          1612331.377,
          1599561.5,
          1597703.773,
          1538347,
          1538347,
          1498914.216,
          1407560.89,
          1400000,
          1335000,
          1309990.3,
          1275000,
          1248665,
          1241850,
          1187029,
          1187029,
          1091000,
          1080569,
          1080500,
          1064715,
          986380,
          936435,
          922520,
          861900.16,
          861900.16,
          855490,
          830031.3589999999,
          830031.3589999999,
          823600,
          823550,
          805500,
          803283.284,
          798450,
          798450,
          798450,
          794063.848,
          792645,
          792073.046,
          776455.364,
          771525,
          767667.091,
          765245.126,
          760071.17,
          757516.13,
          757223.365,
          757223.365,
          757223.365,
          750335.403,
          750000,
          750000,
          747322.585,
          742150,
          739098.55,
          738736.586,
          736543.51,
          730400.768,
          730400.768,
          730400.768,
          719291.667,
          708927.786,
          703035.225,
          703035.225,
          703035.225,
          691990,
          691990,
          691990,
          685671.599,
          683547.722,
          676707.667,
          676707.667,
          676707.667,
          673721.464,
          661712.776,
          643183.413,
          643183.413,
          643183.413,
          639361.499,
          638760,
          638760,
          637200.361,
          632058.343,
          632058.343,
          624004.644,
          624004.644,
          624004.644,
          624004.644,
          624004.644,
          624004.644,
          624004.644,
          624004.644,
          624004.644,
          624004.644,
          624004.644,
          624004.644,
          613209.6,
          613209.6,
          613209.6,
          608690.373,
          598667.164,
          597607.887,
          597607.887,
          597607.887,
          597607.887,
          597607.887,
          597607.887,
          597607.887,
          597607.887,
          597607.887,
          597607.887,
          597607.887,
          597607.887,
          592125.197,
          585530,
          585530,
          575214.026,
          575214.026,
          575214.026,
          575214.026,
          575214.026,
          575214.026,
          575214.026,
          575214.026,
          575214.026,
          575214.026,
          575214.026,
          575214.026,
          560043.476,
          553666.522,
          553666.522,
          553666.522,
          553666.522,
          553666.522,
          553666.522,
          553666.522,
          553666.522,
          553666.522,
          553666.522,
          553666.522,
          540273.854,
          529377.673,
          529377.673,
          526242.426,
          526242.426,
          526242.426,
          526242.426,
          526242.426,
          526242.426,
          526242.426,
          526242.426,
          526242.426,
          526242.426,
          526242.426,
          526242.426,
          526242.426,
          523112.502,
          519775,
          517549.967,
          517549.967,
          517140.096,
          517140.096,
          517140.096,
          517140.096,
          517140.096,
          517140.096,
          517140.096,
          517140.096,
          517140.096,
          517140.096,
          517140.096,
          517140.096,
          517140.096,
          517140.096,
          514286.968,
          498019.88,
          498019.88,
          498019.88,
          498019.88,
          498019.88,
          498019.88,
          498019.88,
          498019.88,
          498019.88,
          498019.88,
          498019.88,
          498019.88,
          498019.88,
          492563.805,
          486256.05,
          485138.22,
          479070,
          479070,
          479070,
          479070,
          479070,
          479070,
          479070,
          479070,
          479070,
          479070,
          479070,
          479070,
          479070,
          479070,
          479070,
          479070,
          479070,
          479070,
          479070,
          479070,
          479070,
          479070,
          479070,
          479070,
          479070,
          479070,
          479070,
          479070,
          479070,
          468350,
          452401.77,
          450272.57,
          447344.92,
          445748.02,
          443565.59,
          436672.305,
          436672.305,
          436672.305,
          436672.305,
          436672.305
         ]
        }
       ],
       "layout": {
        "plot_bgcolor": "white",
        "template": {
         "data": {
          "bar": [
           {
            "error_x": {
             "color": "#2a3f5f"
            },
            "error_y": {
             "color": "#2a3f5f"
            },
            "marker": {
             "line": {
              "color": "#E5ECF6",
              "width": 0.5
             },
             "pattern": {
              "fillmode": "overlay",
              "size": 10,
              "solidity": 0.2
             }
            },
            "type": "bar"
           }
          ],
          "barpolar": [
           {
            "marker": {
             "line": {
              "color": "#E5ECF6",
              "width": 0.5
             },
             "pattern": {
              "fillmode": "overlay",
              "size": 10,
              "solidity": 0.2
             }
            },
            "type": "barpolar"
           }
          ],
          "carpet": [
           {
            "aaxis": {
             "endlinecolor": "#2a3f5f",
             "gridcolor": "white",
             "linecolor": "white",
             "minorgridcolor": "white",
             "startlinecolor": "#2a3f5f"
            },
            "baxis": {
             "endlinecolor": "#2a3f5f",
             "gridcolor": "white",
             "linecolor": "white",
             "minorgridcolor": "white",
             "startlinecolor": "#2a3f5f"
            },
            "type": "carpet"
           }
          ],
          "choropleth": [
           {
            "colorbar": {
             "outlinewidth": 0,
             "ticks": ""
            },
            "type": "choropleth"
           }
          ],
          "contour": [
           {
            "colorbar": {
             "outlinewidth": 0,
             "ticks": ""
            },
            "colorscale": [
             [
              0,
              "#0d0887"
             ],
             [
              0.1111111111111111,
              "#46039f"
             ],
             [
              0.2222222222222222,
              "#7201a8"
             ],
             [
              0.3333333333333333,
              "#9c179e"
             ],
             [
              0.4444444444444444,
              "#bd3786"
             ],
             [
              0.5555555555555556,
              "#d8576b"
             ],
             [
              0.6666666666666666,
              "#ed7953"
             ],
             [
              0.7777777777777778,
              "#fb9f3a"
             ],
             [
              0.8888888888888888,
              "#fdca26"
             ],
             [
              1,
              "#f0f921"
             ]
            ],
            "type": "contour"
           }
          ],
          "contourcarpet": [
           {
            "colorbar": {
             "outlinewidth": 0,
             "ticks": ""
            },
            "type": "contourcarpet"
           }
          ],
          "heatmap": [
           {
            "colorbar": {
             "outlinewidth": 0,
             "ticks": ""
            },
            "colorscale": [
             [
              0,
              "#0d0887"
             ],
             [
              0.1111111111111111,
              "#46039f"
             ],
             [
              0.2222222222222222,
              "#7201a8"
             ],
             [
              0.3333333333333333,
              "#9c179e"
             ],
             [
              0.4444444444444444,
              "#bd3786"
             ],
             [
              0.5555555555555556,
              "#d8576b"
             ],
             [
              0.6666666666666666,
              "#ed7953"
             ],
             [
              0.7777777777777778,
              "#fb9f3a"
             ],
             [
              0.8888888888888888,
              "#fdca26"
             ],
             [
              1,
              "#f0f921"
             ]
            ],
            "type": "heatmap"
           }
          ],
          "heatmapgl": [
           {
            "colorbar": {
             "outlinewidth": 0,
             "ticks": ""
            },
            "colorscale": [
             [
              0,
              "#0d0887"
             ],
             [
              0.1111111111111111,
              "#46039f"
             ],
             [
              0.2222222222222222,
              "#7201a8"
             ],
             [
              0.3333333333333333,
              "#9c179e"
             ],
             [
              0.4444444444444444,
              "#bd3786"
             ],
             [
              0.5555555555555556,
              "#d8576b"
             ],
             [
              0.6666666666666666,
              "#ed7953"
             ],
             [
              0.7777777777777778,
              "#fb9f3a"
             ],
             [
              0.8888888888888888,
              "#fdca26"
             ],
             [
              1,
              "#f0f921"
             ]
            ],
            "type": "heatmapgl"
           }
          ],
          "histogram": [
           {
            "marker": {
             "pattern": {
              "fillmode": "overlay",
              "size": 10,
              "solidity": 0.2
             }
            },
            "type": "histogram"
           }
          ],
          "histogram2d": [
           {
            "colorbar": {
             "outlinewidth": 0,
             "ticks": ""
            },
            "colorscale": [
             [
              0,
              "#0d0887"
             ],
             [
              0.1111111111111111,
              "#46039f"
             ],
             [
              0.2222222222222222,
              "#7201a8"
             ],
             [
              0.3333333333333333,
              "#9c179e"
             ],
             [
              0.4444444444444444,
              "#bd3786"
             ],
             [
              0.5555555555555556,
              "#d8576b"
             ],
             [
              0.6666666666666666,
              "#ed7953"
             ],
             [
              0.7777777777777778,
              "#fb9f3a"
             ],
             [
              0.8888888888888888,
              "#fdca26"
             ],
             [
              1,
              "#f0f921"
             ]
            ],
            "type": "histogram2d"
           }
          ],
          "histogram2dcontour": [
           {
            "colorbar": {
             "outlinewidth": 0,
             "ticks": ""
            },
            "colorscale": [
             [
              0,
              "#0d0887"
             ],
             [
              0.1111111111111111,
              "#46039f"
             ],
             [
              0.2222222222222222,
              "#7201a8"
             ],
             [
              0.3333333333333333,
              "#9c179e"
             ],
             [
              0.4444444444444444,
              "#bd3786"
             ],
             [
              0.5555555555555556,
              "#d8576b"
             ],
             [
              0.6666666666666666,
              "#ed7953"
             ],
             [
              0.7777777777777778,
              "#fb9f3a"
             ],
             [
              0.8888888888888888,
              "#fdca26"
             ],
             [
              1,
              "#f0f921"
             ]
            ],
            "type": "histogram2dcontour"
           }
          ],
          "mesh3d": [
           {
            "colorbar": {
             "outlinewidth": 0,
             "ticks": ""
            },
            "type": "mesh3d"
           }
          ],
          "parcoords": [
           {
            "line": {
             "colorbar": {
              "outlinewidth": 0,
              "ticks": ""
             }
            },
            "type": "parcoords"
           }
          ],
          "pie": [
           {
            "automargin": true,
            "type": "pie"
           }
          ],
          "scatter": [
           {
            "fillpattern": {
             "fillmode": "overlay",
             "size": 10,
             "solidity": 0.2
            },
            "type": "scatter"
           }
          ],
          "scatter3d": [
           {
            "line": {
             "colorbar": {
              "outlinewidth": 0,
              "ticks": ""
             }
            },
            "marker": {
             "colorbar": {
              "outlinewidth": 0,
              "ticks": ""
             }
            },
            "type": "scatter3d"
           }
          ],
          "scattercarpet": [
           {
            "marker": {
             "colorbar": {
              "outlinewidth": 0,
              "ticks": ""
             }
            },
            "type": "scattercarpet"
           }
          ],
          "scattergeo": [
           {
            "marker": {
             "colorbar": {
              "outlinewidth": 0,
              "ticks": ""
             }
            },
            "type": "scattergeo"
           }
          ],
          "scattergl": [
           {
            "marker": {
             "colorbar": {
              "outlinewidth": 0,
              "ticks": ""
             }
            },
            "type": "scattergl"
           }
          ],
          "scattermapbox": [
           {
            "marker": {
             "colorbar": {
              "outlinewidth": 0,
              "ticks": ""
             }
            },
            "type": "scattermapbox"
           }
          ],
          "scatterpolar": [
           {
            "marker": {
             "colorbar": {
              "outlinewidth": 0,
              "ticks": ""
             }
            },
            "type": "scatterpolar"
           }
          ],
          "scatterpolargl": [
           {
            "marker": {
             "colorbar": {
              "outlinewidth": 0,
              "ticks": ""
             }
            },
            "type": "scatterpolargl"
           }
          ],
          "scatterternary": [
           {
            "marker": {
             "colorbar": {
              "outlinewidth": 0,
              "ticks": ""
             }
            },
            "type": "scatterternary"
           }
          ],
          "surface": [
           {
            "colorbar": {
             "outlinewidth": 0,
             "ticks": ""
            },
            "colorscale": [
             [
              0,
              "#0d0887"
             ],
             [
              0.1111111111111111,
              "#46039f"
             ],
             [
              0.2222222222222222,
              "#7201a8"
             ],
             [
              0.3333333333333333,
              "#9c179e"
             ],
             [
              0.4444444444444444,
              "#bd3786"
             ],
             [
              0.5555555555555556,
              "#d8576b"
             ],
             [
              0.6666666666666666,
              "#ed7953"
             ],
             [
              0.7777777777777778,
              "#fb9f3a"
             ],
             [
              0.8888888888888888,
              "#fdca26"
             ],
             [
              1,
              "#f0f921"
             ]
            ],
            "type": "surface"
           }
          ],
          "table": [
           {
            "cells": {
             "fill": {
              "color": "#EBF0F8"
             },
             "line": {
              "color": "white"
             }
            },
            "header": {
             "fill": {
              "color": "#C8D4E3"
             },
             "line": {
              "color": "white"
             }
            },
            "type": "table"
           }
          ]
         },
         "layout": {
          "annotationdefaults": {
           "arrowcolor": "#2a3f5f",
           "arrowhead": 0,
           "arrowwidth": 1
          },
          "autotypenumbers": "strict",
          "coloraxis": {
           "colorbar": {
            "outlinewidth": 0,
            "ticks": ""
           }
          },
          "colorscale": {
           "diverging": [
            [
             0,
             "#8e0152"
            ],
            [
             0.1,
             "#c51b7d"
            ],
            [
             0.2,
             "#de77ae"
            ],
            [
             0.3,
             "#f1b6da"
            ],
            [
             0.4,
             "#fde0ef"
            ],
            [
             0.5,
             "#f7f7f7"
            ],
            [
             0.6,
             "#e6f5d0"
            ],
            [
             0.7,
             "#b8e186"
            ],
            [
             0.8,
             "#7fbc41"
            ],
            [
             0.9,
             "#4d9221"
            ],
            [
             1,
             "#276419"
            ]
           ],
           "sequential": [
            [
             0,
             "#0d0887"
            ],
            [
             0.1111111111111111,
             "#46039f"
            ],
            [
             0.2222222222222222,
             "#7201a8"
            ],
            [
             0.3333333333333333,
             "#9c179e"
            ],
            [
             0.4444444444444444,
             "#bd3786"
            ],
            [
             0.5555555555555556,
             "#d8576b"
            ],
            [
             0.6666666666666666,
             "#ed7953"
            ],
            [
             0.7777777777777778,
             "#fb9f3a"
            ],
            [
             0.8888888888888888,
             "#fdca26"
            ],
            [
             1,
             "#f0f921"
            ]
           ],
           "sequentialminus": [
            [
             0,
             "#0d0887"
            ],
            [
             0.1111111111111111,
             "#46039f"
            ],
            [
             0.2222222222222222,
             "#7201a8"
            ],
            [
             0.3333333333333333,
             "#9c179e"
            ],
            [
             0.4444444444444444,
             "#bd3786"
            ],
            [
             0.5555555555555556,
             "#d8576b"
            ],
            [
             0.6666666666666666,
             "#ed7953"
            ],
            [
             0.7777777777777778,
             "#fb9f3a"
            ],
            [
             0.8888888888888888,
             "#fdca26"
            ],
            [
             1,
             "#f0f921"
            ]
           ]
          },
          "colorway": [
           "#636efa",
           "#EF553B",
           "#00cc96",
           "#ab63fa",
           "#FFA15A",
           "#19d3f3",
           "#FF6692",
           "#B6E880",
           "#FF97FF",
           "#FECB52"
          ],
          "font": {
           "color": "#2a3f5f"
          },
          "geo": {
           "bgcolor": "white",
           "lakecolor": "white",
           "landcolor": "#E5ECF6",
           "showlakes": true,
           "showland": true,
           "subunitcolor": "white"
          },
          "hoverlabel": {
           "align": "left"
          },
          "hovermode": "closest",
          "mapbox": {
           "style": "light"
          },
          "paper_bgcolor": "white",
          "plot_bgcolor": "#E5ECF6",
          "polar": {
           "angularaxis": {
            "gridcolor": "white",
            "linecolor": "white",
            "ticks": ""
           },
           "bgcolor": "#E5ECF6",
           "radialaxis": {
            "gridcolor": "white",
            "linecolor": "white",
            "ticks": ""
           }
          },
          "scene": {
           "xaxis": {
            "backgroundcolor": "#E5ECF6",
            "gridcolor": "white",
            "gridwidth": 2,
            "linecolor": "white",
            "showbackground": true,
            "ticks": "",
            "zerolinecolor": "white"
           },
           "yaxis": {
            "backgroundcolor": "#E5ECF6",
            "gridcolor": "white",
            "gridwidth": 2,
            "linecolor": "white",
            "showbackground": true,
            "ticks": "",
            "zerolinecolor": "white"
           },
           "zaxis": {
            "backgroundcolor": "#E5ECF6",
            "gridcolor": "white",
            "gridwidth": 2,
            "linecolor": "white",
            "showbackground": true,
            "ticks": "",
            "zerolinecolor": "white"
           }
          },
          "shapedefaults": {
           "line": {
            "color": "#2a3f5f"
           }
          },
          "ternary": {
           "aaxis": {
            "gridcolor": "white",
            "linecolor": "white",
            "ticks": ""
           },
           "baxis": {
            "gridcolor": "white",
            "linecolor": "white",
            "ticks": ""
           },
           "bgcolor": "#E5ECF6",
           "caxis": {
            "gridcolor": "white",
            "linecolor": "white",
            "ticks": ""
           }
          },
          "title": {
           "x": 0.05
          },
          "xaxis": {
           "automargin": true,
           "gridcolor": "white",
           "linecolor": "white",
           "ticks": "",
           "title": {
            "standoff": 15
           },
           "zerolinecolor": "white",
           "zerolinewidth": 2
          },
          "yaxis": {
           "automargin": true,
           "gridcolor": "white",
           "linecolor": "white",
           "ticks": "",
           "title": {
            "standoff": 15
           },
           "zerolinecolor": "white",
           "zerolinewidth": 2
          }
         }
        },
        "title": {
         "font": {
          "color": "black",
          "size": 24
         },
         "text": "Most Valuable Tournaments per Continent",
         "x": 0.5,
         "y": 0.9
        },
        "updatemenus": [
         {
          "active": 0,
          "buttons": [
           {
            "args": [
             {
              "visible": [
               true,
               false,
               false,
               false,
               false
              ]
             },
             {
              "yaxis": {
               "autorange": true,
               "title": "Tourney Prize"
              }
             }
            ],
            "label": "Oceania",
            "method": "update"
           },
           {
            "args": [
             {
              "visible": [
               false,
               true,
               false,
               false,
               false
              ]
             },
             {
              "yaxis": {
               "autorange": true,
               "title": "Tourney Prize"
              }
             }
            ],
            "label": "Asia",
            "method": "update"
           },
           {
            "args": [
             {
              "visible": [
               false,
               false,
               true,
               false,
               false
              ]
             },
             {
              "yaxis": {
               "autorange": true,
               "title": "Tourney Prize"
              }
             }
            ],
            "label": "Africa",
            "method": "update"
           },
           {
            "args": [
             {
              "visible": [
               false,
               false,
               false,
               true,
               false
              ]
             },
             {
              "yaxis": {
               "autorange": true,
               "title": "Tourney Prize"
              }
             }
            ],
            "label": "America",
            "method": "update"
           },
           {
            "args": [
             {
              "visible": [
               false,
               false,
               false,
               false,
               true
              ]
             },
             {
              "yaxis": {
               "autorange": true,
               "title": "Tourney Prize"
              }
             }
            ],
            "label": "Europe",
            "method": "update"
           }
          ],
          "type": "dropdown"
         }
        ],
        "xaxis": {
         "autorange": true,
         "gridcolor": "lightgray",
         "showgrid": true,
         "title": {
          "text": "Tourney Name"
         }
        },
        "yaxis": {
         "autorange": true,
         "gridcolor": "lightgray",
         "showgrid": true,
         "title": {
          "text": "Tourney Prize"
         }
        }
       }
      },
      "text/html": [
       "<div>                            <div id=\"89aa66d2-1e3d-46db-824d-919c6ee341f9\" class=\"plotly-graph-div\" style=\"height:525px; width:100%;\"></div>            <script type=\"text/javascript\">                require([\"plotly\"], function(Plotly) {                    window.PLOTLYENV=window.PLOTLYENV || {};                                    if (document.getElementById(\"89aa66d2-1e3d-46db-824d-919c6ee341f9\")) {                    Plotly.newPlot(                        \"89aa66d2-1e3d-46db-824d-919c6ee341f9\",                        [{\"name\":\"Oceania\",\"visible\":true,\"x\":[\"Australian Open\",\"Australian Open\",\"Australian Open\",\"Australian Open\",\"Australian Open\",\"Australian Open\",\"Australian Open\",\"Australian Open\",\"Australian Open\",\"Australian Open\",\"Brisbane\",\"Auckland\",\"Sydney\",\"Auckland\",\"Brisbane\",\"Sydney\",\"Auckland\",\"Auckland\",\"Auckland\",\"Sydney\",\"Brisbane\",\"Auckland\",\"Brisbane\",\"Sydney\",\"Brisbane\",\"Sydney\",\"Brisbane\",\"Sydney\",\"Auckland\",\"Sydney\",\"Brisbane\",\"Sydney\",\"Brisbane\",\"Sydney\",\"Brisbane\",\"Auckland\",\"Auckland\",\"Sydney\",\"Brisbane\",\"Auckland\"],\"y\":[19542952.1,16520696.8,14893379.2,12970484.9,11683903.38,9862782.26,9086620.228,7772251.865,7514461.585,7273319.712,589680.0,589680.0,589680.0,561345.0,528910.0,528910.0,520070.0,519395.0,514345.0,511825.0,511825.0,508360.0,495630.0,495630.0,494310.0,494310.0,494230.0,494230.0,491000.0,486000.0,486000.0,474050.0,474050.0,461330.0,461330.0,450000.0,450000.0,424250.0,424250.0,407250.0],\"type\":\"bar\"},{\"name\":\"Asia\",\"visible\":false,\"x\":[\"ATP Masters 1000 Shanghai\",\"ATP Masters 1000 Shanghai\",\"ATP Masters 1000 Shanghai\",\"ATP Masters 1000 Shanghai\",\"ATP Masters 1000 Shanghai\",\"ATP Masters 1000 Shanghai\",\"ATP Masters 1000 Shanghai\",\"ATP Masters 1000 Shanghai\",\"ATP Masters 1000 Shanghai\",\"ATP Masters 1000 Shanghai\",\"Beijing\",\"Beijing\",\"Beijing\",\"Beijing\",\"Beijing\",\"Beijing\",\"Beijing\",\"Beijing\",\"Beijing\",\"Beijing\",\"Dubai\",\"Dubai\",\"Dubai\",\"Dubai\",\"Dubai\",\"Dubai\",\"Dubai\",\"Dubai\",\"Dubai\",\"Dubai\",\"Tokyo\",\"Tokyo\",\"Tokyo\",\"Tokyo\",\"Tokyo\",\"Doha\",\"Tokyo\",\"Tokyo\",\"Doha\",\"Tokyo\",\"Tokyo\",\"Doha\",\"Doha\",\"Tokyo\",\"Doha\",\"Chengdu\",\"Doha\",\"Chengdu\",\"Doha\",\"Chengdu\",\"Doha\",\"Doha\",\"Doha\",\"Kuala Lumpur\",\"Kuala Lumpur\",\"Zhuhai\",\"Kuala Lumpur\",\"Kuala Lumpur\",\"Kuala Lumpur\",\"Kuala Lumpur\",\"Chengdu\",\"Shenzhen\",\"Shenzhen\",\"Shenzhen\",\"Shenzhen\",\"Shenzhen\",\"Bangkok\",\"Bangkok\",\"Bangkok\",\"Bangkok\",\"Pune\",\"Pune\",\"Chennai\",\"Chennai\",\"Chennai\",\"Chennai\",\"Chennai\",\"Chennai\",\"Chennai\",\"Chennai\"],\"y\":[9219970.0,8322885.0,8092625.0,7655640.0,7021335.0,6521695.0,6211445.0,5891600.0,5650000.0,5250000.0,4658510.0,4280460.0,4164780.0,3944715.0,3755065.0,3666275.0,3566050.0,3441500.0,3336500.0,3336500.0,3057135.0,2887895.0,2858530.0,2674445.0,2503810.0,2413300.0,2359935.0,2313975.0,2233000.0,2233000.0,2046340.0,1928580.0,1706175.0,1506835.0,1437800.0,1416205.0,1407065.0,1397250.0,1386665.0,1373420.0,1341000.0,1334270.0,1283855.0,1226500.0,1221320.0,1213295.0,1195500.0,1183360.0,1150720.0,1138910.0,1110250.0,1110250.0,1110250.0,1041540.0,1022255.0,1000000.0,984300.0,947750.0,947750.0,947750.0,947735.0,800320.0,731680.0,704140.0,668945.0,655955.0,644500.0,631530.0,608500.0,608500.0,589680.0,561345.0,505730.0,482085.0,459140.0,458400.0,450000.0,450000.0,450000.0,442750.0],\"type\":\"bar\"},{\"name\":\"Africa\",\"visible\":false,\"x\":[\"Marrakech\",\"Marrakech\",\"Marrakech\",\"Marrakech\",\"Casablanca\",\"Casablanca\",\"Johannesburg\",\"Johannesburg\",\"Casablanca\",\"Casablanca\",\"Casablanca\",\"Casablanca\"],\"y\":[624004.644,597607.887,575214.026,553666.522,526242.426,517140.096,500000.0,500000.0,498019.88,479070.0,479070.0,479070.0],\"type\":\"bar\"},{\"name\":\"America\",\"visible\":false,\"x\":[\"US Open\",\"US Open\",\"US Open\",\"US Open\",\"US Open\",\"US Open\",\"US Open\",\"US Open\",\"US Open\",\"US Open\",\"ATP Masters 1000 Miami\",\"ATP Masters 1000 Indian Wells\",\"ATP Masters 1000 Miami\",\"ATP Masters 1000 Indian Wells\",\"ATP Masters 1000 Indian Wells\",\"ATP Masters 1000 Miami\",\"ATP Masters 1000 Indian Wells\",\"ATP Masters 1000 Miami\",\"ATP Masters 1000 Indian Wells\",\"ATP Masters 1000 Indian Wells\",\"ATP Masters 1000 Cincinnati\",\"ATP Masters 1000 Indian Wells\",\"ATP Masters 1000 Canada\",\"ATP Masters 1000 Cincinnati\",\"ATP Masters 1000 Miami\",\"ATP Masters 1000 Canada\",\"ATP Masters 1000 Indian Wells\",\"ATP Masters 1000 Miami\",\"ATP Masters 1000 Cincinnati\",\"ATP Masters 1000 Canada\",\"ATP Masters 1000 Miami\",\"ATP Masters 1000 Cincinnati\",\"ATP Masters 1000 Miami\",\"ATP Masters 1000 Indian Wells\",\"ATP Masters 1000 Indian Wells\",\"ATP Masters 1000 Canada\",\"ATP Masters 1000 Miami\",\"ATP Masters 1000 Miami\",\"ATP Masters 1000 Cincinnati\",\"ATP Masters 1000 Canada\",\"ATP Masters 1000 Cincinnati\",\"ATP Masters 1000 Canada\",\"ATP Masters 1000 Cincinnati\",\"ATP Masters 1000 Canada\",\"ATP Masters 1000 Cincinnati\",\"ATP Masters 1000 Canada\",\"ATP Masters 1000 Cincinnati\",\"ATP Masters 1000 Canada\",\"ATP Masters 1000 Canada\",\"ATP Masters 1000 Cincinnati\",\"Washington\",\"Washington\",\"Washington\",\"Rio de Janeiro\",\"Acapulco\",\"Washington\",\"Rio de Janeiro\",\"Acapulco\",\"Washington\",\"Washington\",\"Acapulco\",\"Rio de Janeiro\",\"Acapulco\",\"Acapulco\",\"Rio de Janeiro\",\"Washington\",\"Rio de Janeiro\",\"Acapulco\",\"Rio de Janeiro\",\"Washington\",\"Washington\",\"Acapulco\",\"Memphis\",\"Washington\",\"Memphis\",\"Acapulco\",\"Memphis\",\"Acapulco\",\"Memphis\",\"Acapulco\",\"Los Cabos\",\"Los Cabos\",\"Los Cabos\",\"Winston-Salem\",\"Winston-Salem\",\"New York\",\"Atlanta\",\"Bogota\",\"New Haven\",\"Winston-Salem\",\"Atlanta\",\"New York\",\"Bogota\",\"Los Cabos\",\"Bogota\",\"Winston-Salem\",\"Memphis\",\"Atlanta\",\"Los Angeles\",\"Los Angeles\",\"Winston-Salem\",\"Atlanta\",\"Memphis\",\"Winston-Salem\",\"Buenos Aires\",\"Atlanta\",\"Memphis\",\"Winston-Salem\",\"Newport\",\"Houston\",\"Delray Beach\",\"Buenos Aires\",\"Memphis\",\"Atlanta\",\"Memphis\",\"Los Angeles\",\"Winston-Salem\",\"Winston-Salem\",\"Buenos Aires\",\"Atlanta\",\"San Jose\",\"Newport\",\"Houston\",\"Delray Beach\",\"Sao Paulo\",\"Newport\",\"Houston\",\"San Jose\",\"San Jose\",\"Atlanta\",\"San Jose\",\"Atlanta\",\"Delray Beach\",\"Buenos Aires\",\"Cordoba\",\"Sao Paulo\",\"Newport\",\"Houston\",\"Delray Beach\",\"Buenos Aires\",\"Buenos Aires\",\"Buenos Aires\",\"Quito\",\"Buenos Aires\",\"Delray Beach\",\"Houston\",\"Newport\",\"Buenos Aires\",\"Atlanta\",\"Buenos Aires\",\"Quito\",\"Newport\",\"Houston\",\"Delray Beach\",\"Sao Paulo\",\"Sao Paulo\",\"Costa do Sauipe\",\"Sao Paulo\",\"Quito\",\"Sao Paulo\",\"Delray Beach\",\"Houston\",\"Newport\",\"Sao Paulo\",\"Delray Beach\",\"Costa do Sauipe\",\"Houston\",\"Delray Beach\",\"Newport\",\"Houston\",\"Newport\",\"Houston\",\"Sao Paulo\",\"Quito\",\"Vina del Mar\",\"Vina del Mar\",\"Newport\",\"Vina del Mar\",\"Santiago\",\"Santiago\",\"Delray Beach\"],\"y\":[28619350.0,25282400.0,24193400.0,21862744.0,19852700.0,17851868.0,16102000.0,11777000.0,10768000.0,10508000.0,9314875.0,9314875.0,8909960.0,8909960.0,7913405.0,7913405.0,7107445.0,7037595.0,7037595.0,6959295.0,6735690.0,6676605.0,6338885.0,6335970.0,6267755.0,5939970.0,5816010.0,5649405.0,5627305.0,5275595.0,5244125.0,5004505.0,4828050.0,4717540.0,4702285.0,4691730.0,4500000.0,4500000.0,4457065.0,4178500.0,4017355.0,3766270.0,3729155.0,3496085.0,3433280.0,3218700.0,3200000.0,3000000.0,3000000.0,3000000.0,2146815.0,2046340.0,2002460.0,1937740.0,1931110.0,1877705.0,1842475.0,1789445.0,1753020.0,1654295.0,1633690.0,1603940.0,1551830.0,1548755.0,1548755.0,1546590.0,1471315.0,1454365.0,1454365.0,1402900.0,1402000.0,1353550.0,1353550.0,1286260.0,1281500.0,1281500.0,1226500.0,1226500.0,1226500.0,1081500.0,858565.0,808995.0,808770.0,807210.0,778070.0,777385.0,777385.0,768915.0,750000.0,748960.0,748450.0,748450.0,730102.0,727995.0,727685.0,720940.0,720410.0,720410.0,700000.0,700000.0,695515.0,693425.0,693425.0,683705.0,673135.0,659070.0,659070.0,658450.0,652245.0,652245.0,651215.0,648180.0,647675.0,647675.0,647675.0,638050.0,625000.0,625000.0,624340.0,623730.0,623730.0,623710.0,623710.0,622675.0,618810.0,600345.0,600345.0,600000.0,600000.0,600000.0,600000.0,600000.0,599345.0,598865.0,589680.0,582870.0,577860.0,577860.0,576900.0,573750.0,570470.0,567760.0,561345.0,553100.0,549230.0,549230.0,549230.0,547900.0,546900.0,544300.0,540310.0,539730.0,539730.0,539730.0,539730.0,532800.0,527700.0,520285.0,520070.0,519775.0,519775.0,519775.0,519775.0,505655.0,500000.0,500000.0,500000.0,500000.0,500000.0,500000.0,500000.0,500000.0,499055.0,494310.0,485760.0,467800.0,455750.0,450000.0,450000.0,450000.0,442500.0],\"type\":\"bar\"},{\"name\":\"Europe\",\"visible\":false,\"x\":[\"Wimbledon\",\"Roland Garros\",\"Roland Garros\",\"Wimbledon\",\"Roland Garros\",\"Wimbledon\",\"Roland Garros\",\"Wimbledon\",\"Wimbledon\",\"Wimbledon\",\"Roland Garros\",\"Wimbledon\",\"Roland Garros\",\"Roland Garros\",\"Roland Garros\",\"Nitto ATP Finals\",\"Wimbledon\",\"Nitto ATP Finals\",\"Roland Garros\",\"Roland Garros\",\"Nitto ATP Finals\",\"Wimbledon\",\"ATP Masters 1000 Madrid\",\"ATP Masters 1000 Madrid\",\"ATP Finals\",\"Wimbledon\",\"ATP Finals\",\"ATP Masters 1000 Madrid\",\"ATP Finals\",\"ATP Masters 1000 Paris\",\"ATP Masters 1000 Rome\",\"ATP Masters 1000 Madrid\",\"ATP Finals\",\"ATP Masters 1000 Monte Carlo\",\"ATP Masters 1000 Paris\",\"ATP Masters 1000 Rome\",\"ATP Masters 1000 Monte Carlo\",\"ATP Finals\",\"ATP Masters 1000 Madrid\",\"ATP Masters 1000 Rome\",\"ATP Masters 1000 Paris\",\"ATP Finals\",\"ATP Finals\",\"ATP Masters 1000 Monte Carlo\",\"ATP Masters 1000 Madrid\",\"ATP Masters 1000 Madrid\",\"ATP Masters 1000 Paris\",\"ATP Masters 1000 Rome\",\"ATP Masters 1000 Monte Carlo\",\"ATP Masters 1000 Madrid\",\"ATP Masters 1000 Rome\",\"ATP Masters 1000 Paris\",\"ATP Masters 1000 Madrid\",\"ATP Masters 1000 Madrid\",\"ATP Masters 1000 Monte Carlo\",\"ATP Masters 1000 Paris\",\"ATP Masters 1000 Rome\",\"ATP Masters 1000 Monte Carlo\",\"ATP Masters 1000 Rome\",\"ATP Masters 1000 Paris\",\"ATP Masters 1000 Monte Carlo\",\"ATP Masters 1000 Paris\",\"ATP Masters 1000 Rome\",\"Barcelona\",\"Vienna\",\"ATP Masters 1000 Rome\",\"ATP Masters 1000 Paris\",\"ATP Masters 1000 Monte Carlo\",\"ATP Masters 1000 Paris\",\"ATP Masters 1000 Rome\",\"Barcelona\",\"ATP Masters 1000 Monte Carlo\",\"Vienna\",\"Barcelona\",\"ATP Masters 1000 Monte Carlo\",\"Vienna\",\"Basel\",\"Vienna\",\"Barcelona\",\"Vienna\",\"Basel\",\"Barcelona\",\"Basel\",\"Halle\",\"London / Queen's Club\",\"Valencia\",\"Valencia\",\"Barcelona\",\"Basel\",\"Barcelona\",\"London / Queen's Club\",\"Halle\",\"Rotterdam\",\"Valencia\",\"Barcelona\",\"Basel\",\"Valencia\",\"Valencia\",\"Rotterdam\",\"Barcelona\",\"Barcelona\",\"Basel\",\"London / Queen's Club\",\"Halle\",\"Basel\",\"London / Queen's Club\",\"Basel\",\"Hamburg\",\"Rotterdam\",\"Basel\",\"Halle\",\"Basel\",\"Hamburg\",\"Rotterdam\",\"Halle\",\"London / Queen's Club\",\"Hamburg\",\"Rotterdam\",\"Rotterdam\",\"Hamburg\",\"Rotterdam\",\"Rotterdam\",\"Rotterdam\",\"Rotterdam\",\"Hamburg\",\"Hamburg\",\"Next Gen ATP Finals\",\"Next Gen ATP Finals\",\"Hamburg\",\"Next Gen ATP Finals\",\"St. Petersburg\",\"St. Petersburg\",\"Hamburg\",\"Hamburg\",\"St. Petersburg\",\"Hamburg\",\"Moscow\",\"St. Petersburg\",\"St. Petersburg\",\"Moscow\",\"Moscow\",\"Halle\",\"London / Queen's Club\",\"Moscow\",\"London / Queen's Club\",\"Halle\",\"Moscow\",\"Moscow\",\"Moscow\",\"Stuttgart\",\"Halle\",\"Halle\",\"Halle\",\"Eastbourne\",\"Moscow\",\"Marseille\",\"Stuttgart\",\"Moscow\",\"Eastbourne\",\"Marseille\",\"London / Queen's Club\",\"London / Queen's Club\",\"s-Hertogenbosch\",\"Antwerp\",\"Stockholm\",\"Nottingham\",\"St. Petersburg\",\"St. Petersburg\",\"Stuttgart\",\"Moscow\",\"London / Queen's Club\",\"Eastbourne\",\"Marseille\",\"s-Hertogenbosch\",\"Stockholm\",\"Antwerp\",\"Stuttgart\",\"Marseille\",\"Stockholm\",\"Antwerp\",\"s-Hertogenbosch\",\"Vienna\",\"Montpellier\",\"Vienna\",\"Nottingham\",\"Stuttgart\",\"s-Hertogenbosch\",\"Stockholm\",\"Antwerp\",\"Marseille\",\"Marseille\",\"s-Hertogenbosch\",\"Valencia\",\"Stockholm\",\"Stockholm\",\"Stockholm\",\"Stockholm\",\"Marseille\",\"Stockholm\",\"Vienna\",\"Lyon\",\"Geneva\",\"Bastad\",\"Umag\",\"Munich\",\"Gstaad\",\"Kitzb\\u00fchel\",\"Metz\",\"Estoril\",\"Budapest\",\"Sofia\",\"Montpellier\",\"Marseille\",\"Marseille\",\"Marseille\",\"Vienna\",\"Eastbourne\",\"Metz\",\"Montpellier\",\"Estoril\",\"Gstaad\",\"Umag\",\"Bastad\",\"Geneva\",\"Lyon\",\"Sofia\",\"Munich\",\"Budapest\",\"Kitzb\\u00fchel\",\"Geneva\",\"Vienna\",\"Stockholm\",\"Geneva\",\"Munich\",\"Estoril\",\"Budapest\",\"Montpellier\",\"Lyon\",\"Bastad\",\"Umag\",\"Gstaad\",\"Kitzb\\u00fchel\",\"Metz\",\"Sofia\",\"Eastbourne\",\"Metz\",\"Kitzb\\u00fchel\",\"Sofia\",\"Bucharest\",\"Montpellier\",\"Estoril\",\"Bastad\",\"Munich\",\"Gstaad\",\"Nice\",\"Umag\",\"Antalya\",\"Istanbul\",\"Antalya\",\"Bucharest\",\"Bastad\",\"Estoril\",\"Istanbul\",\"Geneva\",\"Kitzb\\u00fchel\",\"Metz\",\"Zagreb\",\"Munich\",\"Nice\",\"Gstaad\",\"Umag\",\"Montpellier\",\"Bastad\",\"St. Petersburg\",\"Istanbul\",\"Antalya\",\"Metz\",\"Umag\",\"Gstaad\",\"Bastad\",\"s-Hertogenbosch\",\"Nice\",\"Dusseldorf\",\"Oeiras\",\"Munich\",\"Bucharest\",\"Zagreb\",\"Montpellier\",\"Stuttgart\",\"Kitzb\\u00fchel\",\"Istanbul\",\"Metz\",\"Zagreb\",\"Bucharest\",\"Munich\",\"Oeiras\",\"Dusseldorf\",\"Nice\",\"Montpellier\",\"Kitzb\\u00fchel\",\"Gstaad\",\"Stuttgart\",\"s-Hertogenbosch\",\"Umag\",\"Eastbourne\",\"Eastbourne\",\"Eastbourne\",\"Gstaad\",\"s-Hertogenbosch\",\"Nice\",\"Umag\",\"Metz\",\"Gstaad\",\"Estoril\",\"Zagreb\",\"Montpellier\",\"Zagreb\",\"Kitzb\\u00fchel\",\"s-Hertogenbosch\",\"Munich\",\"Estoril\",\"Stuttgart\",\"Umag\",\"Metz\",\"Bastad\",\"Bastad\",\"Nice\",\"s-Hertogenbosch\",\"Munich\",\"Munich\",\"Stuttgart\",\"Metz\",\"Estoril\",\"Nice\",\"Zagreb\",\"Bucharest\",\"St. Petersburg\",\"Belgrade\",\"Bucharest\",\"Bucharest\",\"Belgrade\",\"Belgrade\",\"Kitzb\\u00fchel\",\"Bastad\",\"Gstaad\",\"Umag\",\"Stuttgart\"],\"y\":[21383214.6,21355876.0,19409787.2,19232738.8,17874634.0,17858456.0,17042915.25,15840354.2,15124331.2,14097831.0,13848316.8,12652547.6,12298259.2,10756718.4,9035260.2,9000000.0,8767009.68,8500000.0,8393306.4,8070519.68,8000000.0,7979745.4,7749510.842,7655464.078,7500000.0,7456266.4,7000000.0,6822201.658,6500000.0,6165396.688,6165396.688,6089150.036,6000000.0,5945822.938,5796731.031,5796731.031,5577157.281,5500000.0,5444076.958,5148378.985,5148378.985,5070000.0,5070000.0,4928805.235,4924663.941,4581896.8082,4578583.773,4578583.773,4359010.023,4230395.697,4077732.057,4077732.057,3945407.6,3939020.0,3858158.307,3675441.009,3675441.009,3455867.259,3411771.527,3411771.527,3192197.777,3141075.685,3141075.685,2974726.612,2968711.622,2927650.0,2927650.0,2927650.0,2927650.0,2927650.0,2923875.993,2921501.935,2791221.51,2772580.364,2708076.25,2626698.226,2600541.004,2591034.126,2585226.733,2474178.307,2439914.156,2411569.181,2363385.385,2362507.09,2362507.09,2346623.258,2311347.737,2306855.125,2291003.231,2264441.461,2253667.709,2253667.709,2234041.808,2221660.51,2206383.5,2152940.58,2149427.4,2149427.4,2125202.427,2123877.0,2123877.0,2117313.741,2093104.737,2093104.737,2059255.78,2053198.206,2038772.876,1975354.654,1974156.979,1956841.26,1944252.365,1868373.0,1866515.273,1834114.172,1806248.267,1806248.267,1734632.625,1704270.233,1677676.525,1612331.377,1599561.5,1597703.773,1538347.0,1538347.0,1498914.216,1407560.89,1400000.0,1335000.0,1309990.3,1275000.0,1248665.0,1241850.0,1187029.0,1187029.0,1091000.0,1080569.0,1080500.0,1064715.0,986380.0,936435.0,922520.0,861900.16,861900.16,855490.0,830031.3589999999,830031.3589999999,823600.0,823550.0,805500.0,803283.284,798450.0,798450.0,798450.0,794063.848,792645.0,792073.046,776455.364,771525.0,767667.091,765245.126,760071.17,757516.13,757223.365,757223.365,757223.365,750335.403,750000.0,750000.0,747322.585,742150.0,739098.55,738736.586,736543.51,730400.768,730400.768,730400.768,719291.667,708927.786,703035.225,703035.225,703035.225,691990.0,691990.0,691990.0,685671.599,683547.722,676707.667,676707.667,676707.667,673721.464,661712.776,643183.413,643183.413,643183.413,639361.499,638760.0,638760.0,637200.361,632058.343,632058.343,624004.644,624004.644,624004.644,624004.644,624004.644,624004.644,624004.644,624004.644,624004.644,624004.644,624004.644,624004.644,613209.6,613209.6,613209.6,608690.373,598667.164,597607.887,597607.887,597607.887,597607.887,597607.887,597607.887,597607.887,597607.887,597607.887,597607.887,597607.887,597607.887,592125.197,585530.0,585530.0,575214.026,575214.026,575214.026,575214.026,575214.026,575214.026,575214.026,575214.026,575214.026,575214.026,575214.026,575214.026,560043.476,553666.522,553666.522,553666.522,553666.522,553666.522,553666.522,553666.522,553666.522,553666.522,553666.522,553666.522,540273.854,529377.673,529377.673,526242.426,526242.426,526242.426,526242.426,526242.426,526242.426,526242.426,526242.426,526242.426,526242.426,526242.426,526242.426,526242.426,523112.502,519775.0,517549.967,517549.967,517140.096,517140.096,517140.096,517140.096,517140.096,517140.096,517140.096,517140.096,517140.096,517140.096,517140.096,517140.096,517140.096,517140.096,514286.968,498019.88,498019.88,498019.88,498019.88,498019.88,498019.88,498019.88,498019.88,498019.88,498019.88,498019.88,498019.88,498019.88,492563.805,486256.05,485138.22,479070.0,479070.0,479070.0,479070.0,479070.0,479070.0,479070.0,479070.0,479070.0,479070.0,479070.0,479070.0,479070.0,479070.0,479070.0,479070.0,479070.0,479070.0,479070.0,479070.0,479070.0,479070.0,479070.0,479070.0,479070.0,479070.0,479070.0,479070.0,479070.0,468350.0,452401.77,450272.57,447344.92,445748.02,443565.59,436672.305,436672.305,436672.305,436672.305,436672.305],\"type\":\"bar\"}],                        {\"template\":{\"data\":{\"histogram2dcontour\":[{\"type\":\"histogram2dcontour\",\"colorbar\":{\"outlinewidth\":0,\"ticks\":\"\"},\"colorscale\":[[0.0,\"#0d0887\"],[0.1111111111111111,\"#46039f\"],[0.2222222222222222,\"#7201a8\"],[0.3333333333333333,\"#9c179e\"],[0.4444444444444444,\"#bd3786\"],[0.5555555555555556,\"#d8576b\"],[0.6666666666666666,\"#ed7953\"],[0.7777777777777778,\"#fb9f3a\"],[0.8888888888888888,\"#fdca26\"],[1.0,\"#f0f921\"]]}],\"choropleth\":[{\"type\":\"choropleth\",\"colorbar\":{\"outlinewidth\":0,\"ticks\":\"\"}}],\"histogram2d\":[{\"type\":\"histogram2d\",\"colorbar\":{\"outlinewidth\":0,\"ticks\":\"\"},\"colorscale\":[[0.0,\"#0d0887\"],[0.1111111111111111,\"#46039f\"],[0.2222222222222222,\"#7201a8\"],[0.3333333333333333,\"#9c179e\"],[0.4444444444444444,\"#bd3786\"],[0.5555555555555556,\"#d8576b\"],[0.6666666666666666,\"#ed7953\"],[0.7777777777777778,\"#fb9f3a\"],[0.8888888888888888,\"#fdca26\"],[1.0,\"#f0f921\"]]}],\"heatmap\":[{\"type\":\"heatmap\",\"colorbar\":{\"outlinewidth\":0,\"ticks\":\"\"},\"colorscale\":[[0.0,\"#0d0887\"],[0.1111111111111111,\"#46039f\"],[0.2222222222222222,\"#7201a8\"],[0.3333333333333333,\"#9c179e\"],[0.4444444444444444,\"#bd3786\"],[0.5555555555555556,\"#d8576b\"],[0.6666666666666666,\"#ed7953\"],[0.7777777777777778,\"#fb9f3a\"],[0.8888888888888888,\"#fdca26\"],[1.0,\"#f0f921\"]]}],\"heatmapgl\":[{\"type\":\"heatmapgl\",\"colorbar\":{\"outlinewidth\":0,\"ticks\":\"\"},\"colorscale\":[[0.0,\"#0d0887\"],[0.1111111111111111,\"#46039f\"],[0.2222222222222222,\"#7201a8\"],[0.3333333333333333,\"#9c179e\"],[0.4444444444444444,\"#bd3786\"],[0.5555555555555556,\"#d8576b\"],[0.6666666666666666,\"#ed7953\"],[0.7777777777777778,\"#fb9f3a\"],[0.8888888888888888,\"#fdca26\"],[1.0,\"#f0f921\"]]}],\"contourcarpet\":[{\"type\":\"contourcarpet\",\"colorbar\":{\"outlinewidth\":0,\"ticks\":\"\"}}],\"contour\":[{\"type\":\"contour\",\"colorbar\":{\"outlinewidth\":0,\"ticks\":\"\"},\"colorscale\":[[0.0,\"#0d0887\"],[0.1111111111111111,\"#46039f\"],[0.2222222222222222,\"#7201a8\"],[0.3333333333333333,\"#9c179e\"],[0.4444444444444444,\"#bd3786\"],[0.5555555555555556,\"#d8576b\"],[0.6666666666666666,\"#ed7953\"],[0.7777777777777778,\"#fb9f3a\"],[0.8888888888888888,\"#fdca26\"],[1.0,\"#f0f921\"]]}],\"surface\":[{\"type\":\"surface\",\"colorbar\":{\"outlinewidth\":0,\"ticks\":\"\"},\"colorscale\":[[0.0,\"#0d0887\"],[0.1111111111111111,\"#46039f\"],[0.2222222222222222,\"#7201a8\"],[0.3333333333333333,\"#9c179e\"],[0.4444444444444444,\"#bd3786\"],[0.5555555555555556,\"#d8576b\"],[0.6666666666666666,\"#ed7953\"],[0.7777777777777778,\"#fb9f3a\"],[0.8888888888888888,\"#fdca26\"],[1.0,\"#f0f921\"]]}],\"mesh3d\":[{\"type\":\"mesh3d\",\"colorbar\":{\"outlinewidth\":0,\"ticks\":\"\"}}],\"scatter\":[{\"fillpattern\":{\"fillmode\":\"overlay\",\"size\":10,\"solidity\":0.2},\"type\":\"scatter\"}],\"parcoords\":[{\"type\":\"parcoords\",\"line\":{\"colorbar\":{\"outlinewidth\":0,\"ticks\":\"\"}}}],\"scatterpolargl\":[{\"type\":\"scatterpolargl\",\"marker\":{\"colorbar\":{\"outlinewidth\":0,\"ticks\":\"\"}}}],\"bar\":[{\"error_x\":{\"color\":\"#2a3f5f\"},\"error_y\":{\"color\":\"#2a3f5f\"},\"marker\":{\"line\":{\"color\":\"#E5ECF6\",\"width\":0.5},\"pattern\":{\"fillmode\":\"overlay\",\"size\":10,\"solidity\":0.2}},\"type\":\"bar\"}],\"scattergeo\":[{\"type\":\"scattergeo\",\"marker\":{\"colorbar\":{\"outlinewidth\":0,\"ticks\":\"\"}}}],\"scatterpolar\":[{\"type\":\"scatterpolar\",\"marker\":{\"colorbar\":{\"outlinewidth\":0,\"ticks\":\"\"}}}],\"histogram\":[{\"marker\":{\"pattern\":{\"fillmode\":\"overlay\",\"size\":10,\"solidity\":0.2}},\"type\":\"histogram\"}],\"scattergl\":[{\"type\":\"scattergl\",\"marker\":{\"colorbar\":{\"outlinewidth\":0,\"ticks\":\"\"}}}],\"scatter3d\":[{\"type\":\"scatter3d\",\"line\":{\"colorbar\":{\"outlinewidth\":0,\"ticks\":\"\"}},\"marker\":{\"colorbar\":{\"outlinewidth\":0,\"ticks\":\"\"}}}],\"scattermapbox\":[{\"type\":\"scattermapbox\",\"marker\":{\"colorbar\":{\"outlinewidth\":0,\"ticks\":\"\"}}}],\"scatterternary\":[{\"type\":\"scatterternary\",\"marker\":{\"colorbar\":{\"outlinewidth\":0,\"ticks\":\"\"}}}],\"scattercarpet\":[{\"type\":\"scattercarpet\",\"marker\":{\"colorbar\":{\"outlinewidth\":0,\"ticks\":\"\"}}}],\"carpet\":[{\"aaxis\":{\"endlinecolor\":\"#2a3f5f\",\"gridcolor\":\"white\",\"linecolor\":\"white\",\"minorgridcolor\":\"white\",\"startlinecolor\":\"#2a3f5f\"},\"baxis\":{\"endlinecolor\":\"#2a3f5f\",\"gridcolor\":\"white\",\"linecolor\":\"white\",\"minorgridcolor\":\"white\",\"startlinecolor\":\"#2a3f5f\"},\"type\":\"carpet\"}],\"table\":[{\"cells\":{\"fill\":{\"color\":\"#EBF0F8\"},\"line\":{\"color\":\"white\"}},\"header\":{\"fill\":{\"color\":\"#C8D4E3\"},\"line\":{\"color\":\"white\"}},\"type\":\"table\"}],\"barpolar\":[{\"marker\":{\"line\":{\"color\":\"#E5ECF6\",\"width\":0.5},\"pattern\":{\"fillmode\":\"overlay\",\"size\":10,\"solidity\":0.2}},\"type\":\"barpolar\"}],\"pie\":[{\"automargin\":true,\"type\":\"pie\"}]},\"layout\":{\"autotypenumbers\":\"strict\",\"colorway\":[\"#636efa\",\"#EF553B\",\"#00cc96\",\"#ab63fa\",\"#FFA15A\",\"#19d3f3\",\"#FF6692\",\"#B6E880\",\"#FF97FF\",\"#FECB52\"],\"font\":{\"color\":\"#2a3f5f\"},\"hovermode\":\"closest\",\"hoverlabel\":{\"align\":\"left\"},\"paper_bgcolor\":\"white\",\"plot_bgcolor\":\"#E5ECF6\",\"polar\":{\"bgcolor\":\"#E5ECF6\",\"angularaxis\":{\"gridcolor\":\"white\",\"linecolor\":\"white\",\"ticks\":\"\"},\"radialaxis\":{\"gridcolor\":\"white\",\"linecolor\":\"white\",\"ticks\":\"\"}},\"ternary\":{\"bgcolor\":\"#E5ECF6\",\"aaxis\":{\"gridcolor\":\"white\",\"linecolor\":\"white\",\"ticks\":\"\"},\"baxis\":{\"gridcolor\":\"white\",\"linecolor\":\"white\",\"ticks\":\"\"},\"caxis\":{\"gridcolor\":\"white\",\"linecolor\":\"white\",\"ticks\":\"\"}},\"coloraxis\":{\"colorbar\":{\"outlinewidth\":0,\"ticks\":\"\"}},\"colorscale\":{\"sequential\":[[0.0,\"#0d0887\"],[0.1111111111111111,\"#46039f\"],[0.2222222222222222,\"#7201a8\"],[0.3333333333333333,\"#9c179e\"],[0.4444444444444444,\"#bd3786\"],[0.5555555555555556,\"#d8576b\"],[0.6666666666666666,\"#ed7953\"],[0.7777777777777778,\"#fb9f3a\"],[0.8888888888888888,\"#fdca26\"],[1.0,\"#f0f921\"]],\"sequentialminus\":[[0.0,\"#0d0887\"],[0.1111111111111111,\"#46039f\"],[0.2222222222222222,\"#7201a8\"],[0.3333333333333333,\"#9c179e\"],[0.4444444444444444,\"#bd3786\"],[0.5555555555555556,\"#d8576b\"],[0.6666666666666666,\"#ed7953\"],[0.7777777777777778,\"#fb9f3a\"],[0.8888888888888888,\"#fdca26\"],[1.0,\"#f0f921\"]],\"diverging\":[[0,\"#8e0152\"],[0.1,\"#c51b7d\"],[0.2,\"#de77ae\"],[0.3,\"#f1b6da\"],[0.4,\"#fde0ef\"],[0.5,\"#f7f7f7\"],[0.6,\"#e6f5d0\"],[0.7,\"#b8e186\"],[0.8,\"#7fbc41\"],[0.9,\"#4d9221\"],[1,\"#276419\"]]},\"xaxis\":{\"gridcolor\":\"white\",\"linecolor\":\"white\",\"ticks\":\"\",\"title\":{\"standoff\":15},\"zerolinecolor\":\"white\",\"automargin\":true,\"zerolinewidth\":2},\"yaxis\":{\"gridcolor\":\"white\",\"linecolor\":\"white\",\"ticks\":\"\",\"title\":{\"standoff\":15},\"zerolinecolor\":\"white\",\"automargin\":true,\"zerolinewidth\":2},\"scene\":{\"xaxis\":{\"backgroundcolor\":\"#E5ECF6\",\"gridcolor\":\"white\",\"linecolor\":\"white\",\"showbackground\":true,\"ticks\":\"\",\"zerolinecolor\":\"white\",\"gridwidth\":2},\"yaxis\":{\"backgroundcolor\":\"#E5ECF6\",\"gridcolor\":\"white\",\"linecolor\":\"white\",\"showbackground\":true,\"ticks\":\"\",\"zerolinecolor\":\"white\",\"gridwidth\":2},\"zaxis\":{\"backgroundcolor\":\"#E5ECF6\",\"gridcolor\":\"white\",\"linecolor\":\"white\",\"showbackground\":true,\"ticks\":\"\",\"zerolinecolor\":\"white\",\"gridwidth\":2}},\"shapedefaults\":{\"line\":{\"color\":\"#2a3f5f\"}},\"annotationdefaults\":{\"arrowcolor\":\"#2a3f5f\",\"arrowhead\":0,\"arrowwidth\":1},\"geo\":{\"bgcolor\":\"white\",\"landcolor\":\"#E5ECF6\",\"subunitcolor\":\"white\",\"showland\":true,\"showlakes\":true,\"lakecolor\":\"white\"},\"title\":{\"x\":0.05},\"mapbox\":{\"style\":\"light\"}}},\"title\":{\"font\":{\"size\":24,\"color\":\"black\"},\"text\":\"Most Valuable Tournaments per Continent\",\"x\":0.5,\"y\":0.9},\"yaxis\":{\"showgrid\":true,\"gridcolor\":\"lightgray\",\"title\":{\"text\":\"Tourney Prize\"},\"autorange\":true},\"xaxis\":{\"showgrid\":true,\"gridcolor\":\"lightgray\",\"title\":{\"text\":\"Tourney Name\"},\"autorange\":true},\"updatemenus\":[{\"active\":0,\"buttons\":[{\"args\":[{\"visible\":[true,false,false,false,false]},{\"yaxis\":{\"title\":\"Tourney Prize\",\"autorange\":true}}],\"label\":\"Oceania\",\"method\":\"update\"},{\"args\":[{\"visible\":[false,true,false,false,false]},{\"yaxis\":{\"title\":\"Tourney Prize\",\"autorange\":true}}],\"label\":\"Asia\",\"method\":\"update\"},{\"args\":[{\"visible\":[false,false,true,false,false]},{\"yaxis\":{\"title\":\"Tourney Prize\",\"autorange\":true}}],\"label\":\"Africa\",\"method\":\"update\"},{\"args\":[{\"visible\":[false,false,false,true,false]},{\"yaxis\":{\"title\":\"Tourney Prize\",\"autorange\":true}}],\"label\":\"America\",\"method\":\"update\"},{\"args\":[{\"visible\":[false,false,false,false,true]},{\"yaxis\":{\"title\":\"Tourney Prize\",\"autorange\":true}}],\"label\":\"Europe\",\"method\":\"update\"}],\"type\":\"dropdown\"}],\"plot_bgcolor\":\"white\"},                        {\"responsive\": true}                    ).then(function(){\n",
       "                            \n",
       "var gd = document.getElementById('89aa66d2-1e3d-46db-824d-919c6ee341f9');\n",
       "var x = new MutationObserver(function (mutations, observer) {{\n",
       "        var display = window.getComputedStyle(gd).display;\n",
       "        if (!display || display === 'none') {{\n",
       "            console.log([gd, 'removed!']);\n",
       "            Plotly.purge(gd);\n",
       "            observer.disconnect();\n",
       "        }}\n",
       "}});\n",
       "\n",
       "// Listen for the removal of the full notebook cells\n",
       "var notebookContainer = gd.closest('#notebook-container');\n",
       "if (notebookContainer) {{\n",
       "    x.observe(notebookContainer, {childList: true});\n",
       "}}\n",
       "\n",
       "// Listen for the clearing of the current output cell\n",
       "var outputEl = gd.closest('.output');\n",
       "if (outputEl) {{\n",
       "    x.observe(outputEl, {childList: true});\n",
       "}}\n",
       "\n",
       "                        })                };                });            </script>        </div>"
      ]
     },
     "metadata": {},
     "output_type": "display_data"
    }
   ],
   "source": [
    "# Create a dictionary with continents as keys and their corresponding tournament data as values\n",
    "continent_data = {}\n",
    "for continent in df_tournaments['Region'].unique():\n",
    "    continent_data[continent] = df_tournaments.loc[df_tournaments['Region'] == continent]\n",
    "\n",
    "# Create an empty graph object\n",
    "fig_bar = go.Figure()\n",
    "\n",
    "# Add traces to the figure for each continent\n",
    "for continent in tournaments['Continent'].unique():\n",
    "    data = data.sort_values('tourney_fin_commit_USD', ascending=False) # sort data in descending order\n",
    "    df_continent = tournaments[tournaments['Continent'] == continent]\n",
    "    df_continent = df_continent.sort_values(by='tourney_fin_commit_USD', ascending=False)\n",
    "    fig_bar.add_trace(dict(type='bar',\n",
    "                     x=df_continent['tourney_name'],\n",
    "                     y=df_continent['tourney_fin_commit_USD'],\n",
    "                     name=continent,\n",
    "                     visible=False))\n",
    "\n",
    "# Make the first trace visible\n",
    "fig_bar.data[0].visible = True\n",
    "\n",
    "# Create a dropdown menu to select continents\n",
    "buttons = []\n",
    "for i, continent in enumerate(tournaments['Continent'].unique()):\n",
    "    visible = [False] * len(tournaments['Continent'].unique())\n",
    "    visible[i] = True\n",
    "    button = dict(label=continent,\n",
    "                  method='update',\n",
    "                  args=[{'visible': visible},\n",
    "                        {'yaxis': {'title': 'Tourney Prize',\n",
    "                                   'autorange': True}}])\n",
    "    buttons.append(button)\n",
    "    \n",
    "updatemenus = [dict(type='dropdown',\n",
    "                    active=0,\n",
    "                    buttons=buttons)]\n",
    "\n",
    "# Update the layout with the dropdown menu, better y-axis scaling, and grid\n",
    "fig_bar.update_layout(dict(title=dict(text='Most Valuable Tournaments per Continent',\n",
    "                                       font=dict(size=24, color='black'),\n",
    "                                       x=0.5, y=0.9),\n",
    "                            updatemenus=updatemenus,\n",
    "                            plot_bgcolor='white',\n",
    "                            yaxis=dict(showgrid=True,\n",
    "                                       gridcolor='lightgray',\n",
    "                                       title='Tourney Prize',\n",
    "                                       autorange=True),\n",
    "                           xaxis=dict(showgrid=True,\n",
    "                                       gridcolor='lightgray',\n",
    "                                       title='Tourney Name',\n",
    "                                       autorange=True)))\n",
    "\n",
    "fig_bar.show()"
   ]
  },
  {
   "cell_type": "markdown",
   "id": "4b294cb0",
   "metadata": {},
   "source": [
    "### Just a simple barplot to see the most valuable tourney per continent"
   ]
  },
  {
   "cell_type": "code",
   "execution_count": 32,
   "id": "2144efba",
   "metadata": {},
   "outputs": [
    {
     "data": {
      "application/vnd.plotly.v1+json": {
       "config": {
        "plotlyServerURL": "https://plot.ly"
       },
       "data": [
        {
         "marker": {
          "color": "rgb(238, 66, 102)"
         },
         "name": "America",
         "orientation": "h",
         "type": "bar",
         "x": [
          28619350
         ],
         "y": [
          "US Open"
         ]
        },
        {
         "marker": {
          "color": "rgb(92, 155, 211)"
         },
         "name": "Europe",
         "orientation": "h",
         "type": "bar",
         "x": [
          21383214.6
         ],
         "y": [
          "Wimbledon"
         ]
        },
        {
         "marker": {
          "color": "rgb(118, 183, 178)"
         },
         "name": "Oceania",
         "orientation": "h",
         "type": "bar",
         "x": [
          19542952.1
         ],
         "y": [
          "Australian Open"
         ]
        },
        {
         "marker": {
          "color": "rgb(240, 150, 29)"
         },
         "name": "Asia",
         "orientation": "h",
         "type": "bar",
         "x": [
          9219970
         ],
         "y": [
          "ATP Masters 1000 Shanghai"
         ]
        },
        {
         "marker": {
          "color": "rgb(34, 66, 124)"
         },
         "name": "Africa",
         "orientation": "h",
         "type": "bar",
         "x": [
          624004.644
         ],
         "y": [
          "Marrakech"
         ]
        }
       ],
       "layout": {
        "height": 500,
        "legend": {
         "x": 1.02,
         "y": 0.95
        },
        "margin": {
         "b": 20,
         "l": 150,
         "r": 20,
         "t": 100
        },
        "plot_bgcolor": "white",
        "template": {
         "data": {
          "bar": [
           {
            "error_x": {
             "color": "#2a3f5f"
            },
            "error_y": {
             "color": "#2a3f5f"
            },
            "marker": {
             "line": {
              "color": "#E5ECF6",
              "width": 0.5
             },
             "pattern": {
              "fillmode": "overlay",
              "size": 10,
              "solidity": 0.2
             }
            },
            "type": "bar"
           }
          ],
          "barpolar": [
           {
            "marker": {
             "line": {
              "color": "#E5ECF6",
              "width": 0.5
             },
             "pattern": {
              "fillmode": "overlay",
              "size": 10,
              "solidity": 0.2
             }
            },
            "type": "barpolar"
           }
          ],
          "carpet": [
           {
            "aaxis": {
             "endlinecolor": "#2a3f5f",
             "gridcolor": "white",
             "linecolor": "white",
             "minorgridcolor": "white",
             "startlinecolor": "#2a3f5f"
            },
            "baxis": {
             "endlinecolor": "#2a3f5f",
             "gridcolor": "white",
             "linecolor": "white",
             "minorgridcolor": "white",
             "startlinecolor": "#2a3f5f"
            },
            "type": "carpet"
           }
          ],
          "choropleth": [
           {
            "colorbar": {
             "outlinewidth": 0,
             "ticks": ""
            },
            "type": "choropleth"
           }
          ],
          "contour": [
           {
            "colorbar": {
             "outlinewidth": 0,
             "ticks": ""
            },
            "colorscale": [
             [
              0,
              "#0d0887"
             ],
             [
              0.1111111111111111,
              "#46039f"
             ],
             [
              0.2222222222222222,
              "#7201a8"
             ],
             [
              0.3333333333333333,
              "#9c179e"
             ],
             [
              0.4444444444444444,
              "#bd3786"
             ],
             [
              0.5555555555555556,
              "#d8576b"
             ],
             [
              0.6666666666666666,
              "#ed7953"
             ],
             [
              0.7777777777777778,
              "#fb9f3a"
             ],
             [
              0.8888888888888888,
              "#fdca26"
             ],
             [
              1,
              "#f0f921"
             ]
            ],
            "type": "contour"
           }
          ],
          "contourcarpet": [
           {
            "colorbar": {
             "outlinewidth": 0,
             "ticks": ""
            },
            "type": "contourcarpet"
           }
          ],
          "heatmap": [
           {
            "colorbar": {
             "outlinewidth": 0,
             "ticks": ""
            },
            "colorscale": [
             [
              0,
              "#0d0887"
             ],
             [
              0.1111111111111111,
              "#46039f"
             ],
             [
              0.2222222222222222,
              "#7201a8"
             ],
             [
              0.3333333333333333,
              "#9c179e"
             ],
             [
              0.4444444444444444,
              "#bd3786"
             ],
             [
              0.5555555555555556,
              "#d8576b"
             ],
             [
              0.6666666666666666,
              "#ed7953"
             ],
             [
              0.7777777777777778,
              "#fb9f3a"
             ],
             [
              0.8888888888888888,
              "#fdca26"
             ],
             [
              1,
              "#f0f921"
             ]
            ],
            "type": "heatmap"
           }
          ],
          "heatmapgl": [
           {
            "colorbar": {
             "outlinewidth": 0,
             "ticks": ""
            },
            "colorscale": [
             [
              0,
              "#0d0887"
             ],
             [
              0.1111111111111111,
              "#46039f"
             ],
             [
              0.2222222222222222,
              "#7201a8"
             ],
             [
              0.3333333333333333,
              "#9c179e"
             ],
             [
              0.4444444444444444,
              "#bd3786"
             ],
             [
              0.5555555555555556,
              "#d8576b"
             ],
             [
              0.6666666666666666,
              "#ed7953"
             ],
             [
              0.7777777777777778,
              "#fb9f3a"
             ],
             [
              0.8888888888888888,
              "#fdca26"
             ],
             [
              1,
              "#f0f921"
             ]
            ],
            "type": "heatmapgl"
           }
          ],
          "histogram": [
           {
            "marker": {
             "pattern": {
              "fillmode": "overlay",
              "size": 10,
              "solidity": 0.2
             }
            },
            "type": "histogram"
           }
          ],
          "histogram2d": [
           {
            "colorbar": {
             "outlinewidth": 0,
             "ticks": ""
            },
            "colorscale": [
             [
              0,
              "#0d0887"
             ],
             [
              0.1111111111111111,
              "#46039f"
             ],
             [
              0.2222222222222222,
              "#7201a8"
             ],
             [
              0.3333333333333333,
              "#9c179e"
             ],
             [
              0.4444444444444444,
              "#bd3786"
             ],
             [
              0.5555555555555556,
              "#d8576b"
             ],
             [
              0.6666666666666666,
              "#ed7953"
             ],
             [
              0.7777777777777778,
              "#fb9f3a"
             ],
             [
              0.8888888888888888,
              "#fdca26"
             ],
             [
              1,
              "#f0f921"
             ]
            ],
            "type": "histogram2d"
           }
          ],
          "histogram2dcontour": [
           {
            "colorbar": {
             "outlinewidth": 0,
             "ticks": ""
            },
            "colorscale": [
             [
              0,
              "#0d0887"
             ],
             [
              0.1111111111111111,
              "#46039f"
             ],
             [
              0.2222222222222222,
              "#7201a8"
             ],
             [
              0.3333333333333333,
              "#9c179e"
             ],
             [
              0.4444444444444444,
              "#bd3786"
             ],
             [
              0.5555555555555556,
              "#d8576b"
             ],
             [
              0.6666666666666666,
              "#ed7953"
             ],
             [
              0.7777777777777778,
              "#fb9f3a"
             ],
             [
              0.8888888888888888,
              "#fdca26"
             ],
             [
              1,
              "#f0f921"
             ]
            ],
            "type": "histogram2dcontour"
           }
          ],
          "mesh3d": [
           {
            "colorbar": {
             "outlinewidth": 0,
             "ticks": ""
            },
            "type": "mesh3d"
           }
          ],
          "parcoords": [
           {
            "line": {
             "colorbar": {
              "outlinewidth": 0,
              "ticks": ""
             }
            },
            "type": "parcoords"
           }
          ],
          "pie": [
           {
            "automargin": true,
            "type": "pie"
           }
          ],
          "scatter": [
           {
            "fillpattern": {
             "fillmode": "overlay",
             "size": 10,
             "solidity": 0.2
            },
            "type": "scatter"
           }
          ],
          "scatter3d": [
           {
            "line": {
             "colorbar": {
              "outlinewidth": 0,
              "ticks": ""
             }
            },
            "marker": {
             "colorbar": {
              "outlinewidth": 0,
              "ticks": ""
             }
            },
            "type": "scatter3d"
           }
          ],
          "scattercarpet": [
           {
            "marker": {
             "colorbar": {
              "outlinewidth": 0,
              "ticks": ""
             }
            },
            "type": "scattercarpet"
           }
          ],
          "scattergeo": [
           {
            "marker": {
             "colorbar": {
              "outlinewidth": 0,
              "ticks": ""
             }
            },
            "type": "scattergeo"
           }
          ],
          "scattergl": [
           {
            "marker": {
             "colorbar": {
              "outlinewidth": 0,
              "ticks": ""
             }
            },
            "type": "scattergl"
           }
          ],
          "scattermapbox": [
           {
            "marker": {
             "colorbar": {
              "outlinewidth": 0,
              "ticks": ""
             }
            },
            "type": "scattermapbox"
           }
          ],
          "scatterpolar": [
           {
            "marker": {
             "colorbar": {
              "outlinewidth": 0,
              "ticks": ""
             }
            },
            "type": "scatterpolar"
           }
          ],
          "scatterpolargl": [
           {
            "marker": {
             "colorbar": {
              "outlinewidth": 0,
              "ticks": ""
             }
            },
            "type": "scatterpolargl"
           }
          ],
          "scatterternary": [
           {
            "marker": {
             "colorbar": {
              "outlinewidth": 0,
              "ticks": ""
             }
            },
            "type": "scatterternary"
           }
          ],
          "surface": [
           {
            "colorbar": {
             "outlinewidth": 0,
             "ticks": ""
            },
            "colorscale": [
             [
              0,
              "#0d0887"
             ],
             [
              0.1111111111111111,
              "#46039f"
             ],
             [
              0.2222222222222222,
              "#7201a8"
             ],
             [
              0.3333333333333333,
              "#9c179e"
             ],
             [
              0.4444444444444444,
              "#bd3786"
             ],
             [
              0.5555555555555556,
              "#d8576b"
             ],
             [
              0.6666666666666666,
              "#ed7953"
             ],
             [
              0.7777777777777778,
              "#fb9f3a"
             ],
             [
              0.8888888888888888,
              "#fdca26"
             ],
             [
              1,
              "#f0f921"
             ]
            ],
            "type": "surface"
           }
          ],
          "table": [
           {
            "cells": {
             "fill": {
              "color": "#EBF0F8"
             },
             "line": {
              "color": "white"
             }
            },
            "header": {
             "fill": {
              "color": "#C8D4E3"
             },
             "line": {
              "color": "white"
             }
            },
            "type": "table"
           }
          ]
         },
         "layout": {
          "annotationdefaults": {
           "arrowcolor": "#2a3f5f",
           "arrowhead": 0,
           "arrowwidth": 1
          },
          "autotypenumbers": "strict",
          "coloraxis": {
           "colorbar": {
            "outlinewidth": 0,
            "ticks": ""
           }
          },
          "colorscale": {
           "diverging": [
            [
             0,
             "#8e0152"
            ],
            [
             0.1,
             "#c51b7d"
            ],
            [
             0.2,
             "#de77ae"
            ],
            [
             0.3,
             "#f1b6da"
            ],
            [
             0.4,
             "#fde0ef"
            ],
            [
             0.5,
             "#f7f7f7"
            ],
            [
             0.6,
             "#e6f5d0"
            ],
            [
             0.7,
             "#b8e186"
            ],
            [
             0.8,
             "#7fbc41"
            ],
            [
             0.9,
             "#4d9221"
            ],
            [
             1,
             "#276419"
            ]
           ],
           "sequential": [
            [
             0,
             "#0d0887"
            ],
            [
             0.1111111111111111,
             "#46039f"
            ],
            [
             0.2222222222222222,
             "#7201a8"
            ],
            [
             0.3333333333333333,
             "#9c179e"
            ],
            [
             0.4444444444444444,
             "#bd3786"
            ],
            [
             0.5555555555555556,
             "#d8576b"
            ],
            [
             0.6666666666666666,
             "#ed7953"
            ],
            [
             0.7777777777777778,
             "#fb9f3a"
            ],
            [
             0.8888888888888888,
             "#fdca26"
            ],
            [
             1,
             "#f0f921"
            ]
           ],
           "sequentialminus": [
            [
             0,
             "#0d0887"
            ],
            [
             0.1111111111111111,
             "#46039f"
            ],
            [
             0.2222222222222222,
             "#7201a8"
            ],
            [
             0.3333333333333333,
             "#9c179e"
            ],
            [
             0.4444444444444444,
             "#bd3786"
            ],
            [
             0.5555555555555556,
             "#d8576b"
            ],
            [
             0.6666666666666666,
             "#ed7953"
            ],
            [
             0.7777777777777778,
             "#fb9f3a"
            ],
            [
             0.8888888888888888,
             "#fdca26"
            ],
            [
             1,
             "#f0f921"
            ]
           ]
          },
          "colorway": [
           "#636efa",
           "#EF553B",
           "#00cc96",
           "#ab63fa",
           "#FFA15A",
           "#19d3f3",
           "#FF6692",
           "#B6E880",
           "#FF97FF",
           "#FECB52"
          ],
          "font": {
           "color": "#2a3f5f"
          },
          "geo": {
           "bgcolor": "white",
           "lakecolor": "white",
           "landcolor": "#E5ECF6",
           "showlakes": true,
           "showland": true,
           "subunitcolor": "white"
          },
          "hoverlabel": {
           "align": "left"
          },
          "hovermode": "closest",
          "mapbox": {
           "style": "light"
          },
          "paper_bgcolor": "white",
          "plot_bgcolor": "#E5ECF6",
          "polar": {
           "angularaxis": {
            "gridcolor": "white",
            "linecolor": "white",
            "ticks": ""
           },
           "bgcolor": "#E5ECF6",
           "radialaxis": {
            "gridcolor": "white",
            "linecolor": "white",
            "ticks": ""
           }
          },
          "scene": {
           "xaxis": {
            "backgroundcolor": "#E5ECF6",
            "gridcolor": "white",
            "gridwidth": 2,
            "linecolor": "white",
            "showbackground": true,
            "ticks": "",
            "zerolinecolor": "white"
           },
           "yaxis": {
            "backgroundcolor": "#E5ECF6",
            "gridcolor": "white",
            "gridwidth": 2,
            "linecolor": "white",
            "showbackground": true,
            "ticks": "",
            "zerolinecolor": "white"
           },
           "zaxis": {
            "backgroundcolor": "#E5ECF6",
            "gridcolor": "white",
            "gridwidth": 2,
            "linecolor": "white",
            "showbackground": true,
            "ticks": "",
            "zerolinecolor": "white"
           }
          },
          "shapedefaults": {
           "line": {
            "color": "#2a3f5f"
           }
          },
          "ternary": {
           "aaxis": {
            "gridcolor": "white",
            "linecolor": "white",
            "ticks": ""
           },
           "baxis": {
            "gridcolor": "white",
            "linecolor": "white",
            "ticks": ""
           },
           "bgcolor": "#E5ECF6",
           "caxis": {
            "gridcolor": "white",
            "linecolor": "white",
            "ticks": ""
           }
          },
          "title": {
           "x": 0.05
          },
          "xaxis": {
           "automargin": true,
           "gridcolor": "white",
           "linecolor": "white",
           "ticks": "",
           "title": {
            "standoff": 15
           },
           "zerolinecolor": "white",
           "zerolinewidth": 2
          },
          "yaxis": {
           "automargin": true,
           "gridcolor": "white",
           "linecolor": "white",
           "ticks": "",
           "title": {
            "standoff": 15
           },
           "zerolinecolor": "white",
           "zerolinewidth": 2
          }
         }
        },
        "title": {
         "font": {
          "color": "black",
          "size": 24
         },
         "text": "Most Valuable Tournaments per Continent",
         "x": 0.5,
         "y": 0.9
        },
        "xaxis": {
         "autorange": true,
         "gridcolor": "lightgray",
         "showgrid": true,
         "title": {
          "text": "Tourney Prize"
         }
        },
        "yaxis": {
         "autorange": true,
         "gridcolor": "lightgray",
         "showgrid": true,
         "title": {
          "text": "Most Valuable Tourney"
         }
        }
       }
      }
     },
     "metadata": {},
     "output_type": "display_data"
    }
   ],
   "source": [
    "# Define the color palette (Accessible to colorblind people) for each continent\n",
    "color_dict = {'Europe': 'rgb(92, 155, 211)',\n",
    "              'Asia': 'rgb(240, 150, 29)',\n",
    "              'America': 'rgb(238, 66, 102)',\n",
    "              'Africa': 'rgb(34, 66, 124)',\n",
    "              'Oceania': 'rgb(118, 183, 178)'}\n",
    "\n",
    "# Get the highest valued tournament for each continent\n",
    "continent_tournaments = []\n",
    "for continent in tournaments['Continent'].unique():\n",
    "    df_continent = tournaments[tournaments['Continent'] == continent]\n",
    "    highest_valued_tournament = df_continent.sort_values(by='tourney_fin_commit_USD', ascending=False).iloc[0]\n",
    "    continent_tournaments.append((continent, highest_valued_tournament['tourney_fin_commit_USD'], highest_valued_tournament['tourney_name']))\n",
    "\n",
    "# Sort the list of continents in descending order of the tournament prize\n",
    "continent_tournaments = sorted(continent_tournaments, key=lambda x: x[1], reverse=True)\n",
    "\n",
    "# Create an empty plot\n",
    "fig_bar = go.Figure()\n",
    "\n",
    "# Add the traces to the plot with colors and a legend\n",
    "for i, continent in enumerate([x[0] for x in continent_tournaments]):\n",
    "    fig_bar.add_trace(dict(type='bar',\n",
    "                            x=[continent_tournaments[i][1]],\n",
    "                            y=[continent_tournaments[i][2]],\n",
    "                            name=continent,\n",
    "                            orientation='h',\n",
    "                            marker=dict(color=color_dict[continent])))\n",
    "\n",
    "# Update the layout with the title, x-axis scaling, and grid\n",
    "fig_bar.update_layout(dict(title=dict(text='Most Valuable Tournaments per Continent',\n",
    "                                       font=dict(size=24, color='black'),\n",
    "                                       x=0.5, y=0.9),\n",
    "                            plot_bgcolor='white',\n",
    "                            xaxis=dict(showgrid=True,\n",
    "                                       gridcolor='lightgray',\n",
    "                                       title='Tourney Prize',\n",
    "                                       autorange=True),\n",
    "                            yaxis=dict(showgrid=True,\n",
    "                                       gridcolor='lightgray',\n",
    "                                       title='Most Valuable Tourney',\n",
    "                                       autorange=True),\n",
    "                            margin=dict(l=150, r=20, t=100, b=20),\n",
    "                            height=500,\n",
    "                            legend=dict(x=1.02, y=0.95)))\n",
    "\n",
    "fig_bar.show()"
   ]
  },
  {
   "cell_type": "markdown",
   "id": "86d65cf0",
   "metadata": {},
   "source": [
    "# With the following regions: North America, South America, Eastern and Western Europe, Asia, Oceania and Africa"
   ]
  },
  {
   "cell_type": "code",
   "execution_count": 33,
   "id": "87926808",
   "metadata": {},
   "outputs": [],
   "source": [
    "regions_code = {\n",
    "    'Brisbane': 'Oceania',\n",
    "    'Doha': 'Asia',\n",
    "    'Chennai': 'Asia',\n",
    "    'Sydney': 'Oceania',\n",
    "    'Auckland': 'Oceania',\n",
    "    'Johannesburg': 'Africa',\n",
    "    'Santiago': 'South America',\n",
    "    'San Jose': 'North America',\n",
    "    'Costa do Sauipe': 'South America',\n",
    "    'Memphis': 'North America',\n",
    "    'Buenos Aires': 'South America',\n",
    "    'Dubai, United Arab Emirates': 'Asia',\n",
    "    'Acapulco, Mexico': 'North America',\n",
    "    'Delray Beach': 'North America',\n",
    "    'Indian Wells': 'North America',\n",
    "    'Miami': 'North America',\n",
    "    'Houston, United States': 'North America',\n",
    "    'Newport, United States': 'North America',\n",
    "    'Atlanta, United States': 'North America',\n",
    "    'Los Angeles, United States': 'North America',\n",
    "    'Washington, United States': 'North America',\n",
    "    'Toronto, Canada': 'North America',\n",
    "    'Cincinnati, United States': 'North America',\n",
    "    'New Haven': 'North America',\n",
    "    'New York': 'North America',\n",
    "    'Kuala Lumpur': 'Asia',\n",
    "    'Bangkok': 'Asia',\n",
    "    'Beijing, China': 'Asia',\n",
    "    'Tokyo': 'Asia',\n",
    "    'Shanghai, China': 'Asia',\n",
    "    'Moscow, Russia': 'Europe',\n",
    "    'St. Petersburg, Russia': 'Europe',\n",
    "    'London, Great Britain': 'Europe',\n",
    "    'Brisbane, Australia': 'Oceania',\n",
    "    'Doha, Qatar': 'Asia',\n",
    "    'Chennai, India': 'Asia',\n",
    "    'Sydney, Australia': 'Oceania',\n",
    "    'Auckland, New Zealand': 'Oceania',\n",
    "    'Johannesburg, South Africa': 'Africa',\n",
    "    'Santiago, Chile': 'South America',\n",
    "    'San Jose, United States': 'North America',\n",
    "    'Costa do Sauipe, Brazil': 'South America',\n",
    "    'Memphis, United States': 'North America',\n",
    "    'Buenos Aires, Argentina': 'South America',\n",
    "    'Delray Beach, United States': 'North America',\n",
    "    'Indian Wells, United States': 'North America',\n",
    "    'Miami, United States': 'North America',\n",
    "    'Montreal, Canada': 'North America',\n",
    "    'Winston-Salem, United States': 'North America',\n",
    "    'New York, United States': 'North America',\n",
    "    'Kuala Lumpur, Malaysia': 'Asia',\n",
    "    'Bangkok, Thailand': 'Asia',\n",
    "    'Tokyo, Japan': 'Asia',\n",
    "    'Vina del Mar, Chile': 'South America',\n",
    "    'Sao Paulo, Brazil': 'South America',\n",
    "    'Bogota, Colombia': 'South America',\n",
    "    'Rio de Janeiro, Brazil': 'South America',\n",
    "    'New York City, United States': 'North America',\n",
    "    'Shenzhen, China': 'Asia',\n",
    "    'Quito, Ecuador': 'South America',\n",
    "    'Los Cabos, Mexico': 'North America',\n",
    "    'Chengdu, China': 'Asia',\n",
    "    'Milan, Italy': 'Europe',\n",
    "    'Pune, India': 'Asia',\n",
    "    'Cordoba, Argentina': 'South America',\n",
    "    'Zhuhai, China': 'Asia',\n",
    "    'Melbourne': 'Oceania',\n",
    "    'Melbourne, Australia': 'Oceania',\n",
    "    'Africagreb': 'Europe',\n",
    "    'Rotterdam': 'Europe',\n",
    "    'Marseille, France': 'Europe',\n",
    "    'Casablanca': 'Africa',\n",
    "    'Monte Carlo': 'Europa',\n",
    "    'Barcelona': 'Europe',\n",
    "    'Rome': 'Europe',\n",
    "    'Munich': 'Europe',\n",
    "    'Estoril': 'Europe',\n",
    "    'Belgrade': 'Europe',\n",
    "    'Madrid': 'Europe',\n",
    "    'Nice': 'Europe',\n",
    "    'Paris': 'Europe',\n",
    "    'Halle': 'Europe',\n",
    "    'Eastbourne': 'Europe',\n",
    "    's-Hertogenbosch': 'Europe',\n",
    "    'Bastad': 'Europe',\n",
    "    'Stuttgart': 'Europe',\n",
    "    'Hamburg': 'Europe',\n",
    "    'Gstaad': 'Europe',\n",
    "    'Umag': 'Europe',\n",
    "    'Metz': 'Europe',\n",
    "    'Bucharest': 'Europe',\n",
    "    'Stockholm': 'Europe',\n",
    "    'Montpellier': 'Europe',\n",
    "    'Vienna': 'Europe',\n",
    "    'Valencia': 'Europe',\n",
    "    'Basel': 'Europe',\n",
    "    'Zagreb': 'Europe',\n",
    "    'Rotterdam': 'Europe',\n",
    "    'Casablanca': 'Africa',\n",
    "    'Monte Carlo': 'Europe',\n",
    "    'Barcelona': 'Europe',\n",
    "    'Estoril': 'Europe',\n",
    "    'Belgrade': 'Europe',\n",
    "    'Rome': 'Europe',\n",
    "    'Kitzbuhel': 'Europe',\n",
    "    'Metz': 'Europe',\n",
    "    'Bucharest': 'Europe',\n",
    "    'Stockholm': 'Europe',\n",
    "    'Valencia': 'Europe',\n",
    "    'Bastad': 'Europe',\n",
    "    'Kitzbuhel': 'Europe',\n",
    "    'Monte-Carlo': 'Europe',\n",
    "    'Oeiras': 'Europe',\n",
    "    'Dusseldorf': 'Europe',\n",
    "    'Istanbul': 'Asia',\n",
    "    'Geneva': 'Europe',\n",
    "    'Nottingham': 'Europe',\n",
    "    'Sofia': 'Europe',\n",
    "    'Marrakech': 'Africa',\n",
    "    'Antwerp': 'Europe',\n",
    "    'Budapest': 'Europe',\n",
    "    'Lyon': 'Europe',\n",
    "    'Antalya': 'Asia',\n",
    "    'Munich, Germany' : 'Europe',\n",
    "    'Madrid, Spain' : 'Europe',\n",
    "    'Nice, France' : 'Europe',\n",
    "    'Paris, France' : 'Europe',\n",
    "    'Halle, Germany' : 'Europe',\n",
    "    'Eastbourne, Great Britain' : 'Europe',\n",
    "    's-Hertogenbosch, Netherlands' : 'Europe',\n",
    "    'Bastad, Sweden' : 'Europe',\n",
    "    'Stuttgart, Germany' : 'Europe',\n",
    "    'Hamburg, Germany' : 'Europe',\n",
    "    'Gstaad, Switzerland' : 'Europe',\n",
    "    'Umag, Croatia' : 'Europe',\n",
    "    'Montpellier, France' : 'Europe',\n",
    "    'Vienna, Austria' : 'Europe',\n",
    "    'Valencia, Switzerland' : 'Europe',\n",
    "    'Basel, Switzerland' : 'Europe',\n",
    "    'Zagreb, Croatia' : 'Europe',\n",
    "    'Rotterdam, Netherlands' : 'Europe',\n",
    "    'Casablanca, Morocco' : 'Africa',\n",
    "    'Monte Carlo, Monaco' : 'Europe',\n",
    "    'Barcelona, Spain' : 'Europe',\n",
    "    'Estoril, Portugal' : 'Europe',\n",
    "    'Belgrade, Serbia' : 'Europe',\n",
    "    'Rome, Italy' : 'Europe',\n",
    "    'Kitzbhel, Austria' : 'Europe',\n",
    "    'Metz, France' : 'Europe',\n",
    "    'Bucharest, Romania' : 'Europe',\n",
    "    'Stockholm, Sweden' : 'Europe',\n",
    "    'Valencia, Spain' : 'Europe',\n",
    "    'B†stad, Sweden' : 'Europe',\n",
    "    'Kitzbuhel, Austria' : 'Europe',\n",
    "    'Monte-Carlo, Monaco' : 'Europe',\n",
    "    'Oeiras, Portugal' : 'Europe',\n",
    "    'Dusseldorf, Germany' : 'Europe',\n",
    "    'Istanbul, Turkey': 'Europe',\n",
    "    'Geneva, Switzerland': 'Europe',\n",
    "    'Nottingham, Great Britain': 'Europe',\n",
    "    'Sofia, Bulgaria': 'Europe',\n",
    "    'Marrakech, Morocco': 'Africa',\n",
    "    'Antwerp, Belgium': 'Europe',\n",
    "    'Budapest, Hungary': 'Europe',\n",
    "    'Lyon, France': 'Europe',\n",
    "    'Antalya, Turkey': 'Europe'\n",
    "}"
   ]
  },
  {
   "cell_type": "code",
   "execution_count": 34,
   "id": "be65325a",
   "metadata": {},
   "outputs": [],
   "source": [
    "df_tournaments = tournaments_original.copy()"
   ]
  },
  {
   "cell_type": "code",
   "execution_count": 35,
   "id": "47f6f074",
   "metadata": {},
   "outputs": [],
   "source": [
    "# Create a new column called \"Continent\"\n",
    "df_tournaments['Region'] = ''\n",
    "\n",
    "# Loop over the rows of the `df_tournaments` dataframe and map the country names to Continents\n",
    "for i, row in df_tournaments.iterrows():\n",
    "    region_name = row['tourney_location']\n",
    "    if region_name in regions_code:\n",
    "        continent_code = regions_code[region_name]\n",
    "    else:\n",
    "        continent_code = 'Unknown'  # Set the Continent as 'Unknown' if not found in the dictionary\n",
    "    df_tournaments.loc[i, 'Region'] = continent_code"
   ]
  },
  {
   "cell_type": "code",
   "execution_count": 36,
   "id": "b5950954",
   "metadata": {},
   "outputs": [
    {
     "data": {
      "text/plain": [
       "array(['Oceania', 'Asia', 'Africa', 'South America', 'North America',\n",
       "       'Europe'], dtype=object)"
      ]
     },
     "execution_count": 36,
     "metadata": {},
     "output_type": "execute_result"
    }
   ],
   "source": [
    "df_tournaments[\"Region\"].unique()"
   ]
  },
  {
   "cell_type": "code",
   "execution_count": 2,
   "id": "80717891",
   "metadata": {},
   "outputs": [],
   "source": [
    "df_tournaments = pd.read_csv('tournaments_preparation.csv', index_col = 0)\n",
    "df_tournaments_filtered = df_tournaments[df_tournaments['year'] == 2012]"
   ]
  },
  {
   "cell_type": "code",
   "execution_count": 4,
   "id": "3db3d2a6",
   "metadata": {},
   "outputs": [
    {
     "ename": "ValueError",
     "evalue": "Invalid property specified for object of type plotly.graph_objs.Bar: 'color'\n\nDid you mean \"base\"?\n\n    Valid properties:\n        alignmentgroup\n            Set several traces linked to the same position axis or\n            matching axes to the same alignmentgroup. This controls\n            whether bars compute their positional range dependently\n            or independently.\n        base\n            Sets where the bar base is drawn (in position axis\n            units). In \"stack\" or \"relative\" barmode, traces that\n            set \"base\" will be excluded and drawn in \"overlay\" mode\n            instead.\n        basesrc\n            Sets the source reference on Chart Studio Cloud for\n            `base`.\n        cliponaxis\n            Determines whether the text nodes are clipped about the\n            subplot axes. To show the text nodes above axis lines\n            and tick labels, make sure to set `xaxis.layer` and\n            `yaxis.layer` to *below traces*.\n        constraintext\n            Constrain the size of text inside or outside a bar to\n            be no larger than the bar itself.\n        customdata\n            Assigns extra data each datum. This may be useful when\n            listening to hover, click and selection events. Note\n            that, \"scatter\" traces also appends customdata items in\n            the markers DOM elements\n        customdatasrc\n            Sets the source reference on Chart Studio Cloud for\n            `customdata`.\n        dx\n            Sets the x coordinate step. See `x0` for more info.\n        dy\n            Sets the y coordinate step. See `y0` for more info.\n        error_x\n            :class:`plotly.graph_objects.bar.ErrorX` instance or\n            dict with compatible properties\n        error_y\n            :class:`plotly.graph_objects.bar.ErrorY` instance or\n            dict with compatible properties\n        hoverinfo\n            Determines which trace information appear on hover. If\n            `none` or `skip` are set, no information is displayed\n            upon hovering. But, if `none` is set, click and hover\n            events are still fired.\n        hoverinfosrc\n            Sets the source reference on Chart Studio Cloud for\n            `hoverinfo`.\n        hoverlabel\n            :class:`plotly.graph_objects.bar.Hoverlabel` instance\n            or dict with compatible properties\n        hovertemplate\n            Template string used for rendering the information that\n            appear on hover box. Note that this will override\n            `hoverinfo`. Variables are inserted using %{variable},\n            for example \"y: %{y}\" as well as %{xother}, {%_xother},\n            {%_xother_}, {%xother_}. When showing info for several\n            points, \"xother\" will be added to those with different\n            x positions from the first point. An underscore before\n            or after \"(x|y)other\" will add a space on that side,\n            only when this field is shown. Numbers are formatted\n            using d3-format's syntax %{variable:d3-format}, for\n            example \"Price: %{y:$.2f}\".\n            https://github.com/d3/d3-format/tree/v1.4.5#d3-format\n            for details on the formatting syntax. Dates are\n            formatted using d3-time-format's syntax\n            %{variable|d3-time-format}, for example \"Day:\n            %{2019-01-01|%A}\". https://github.com/d3/d3-time-\n            format/tree/v2.2.3#locale_format for details on the\n            date formatting syntax. The variables available in\n            `hovertemplate` are the ones emitted as event data\n            described at this link\n            https://plotly.com/javascript/plotlyjs-events/#event-\n            data. Additionally, every attributes that can be\n            specified per-point (the ones that are `arrayOk: true`)\n            are available. variables `value` and `label`. Anything\n            contained in tag `<extra>` is displayed in the\n            secondary box, for example\n            \"<extra>{fullData.name}</extra>\". To hide the secondary\n            box completely, use an empty tag `<extra></extra>`.\n        hovertemplatesrc\n            Sets the source reference on Chart Studio Cloud for\n            `hovertemplate`.\n        hovertext\n            Sets hover text elements associated with each (x,y)\n            pair. If a single string, the same string appears over\n            all the data points. If an array of string, the items\n            are mapped in order to the this trace's (x,y)\n            coordinates. To be seen, trace `hoverinfo` must contain\n            a \"text\" flag.\n        hovertextsrc\n            Sets the source reference on Chart Studio Cloud for\n            `hovertext`.\n        ids\n            Assigns id labels to each datum. These ids for object\n            constancy of data points during animation. Should be an\n            array of strings, not numbers or any other type.\n        idssrc\n            Sets the source reference on Chart Studio Cloud for\n            `ids`.\n        insidetextanchor\n            Determines if texts are kept at center or start/end\n            points in `textposition` \"inside\" mode.\n        insidetextfont\n            Sets the font used for `text` lying inside the bar.\n        legendgroup\n            Sets the legend group for this trace. Traces part of\n            the same legend group hide/show at the same time when\n            toggling legend items.\n        legendgrouptitle\n            :class:`plotly.graph_objects.bar.Legendgrouptitle`\n            instance or dict with compatible properties\n        legendrank\n            Sets the legend rank for this trace. Items and groups\n            with smaller ranks are presented on top/left side while\n            with `*reversed* `legend.traceorder` they are on\n            bottom/right side. The default legendrank is 1000, so\n            that you can use ranks less than 1000 to place certain\n            items before all unranked items, and ranks greater than\n            1000 to go after all unranked items.\n        marker\n            :class:`plotly.graph_objects.bar.Marker` instance or\n            dict with compatible properties\n        meta\n            Assigns extra meta information associated with this\n            trace that can be used in various text attributes.\n            Attributes such as trace `name`, graph, axis and\n            colorbar `title.text`, annotation `text`\n            `rangeselector`, `updatemenues` and `sliders` `label`\n            text all support `meta`. To access the trace `meta`\n            values in an attribute in the same trace, simply use\n            `%{meta[i]}` where `i` is the index or key of the\n            `meta` item in question. To access trace `meta` in\n            layout attributes, use `%{data[n[.meta[i]}` where `i`\n            is the index or key of the `meta` and `n` is the trace\n            index.\n        metasrc\n            Sets the source reference on Chart Studio Cloud for\n            `meta`.\n        name\n            Sets the trace name. The trace name appear as the\n            legend item and on hover.\n        offset\n            Shifts the position where the bar is drawn (in position\n            axis units). In \"group\" barmode, traces that set\n            \"offset\" will be excluded and drawn in \"overlay\" mode\n            instead.\n        offsetgroup\n            Set several traces linked to the same position axis or\n            matching axes to the same offsetgroup where bars of the\n            same position coordinate will line up.\n        offsetsrc\n            Sets the source reference on Chart Studio Cloud for\n            `offset`.\n        opacity\n            Sets the opacity of the trace.\n        orientation\n            Sets the orientation of the bars. With \"v\" (\"h\"), the\n            value of the each bar spans along the vertical\n            (horizontal).\n        outsidetextfont\n            Sets the font used for `text` lying outside the bar.\n        selected\n            :class:`plotly.graph_objects.bar.Selected` instance or\n            dict with compatible properties\n        selectedpoints\n            Array containing integer indices of selected points.\n            Has an effect only for traces that support selections.\n            Note that an empty array means an empty selection where\n            the `unselected` are turned on for all points, whereas,\n            any other non-array values means no selection all where\n            the `selected` and `unselected` styles have no effect.\n        showlegend\n            Determines whether or not an item corresponding to this\n            trace is shown in the legend.\n        stream\n            :class:`plotly.graph_objects.bar.Stream` instance or\n            dict with compatible properties\n        text\n            Sets text elements associated with each (x,y) pair. If\n            a single string, the same string appears over all the\n            data points. If an array of string, the items are\n            mapped in order to the this trace's (x,y) coordinates.\n            If trace `hoverinfo` contains a \"text\" flag and\n            \"hovertext\" is not set, these elements will be seen in\n            the hover labels.\n        textangle\n            Sets the angle of the tick labels with respect to the\n            bar. For example, a `tickangle` of -90 draws the tick\n            labels vertically. With \"auto\" the texts may\n            automatically be rotated to fit with the maximum size\n            in bars.\n        textfont\n            Sets the font used for `text`.\n        textposition\n            Specifies the location of the `text`. \"inside\"\n            positions `text` inside, next to the bar end (rotated\n            and scaled if needed). \"outside\" positions `text`\n            outside, next to the bar end (scaled if needed), unless\n            there is another bar stacked on this one, then the text\n            gets pushed inside. \"auto\" tries to position `text`\n            inside the bar, but if the bar is too small and no bar\n            is stacked on this one the text is moved outside. If\n            \"none\", no text appears.\n        textpositionsrc\n            Sets the source reference on Chart Studio Cloud for\n            `textposition`.\n        textsrc\n            Sets the source reference on Chart Studio Cloud for\n            `text`.\n        texttemplate\n            Template string used for rendering the information text\n            that appear on points. Note that this will override\n            `textinfo`. Variables are inserted using %{variable},\n            for example \"y: %{y}\". Numbers are formatted using\n            d3-format's syntax %{variable:d3-format}, for example\n            \"Price: %{y:$.2f}\".\n            https://github.com/d3/d3-format/tree/v1.4.5#d3-format\n            for details on the formatting syntax. Dates are\n            formatted using d3-time-format's syntax\n            %{variable|d3-time-format}, for example \"Day:\n            %{2019-01-01|%A}\". https://github.com/d3/d3-time-\n            format/tree/v2.2.3#locale_format for details on the\n            date formatting syntax. Every attributes that can be\n            specified per-point (the ones that are `arrayOk: true`)\n            are available. variables `value` and `label`.\n        texttemplatesrc\n            Sets the source reference on Chart Studio Cloud for\n            `texttemplate`.\n        uid\n            Assign an id to this trace, Use this to provide object\n            constancy between traces during animations and\n            transitions.\n        uirevision\n            Controls persistence of some user-driven changes to the\n            trace: `constraintrange` in `parcoords` traces, as well\n            as some `editable: true` modifications such as `name`\n            and `colorbar.title`. Defaults to `layout.uirevision`.\n            Note that other user-driven trace attribute changes are\n            controlled by `layout` attributes: `trace.visible` is\n            controlled by `layout.legend.uirevision`,\n            `selectedpoints` is controlled by\n            `layout.selectionrevision`, and `colorbar.(x|y)`\n            (accessible with `config: {editable: true}`) is\n            controlled by `layout.editrevision`. Trace changes are\n            tracked by `uid`, which only falls back on trace index\n            if no `uid` is provided. So if your app can add/remove\n            traces before the end of the `data` array, such that\n            the same trace has a different index, you can still\n            preserve user-driven changes if you give each trace a\n            `uid` that stays with it as it moves.\n        unselected\n            :class:`plotly.graph_objects.bar.Unselected` instance\n            or dict with compatible properties\n        visible\n            Determines whether or not this trace is visible. If\n            \"legendonly\", the trace is not drawn, but can appear as\n            a legend item (provided that the legend itself is\n            visible).\n        width\n            Sets the bar width (in position axis units).\n        widthsrc\n            Sets the source reference on Chart Studio Cloud for\n            `width`.\n        x\n            Sets the x coordinates.\n        x0\n            Alternate to `x`. Builds a linear space of x\n            coordinates. Use with `dx` where `x0` is the starting\n            coordinate and `dx` the step.\n        xaxis\n            Sets a reference between this trace's x coordinates and\n            a 2D cartesian x axis. If \"x\" (the default value), the\n            x coordinates refer to `layout.xaxis`. If \"x2\", the x\n            coordinates refer to `layout.xaxis2`, and so on.\n        xcalendar\n            Sets the calendar system to use with `x` date data.\n        xhoverformat\n            Sets the hover text formatting rulefor `x`  using d3\n            formatting mini-languages which are very similar to\n            those in Python. For numbers, see:\n            https://github.com/d3/d3-format/tree/v1.4.5#d3-format.\n            And for dates see: https://github.com/d3/d3-time-\n            format/tree/v2.2.3#locale_format. We add two items to\n            d3's date formatter: \"%h\" for half of the year as a\n            decimal number as well as \"%{n}f\" for fractional\n            seconds with n digits. For example, *2016-10-13\n            09:15:23.456* with tickformat \"%H~%M~%S.%2f\" would\n            display *09~15~23.46*By default the values are\n            formatted using `xaxis.hoverformat`.\n        xperiod\n            Only relevant when the axis `type` is \"date\". Sets the\n            period positioning in milliseconds or \"M<n>\" on the x\n            axis. Special values in the form of \"M<n>\" could be\n            used to declare the number of months. In this case `n`\n            must be a positive integer.\n        xperiod0\n            Only relevant when the axis `type` is \"date\". Sets the\n            base for period positioning in milliseconds or date\n            string on the x0 axis. When `x0period` is round number\n            of weeks, the `x0period0` by default would be on a\n            Sunday i.e. 2000-01-02, otherwise it would be at\n            2000-01-01.\n        xperiodalignment\n            Only relevant when the axis `type` is \"date\". Sets the\n            alignment of data points on the x axis.\n        xsrc\n            Sets the source reference on Chart Studio Cloud for\n            `x`.\n        y\n            Sets the y coordinates.\n        y0\n            Alternate to `y`. Builds a linear space of y\n            coordinates. Use with `dy` where `y0` is the starting\n            coordinate and `dy` the step.\n        yaxis\n            Sets a reference between this trace's y coordinates and\n            a 2D cartesian y axis. If \"y\" (the default value), the\n            y coordinates refer to `layout.yaxis`. If \"y2\", the y\n            coordinates refer to `layout.yaxis2`, and so on.\n        ycalendar\n            Sets the calendar system to use with `y` date data.\n        yhoverformat\n            Sets the hover text formatting rulefor `y`  using d3\n            formatting mini-languages which are very similar to\n            those in Python. For numbers, see:\n            https://github.com/d3/d3-format/tree/v1.4.5#d3-format.\n            And for dates see: https://github.com/d3/d3-time-\n            format/tree/v2.2.3#locale_format. We add two items to\n            d3's date formatter: \"%h\" for half of the year as a\n            decimal number as well as \"%{n}f\" for fractional\n            seconds with n digits. For example, *2016-10-13\n            09:15:23.456* with tickformat \"%H~%M~%S.%2f\" would\n            display *09~15~23.46*By default the values are\n            formatted using `yaxis.hoverformat`.\n        yperiod\n            Only relevant when the axis `type` is \"date\". Sets the\n            period positioning in milliseconds or \"M<n>\" on the y\n            axis. Special values in the form of \"M<n>\" could be\n            used to declare the number of months. In this case `n`\n            must be a positive integer.\n        yperiod0\n            Only relevant when the axis `type` is \"date\". Sets the\n            base for period positioning in milliseconds or date\n            string on the y0 axis. When `y0period` is round number\n            of weeks, the `y0period0` by default would be on a\n            Sunday i.e. 2000-01-02, otherwise it would be at\n            2000-01-01.\n        yperiodalignment\n            Only relevant when the axis `type` is \"date\". Sets the\n            alignment of data points on the y axis.\n        ysrc\n            Sets the source reference on Chart Studio Cloud for\n            `y`.\n        \nDid you mean \"base\"?\n\nBad property path:\ncolor\n^^^^^",
     "output_type": "error",
     "traceback": [
      "\u001b[1;31m---------------------------------------------------------------------------\u001b[0m",
      "\u001b[1;31mValueError\u001b[0m                                Traceback (most recent call last)",
      "Cell \u001b[1;32mIn[4], line 18\u001b[0m\n\u001b[0;32m      8\u001b[0m                      \u001b[39m# marker_color='grey')\u001b[39;00m\n\u001b[0;32m     10\u001b[0m layout_bar_plot \u001b[39m=\u001b[39m \u001b[39mdict\u001b[39m(title\u001b[39m=\u001b[39m\u001b[39mdict\u001b[39m(text\u001b[39m=\u001b[39m\u001b[39m'\u001b[39m\u001b[39mMost valuable tournaments\u001b[39m\u001b[39m'\u001b[39m,\n\u001b[0;32m     11\u001b[0m                                   font\u001b[39m=\u001b[39m\u001b[39mdict\u001b[39m(size\u001b[39m=\u001b[39m\u001b[39m24\u001b[39m),\n\u001b[0;32m     12\u001b[0m                                   x\u001b[39m=\u001b[39m\u001b[39m0.5\u001b[39m, y\u001b[39m=\u001b[39m\u001b[39m0.9\u001b[39m),\n\u001b[1;32m   (...)\u001b[0m\n\u001b[0;32m     15\u001b[0m                        paper_bgcolor\u001b[39m=\u001b[39m\u001b[39m'\u001b[39m\u001b[39mrgba(0,0,0,0)\u001b[39m\u001b[39m'\u001b[39m,\n\u001b[0;32m     16\u001b[0m                        plot_bgcolor\u001b[39m=\u001b[39m\u001b[39m'\u001b[39m\u001b[39mrgba(0,0,0,0)\u001b[39m\u001b[39m'\u001b[39m)\n\u001b[1;32m---> 18\u001b[0m fig_bar \u001b[39m=\u001b[39m go\u001b[39m.\u001b[39;49mFigure(data\u001b[39m=\u001b[39;49mdata_bar_plot, layout\u001b[39m=\u001b[39;49mlayout_bar_plot)\n\u001b[0;32m     19\u001b[0m fig_bar\u001b[39m.\u001b[39mshow()\n",
      "File \u001b[1;32mc:\\Users\\beatr\\anaconda3\\envs\\DataVisualization\\Lib\\site-packages\\plotly\\graph_objs\\_figure.py:594\u001b[0m, in \u001b[0;36mFigure.__init__\u001b[1;34m(self, data, layout, frames, skip_invalid, **kwargs)\u001b[0m\n\u001b[0;32m      5\u001b[0m \u001b[39mdef\u001b[39;00m \u001b[39m__init__\u001b[39m(\n\u001b[0;32m      6\u001b[0m     \u001b[39mself\u001b[39m, data\u001b[39m=\u001b[39m\u001b[39mNone\u001b[39;00m, layout\u001b[39m=\u001b[39m\u001b[39mNone\u001b[39;00m, frames\u001b[39m=\u001b[39m\u001b[39mNone\u001b[39;00m, skip_invalid\u001b[39m=\u001b[39m\u001b[39mFalse\u001b[39;00m, \u001b[39m*\u001b[39m\u001b[39m*\u001b[39mkwargs\n\u001b[0;32m      7\u001b[0m ):\n\u001b[0;32m      8\u001b[0m \u001b[39m    \u001b[39m\u001b[39m\"\"\"\u001b[39;00m\n\u001b[0;32m      9\u001b[0m \u001b[39m    Create a new :class:Figure instance\u001b[39;00m\n\u001b[0;32m     10\u001b[0m \n\u001b[1;32m   (...)\u001b[0m\n\u001b[0;32m    592\u001b[0m \u001b[39m        is invalid AND skip_invalid is False\u001b[39;00m\n\u001b[0;32m    593\u001b[0m \u001b[39m    \"\"\"\u001b[39;00m\n\u001b[1;32m--> 594\u001b[0m     \u001b[39msuper\u001b[39;49m(Figure, \u001b[39mself\u001b[39;49m)\u001b[39m.\u001b[39;49m\u001b[39m__init__\u001b[39;49m(data, layout, frames, skip_invalid, \u001b[39m*\u001b[39;49m\u001b[39m*\u001b[39;49mkwargs)\n",
      "File \u001b[1;32mc:\\Users\\beatr\\anaconda3\\envs\\DataVisualization\\Lib\\site-packages\\plotly\\basedatatypes.py:514\u001b[0m, in \u001b[0;36mBaseFigure.__init__\u001b[1;34m(self, data, layout_plotly, frames, skip_invalid, **kwargs)\u001b[0m\n\u001b[0;32m    511\u001b[0m \u001b[39mself\u001b[39m\u001b[39m.\u001b[39m_data_validator \u001b[39m=\u001b[39m DataValidator(set_uid\u001b[39m=\u001b[39m\u001b[39mself\u001b[39m\u001b[39m.\u001b[39m_set_trace_uid)\n\u001b[0;32m    513\u001b[0m \u001b[39m# ### Import traces ###\u001b[39;00m\n\u001b[1;32m--> 514\u001b[0m data \u001b[39m=\u001b[39m \u001b[39mself\u001b[39;49m\u001b[39m.\u001b[39;49m_data_validator\u001b[39m.\u001b[39;49mvalidate_coerce(\n\u001b[0;32m    515\u001b[0m     data, skip_invalid\u001b[39m=\u001b[39;49mskip_invalid, _validate\u001b[39m=\u001b[39;49m\u001b[39mself\u001b[39;49m\u001b[39m.\u001b[39;49m_validate\n\u001b[0;32m    516\u001b[0m )\n\u001b[0;32m    518\u001b[0m \u001b[39m# ### Save tuple of trace objects ###\u001b[39;00m\n\u001b[0;32m    519\u001b[0m \u001b[39mself\u001b[39m\u001b[39m.\u001b[39m_data_objs \u001b[39m=\u001b[39m data\n",
      "File \u001b[1;32mc:\\Users\\beatr\\anaconda3\\envs\\DataVisualization\\Lib\\site-packages\\_plotly_utils\\basevalidators.py:2668\u001b[0m, in \u001b[0;36mBaseDataValidator.validate_coerce\u001b[1;34m(self, v, skip_invalid, _validate)\u001b[0m\n\u001b[0;32m   2666\u001b[0m             invalid_els\u001b[39m.\u001b[39mappend(v_el)\n\u001b[0;32m   2667\u001b[0m     \u001b[39melse\u001b[39;00m:\n\u001b[1;32m-> 2668\u001b[0m         trace \u001b[39m=\u001b[39m \u001b[39mself\u001b[39;49m\u001b[39m.\u001b[39;49mget_trace_class(trace_type)(\n\u001b[0;32m   2669\u001b[0m             skip_invalid\u001b[39m=\u001b[39;49mskip_invalid, _validate\u001b[39m=\u001b[39;49m_validate, \u001b[39m*\u001b[39;49m\u001b[39m*\u001b[39;49mv_copy\n\u001b[0;32m   2670\u001b[0m         )\n\u001b[0;32m   2671\u001b[0m         res\u001b[39m.\u001b[39mappend(trace)\n\u001b[0;32m   2672\u001b[0m \u001b[39melse\u001b[39;00m:\n",
      "File \u001b[1;32mc:\\Users\\beatr\\anaconda3\\envs\\DataVisualization\\Lib\\site-packages\\plotly\\graph_objs\\_bar.py:3252\u001b[0m, in \u001b[0;36mBar.__init__\u001b[1;34m(self, arg, alignmentgroup, base, basesrc, cliponaxis, constraintext, customdata, customdatasrc, dx, dy, error_x, error_y, hoverinfo, hoverinfosrc, hoverlabel, hovertemplate, hovertemplatesrc, hovertext, hovertextsrc, ids, idssrc, insidetextanchor, insidetextfont, legendgroup, legendgrouptitle, legendrank, marker, meta, metasrc, name, offset, offsetgroup, offsetsrc, opacity, orientation, outsidetextfont, selected, selectedpoints, showlegend, stream, text, textangle, textfont, textposition, textpositionsrc, textsrc, texttemplate, texttemplatesrc, uid, uirevision, unselected, visible, width, widthsrc, x, x0, xaxis, xcalendar, xhoverformat, xperiod, xperiod0, xperiodalignment, xsrc, y, y0, yaxis, ycalendar, yhoverformat, yperiod, yperiod0, yperiodalignment, ysrc, **kwargs)\u001b[0m\n\u001b[0;32m   3248\u001b[0m arg\u001b[39m.\u001b[39mpop(\u001b[39m\"\u001b[39m\u001b[39mtype\u001b[39m\u001b[39m\"\u001b[39m, \u001b[39mNone\u001b[39;00m)\n\u001b[0;32m   3250\u001b[0m \u001b[39m# Process unknown kwargs\u001b[39;00m\n\u001b[0;32m   3251\u001b[0m \u001b[39m# ----------------------\u001b[39;00m\n\u001b[1;32m-> 3252\u001b[0m \u001b[39mself\u001b[39;49m\u001b[39m.\u001b[39;49m_process_kwargs(\u001b[39m*\u001b[39;49m\u001b[39m*\u001b[39;49m\u001b[39mdict\u001b[39;49m(arg, \u001b[39m*\u001b[39;49m\u001b[39m*\u001b[39;49mkwargs))\n\u001b[0;32m   3254\u001b[0m \u001b[39m# Reset skip_invalid\u001b[39;00m\n\u001b[0;32m   3255\u001b[0m \u001b[39m# ------------------\u001b[39;00m\n\u001b[0;32m   3256\u001b[0m \u001b[39mself\u001b[39m\u001b[39m.\u001b[39m_skip_invalid \u001b[39m=\u001b[39m \u001b[39mFalse\u001b[39;00m\n",
      "File \u001b[1;32mc:\\Users\\beatr\\anaconda3\\envs\\DataVisualization\\Lib\\site-packages\\plotly\\basedatatypes.py:4377\u001b[0m, in \u001b[0;36mBasePlotlyType._process_kwargs\u001b[1;34m(self, **kwargs)\u001b[0m\n\u001b[0;32m   4375\u001b[0m     \u001b[39mself\u001b[39m[k] \u001b[39m=\u001b[39m v\n\u001b[0;32m   4376\u001b[0m \u001b[39melif\u001b[39;00m \u001b[39mnot\u001b[39;00m \u001b[39mself\u001b[39m\u001b[39m.\u001b[39m_skip_invalid:\n\u001b[1;32m-> 4377\u001b[0m     \u001b[39mraise\u001b[39;00m err\n",
      "\u001b[1;31mValueError\u001b[0m: Invalid property specified for object of type plotly.graph_objs.Bar: 'color'\n\nDid you mean \"base\"?\n\n    Valid properties:\n        alignmentgroup\n            Set several traces linked to the same position axis or\n            matching axes to the same alignmentgroup. This controls\n            whether bars compute their positional range dependently\n            or independently.\n        base\n            Sets where the bar base is drawn (in position axis\n            units). In \"stack\" or \"relative\" barmode, traces that\n            set \"base\" will be excluded and drawn in \"overlay\" mode\n            instead.\n        basesrc\n            Sets the source reference on Chart Studio Cloud for\n            `base`.\n        cliponaxis\n            Determines whether the text nodes are clipped about the\n            subplot axes. To show the text nodes above axis lines\n            and tick labels, make sure to set `xaxis.layer` and\n            `yaxis.layer` to *below traces*.\n        constraintext\n            Constrain the size of text inside or outside a bar to\n            be no larger than the bar itself.\n        customdata\n            Assigns extra data each datum. This may be useful when\n            listening to hover, click and selection events. Note\n            that, \"scatter\" traces also appends customdata items in\n            the markers DOM elements\n        customdatasrc\n            Sets the source reference on Chart Studio Cloud for\n            `customdata`.\n        dx\n            Sets the x coordinate step. See `x0` for more info.\n        dy\n            Sets the y coordinate step. See `y0` for more info.\n        error_x\n            :class:`plotly.graph_objects.bar.ErrorX` instance or\n            dict with compatible properties\n        error_y\n            :class:`plotly.graph_objects.bar.ErrorY` instance or\n            dict with compatible properties\n        hoverinfo\n            Determines which trace information appear on hover. If\n            `none` or `skip` are set, no information is displayed\n            upon hovering. But, if `none` is set, click and hover\n            events are still fired.\n        hoverinfosrc\n            Sets the source reference on Chart Studio Cloud for\n            `hoverinfo`.\n        hoverlabel\n            :class:`plotly.graph_objects.bar.Hoverlabel` instance\n            or dict with compatible properties\n        hovertemplate\n            Template string used for rendering the information that\n            appear on hover box. Note that this will override\n            `hoverinfo`. Variables are inserted using %{variable},\n            for example \"y: %{y}\" as well as %{xother}, {%_xother},\n            {%_xother_}, {%xother_}. When showing info for several\n            points, \"xother\" will be added to those with different\n            x positions from the first point. An underscore before\n            or after \"(x|y)other\" will add a space on that side,\n            only when this field is shown. Numbers are formatted\n            using d3-format's syntax %{variable:d3-format}, for\n            example \"Price: %{y:$.2f}\".\n            https://github.com/d3/d3-format/tree/v1.4.5#d3-format\n            for details on the formatting syntax. Dates are\n            formatted using d3-time-format's syntax\n            %{variable|d3-time-format}, for example \"Day:\n            %{2019-01-01|%A}\". https://github.com/d3/d3-time-\n            format/tree/v2.2.3#locale_format for details on the\n            date formatting syntax. The variables available in\n            `hovertemplate` are the ones emitted as event data\n            described at this link\n            https://plotly.com/javascript/plotlyjs-events/#event-\n            data. Additionally, every attributes that can be\n            specified per-point (the ones that are `arrayOk: true`)\n            are available. variables `value` and `label`. Anything\n            contained in tag `<extra>` is displayed in the\n            secondary box, for example\n            \"<extra>{fullData.name}</extra>\". To hide the secondary\n            box completely, use an empty tag `<extra></extra>`.\n        hovertemplatesrc\n            Sets the source reference on Chart Studio Cloud for\n            `hovertemplate`.\n        hovertext\n            Sets hover text elements associated with each (x,y)\n            pair. If a single string, the same string appears over\n            all the data points. If an array of string, the items\n            are mapped in order to the this trace's (x,y)\n            coordinates. To be seen, trace `hoverinfo` must contain\n            a \"text\" flag.\n        hovertextsrc\n            Sets the source reference on Chart Studio Cloud for\n            `hovertext`.\n        ids\n            Assigns id labels to each datum. These ids for object\n            constancy of data points during animation. Should be an\n            array of strings, not numbers or any other type.\n        idssrc\n            Sets the source reference on Chart Studio Cloud for\n            `ids`.\n        insidetextanchor\n            Determines if texts are kept at center or start/end\n            points in `textposition` \"inside\" mode.\n        insidetextfont\n            Sets the font used for `text` lying inside the bar.\n        legendgroup\n            Sets the legend group for this trace. Traces part of\n            the same legend group hide/show at the same time when\n            toggling legend items.\n        legendgrouptitle\n            :class:`plotly.graph_objects.bar.Legendgrouptitle`\n            instance or dict with compatible properties\n        legendrank\n            Sets the legend rank for this trace. Items and groups\n            with smaller ranks are presented on top/left side while\n            with `*reversed* `legend.traceorder` they are on\n            bottom/right side. The default legendrank is 1000, so\n            that you can use ranks less than 1000 to place certain\n            items before all unranked items, and ranks greater than\n            1000 to go after all unranked items.\n        marker\n            :class:`plotly.graph_objects.bar.Marker` instance or\n            dict with compatible properties\n        meta\n            Assigns extra meta information associated with this\n            trace that can be used in various text attributes.\n            Attributes such as trace `name`, graph, axis and\n            colorbar `title.text`, annotation `text`\n            `rangeselector`, `updatemenues` and `sliders` `label`\n            text all support `meta`. To access the trace `meta`\n            values in an attribute in the same trace, simply use\n            `%{meta[i]}` where `i` is the index or key of the\n            `meta` item in question. To access trace `meta` in\n            layout attributes, use `%{data[n[.meta[i]}` where `i`\n            is the index or key of the `meta` and `n` is the trace\n            index.\n        metasrc\n            Sets the source reference on Chart Studio Cloud for\n            `meta`.\n        name\n            Sets the trace name. The trace name appear as the\n            legend item and on hover.\n        offset\n            Shifts the position where the bar is drawn (in position\n            axis units). In \"group\" barmode, traces that set\n            \"offset\" will be excluded and drawn in \"overlay\" mode\n            instead.\n        offsetgroup\n            Set several traces linked to the same position axis or\n            matching axes to the same offsetgroup where bars of the\n            same position coordinate will line up.\n        offsetsrc\n            Sets the source reference on Chart Studio Cloud for\n            `offset`.\n        opacity\n            Sets the opacity of the trace.\n        orientation\n            Sets the orientation of the bars. With \"v\" (\"h\"), the\n            value of the each bar spans along the vertical\n            (horizontal).\n        outsidetextfont\n            Sets the font used for `text` lying outside the bar.\n        selected\n            :class:`plotly.graph_objects.bar.Selected` instance or\n            dict with compatible properties\n        selectedpoints\n            Array containing integer indices of selected points.\n            Has an effect only for traces that support selections.\n            Note that an empty array means an empty selection where\n            the `unselected` are turned on for all points, whereas,\n            any other non-array values means no selection all where\n            the `selected` and `unselected` styles have no effect.\n        showlegend\n            Determines whether or not an item corresponding to this\n            trace is shown in the legend.\n        stream\n            :class:`plotly.graph_objects.bar.Stream` instance or\n            dict with compatible properties\n        text\n            Sets text elements associated with each (x,y) pair. If\n            a single string, the same string appears over all the\n            data points. If an array of string, the items are\n            mapped in order to the this trace's (x,y) coordinates.\n            If trace `hoverinfo` contains a \"text\" flag and\n            \"hovertext\" is not set, these elements will be seen in\n            the hover labels.\n        textangle\n            Sets the angle of the tick labels with respect to the\n            bar. For example, a `tickangle` of -90 draws the tick\n            labels vertically. With \"auto\" the texts may\n            automatically be rotated to fit with the maximum size\n            in bars.\n        textfont\n            Sets the font used for `text`.\n        textposition\n            Specifies the location of the `text`. \"inside\"\n            positions `text` inside, next to the bar end (rotated\n            and scaled if needed). \"outside\" positions `text`\n            outside, next to the bar end (scaled if needed), unless\n            there is another bar stacked on this one, then the text\n            gets pushed inside. \"auto\" tries to position `text`\n            inside the bar, but if the bar is too small and no bar\n            is stacked on this one the text is moved outside. If\n            \"none\", no text appears.\n        textpositionsrc\n            Sets the source reference on Chart Studio Cloud for\n            `textposition`.\n        textsrc\n            Sets the source reference on Chart Studio Cloud for\n            `text`.\n        texttemplate\n            Template string used for rendering the information text\n            that appear on points. Note that this will override\n            `textinfo`. Variables are inserted using %{variable},\n            for example \"y: %{y}\". Numbers are formatted using\n            d3-format's syntax %{variable:d3-format}, for example\n            \"Price: %{y:$.2f}\".\n            https://github.com/d3/d3-format/tree/v1.4.5#d3-format\n            for details on the formatting syntax. Dates are\n            formatted using d3-time-format's syntax\n            %{variable|d3-time-format}, for example \"Day:\n            %{2019-01-01|%A}\". https://github.com/d3/d3-time-\n            format/tree/v2.2.3#locale_format for details on the\n            date formatting syntax. Every attributes that can be\n            specified per-point (the ones that are `arrayOk: true`)\n            are available. variables `value` and `label`.\n        texttemplatesrc\n            Sets the source reference on Chart Studio Cloud for\n            `texttemplate`.\n        uid\n            Assign an id to this trace, Use this to provide object\n            constancy between traces during animations and\n            transitions.\n        uirevision\n            Controls persistence of some user-driven changes to the\n            trace: `constraintrange` in `parcoords` traces, as well\n            as some `editable: true` modifications such as `name`\n            and `colorbar.title`. Defaults to `layout.uirevision`.\n            Note that other user-driven trace attribute changes are\n            controlled by `layout` attributes: `trace.visible` is\n            controlled by `layout.legend.uirevision`,\n            `selectedpoints` is controlled by\n            `layout.selectionrevision`, and `colorbar.(x|y)`\n            (accessible with `config: {editable: true}`) is\n            controlled by `layout.editrevision`. Trace changes are\n            tracked by `uid`, which only falls back on trace index\n            if no `uid` is provided. So if your app can add/remove\n            traces before the end of the `data` array, such that\n            the same trace has a different index, you can still\n            preserve user-driven changes if you give each trace a\n            `uid` that stays with it as it moves.\n        unselected\n            :class:`plotly.graph_objects.bar.Unselected` instance\n            or dict with compatible properties\n        visible\n            Determines whether or not this trace is visible. If\n            \"legendonly\", the trace is not drawn, but can appear as\n            a legend item (provided that the legend itself is\n            visible).\n        width\n            Sets the bar width (in position axis units).\n        widthsrc\n            Sets the source reference on Chart Studio Cloud for\n            `width`.\n        x\n            Sets the x coordinates.\n        x0\n            Alternate to `x`. Builds a linear space of x\n            coordinates. Use with `dx` where `x0` is the starting\n            coordinate and `dx` the step.\n        xaxis\n            Sets a reference between this trace's x coordinates and\n            a 2D cartesian x axis. If \"x\" (the default value), the\n            x coordinates refer to `layout.xaxis`. If \"x2\", the x\n            coordinates refer to `layout.xaxis2`, and so on.\n        xcalendar\n            Sets the calendar system to use with `x` date data.\n        xhoverformat\n            Sets the hover text formatting rulefor `x`  using d3\n            formatting mini-languages which are very similar to\n            those in Python. For numbers, see:\n            https://github.com/d3/d3-format/tree/v1.4.5#d3-format.\n            And for dates see: https://github.com/d3/d3-time-\n            format/tree/v2.2.3#locale_format. We add two items to\n            d3's date formatter: \"%h\" for half of the year as a\n            decimal number as well as \"%{n}f\" for fractional\n            seconds with n digits. For example, *2016-10-13\n            09:15:23.456* with tickformat \"%H~%M~%S.%2f\" would\n            display *09~15~23.46*By default the values are\n            formatted using `xaxis.hoverformat`.\n        xperiod\n            Only relevant when the axis `type` is \"date\". Sets the\n            period positioning in milliseconds or \"M<n>\" on the x\n            axis. Special values in the form of \"M<n>\" could be\n            used to declare the number of months. In this case `n`\n            must be a positive integer.\n        xperiod0\n            Only relevant when the axis `type` is \"date\". Sets the\n            base for period positioning in milliseconds or date\n            string on the x0 axis. When `x0period` is round number\n            of weeks, the `x0period0` by default would be on a\n            Sunday i.e. 2000-01-02, otherwise it would be at\n            2000-01-01.\n        xperiodalignment\n            Only relevant when the axis `type` is \"date\". Sets the\n            alignment of data points on the x axis.\n        xsrc\n            Sets the source reference on Chart Studio Cloud for\n            `x`.\n        y\n            Sets the y coordinates.\n        y0\n            Alternate to `y`. Builds a linear space of y\n            coordinates. Use with `dy` where `y0` is the starting\n            coordinate and `dy` the step.\n        yaxis\n            Sets a reference between this trace's y coordinates and\n            a 2D cartesian y axis. If \"y\" (the default value), the\n            y coordinates refer to `layout.yaxis`. If \"y2\", the y\n            coordinates refer to `layout.yaxis2`, and so on.\n        ycalendar\n            Sets the calendar system to use with `y` date data.\n        yhoverformat\n            Sets the hover text formatting rulefor `y`  using d3\n            formatting mini-languages which are very similar to\n            those in Python. For numbers, see:\n            https://github.com/d3/d3-format/tree/v1.4.5#d3-format.\n            And for dates see: https://github.com/d3/d3-time-\n            format/tree/v2.2.3#locale_format. We add two items to\n            d3's date formatter: \"%h\" for half of the year as a\n            decimal number as well as \"%{n}f\" for fractional\n            seconds with n digits. For example, *2016-10-13\n            09:15:23.456* with tickformat \"%H~%M~%S.%2f\" would\n            display *09~15~23.46*By default the values are\n            formatted using `yaxis.hoverformat`.\n        yperiod\n            Only relevant when the axis `type` is \"date\". Sets the\n            period positioning in milliseconds or \"M<n>\" on the y\n            axis. Special values in the form of \"M<n>\" could be\n            used to declare the number of months. In this case `n`\n            must be a positive integer.\n        yperiod0\n            Only relevant when the axis `type` is \"date\". Sets the\n            base for period positioning in milliseconds or date\n            string on the y0 axis. When `y0period` is round number\n            of weeks, the `y0period0` by default would be on a\n            Sunday i.e. 2000-01-02, otherwise it would be at\n            2000-01-01.\n        yperiodalignment\n            Only relevant when the axis `type` is \"date\". Sets the\n            alignment of data points on the y axis.\n        ysrc\n            Sets the source reference on Chart Studio Cloud for\n            `y`.\n        \nDid you mean \"base\"?\n\nBad property path:\ncolor\n^^^^^"
     ]
    }
   ],
   "source": [
    "df_tournaments_filtered = df_tournaments_filtered.sort_values('tourney_fin_commit_USD', ascending=False)\n",
    "df_tournaments_filtered = df_tournaments_filtered.iloc[:10,:]\n",
    "\n",
    "data_bar_plot = dict(type='bar',\n",
    "                     x=df_tournaments_filtered['tourney_name'],\n",
    "                     y=df_tournaments_filtered['tourney_fin_commit_USD'],\n",
    "                     marker_color='grey')\n",
    "                     # color = df_tournaments_filtered['tourney_type'])\n",
    "\n",
    "layout_bar_plot = dict(title=dict(text='Most valuable tournaments',\n",
    "                                  font=dict(size=24),\n",
    "                                  x=0.5, y=0.9),\n",
    "                       yaxis=dict(title='Prize'),\n",
    "                       font_color='#363535',\n",
    "                       paper_bgcolor='rgba(0,0,0,0)',\n",
    "                       plot_bgcolor='rgba(0,0,0,0)')\n",
    "\n",
    "fig_bar = go.Figure(data=data_bar_plot, layout=layout_bar_plot)\n",
    "fig_bar.show()"
   ]
  },
  {
   "cell_type": "code",
   "execution_count": 39,
   "id": "e4665e39",
   "metadata": {},
   "outputs": [
    {
     "data": {
      "application/vnd.plotly.v1+json": {
       "config": {
        "plotlyServerURL": "https://plot.ly"
       },
       "data": [
        {
         "marker": {
          "color": "gray"
         },
         "name": "Oceania",
         "type": "bar",
         "visible": true,
         "x": [
          "Australian Open",
          "Australian Open",
          "Australian Open",
          "Australian Open",
          "Australian Open",
          "Australian Open",
          "Australian Open",
          "Australian Open",
          "Australian Open",
          "Australian Open",
          "Brisbane",
          "Auckland",
          "Sydney",
          "Auckland",
          "Brisbane",
          "Sydney",
          "Auckland",
          "Auckland",
          "Auckland",
          "Sydney",
          "Brisbane",
          "Auckland",
          "Brisbane",
          "Sydney",
          "Brisbane",
          "Sydney",
          "Brisbane",
          "Sydney",
          "Auckland",
          "Sydney",
          "Brisbane",
          "Sydney",
          "Brisbane",
          "Sydney",
          "Brisbane",
          "Auckland",
          "Auckland",
          "Sydney",
          "Brisbane",
          "Auckland"
         ],
         "y": [
          19542952.1,
          16520696.8,
          14893379.2,
          12970484.9,
          11683903.38,
          9862782.26,
          9086620.228,
          7772251.865,
          7514461.585,
          7273319.712,
          589680,
          589680,
          589680,
          561345,
          528910,
          528910,
          520070,
          519395,
          514345,
          511825,
          511825,
          508360,
          495630,
          495630,
          494310,
          494310,
          494230,
          494230,
          491000,
          486000,
          486000,
          474050,
          474050,
          461330,
          461330,
          450000,
          450000,
          424250,
          424250,
          407250
         ]
        },
        {
         "marker": {
          "color": "gray"
         },
         "name": "Asia",
         "type": "bar",
         "visible": false,
         "x": [
          "ATP Masters 1000 Shanghai",
          "ATP Masters 1000 Shanghai",
          "ATP Masters 1000 Shanghai",
          "ATP Masters 1000 Shanghai",
          "ATP Masters 1000 Shanghai",
          "ATP Masters 1000 Shanghai",
          "ATP Masters 1000 Shanghai",
          "ATP Masters 1000 Shanghai",
          "ATP Masters 1000 Shanghai",
          "ATP Masters 1000 Shanghai",
          "Beijing",
          "Beijing",
          "Beijing",
          "Beijing",
          "Beijing",
          "Beijing",
          "Beijing",
          "Beijing",
          "Beijing",
          "Beijing",
          "Dubai",
          "Dubai",
          "Dubai",
          "Dubai",
          "Dubai",
          "Dubai",
          "Dubai",
          "Dubai",
          "Dubai",
          "Dubai",
          "Tokyo",
          "Tokyo",
          "Tokyo",
          "Tokyo",
          "Tokyo",
          "Doha",
          "Tokyo",
          "Tokyo",
          "Doha",
          "Tokyo",
          "Tokyo",
          "Doha",
          "Doha",
          "Tokyo",
          "Doha",
          "Chengdu",
          "Doha",
          "Chengdu",
          "Doha",
          "Chengdu",
          "Doha",
          "Doha",
          "Doha",
          "Kuala Lumpur",
          "Kuala Lumpur",
          "Zhuhai",
          "Kuala Lumpur",
          "Kuala Lumpur",
          "Kuala Lumpur",
          "Kuala Lumpur",
          "Chengdu",
          "Shenzhen",
          "Shenzhen",
          "Shenzhen",
          "Shenzhen",
          "Shenzhen",
          "Bangkok",
          "Bangkok",
          "Bangkok",
          "Bangkok",
          "Pune",
          "Pune",
          "Chennai",
          "Chennai",
          "Chennai",
          "Chennai",
          "Chennai",
          "Chennai",
          "Chennai",
          "Chennai"
         ],
         "y": [
          9219970,
          8322885,
          8092625,
          7655640,
          7021335,
          6521695,
          6211445,
          5891600,
          5650000,
          5250000,
          4658510,
          4280460,
          4164780,
          3944715,
          3755065,
          3666275,
          3566050,
          3441500,
          3336500,
          3336500,
          3057135,
          2887895,
          2858530,
          2674445,
          2503810,
          2413300,
          2359935,
          2313975,
          2233000,
          2233000,
          2046340,
          1928580,
          1706175,
          1506835,
          1437800,
          1416205,
          1407065,
          1397250,
          1386665,
          1373420,
          1341000,
          1334270,
          1283855,
          1226500,
          1221320,
          1213295,
          1195500,
          1183360,
          1150720,
          1138910,
          1110250,
          1110250,
          1110250,
          1041540,
          1022255,
          1000000,
          984300,
          947750,
          947750,
          947750,
          947735,
          800320,
          731680,
          704140,
          668945,
          655955,
          644500,
          631530,
          608500,
          608500,
          589680,
          561345,
          505730,
          482085,
          459140,
          458400,
          450000,
          450000,
          450000,
          442750
         ]
        },
        {
         "marker": {
          "color": "gray"
         },
         "name": "Africa",
         "type": "bar",
         "visible": false,
         "x": [
          "Marrakech",
          "Marrakech",
          "Marrakech",
          "Marrakech",
          "Casablanca",
          "Casablanca",
          "Johannesburg",
          "Johannesburg",
          "Casablanca",
          "Casablanca",
          "Casablanca",
          "Casablanca"
         ],
         "y": [
          624004.644,
          597607.887,
          575214.026,
          553666.522,
          526242.426,
          517140.096,
          500000,
          500000,
          498019.88,
          479070,
          479070,
          479070
         ]
        },
        {
         "marker": {
          "color": "gray"
         },
         "name": "South America",
         "type": "bar",
         "visible": false,
         "x": [
          "Rio de Janeiro",
          "Rio de Janeiro",
          "Rio de Janeiro",
          "Rio de Janeiro",
          "Rio de Janeiro",
          "Rio de Janeiro",
          "Bogota",
          "Bogota",
          "Bogota",
          "Buenos Aires",
          "Buenos Aires",
          "Buenos Aires",
          "Sao Paulo",
          "Buenos Aires",
          "Cordoba",
          "Sao Paulo",
          "Buenos Aires",
          "Buenos Aires",
          "Buenos Aires",
          "Quito",
          "Buenos Aires",
          "Buenos Aires",
          "Buenos Aires",
          "Quito",
          "Sao Paulo",
          "Sao Paulo",
          "Costa do Sauipe",
          "Sao Paulo",
          "Quito",
          "Sao Paulo",
          "Sao Paulo",
          "Costa do Sauipe",
          "Sao Paulo",
          "Quito",
          "Vina del Mar",
          "Vina del Mar",
          "Vina del Mar",
          "Santiago",
          "Santiago"
         ],
         "y": [
          1937740,
          1842475,
          1603940,
          1548755,
          1471315,
          1454365,
          768915,
          730102,
          727685,
          673135,
          648180,
          624340,
          618810,
          598865,
          589680,
          582870,
          573750,
          570470,
          567760,
          561345,
          553100,
          547900,
          544300,
          540310,
          539730,
          532800,
          527700,
          520285,
          520070,
          519775,
          505655,
          500000,
          499055,
          494310,
          485760,
          467800,
          450000,
          450000,
          450000
         ]
        },
        {
         "marker": {
          "color": "gray"
         },
         "name": "North America",
         "type": "bar",
         "visible": false,
         "x": [
          "US Open",
          "US Open",
          "US Open",
          "US Open",
          "US Open",
          "US Open",
          "US Open",
          "US Open",
          "US Open",
          "US Open",
          "ATP Masters 1000 Miami",
          "ATP Masters 1000 Indian Wells",
          "ATP Masters 1000 Miami",
          "ATP Masters 1000 Indian Wells",
          "ATP Masters 1000 Miami",
          "ATP Masters 1000 Indian Wells",
          "ATP Masters 1000 Indian Wells",
          "ATP Masters 1000 Miami",
          "ATP Masters 1000 Indian Wells",
          "ATP Masters 1000 Indian Wells",
          "ATP Masters 1000 Cincinnati",
          "ATP Masters 1000 Indian Wells",
          "ATP Masters 1000 Canada",
          "ATP Masters 1000 Cincinnati",
          "ATP Masters 1000 Miami",
          "ATP Masters 1000 Canada",
          "ATP Masters 1000 Indian Wells",
          "ATP Masters 1000 Miami",
          "ATP Masters 1000 Cincinnati",
          "ATP Masters 1000 Canada",
          "ATP Masters 1000 Miami",
          "ATP Masters 1000 Cincinnati",
          "ATP Masters 1000 Miami",
          "ATP Masters 1000 Indian Wells",
          "ATP Masters 1000 Indian Wells",
          "ATP Masters 1000 Canada",
          "ATP Masters 1000 Miami",
          "ATP Masters 1000 Miami",
          "ATP Masters 1000 Cincinnati",
          "ATP Masters 1000 Canada",
          "ATP Masters 1000 Cincinnati",
          "ATP Masters 1000 Canada",
          "ATP Masters 1000 Cincinnati",
          "ATP Masters 1000 Canada",
          "ATP Masters 1000 Cincinnati",
          "ATP Masters 1000 Canada",
          "ATP Masters 1000 Cincinnati",
          "ATP Masters 1000 Canada",
          "ATP Masters 1000 Cincinnati",
          "ATP Masters 1000 Canada",
          "Washington",
          "Washington",
          "Washington",
          "Acapulco",
          "Washington",
          "Acapulco",
          "Washington",
          "Washington",
          "Acapulco",
          "Acapulco",
          "Acapulco",
          "Washington",
          "Acapulco",
          "Washington",
          "Washington",
          "Memphis",
          "Acapulco",
          "Washington",
          "Acapulco",
          "Memphis",
          "Memphis",
          "Memphis",
          "Acapulco",
          "Acapulco",
          "Los Cabos",
          "Los Cabos",
          "Los Cabos",
          "Winston-Salem",
          "Winston-Salem",
          "Atlanta",
          "New York",
          "New Haven",
          "Winston-Salem",
          "Atlanta",
          "New York",
          "Los Cabos",
          "Winston-Salem",
          "Atlanta",
          "Memphis",
          "Los Angeles",
          "Los Angeles",
          "Winston-Salem",
          "Memphis",
          "Atlanta",
          "Winston-Salem",
          "Atlanta",
          "Memphis",
          "Winston-Salem",
          "Newport",
          "Houston",
          "Delray Beach",
          "Memphis",
          "Atlanta",
          "Memphis",
          "Los Angeles",
          "Winston-Salem",
          "Winston-Salem",
          "San Jose",
          "Atlanta",
          "Newport",
          "Houston",
          "Delray Beach",
          "Houston",
          "Newport",
          "San Jose",
          "Atlanta",
          "San Jose",
          "Atlanta",
          "San Jose",
          "Delray Beach",
          "Houston",
          "Newport",
          "Delray Beach",
          "Delray Beach",
          "Newport",
          "Houston",
          "Atlanta",
          "Delray Beach",
          "Houston",
          "Newport",
          "Houston",
          "Newport",
          "Delray Beach",
          "Newport",
          "Delray Beach",
          "Houston",
          "Newport",
          "Houston",
          "Delray Beach",
          "Houston",
          "Newport",
          "Delray Beach"
         ],
         "y": [
          28619350,
          25282400,
          24193400,
          21862744,
          19852700,
          17851868,
          16102000,
          11777000,
          10768000,
          10508000,
          9314875,
          9314875,
          8909960,
          8909960,
          7913405,
          7913405,
          7107445,
          7037595,
          7037595,
          6959295,
          6735690,
          6676605,
          6338885,
          6335970,
          6267755,
          5939970,
          5816010,
          5649405,
          5627305,
          5275595,
          5244125,
          5004505,
          4828050,
          4717540,
          4702285,
          4691730,
          4500000,
          4500000,
          4457065,
          4178500,
          4017355,
          3766270,
          3729155,
          3496085,
          3433280,
          3218700,
          3200000,
          3000000,
          3000000,
          3000000,
          2146815,
          2046340,
          2002460,
          1931110,
          1877705,
          1789445,
          1753020,
          1654295,
          1633690,
          1551830,
          1548755,
          1546590,
          1454365,
          1402900,
          1402000,
          1353550,
          1353550,
          1286260,
          1281500,
          1281500,
          1226500,
          1226500,
          1226500,
          1081500,
          858565,
          808995,
          808770,
          807210,
          778070,
          777385,
          777385,
          750000,
          748960,
          748450,
          748450,
          727995,
          720940,
          720410,
          720410,
          700000,
          700000,
          695515,
          693425,
          693425,
          683705,
          659070,
          659070,
          658450,
          652245,
          652245,
          651215,
          647675,
          647675,
          647675,
          638050,
          625000,
          625000,
          623730,
          623730,
          623710,
          623710,
          622675,
          600345,
          600345,
          600000,
          600000,
          600000,
          600000,
          600000,
          599345,
          577860,
          577860,
          576900,
          549230,
          549230,
          549230,
          546900,
          539730,
          539730,
          539730,
          519775,
          519775,
          519775,
          500000,
          500000,
          500000,
          500000,
          500000,
          500000,
          500000,
          455750,
          442500
         ]
        },
        {
         "marker": {
          "color": "gray"
         },
         "name": "Europe",
         "type": "bar",
         "visible": false,
         "x": [
          "Wimbledon",
          "Roland Garros",
          "Roland Garros",
          "Wimbledon",
          "Roland Garros",
          "Wimbledon",
          "Roland Garros",
          "Wimbledon",
          "Wimbledon",
          "Wimbledon",
          "Roland Garros",
          "Wimbledon",
          "Roland Garros",
          "Roland Garros",
          "Roland Garros",
          "Nitto ATP Finals",
          "Wimbledon",
          "Nitto ATP Finals",
          "Roland Garros",
          "Roland Garros",
          "Nitto ATP Finals",
          "Wimbledon",
          "ATP Masters 1000 Madrid",
          "ATP Masters 1000 Madrid",
          "ATP Finals",
          "Wimbledon",
          "ATP Finals",
          "ATP Masters 1000 Madrid",
          "ATP Finals",
          "ATP Masters 1000 Paris",
          "ATP Masters 1000 Rome",
          "ATP Masters 1000 Madrid",
          "ATP Finals",
          "ATP Masters 1000 Monte Carlo",
          "ATP Masters 1000 Paris",
          "ATP Masters 1000 Rome",
          "ATP Masters 1000 Monte Carlo",
          "ATP Finals",
          "ATP Masters 1000 Madrid",
          "ATP Masters 1000 Rome",
          "ATP Masters 1000 Paris",
          "ATP Finals",
          "ATP Finals",
          "ATP Masters 1000 Monte Carlo",
          "ATP Masters 1000 Madrid",
          "ATP Masters 1000 Madrid",
          "ATP Masters 1000 Paris",
          "ATP Masters 1000 Rome",
          "ATP Masters 1000 Monte Carlo",
          "ATP Masters 1000 Madrid",
          "ATP Masters 1000 Rome",
          "ATP Masters 1000 Paris",
          "ATP Masters 1000 Madrid",
          "ATP Masters 1000 Madrid",
          "ATP Masters 1000 Monte Carlo",
          "ATP Masters 1000 Paris",
          "ATP Masters 1000 Rome",
          "ATP Masters 1000 Monte Carlo",
          "ATP Masters 1000 Rome",
          "ATP Masters 1000 Paris",
          "ATP Masters 1000 Monte Carlo",
          "ATP Masters 1000 Paris",
          "ATP Masters 1000 Rome",
          "Barcelona",
          "Vienna",
          "ATP Masters 1000 Rome",
          "ATP Masters 1000 Paris",
          "ATP Masters 1000 Monte Carlo",
          "ATP Masters 1000 Paris",
          "ATP Masters 1000 Rome",
          "Barcelona",
          "ATP Masters 1000 Monte Carlo",
          "Vienna",
          "Barcelona",
          "ATP Masters 1000 Monte Carlo",
          "Vienna",
          "Basel",
          "Vienna",
          "Barcelona",
          "Vienna",
          "Basel",
          "Barcelona",
          "Basel",
          "Halle",
          "London / Queen's Club",
          "Valencia",
          "Valencia",
          "Barcelona",
          "Basel",
          "Barcelona",
          "London / Queen's Club",
          "Halle",
          "Rotterdam",
          "Valencia",
          "Barcelona",
          "Basel",
          "Valencia",
          "Valencia",
          "Rotterdam",
          "Barcelona",
          "Barcelona",
          "Basel",
          "London / Queen's Club",
          "Halle",
          "Basel",
          "London / Queen's Club",
          "Basel",
          "Hamburg",
          "Rotterdam",
          "Basel",
          "Halle",
          "Basel",
          "Hamburg",
          "Rotterdam",
          "Halle",
          "London / Queen's Club",
          "Hamburg",
          "Rotterdam",
          "Rotterdam",
          "Hamburg",
          "Rotterdam",
          "Rotterdam",
          "Rotterdam",
          "Rotterdam",
          "Hamburg",
          "Hamburg",
          "Next Gen ATP Finals",
          "Next Gen ATP Finals",
          "Hamburg",
          "Next Gen ATP Finals",
          "St. Petersburg",
          "St. Petersburg",
          "Hamburg",
          "Hamburg",
          "St. Petersburg",
          "Hamburg",
          "Moscow",
          "St. Petersburg",
          "St. Petersburg",
          "Moscow",
          "Moscow",
          "Halle",
          "London / Queen's Club",
          "Moscow",
          "London / Queen's Club",
          "Halle",
          "Moscow",
          "Moscow",
          "Moscow",
          "Stuttgart",
          "Halle",
          "Halle",
          "Halle",
          "Eastbourne",
          "Moscow",
          "Marseille",
          "Stuttgart",
          "Moscow",
          "Eastbourne",
          "Marseille",
          "London / Queen's Club",
          "London / Queen's Club",
          "s-Hertogenbosch",
          "Antwerp",
          "Stockholm",
          "Nottingham",
          "St. Petersburg",
          "St. Petersburg",
          "Stuttgart",
          "Moscow",
          "London / Queen's Club",
          "Eastbourne",
          "Marseille",
          "s-Hertogenbosch",
          "Stockholm",
          "Antwerp",
          "Stuttgart",
          "Marseille",
          "Stockholm",
          "Antwerp",
          "s-Hertogenbosch",
          "Vienna",
          "Montpellier",
          "Vienna",
          "Nottingham",
          "Stuttgart",
          "s-Hertogenbosch",
          "Stockholm",
          "Antwerp",
          "Marseille",
          "Marseille",
          "s-Hertogenbosch",
          "Valencia",
          "Stockholm",
          "Stockholm",
          "Stockholm",
          "Stockholm",
          "Marseille",
          "Stockholm",
          "Vienna",
          "Lyon",
          "Geneva",
          "Bastad",
          "Umag",
          "Munich",
          "Gstaad",
          "Kitzbühel",
          "Metz",
          "Estoril",
          "Budapest",
          "Sofia",
          "Montpellier",
          "Marseille",
          "Marseille",
          "Marseille",
          "Vienna",
          "Eastbourne",
          "Metz",
          "Montpellier",
          "Estoril",
          "Gstaad",
          "Umag",
          "Bastad",
          "Geneva",
          "Lyon",
          "Sofia",
          "Munich",
          "Budapest",
          "Kitzbühel",
          "Geneva",
          "Vienna",
          "Stockholm",
          "Geneva",
          "Munich",
          "Estoril",
          "Budapest",
          "Montpellier",
          "Lyon",
          "Bastad",
          "Umag",
          "Gstaad",
          "Kitzbühel",
          "Metz",
          "Sofia",
          "Eastbourne",
          "Metz",
          "Kitzbühel",
          "Sofia",
          "Bucharest",
          "Montpellier",
          "Estoril",
          "Bastad",
          "Munich",
          "Gstaad",
          "Nice",
          "Umag",
          "Antalya",
          "Istanbul",
          "Antalya",
          "Bucharest",
          "Bastad",
          "Estoril",
          "Istanbul",
          "Geneva",
          "Kitzbühel",
          "Metz",
          "Zagreb",
          "Munich",
          "Nice",
          "Gstaad",
          "Umag",
          "Montpellier",
          "Bastad",
          "St. Petersburg",
          "Istanbul",
          "Antalya",
          "Metz",
          "Umag",
          "Gstaad",
          "Bastad",
          "s-Hertogenbosch",
          "Nice",
          "Dusseldorf",
          "Oeiras",
          "Munich",
          "Bucharest",
          "Zagreb",
          "Montpellier",
          "Stuttgart",
          "Kitzbühel",
          "Istanbul",
          "Metz",
          "Zagreb",
          "Bucharest",
          "Munich",
          "Oeiras",
          "Dusseldorf",
          "Nice",
          "Montpellier",
          "Kitzbühel",
          "Gstaad",
          "Stuttgart",
          "s-Hertogenbosch",
          "Umag",
          "Eastbourne",
          "Eastbourne",
          "Eastbourne",
          "Gstaad",
          "s-Hertogenbosch",
          "Nice",
          "Umag",
          "Metz",
          "Gstaad",
          "Estoril",
          "Zagreb",
          "Montpellier",
          "Zagreb",
          "Kitzbühel",
          "s-Hertogenbosch",
          "Munich",
          "Estoril",
          "Stuttgart",
          "Umag",
          "Metz",
          "Bastad",
          "Bastad",
          "Nice",
          "s-Hertogenbosch",
          "Munich",
          "Munich",
          "Stuttgart",
          "Metz",
          "Estoril",
          "Nice",
          "Zagreb",
          "Bucharest",
          "St. Petersburg",
          "Belgrade",
          "Bucharest",
          "Bucharest",
          "Belgrade",
          "Belgrade",
          "Kitzbühel",
          "Bastad",
          "Gstaad",
          "Umag",
          "Stuttgart"
         ],
         "y": [
          21383214.6,
          21355876,
          19409787.2,
          19232738.8,
          17874634,
          17858456,
          17042915.25,
          15840354.2,
          15124331.2,
          14097831,
          13848316.8,
          12652547.6,
          12298259.2,
          10756718.4,
          9035260.2,
          9000000,
          8767009.68,
          8500000,
          8393306.4,
          8070519.68,
          8000000,
          7979745.4,
          7749510.842,
          7655464.078,
          7500000,
          7456266.4,
          7000000,
          6822201.658,
          6500000,
          6165396.688,
          6165396.688,
          6089150.036,
          6000000,
          5945822.938,
          5796731.031,
          5796731.031,
          5577157.281,
          5500000,
          5444076.958,
          5148378.985,
          5148378.985,
          5070000,
          5070000,
          4928805.235,
          4924663.941,
          4581896.8082,
          4578583.773,
          4578583.773,
          4359010.023,
          4230395.697,
          4077732.057,
          4077732.057,
          3945407.6,
          3939020,
          3858158.307,
          3675441.009,
          3675441.009,
          3455867.259,
          3411771.527,
          3411771.527,
          3192197.777,
          3141075.685,
          3141075.685,
          2974726.612,
          2968711.622,
          2927650,
          2927650,
          2927650,
          2927650,
          2927650,
          2923875.993,
          2921501.935,
          2791221.51,
          2772580.364,
          2708076.25,
          2626698.226,
          2600541.004,
          2591034.126,
          2585226.733,
          2474178.307,
          2439914.156,
          2411569.181,
          2363385.385,
          2362507.09,
          2362507.09,
          2346623.258,
          2311347.737,
          2306855.125,
          2291003.231,
          2264441.461,
          2253667.709,
          2253667.709,
          2234041.808,
          2221660.51,
          2206383.5,
          2152940.58,
          2149427.4,
          2149427.4,
          2125202.427,
          2123877,
          2123877,
          2117313.741,
          2093104.737,
          2093104.737,
          2059255.78,
          2053198.206,
          2038772.876,
          1975354.654,
          1974156.979,
          1956841.26,
          1944252.365,
          1868373,
          1866515.273,
          1834114.172,
          1806248.267,
          1806248.267,
          1734632.625,
          1704270.233,
          1677676.525,
          1612331.377,
          1599561.5,
          1597703.773,
          1538347,
          1538347,
          1498914.216,
          1407560.89,
          1400000,
          1335000,
          1309990.3,
          1275000,
          1248665,
          1241850,
          1187029,
          1187029,
          1091000,
          1080569,
          1080500,
          1064715,
          986380,
          936435,
          922520,
          861900.16,
          861900.16,
          855490,
          830031.3589999999,
          830031.3589999999,
          823600,
          823550,
          805500,
          803283.284,
          798450,
          798450,
          798450,
          794063.848,
          792645,
          792073.046,
          776455.364,
          771525,
          767667.091,
          765245.126,
          760071.17,
          757516.13,
          757223.365,
          757223.365,
          757223.365,
          750335.403,
          750000,
          750000,
          747322.585,
          742150,
          739098.55,
          738736.586,
          736543.51,
          730400.768,
          730400.768,
          730400.768,
          719291.667,
          708927.786,
          703035.225,
          703035.225,
          703035.225,
          691990,
          691990,
          691990,
          685671.599,
          683547.722,
          676707.667,
          676707.667,
          676707.667,
          673721.464,
          661712.776,
          643183.413,
          643183.413,
          643183.413,
          639361.499,
          638760,
          638760,
          637200.361,
          632058.343,
          632058.343,
          624004.644,
          624004.644,
          624004.644,
          624004.644,
          624004.644,
          624004.644,
          624004.644,
          624004.644,
          624004.644,
          624004.644,
          624004.644,
          624004.644,
          613209.6,
          613209.6,
          613209.6,
          608690.373,
          598667.164,
          597607.887,
          597607.887,
          597607.887,
          597607.887,
          597607.887,
          597607.887,
          597607.887,
          597607.887,
          597607.887,
          597607.887,
          597607.887,
          597607.887,
          592125.197,
          585530,
          585530,
          575214.026,
          575214.026,
          575214.026,
          575214.026,
          575214.026,
          575214.026,
          575214.026,
          575214.026,
          575214.026,
          575214.026,
          575214.026,
          575214.026,
          560043.476,
          553666.522,
          553666.522,
          553666.522,
          553666.522,
          553666.522,
          553666.522,
          553666.522,
          553666.522,
          553666.522,
          553666.522,
          553666.522,
          540273.854,
          529377.673,
          529377.673,
          526242.426,
          526242.426,
          526242.426,
          526242.426,
          526242.426,
          526242.426,
          526242.426,
          526242.426,
          526242.426,
          526242.426,
          526242.426,
          526242.426,
          526242.426,
          523112.502,
          519775,
          517549.967,
          517549.967,
          517140.096,
          517140.096,
          517140.096,
          517140.096,
          517140.096,
          517140.096,
          517140.096,
          517140.096,
          517140.096,
          517140.096,
          517140.096,
          517140.096,
          517140.096,
          517140.096,
          514286.968,
          498019.88,
          498019.88,
          498019.88,
          498019.88,
          498019.88,
          498019.88,
          498019.88,
          498019.88,
          498019.88,
          498019.88,
          498019.88,
          498019.88,
          498019.88,
          492563.805,
          486256.05,
          485138.22,
          479070,
          479070,
          479070,
          479070,
          479070,
          479070,
          479070,
          479070,
          479070,
          479070,
          479070,
          479070,
          479070,
          479070,
          479070,
          479070,
          479070,
          479070,
          479070,
          479070,
          479070,
          479070,
          479070,
          479070,
          479070,
          479070,
          479070,
          479070,
          479070,
          468350,
          452401.77,
          450272.57,
          447344.92,
          445748.02,
          443565.59,
          436672.305,
          436672.305,
          436672.305,
          436672.305,
          436672.305
         ]
        }
       ],
       "layout": {
        "plot_bgcolor": "white",
        "template": {
         "data": {
          "bar": [
           {
            "error_x": {
             "color": "#2a3f5f"
            },
            "error_y": {
             "color": "#2a3f5f"
            },
            "marker": {
             "line": {
              "color": "#E5ECF6",
              "width": 0.5
             },
             "pattern": {
              "fillmode": "overlay",
              "size": 10,
              "solidity": 0.2
             }
            },
            "type": "bar"
           }
          ],
          "barpolar": [
           {
            "marker": {
             "line": {
              "color": "#E5ECF6",
              "width": 0.5
             },
             "pattern": {
              "fillmode": "overlay",
              "size": 10,
              "solidity": 0.2
             }
            },
            "type": "barpolar"
           }
          ],
          "carpet": [
           {
            "aaxis": {
             "endlinecolor": "#2a3f5f",
             "gridcolor": "white",
             "linecolor": "white",
             "minorgridcolor": "white",
             "startlinecolor": "#2a3f5f"
            },
            "baxis": {
             "endlinecolor": "#2a3f5f",
             "gridcolor": "white",
             "linecolor": "white",
             "minorgridcolor": "white",
             "startlinecolor": "#2a3f5f"
            },
            "type": "carpet"
           }
          ],
          "choropleth": [
           {
            "colorbar": {
             "outlinewidth": 0,
             "ticks": ""
            },
            "type": "choropleth"
           }
          ],
          "contour": [
           {
            "colorbar": {
             "outlinewidth": 0,
             "ticks": ""
            },
            "colorscale": [
             [
              0,
              "#0d0887"
             ],
             [
              0.1111111111111111,
              "#46039f"
             ],
             [
              0.2222222222222222,
              "#7201a8"
             ],
             [
              0.3333333333333333,
              "#9c179e"
             ],
             [
              0.4444444444444444,
              "#bd3786"
             ],
             [
              0.5555555555555556,
              "#d8576b"
             ],
             [
              0.6666666666666666,
              "#ed7953"
             ],
             [
              0.7777777777777778,
              "#fb9f3a"
             ],
             [
              0.8888888888888888,
              "#fdca26"
             ],
             [
              1,
              "#f0f921"
             ]
            ],
            "type": "contour"
           }
          ],
          "contourcarpet": [
           {
            "colorbar": {
             "outlinewidth": 0,
             "ticks": ""
            },
            "type": "contourcarpet"
           }
          ],
          "heatmap": [
           {
            "colorbar": {
             "outlinewidth": 0,
             "ticks": ""
            },
            "colorscale": [
             [
              0,
              "#0d0887"
             ],
             [
              0.1111111111111111,
              "#46039f"
             ],
             [
              0.2222222222222222,
              "#7201a8"
             ],
             [
              0.3333333333333333,
              "#9c179e"
             ],
             [
              0.4444444444444444,
              "#bd3786"
             ],
             [
              0.5555555555555556,
              "#d8576b"
             ],
             [
              0.6666666666666666,
              "#ed7953"
             ],
             [
              0.7777777777777778,
              "#fb9f3a"
             ],
             [
              0.8888888888888888,
              "#fdca26"
             ],
             [
              1,
              "#f0f921"
             ]
            ],
            "type": "heatmap"
           }
          ],
          "heatmapgl": [
           {
            "colorbar": {
             "outlinewidth": 0,
             "ticks": ""
            },
            "colorscale": [
             [
              0,
              "#0d0887"
             ],
             [
              0.1111111111111111,
              "#46039f"
             ],
             [
              0.2222222222222222,
              "#7201a8"
             ],
             [
              0.3333333333333333,
              "#9c179e"
             ],
             [
              0.4444444444444444,
              "#bd3786"
             ],
             [
              0.5555555555555556,
              "#d8576b"
             ],
             [
              0.6666666666666666,
              "#ed7953"
             ],
             [
              0.7777777777777778,
              "#fb9f3a"
             ],
             [
              0.8888888888888888,
              "#fdca26"
             ],
             [
              1,
              "#f0f921"
             ]
            ],
            "type": "heatmapgl"
           }
          ],
          "histogram": [
           {
            "marker": {
             "pattern": {
              "fillmode": "overlay",
              "size": 10,
              "solidity": 0.2
             }
            },
            "type": "histogram"
           }
          ],
          "histogram2d": [
           {
            "colorbar": {
             "outlinewidth": 0,
             "ticks": ""
            },
            "colorscale": [
             [
              0,
              "#0d0887"
             ],
             [
              0.1111111111111111,
              "#46039f"
             ],
             [
              0.2222222222222222,
              "#7201a8"
             ],
             [
              0.3333333333333333,
              "#9c179e"
             ],
             [
              0.4444444444444444,
              "#bd3786"
             ],
             [
              0.5555555555555556,
              "#d8576b"
             ],
             [
              0.6666666666666666,
              "#ed7953"
             ],
             [
              0.7777777777777778,
              "#fb9f3a"
             ],
             [
              0.8888888888888888,
              "#fdca26"
             ],
             [
              1,
              "#f0f921"
             ]
            ],
            "type": "histogram2d"
           }
          ],
          "histogram2dcontour": [
           {
            "colorbar": {
             "outlinewidth": 0,
             "ticks": ""
            },
            "colorscale": [
             [
              0,
              "#0d0887"
             ],
             [
              0.1111111111111111,
              "#46039f"
             ],
             [
              0.2222222222222222,
              "#7201a8"
             ],
             [
              0.3333333333333333,
              "#9c179e"
             ],
             [
              0.4444444444444444,
              "#bd3786"
             ],
             [
              0.5555555555555556,
              "#d8576b"
             ],
             [
              0.6666666666666666,
              "#ed7953"
             ],
             [
              0.7777777777777778,
              "#fb9f3a"
             ],
             [
              0.8888888888888888,
              "#fdca26"
             ],
             [
              1,
              "#f0f921"
             ]
            ],
            "type": "histogram2dcontour"
           }
          ],
          "mesh3d": [
           {
            "colorbar": {
             "outlinewidth": 0,
             "ticks": ""
            },
            "type": "mesh3d"
           }
          ],
          "parcoords": [
           {
            "line": {
             "colorbar": {
              "outlinewidth": 0,
              "ticks": ""
             }
            },
            "type": "parcoords"
           }
          ],
          "pie": [
           {
            "automargin": true,
            "type": "pie"
           }
          ],
          "scatter": [
           {
            "fillpattern": {
             "fillmode": "overlay",
             "size": 10,
             "solidity": 0.2
            },
            "type": "scatter"
           }
          ],
          "scatter3d": [
           {
            "line": {
             "colorbar": {
              "outlinewidth": 0,
              "ticks": ""
             }
            },
            "marker": {
             "colorbar": {
              "outlinewidth": 0,
              "ticks": ""
             }
            },
            "type": "scatter3d"
           }
          ],
          "scattercarpet": [
           {
            "marker": {
             "colorbar": {
              "outlinewidth": 0,
              "ticks": ""
             }
            },
            "type": "scattercarpet"
           }
          ],
          "scattergeo": [
           {
            "marker": {
             "colorbar": {
              "outlinewidth": 0,
              "ticks": ""
             }
            },
            "type": "scattergeo"
           }
          ],
          "scattergl": [
           {
            "marker": {
             "colorbar": {
              "outlinewidth": 0,
              "ticks": ""
             }
            },
            "type": "scattergl"
           }
          ],
          "scattermapbox": [
           {
            "marker": {
             "colorbar": {
              "outlinewidth": 0,
              "ticks": ""
             }
            },
            "type": "scattermapbox"
           }
          ],
          "scatterpolar": [
           {
            "marker": {
             "colorbar": {
              "outlinewidth": 0,
              "ticks": ""
             }
            },
            "type": "scatterpolar"
           }
          ],
          "scatterpolargl": [
           {
            "marker": {
             "colorbar": {
              "outlinewidth": 0,
              "ticks": ""
             }
            },
            "type": "scatterpolargl"
           }
          ],
          "scatterternary": [
           {
            "marker": {
             "colorbar": {
              "outlinewidth": 0,
              "ticks": ""
             }
            },
            "type": "scatterternary"
           }
          ],
          "surface": [
           {
            "colorbar": {
             "outlinewidth": 0,
             "ticks": ""
            },
            "colorscale": [
             [
              0,
              "#0d0887"
             ],
             [
              0.1111111111111111,
              "#46039f"
             ],
             [
              0.2222222222222222,
              "#7201a8"
             ],
             [
              0.3333333333333333,
              "#9c179e"
             ],
             [
              0.4444444444444444,
              "#bd3786"
             ],
             [
              0.5555555555555556,
              "#d8576b"
             ],
             [
              0.6666666666666666,
              "#ed7953"
             ],
             [
              0.7777777777777778,
              "#fb9f3a"
             ],
             [
              0.8888888888888888,
              "#fdca26"
             ],
             [
              1,
              "#f0f921"
             ]
            ],
            "type": "surface"
           }
          ],
          "table": [
           {
            "cells": {
             "fill": {
              "color": "#EBF0F8"
             },
             "line": {
              "color": "white"
             }
            },
            "header": {
             "fill": {
              "color": "#C8D4E3"
             },
             "line": {
              "color": "white"
             }
            },
            "type": "table"
           }
          ]
         },
         "layout": {
          "annotationdefaults": {
           "arrowcolor": "#2a3f5f",
           "arrowhead": 0,
           "arrowwidth": 1
          },
          "autotypenumbers": "strict",
          "coloraxis": {
           "colorbar": {
            "outlinewidth": 0,
            "ticks": ""
           }
          },
          "colorscale": {
           "diverging": [
            [
             0,
             "#8e0152"
            ],
            [
             0.1,
             "#c51b7d"
            ],
            [
             0.2,
             "#de77ae"
            ],
            [
             0.3,
             "#f1b6da"
            ],
            [
             0.4,
             "#fde0ef"
            ],
            [
             0.5,
             "#f7f7f7"
            ],
            [
             0.6,
             "#e6f5d0"
            ],
            [
             0.7,
             "#b8e186"
            ],
            [
             0.8,
             "#7fbc41"
            ],
            [
             0.9,
             "#4d9221"
            ],
            [
             1,
             "#276419"
            ]
           ],
           "sequential": [
            [
             0,
             "#0d0887"
            ],
            [
             0.1111111111111111,
             "#46039f"
            ],
            [
             0.2222222222222222,
             "#7201a8"
            ],
            [
             0.3333333333333333,
             "#9c179e"
            ],
            [
             0.4444444444444444,
             "#bd3786"
            ],
            [
             0.5555555555555556,
             "#d8576b"
            ],
            [
             0.6666666666666666,
             "#ed7953"
            ],
            [
             0.7777777777777778,
             "#fb9f3a"
            ],
            [
             0.8888888888888888,
             "#fdca26"
            ],
            [
             1,
             "#f0f921"
            ]
           ],
           "sequentialminus": [
            [
             0,
             "#0d0887"
            ],
            [
             0.1111111111111111,
             "#46039f"
            ],
            [
             0.2222222222222222,
             "#7201a8"
            ],
            [
             0.3333333333333333,
             "#9c179e"
            ],
            [
             0.4444444444444444,
             "#bd3786"
            ],
            [
             0.5555555555555556,
             "#d8576b"
            ],
            [
             0.6666666666666666,
             "#ed7953"
            ],
            [
             0.7777777777777778,
             "#fb9f3a"
            ],
            [
             0.8888888888888888,
             "#fdca26"
            ],
            [
             1,
             "#f0f921"
            ]
           ]
          },
          "colorway": [
           "#636efa",
           "#EF553B",
           "#00cc96",
           "#ab63fa",
           "#FFA15A",
           "#19d3f3",
           "#FF6692",
           "#B6E880",
           "#FF97FF",
           "#FECB52"
          ],
          "font": {
           "color": "#2a3f5f"
          },
          "geo": {
           "bgcolor": "white",
           "lakecolor": "white",
           "landcolor": "#E5ECF6",
           "showlakes": true,
           "showland": true,
           "subunitcolor": "white"
          },
          "hoverlabel": {
           "align": "left"
          },
          "hovermode": "closest",
          "mapbox": {
           "style": "light"
          },
          "paper_bgcolor": "white",
          "plot_bgcolor": "#E5ECF6",
          "polar": {
           "angularaxis": {
            "gridcolor": "white",
            "linecolor": "white",
            "ticks": ""
           },
           "bgcolor": "#E5ECF6",
           "radialaxis": {
            "gridcolor": "white",
            "linecolor": "white",
            "ticks": ""
           }
          },
          "scene": {
           "xaxis": {
            "backgroundcolor": "#E5ECF6",
            "gridcolor": "white",
            "gridwidth": 2,
            "linecolor": "white",
            "showbackground": true,
            "ticks": "",
            "zerolinecolor": "white"
           },
           "yaxis": {
            "backgroundcolor": "#E5ECF6",
            "gridcolor": "white",
            "gridwidth": 2,
            "linecolor": "white",
            "showbackground": true,
            "ticks": "",
            "zerolinecolor": "white"
           },
           "zaxis": {
            "backgroundcolor": "#E5ECF6",
            "gridcolor": "white",
            "gridwidth": 2,
            "linecolor": "white",
            "showbackground": true,
            "ticks": "",
            "zerolinecolor": "white"
           }
          },
          "shapedefaults": {
           "line": {
            "color": "#2a3f5f"
           }
          },
          "ternary": {
           "aaxis": {
            "gridcolor": "white",
            "linecolor": "white",
            "ticks": ""
           },
           "baxis": {
            "gridcolor": "white",
            "linecolor": "white",
            "ticks": ""
           },
           "bgcolor": "#E5ECF6",
           "caxis": {
            "gridcolor": "white",
            "linecolor": "white",
            "ticks": ""
           }
          },
          "title": {
           "x": 0.05
          },
          "xaxis": {
           "automargin": true,
           "gridcolor": "white",
           "linecolor": "white",
           "ticks": "",
           "title": {
            "standoff": 15
           },
           "zerolinecolor": "white",
           "zerolinewidth": 2
          },
          "yaxis": {
           "automargin": true,
           "gridcolor": "white",
           "linecolor": "white",
           "ticks": "",
           "title": {
            "standoff": 15
           },
           "zerolinecolor": "white",
           "zerolinewidth": 2
          }
         }
        },
        "title": {
         "font": {
          "size": 24
         },
         "text": "<b>Most Valuable Tournaments</b>",
         "x": 0.5,
         "y": 0.9
        },
        "updatemenus": [
         {
          "active": 0,
          "buttons": [
           {
            "args": [
             {
              "visible": [
               true,
               false,
               false,
               false,
               false,
               false
              ]
             },
             {
              "yaxis": {
               "range": [
                0,
                23451542.52
               ]
              }
             }
            ],
            "label": "Oceania",
            "method": "update"
           },
           {
            "args": [
             {
              "visible": [
               false,
               true,
               false,
               false,
               false,
               false
              ]
             },
             {
              "yaxis": {
               "range": [
                0,
                11063964
               ]
              }
             }
            ],
            "label": "Asia",
            "method": "update"
           },
           {
            "args": [
             {
              "visible": [
               false,
               false,
               true,
               false,
               false,
               false
              ]
             },
             {
              "yaxis": {
               "range": [
                0,
                748805.5728
               ]
              }
             }
            ],
            "label": "Africa",
            "method": "update"
           },
           {
            "args": [
             {
              "visible": [
               false,
               false,
               false,
               true,
               false,
               false
              ]
             },
             {
              "yaxis": {
               "range": [
                0,
                2325288
               ]
              }
             }
            ],
            "label": "South America",
            "method": "update"
           },
           {
            "args": [
             {
              "visible": [
               false,
               false,
               false,
               false,
               true,
               false
              ]
             },
             {
              "yaxis": {
               "range": [
                0,
                34343220
               ]
              }
             }
            ],
            "label": "North America",
            "method": "update"
           },
           {
            "args": [
             {
              "visible": [
               false,
               false,
               false,
               false,
               false,
               true
              ]
             },
             {
              "yaxis": {
               "range": [
                0,
                25659857.52
               ]
              }
             }
            ],
            "label": "Europe",
            "method": "update"
           }
          ],
          "type": "dropdown"
         }
        ],
        "xaxis": {
         "autorange": true,
         "gridcolor": "lightgray",
         "showgrid": true,
         "title": {
          "text": "Tourney Name"
         }
        },
        "yaxis": {
         "autorange": true,
         "gridcolor": "lightgray",
         "showgrid": true,
         "title": {
          "text": "Prize"
         }
        }
       }
      }
     },
     "metadata": {},
     "output_type": "display_data"
    }
   ],
   "source": [
    "# Create a dictionary with continents as keys and their corresponding tournament data as values\n",
    "continent_data = {}\n",
    "for continent in df_tournaments['Region'].unique():\n",
    "    continent_data[continent] = df_tournaments.loc[df_tournaments['Region'] == continent]\n",
    "\n",
    "# Create an empty graph object\n",
    "fig_bar = go.Figure()\n",
    "\n",
    "# Add traces to the figure for each continent\n",
    "for continent, data in continent_data.items():\n",
    "    data = data.sort_values('tourney_fin_commit_USD', ascending=False) # sort data in descending order\n",
    "    fig_bar.add_trace(dict(type='bar',\n",
    "                     x=data['tourney_name'],\n",
    "                     y=data['tourney_fin_commit_USD'],\n",
    "                     name=continent,\n",
    "                     visible=False,\n",
    "                     marker_color='gray'))\n",
    "\n",
    "# Make the first trace visible\n",
    "fig_bar.data[0].visible = True\n",
    "\n",
    "# Create a dropdown menu to select continents\n",
    "buttons = []\n",
    "for i, continent in enumerate(continent_data.keys()):\n",
    "    visible = [False] * len(continent_data)\n",
    "    visible[i] = True\n",
    "    button = dict(label=continent,\n",
    "                  method='update',\n",
    "                  args=[{'visible': visible},\n",
    "                        {'yaxis': {'range': [0, 1.2 * continent_data[continent]['tourney_fin_commit_USD'].max()]}}])\n",
    "    buttons.append(button)\n",
    "    \n",
    "updatemenus = [dict(type='dropdown',\n",
    "                    active=0,\n",
    "                    buttons=buttons)]\n",
    "\n",
    "# Update the layout with the dropdown menu and better y-axis scaling\n",
    "fig_bar.update_layout(dict(title=dict(text='<b>Most Valuable Tournaments</b>',\n",
    "                                      font=dict(size=24),\n",
    "                                      x=0.5, y=0.9),\n",
    "                           xaxis=dict(showgrid=True,\n",
    "                                       gridcolor='lightgray',\n",
    "                                       title='Tourney Name',\n",
    "                                       autorange=True),\n",
    "                            yaxis=dict(showgrid=True,\n",
    "                                       gridcolor='lightgray',\n",
    "                                       title='Prize',\n",
    "                                       autorange=True),\n",
    "                            updatemenus=updatemenus,\n",
    "                            plot_bgcolor='white'))\n",
    "\n",
    "fig_bar.show()"
   ]
  },
  {
   "cell_type": "code",
   "execution_count": 40,
   "id": "4d7b9595",
   "metadata": {},
   "outputs": [
    {
     "data": {
      "application/vnd.plotly.v1+json": {
       "config": {
        "plotlyServerURL": "https://plot.ly"
       },
       "data": [
        {
         "name": "Oceania",
         "type": "bar",
         "visible": true,
         "x": [
          "Australian Open",
          "Australian Open",
          "Australian Open",
          "Australian Open",
          "Australian Open",
          "Australian Open",
          "Australian Open",
          "Australian Open",
          "Australian Open",
          "Australian Open",
          "Brisbane",
          "Auckland",
          "Sydney",
          "Auckland",
          "Brisbane",
          "Sydney",
          "Auckland",
          "Auckland",
          "Auckland",
          "Sydney",
          "Brisbane",
          "Auckland",
          "Brisbane",
          "Sydney",
          "Brisbane",
          "Sydney",
          "Brisbane",
          "Sydney",
          "Auckland",
          "Sydney",
          "Brisbane",
          "Sydney",
          "Brisbane",
          "Sydney",
          "Brisbane",
          "Auckland",
          "Auckland",
          "Sydney",
          "Brisbane",
          "Auckland"
         ],
         "y": [
          19542952.1,
          16520696.8,
          14893379.2,
          12970484.9,
          11683903.38,
          9862782.26,
          9086620.228,
          7772251.865,
          7514461.585,
          7273319.712,
          589680,
          589680,
          589680,
          561345,
          528910,
          528910,
          520070,
          519395,
          514345,
          511825,
          511825,
          508360,
          495630,
          495630,
          494310,
          494310,
          494230,
          494230,
          491000,
          486000,
          486000,
          474050,
          474050,
          461330,
          461330,
          450000,
          450000,
          424250,
          424250,
          407250
         ]
        },
        {
         "name": "Asia",
         "type": "bar",
         "visible": true,
         "x": [
          "ATP Masters 1000 Shanghai",
          "ATP Masters 1000 Shanghai",
          "ATP Masters 1000 Shanghai",
          "ATP Masters 1000 Shanghai",
          "ATP Masters 1000 Shanghai",
          "ATP Masters 1000 Shanghai",
          "ATP Masters 1000 Shanghai",
          "ATP Masters 1000 Shanghai",
          "ATP Masters 1000 Shanghai",
          "ATP Masters 1000 Shanghai",
          "Beijing",
          "Beijing",
          "Beijing",
          "Beijing",
          "Beijing",
          "Beijing",
          "Beijing",
          "Beijing",
          "Beijing",
          "Beijing",
          "Dubai",
          "Dubai",
          "Dubai",
          "Dubai",
          "Dubai",
          "Dubai",
          "Dubai",
          "Dubai",
          "Dubai",
          "Dubai",
          "Tokyo",
          "Tokyo",
          "Tokyo",
          "Tokyo",
          "Tokyo",
          "Doha",
          "Tokyo",
          "Tokyo",
          "Doha",
          "Tokyo",
          "Tokyo",
          "Doha",
          "Doha",
          "Tokyo",
          "Doha",
          "Chengdu",
          "Doha",
          "Chengdu",
          "Doha",
          "Chengdu",
          "Doha",
          "Doha",
          "Doha",
          "Kuala Lumpur",
          "Kuala Lumpur",
          "Zhuhai",
          "Kuala Lumpur",
          "Kuala Lumpur",
          "Kuala Lumpur",
          "Kuala Lumpur",
          "Chengdu",
          "Shenzhen",
          "Shenzhen",
          "Shenzhen",
          "Shenzhen",
          "Shenzhen",
          "Bangkok",
          "Bangkok",
          "Bangkok",
          "Bangkok",
          "Pune",
          "Pune",
          "Chennai",
          "Chennai",
          "Chennai",
          "Chennai",
          "Chennai",
          "Chennai",
          "Chennai",
          "Chennai"
         ],
         "y": [
          9219970,
          8322885,
          8092625,
          7655640,
          7021335,
          6521695,
          6211445,
          5891600,
          5650000,
          5250000,
          4658510,
          4280460,
          4164780,
          3944715,
          3755065,
          3666275,
          3566050,
          3441500,
          3336500,
          3336500,
          3057135,
          2887895,
          2858530,
          2674445,
          2503810,
          2413300,
          2359935,
          2313975,
          2233000,
          2233000,
          2046340,
          1928580,
          1706175,
          1506835,
          1437800,
          1416205,
          1407065,
          1397250,
          1386665,
          1373420,
          1341000,
          1334270,
          1283855,
          1226500,
          1221320,
          1213295,
          1195500,
          1183360,
          1150720,
          1138910,
          1110250,
          1110250,
          1110250,
          1041540,
          1022255,
          1000000,
          984300,
          947750,
          947750,
          947750,
          947735,
          800320,
          731680,
          704140,
          668945,
          655955,
          644500,
          631530,
          608500,
          608500,
          589680,
          561345,
          505730,
          482085,
          459140,
          458400,
          450000,
          450000,
          450000,
          442750
         ]
        },
        {
         "name": "Africa",
         "type": "bar",
         "visible": true,
         "x": [
          "Marrakech",
          "Marrakech",
          "Marrakech",
          "Marrakech",
          "Casablanca",
          "Casablanca",
          "Johannesburg",
          "Johannesburg",
          "Casablanca",
          "Casablanca",
          "Casablanca",
          "Casablanca"
         ],
         "y": [
          624004.644,
          597607.887,
          575214.026,
          553666.522,
          526242.426,
          517140.096,
          500000,
          500000,
          498019.88,
          479070,
          479070,
          479070
         ]
        },
        {
         "name": "South America",
         "type": "bar",
         "visible": true,
         "x": [
          "Rio de Janeiro",
          "Rio de Janeiro",
          "Rio de Janeiro",
          "Rio de Janeiro",
          "Rio de Janeiro",
          "Rio de Janeiro",
          "Bogota",
          "Bogota",
          "Bogota",
          "Buenos Aires",
          "Buenos Aires",
          "Buenos Aires",
          "Sao Paulo",
          "Buenos Aires",
          "Cordoba",
          "Sao Paulo",
          "Buenos Aires",
          "Buenos Aires",
          "Buenos Aires",
          "Quito",
          "Buenos Aires",
          "Buenos Aires",
          "Buenos Aires",
          "Quito",
          "Sao Paulo",
          "Sao Paulo",
          "Costa do Sauipe",
          "Sao Paulo",
          "Quito",
          "Sao Paulo",
          "Sao Paulo",
          "Costa do Sauipe",
          "Sao Paulo",
          "Quito",
          "Vina del Mar",
          "Vina del Mar",
          "Vina del Mar",
          "Santiago",
          "Santiago"
         ],
         "y": [
          1937740,
          1842475,
          1603940,
          1548755,
          1471315,
          1454365,
          768915,
          730102,
          727685,
          673135,
          648180,
          624340,
          618810,
          598865,
          589680,
          582870,
          573750,
          570470,
          567760,
          561345,
          553100,
          547900,
          544300,
          540310,
          539730,
          532800,
          527700,
          520285,
          520070,
          519775,
          505655,
          500000,
          499055,
          494310,
          485760,
          467800,
          450000,
          450000,
          450000
         ]
        },
        {
         "name": "North America",
         "type": "bar",
         "visible": true,
         "x": [
          "US Open",
          "US Open",
          "US Open",
          "US Open",
          "US Open",
          "US Open",
          "US Open",
          "US Open",
          "US Open",
          "US Open",
          "ATP Masters 1000 Miami",
          "ATP Masters 1000 Indian Wells",
          "ATP Masters 1000 Miami",
          "ATP Masters 1000 Indian Wells",
          "ATP Masters 1000 Miami",
          "ATP Masters 1000 Indian Wells",
          "ATP Masters 1000 Indian Wells",
          "ATP Masters 1000 Miami",
          "ATP Masters 1000 Indian Wells",
          "ATP Masters 1000 Indian Wells",
          "ATP Masters 1000 Cincinnati",
          "ATP Masters 1000 Indian Wells",
          "ATP Masters 1000 Canada",
          "ATP Masters 1000 Cincinnati",
          "ATP Masters 1000 Miami",
          "ATP Masters 1000 Canada",
          "ATP Masters 1000 Indian Wells",
          "ATP Masters 1000 Miami",
          "ATP Masters 1000 Cincinnati",
          "ATP Masters 1000 Canada",
          "ATP Masters 1000 Miami",
          "ATP Masters 1000 Cincinnati",
          "ATP Masters 1000 Miami",
          "ATP Masters 1000 Indian Wells",
          "ATP Masters 1000 Indian Wells",
          "ATP Masters 1000 Canada",
          "ATP Masters 1000 Miami",
          "ATP Masters 1000 Miami",
          "ATP Masters 1000 Cincinnati",
          "ATP Masters 1000 Canada",
          "ATP Masters 1000 Cincinnati",
          "ATP Masters 1000 Canada",
          "ATP Masters 1000 Cincinnati",
          "ATP Masters 1000 Canada",
          "ATP Masters 1000 Cincinnati",
          "ATP Masters 1000 Canada",
          "ATP Masters 1000 Cincinnati",
          "ATP Masters 1000 Canada",
          "ATP Masters 1000 Cincinnati",
          "ATP Masters 1000 Canada",
          "Washington",
          "Washington",
          "Washington",
          "Acapulco",
          "Washington",
          "Acapulco",
          "Washington",
          "Washington",
          "Acapulco",
          "Acapulco",
          "Acapulco",
          "Washington",
          "Acapulco",
          "Washington",
          "Washington",
          "Memphis",
          "Acapulco",
          "Washington",
          "Acapulco",
          "Memphis",
          "Memphis",
          "Memphis",
          "Acapulco",
          "Acapulco",
          "Los Cabos",
          "Los Cabos",
          "Los Cabos",
          "Winston-Salem",
          "Winston-Salem",
          "Atlanta",
          "New York",
          "New Haven",
          "Winston-Salem",
          "Atlanta",
          "New York",
          "Los Cabos",
          "Winston-Salem",
          "Atlanta",
          "Memphis",
          "Los Angeles",
          "Los Angeles",
          "Winston-Salem",
          "Memphis",
          "Atlanta",
          "Winston-Salem",
          "Atlanta",
          "Memphis",
          "Winston-Salem",
          "Newport",
          "Houston",
          "Delray Beach",
          "Memphis",
          "Atlanta",
          "Memphis",
          "Los Angeles",
          "Winston-Salem",
          "Winston-Salem",
          "San Jose",
          "Atlanta",
          "Newport",
          "Houston",
          "Delray Beach",
          "Houston",
          "Newport",
          "San Jose",
          "Atlanta",
          "San Jose",
          "Atlanta",
          "San Jose",
          "Delray Beach",
          "Houston",
          "Newport",
          "Delray Beach",
          "Delray Beach",
          "Newport",
          "Houston",
          "Atlanta",
          "Delray Beach",
          "Houston",
          "Newport",
          "Houston",
          "Newport",
          "Delray Beach",
          "Newport",
          "Delray Beach",
          "Houston",
          "Newport",
          "Houston",
          "Delray Beach",
          "Houston",
          "Newport",
          "Delray Beach"
         ],
         "y": [
          28619350,
          25282400,
          24193400,
          21862744,
          19852700,
          17851868,
          16102000,
          11777000,
          10768000,
          10508000,
          9314875,
          9314875,
          8909960,
          8909960,
          7913405,
          7913405,
          7107445,
          7037595,
          7037595,
          6959295,
          6735690,
          6676605,
          6338885,
          6335970,
          6267755,
          5939970,
          5816010,
          5649405,
          5627305,
          5275595,
          5244125,
          5004505,
          4828050,
          4717540,
          4702285,
          4691730,
          4500000,
          4500000,
          4457065,
          4178500,
          4017355,
          3766270,
          3729155,
          3496085,
          3433280,
          3218700,
          3200000,
          3000000,
          3000000,
          3000000,
          2146815,
          2046340,
          2002460,
          1931110,
          1877705,
          1789445,
          1753020,
          1654295,
          1633690,
          1551830,
          1548755,
          1546590,
          1454365,
          1402900,
          1402000,
          1353550,
          1353550,
          1286260,
          1281500,
          1281500,
          1226500,
          1226500,
          1226500,
          1081500,
          858565,
          808995,
          808770,
          807210,
          778070,
          777385,
          777385,
          750000,
          748960,
          748450,
          748450,
          727995,
          720940,
          720410,
          720410,
          700000,
          700000,
          695515,
          693425,
          693425,
          683705,
          659070,
          659070,
          658450,
          652245,
          652245,
          651215,
          647675,
          647675,
          647675,
          638050,
          625000,
          625000,
          623730,
          623730,
          623710,
          623710,
          622675,
          600345,
          600345,
          600000,
          600000,
          600000,
          600000,
          600000,
          599345,
          577860,
          577860,
          576900,
          549230,
          549230,
          549230,
          546900,
          539730,
          539730,
          539730,
          519775,
          519775,
          519775,
          500000,
          500000,
          500000,
          500000,
          500000,
          500000,
          500000,
          455750,
          442500
         ]
        },
        {
         "name": "Europe",
         "type": "bar",
         "visible": true,
         "x": [
          "Wimbledon",
          "Roland Garros",
          "Roland Garros",
          "Wimbledon",
          "Roland Garros",
          "Wimbledon",
          "Roland Garros",
          "Wimbledon",
          "Wimbledon",
          "Wimbledon",
          "Roland Garros",
          "Wimbledon",
          "Roland Garros",
          "Roland Garros",
          "Roland Garros",
          "Nitto ATP Finals",
          "Wimbledon",
          "Nitto ATP Finals",
          "Roland Garros",
          "Roland Garros",
          "Nitto ATP Finals",
          "Wimbledon",
          "ATP Masters 1000 Madrid",
          "ATP Masters 1000 Madrid",
          "ATP Finals",
          "Wimbledon",
          "ATP Finals",
          "ATP Masters 1000 Madrid",
          "ATP Finals",
          "ATP Masters 1000 Paris",
          "ATP Masters 1000 Rome",
          "ATP Masters 1000 Madrid",
          "ATP Finals",
          "ATP Masters 1000 Monte Carlo",
          "ATP Masters 1000 Paris",
          "ATP Masters 1000 Rome",
          "ATP Masters 1000 Monte Carlo",
          "ATP Finals",
          "ATP Masters 1000 Madrid",
          "ATP Masters 1000 Rome",
          "ATP Masters 1000 Paris",
          "ATP Finals",
          "ATP Finals",
          "ATP Masters 1000 Monte Carlo",
          "ATP Masters 1000 Madrid",
          "ATP Masters 1000 Madrid",
          "ATP Masters 1000 Paris",
          "ATP Masters 1000 Rome",
          "ATP Masters 1000 Monte Carlo",
          "ATP Masters 1000 Madrid",
          "ATP Masters 1000 Rome",
          "ATP Masters 1000 Paris",
          "ATP Masters 1000 Madrid",
          "ATP Masters 1000 Madrid",
          "ATP Masters 1000 Monte Carlo",
          "ATP Masters 1000 Paris",
          "ATP Masters 1000 Rome",
          "ATP Masters 1000 Monte Carlo",
          "ATP Masters 1000 Rome",
          "ATP Masters 1000 Paris",
          "ATP Masters 1000 Monte Carlo",
          "ATP Masters 1000 Paris",
          "ATP Masters 1000 Rome",
          "Barcelona",
          "Vienna",
          "ATP Masters 1000 Rome",
          "ATP Masters 1000 Paris",
          "ATP Masters 1000 Monte Carlo",
          "ATP Masters 1000 Paris",
          "ATP Masters 1000 Rome",
          "Barcelona",
          "ATP Masters 1000 Monte Carlo",
          "Vienna",
          "Barcelona",
          "ATP Masters 1000 Monte Carlo",
          "Vienna",
          "Basel",
          "Vienna",
          "Barcelona",
          "Vienna",
          "Basel",
          "Barcelona",
          "Basel",
          "Halle",
          "London / Queen's Club",
          "Valencia",
          "Valencia",
          "Barcelona",
          "Basel",
          "Barcelona",
          "London / Queen's Club",
          "Halle",
          "Rotterdam",
          "Valencia",
          "Barcelona",
          "Basel",
          "Valencia",
          "Valencia",
          "Rotterdam",
          "Barcelona",
          "Barcelona",
          "Basel",
          "London / Queen's Club",
          "Halle",
          "Basel",
          "London / Queen's Club",
          "Basel",
          "Hamburg",
          "Rotterdam",
          "Basel",
          "Halle",
          "Basel",
          "Hamburg",
          "Rotterdam",
          "Halle",
          "London / Queen's Club",
          "Hamburg",
          "Rotterdam",
          "Rotterdam",
          "Hamburg",
          "Rotterdam",
          "Rotterdam",
          "Rotterdam",
          "Rotterdam",
          "Hamburg",
          "Hamburg",
          "Next Gen ATP Finals",
          "Next Gen ATP Finals",
          "Hamburg",
          "Next Gen ATP Finals",
          "St. Petersburg",
          "St. Petersburg",
          "Hamburg",
          "Hamburg",
          "St. Petersburg",
          "Hamburg",
          "Moscow",
          "St. Petersburg",
          "St. Petersburg",
          "Moscow",
          "Moscow",
          "Halle",
          "London / Queen's Club",
          "Moscow",
          "London / Queen's Club",
          "Halle",
          "Moscow",
          "Moscow",
          "Moscow",
          "Stuttgart",
          "Halle",
          "Halle",
          "Halle",
          "Eastbourne",
          "Moscow",
          "Marseille",
          "Stuttgart",
          "Moscow",
          "Eastbourne",
          "Marseille",
          "London / Queen's Club",
          "London / Queen's Club",
          "s-Hertogenbosch",
          "Antwerp",
          "Stockholm",
          "Nottingham",
          "St. Petersburg",
          "St. Petersburg",
          "Stuttgart",
          "Moscow",
          "London / Queen's Club",
          "Eastbourne",
          "Marseille",
          "s-Hertogenbosch",
          "Stockholm",
          "Antwerp",
          "Stuttgart",
          "Marseille",
          "Stockholm",
          "Antwerp",
          "s-Hertogenbosch",
          "Vienna",
          "Montpellier",
          "Vienna",
          "Nottingham",
          "Stuttgart",
          "s-Hertogenbosch",
          "Stockholm",
          "Antwerp",
          "Marseille",
          "Marseille",
          "s-Hertogenbosch",
          "Valencia",
          "Stockholm",
          "Stockholm",
          "Stockholm",
          "Stockholm",
          "Marseille",
          "Stockholm",
          "Vienna",
          "Lyon",
          "Geneva",
          "Bastad",
          "Umag",
          "Munich",
          "Gstaad",
          "Kitzbühel",
          "Metz",
          "Estoril",
          "Budapest",
          "Sofia",
          "Montpellier",
          "Marseille",
          "Marseille",
          "Marseille",
          "Vienna",
          "Eastbourne",
          "Metz",
          "Montpellier",
          "Estoril",
          "Gstaad",
          "Umag",
          "Bastad",
          "Geneva",
          "Lyon",
          "Sofia",
          "Munich",
          "Budapest",
          "Kitzbühel",
          "Geneva",
          "Vienna",
          "Stockholm",
          "Geneva",
          "Munich",
          "Estoril",
          "Budapest",
          "Montpellier",
          "Lyon",
          "Bastad",
          "Umag",
          "Gstaad",
          "Kitzbühel",
          "Metz",
          "Sofia",
          "Eastbourne",
          "Metz",
          "Kitzbühel",
          "Sofia",
          "Bucharest",
          "Montpellier",
          "Estoril",
          "Bastad",
          "Munich",
          "Gstaad",
          "Nice",
          "Umag",
          "Antalya",
          "Istanbul",
          "Antalya",
          "Bucharest",
          "Bastad",
          "Estoril",
          "Istanbul",
          "Geneva",
          "Kitzbühel",
          "Metz",
          "Zagreb",
          "Munich",
          "Nice",
          "Gstaad",
          "Umag",
          "Montpellier",
          "Bastad",
          "St. Petersburg",
          "Istanbul",
          "Antalya",
          "Metz",
          "Umag",
          "Gstaad",
          "Bastad",
          "s-Hertogenbosch",
          "Nice",
          "Dusseldorf",
          "Oeiras",
          "Munich",
          "Bucharest",
          "Zagreb",
          "Montpellier",
          "Stuttgart",
          "Kitzbühel",
          "Istanbul",
          "Metz",
          "Zagreb",
          "Bucharest",
          "Munich",
          "Oeiras",
          "Dusseldorf",
          "Nice",
          "Montpellier",
          "Kitzbühel",
          "Gstaad",
          "Stuttgart",
          "s-Hertogenbosch",
          "Umag",
          "Eastbourne",
          "Eastbourne",
          "Eastbourne",
          "Gstaad",
          "s-Hertogenbosch",
          "Nice",
          "Umag",
          "Metz",
          "Gstaad",
          "Estoril",
          "Zagreb",
          "Montpellier",
          "Zagreb",
          "Kitzbühel",
          "s-Hertogenbosch",
          "Munich",
          "Estoril",
          "Stuttgart",
          "Umag",
          "Metz",
          "Bastad",
          "Bastad",
          "Nice",
          "s-Hertogenbosch",
          "Munich",
          "Munich",
          "Stuttgart",
          "Metz",
          "Estoril",
          "Nice",
          "Zagreb",
          "Bucharest",
          "St. Petersburg",
          "Belgrade",
          "Bucharest",
          "Bucharest",
          "Belgrade",
          "Belgrade",
          "Kitzbühel",
          "Bastad",
          "Gstaad",
          "Umag",
          "Stuttgart"
         ],
         "y": [
          21383214.6,
          21355876,
          19409787.2,
          19232738.8,
          17874634,
          17858456,
          17042915.25,
          15840354.2,
          15124331.2,
          14097831,
          13848316.8,
          12652547.6,
          12298259.2,
          10756718.4,
          9035260.2,
          9000000,
          8767009.68,
          8500000,
          8393306.4,
          8070519.68,
          8000000,
          7979745.4,
          7749510.842,
          7655464.078,
          7500000,
          7456266.4,
          7000000,
          6822201.658,
          6500000,
          6165396.688,
          6165396.688,
          6089150.036,
          6000000,
          5945822.938,
          5796731.031,
          5796731.031,
          5577157.281,
          5500000,
          5444076.958,
          5148378.985,
          5148378.985,
          5070000,
          5070000,
          4928805.235,
          4924663.941,
          4581896.8082,
          4578583.773,
          4578583.773,
          4359010.023,
          4230395.697,
          4077732.057,
          4077732.057,
          3945407.6,
          3939020,
          3858158.307,
          3675441.009,
          3675441.009,
          3455867.259,
          3411771.527,
          3411771.527,
          3192197.777,
          3141075.685,
          3141075.685,
          2974726.612,
          2968711.622,
          2927650,
          2927650,
          2927650,
          2927650,
          2927650,
          2923875.993,
          2921501.935,
          2791221.51,
          2772580.364,
          2708076.25,
          2626698.226,
          2600541.004,
          2591034.126,
          2585226.733,
          2474178.307,
          2439914.156,
          2411569.181,
          2363385.385,
          2362507.09,
          2362507.09,
          2346623.258,
          2311347.737,
          2306855.125,
          2291003.231,
          2264441.461,
          2253667.709,
          2253667.709,
          2234041.808,
          2221660.51,
          2206383.5,
          2152940.58,
          2149427.4,
          2149427.4,
          2125202.427,
          2123877,
          2123877,
          2117313.741,
          2093104.737,
          2093104.737,
          2059255.78,
          2053198.206,
          2038772.876,
          1975354.654,
          1974156.979,
          1956841.26,
          1944252.365,
          1868373,
          1866515.273,
          1834114.172,
          1806248.267,
          1806248.267,
          1734632.625,
          1704270.233,
          1677676.525,
          1612331.377,
          1599561.5,
          1597703.773,
          1538347,
          1538347,
          1498914.216,
          1407560.89,
          1400000,
          1335000,
          1309990.3,
          1275000,
          1248665,
          1241850,
          1187029,
          1187029,
          1091000,
          1080569,
          1080500,
          1064715,
          986380,
          936435,
          922520,
          861900.16,
          861900.16,
          855490,
          830031.3589999999,
          830031.3589999999,
          823600,
          823550,
          805500,
          803283.284,
          798450,
          798450,
          798450,
          794063.848,
          792645,
          792073.046,
          776455.364,
          771525,
          767667.091,
          765245.126,
          760071.17,
          757516.13,
          757223.365,
          757223.365,
          757223.365,
          750335.403,
          750000,
          750000,
          747322.585,
          742150,
          739098.55,
          738736.586,
          736543.51,
          730400.768,
          730400.768,
          730400.768,
          719291.667,
          708927.786,
          703035.225,
          703035.225,
          703035.225,
          691990,
          691990,
          691990,
          685671.599,
          683547.722,
          676707.667,
          676707.667,
          676707.667,
          673721.464,
          661712.776,
          643183.413,
          643183.413,
          643183.413,
          639361.499,
          638760,
          638760,
          637200.361,
          632058.343,
          632058.343,
          624004.644,
          624004.644,
          624004.644,
          624004.644,
          624004.644,
          624004.644,
          624004.644,
          624004.644,
          624004.644,
          624004.644,
          624004.644,
          624004.644,
          613209.6,
          613209.6,
          613209.6,
          608690.373,
          598667.164,
          597607.887,
          597607.887,
          597607.887,
          597607.887,
          597607.887,
          597607.887,
          597607.887,
          597607.887,
          597607.887,
          597607.887,
          597607.887,
          597607.887,
          592125.197,
          585530,
          585530,
          575214.026,
          575214.026,
          575214.026,
          575214.026,
          575214.026,
          575214.026,
          575214.026,
          575214.026,
          575214.026,
          575214.026,
          575214.026,
          575214.026,
          560043.476,
          553666.522,
          553666.522,
          553666.522,
          553666.522,
          553666.522,
          553666.522,
          553666.522,
          553666.522,
          553666.522,
          553666.522,
          553666.522,
          540273.854,
          529377.673,
          529377.673,
          526242.426,
          526242.426,
          526242.426,
          526242.426,
          526242.426,
          526242.426,
          526242.426,
          526242.426,
          526242.426,
          526242.426,
          526242.426,
          526242.426,
          526242.426,
          523112.502,
          519775,
          517549.967,
          517549.967,
          517140.096,
          517140.096,
          517140.096,
          517140.096,
          517140.096,
          517140.096,
          517140.096,
          517140.096,
          517140.096,
          517140.096,
          517140.096,
          517140.096,
          517140.096,
          517140.096,
          514286.968,
          498019.88,
          498019.88,
          498019.88,
          498019.88,
          498019.88,
          498019.88,
          498019.88,
          498019.88,
          498019.88,
          498019.88,
          498019.88,
          498019.88,
          498019.88,
          492563.805,
          486256.05,
          485138.22,
          479070,
          479070,
          479070,
          479070,
          479070,
          479070,
          479070,
          479070,
          479070,
          479070,
          479070,
          479070,
          479070,
          479070,
          479070,
          479070,
          479070,
          479070,
          479070,
          479070,
          479070,
          479070,
          479070,
          479070,
          479070,
          479070,
          479070,
          479070,
          479070,
          468350,
          452401.77,
          450272.57,
          447344.92,
          445748.02,
          443565.59,
          436672.305,
          436672.305,
          436672.305,
          436672.305,
          436672.305
         ]
        }
       ],
       "layout": {
        "plot_bgcolor": "white",
        "template": {
         "data": {
          "bar": [
           {
            "error_x": {
             "color": "#2a3f5f"
            },
            "error_y": {
             "color": "#2a3f5f"
            },
            "marker": {
             "line": {
              "color": "#E5ECF6",
              "width": 0.5
             },
             "pattern": {
              "fillmode": "overlay",
              "size": 10,
              "solidity": 0.2
             }
            },
            "type": "bar"
           }
          ],
          "barpolar": [
           {
            "marker": {
             "line": {
              "color": "#E5ECF6",
              "width": 0.5
             },
             "pattern": {
              "fillmode": "overlay",
              "size": 10,
              "solidity": 0.2
             }
            },
            "type": "barpolar"
           }
          ],
          "carpet": [
           {
            "aaxis": {
             "endlinecolor": "#2a3f5f",
             "gridcolor": "white",
             "linecolor": "white",
             "minorgridcolor": "white",
             "startlinecolor": "#2a3f5f"
            },
            "baxis": {
             "endlinecolor": "#2a3f5f",
             "gridcolor": "white",
             "linecolor": "white",
             "minorgridcolor": "white",
             "startlinecolor": "#2a3f5f"
            },
            "type": "carpet"
           }
          ],
          "choropleth": [
           {
            "colorbar": {
             "outlinewidth": 0,
             "ticks": ""
            },
            "type": "choropleth"
           }
          ],
          "contour": [
           {
            "colorbar": {
             "outlinewidth": 0,
             "ticks": ""
            },
            "colorscale": [
             [
              0,
              "#0d0887"
             ],
             [
              0.1111111111111111,
              "#46039f"
             ],
             [
              0.2222222222222222,
              "#7201a8"
             ],
             [
              0.3333333333333333,
              "#9c179e"
             ],
             [
              0.4444444444444444,
              "#bd3786"
             ],
             [
              0.5555555555555556,
              "#d8576b"
             ],
             [
              0.6666666666666666,
              "#ed7953"
             ],
             [
              0.7777777777777778,
              "#fb9f3a"
             ],
             [
              0.8888888888888888,
              "#fdca26"
             ],
             [
              1,
              "#f0f921"
             ]
            ],
            "type": "contour"
           }
          ],
          "contourcarpet": [
           {
            "colorbar": {
             "outlinewidth": 0,
             "ticks": ""
            },
            "type": "contourcarpet"
           }
          ],
          "heatmap": [
           {
            "colorbar": {
             "outlinewidth": 0,
             "ticks": ""
            },
            "colorscale": [
             [
              0,
              "#0d0887"
             ],
             [
              0.1111111111111111,
              "#46039f"
             ],
             [
              0.2222222222222222,
              "#7201a8"
             ],
             [
              0.3333333333333333,
              "#9c179e"
             ],
             [
              0.4444444444444444,
              "#bd3786"
             ],
             [
              0.5555555555555556,
              "#d8576b"
             ],
             [
              0.6666666666666666,
              "#ed7953"
             ],
             [
              0.7777777777777778,
              "#fb9f3a"
             ],
             [
              0.8888888888888888,
              "#fdca26"
             ],
             [
              1,
              "#f0f921"
             ]
            ],
            "type": "heatmap"
           }
          ],
          "heatmapgl": [
           {
            "colorbar": {
             "outlinewidth": 0,
             "ticks": ""
            },
            "colorscale": [
             [
              0,
              "#0d0887"
             ],
             [
              0.1111111111111111,
              "#46039f"
             ],
             [
              0.2222222222222222,
              "#7201a8"
             ],
             [
              0.3333333333333333,
              "#9c179e"
             ],
             [
              0.4444444444444444,
              "#bd3786"
             ],
             [
              0.5555555555555556,
              "#d8576b"
             ],
             [
              0.6666666666666666,
              "#ed7953"
             ],
             [
              0.7777777777777778,
              "#fb9f3a"
             ],
             [
              0.8888888888888888,
              "#fdca26"
             ],
             [
              1,
              "#f0f921"
             ]
            ],
            "type": "heatmapgl"
           }
          ],
          "histogram": [
           {
            "marker": {
             "pattern": {
              "fillmode": "overlay",
              "size": 10,
              "solidity": 0.2
             }
            },
            "type": "histogram"
           }
          ],
          "histogram2d": [
           {
            "colorbar": {
             "outlinewidth": 0,
             "ticks": ""
            },
            "colorscale": [
             [
              0,
              "#0d0887"
             ],
             [
              0.1111111111111111,
              "#46039f"
             ],
             [
              0.2222222222222222,
              "#7201a8"
             ],
             [
              0.3333333333333333,
              "#9c179e"
             ],
             [
              0.4444444444444444,
              "#bd3786"
             ],
             [
              0.5555555555555556,
              "#d8576b"
             ],
             [
              0.6666666666666666,
              "#ed7953"
             ],
             [
              0.7777777777777778,
              "#fb9f3a"
             ],
             [
              0.8888888888888888,
              "#fdca26"
             ],
             [
              1,
              "#f0f921"
             ]
            ],
            "type": "histogram2d"
           }
          ],
          "histogram2dcontour": [
           {
            "colorbar": {
             "outlinewidth": 0,
             "ticks": ""
            },
            "colorscale": [
             [
              0,
              "#0d0887"
             ],
             [
              0.1111111111111111,
              "#46039f"
             ],
             [
              0.2222222222222222,
              "#7201a8"
             ],
             [
              0.3333333333333333,
              "#9c179e"
             ],
             [
              0.4444444444444444,
              "#bd3786"
             ],
             [
              0.5555555555555556,
              "#d8576b"
             ],
             [
              0.6666666666666666,
              "#ed7953"
             ],
             [
              0.7777777777777778,
              "#fb9f3a"
             ],
             [
              0.8888888888888888,
              "#fdca26"
             ],
             [
              1,
              "#f0f921"
             ]
            ],
            "type": "histogram2dcontour"
           }
          ],
          "mesh3d": [
           {
            "colorbar": {
             "outlinewidth": 0,
             "ticks": ""
            },
            "type": "mesh3d"
           }
          ],
          "parcoords": [
           {
            "line": {
             "colorbar": {
              "outlinewidth": 0,
              "ticks": ""
             }
            },
            "type": "parcoords"
           }
          ],
          "pie": [
           {
            "automargin": true,
            "type": "pie"
           }
          ],
          "scatter": [
           {
            "fillpattern": {
             "fillmode": "overlay",
             "size": 10,
             "solidity": 0.2
            },
            "type": "scatter"
           }
          ],
          "scatter3d": [
           {
            "line": {
             "colorbar": {
              "outlinewidth": 0,
              "ticks": ""
             }
            },
            "marker": {
             "colorbar": {
              "outlinewidth": 0,
              "ticks": ""
             }
            },
            "type": "scatter3d"
           }
          ],
          "scattercarpet": [
           {
            "marker": {
             "colorbar": {
              "outlinewidth": 0,
              "ticks": ""
             }
            },
            "type": "scattercarpet"
           }
          ],
          "scattergeo": [
           {
            "marker": {
             "colorbar": {
              "outlinewidth": 0,
              "ticks": ""
             }
            },
            "type": "scattergeo"
           }
          ],
          "scattergl": [
           {
            "marker": {
             "colorbar": {
              "outlinewidth": 0,
              "ticks": ""
             }
            },
            "type": "scattergl"
           }
          ],
          "scattermapbox": [
           {
            "marker": {
             "colorbar": {
              "outlinewidth": 0,
              "ticks": ""
             }
            },
            "type": "scattermapbox"
           }
          ],
          "scatterpolar": [
           {
            "marker": {
             "colorbar": {
              "outlinewidth": 0,
              "ticks": ""
             }
            },
            "type": "scatterpolar"
           }
          ],
          "scatterpolargl": [
           {
            "marker": {
             "colorbar": {
              "outlinewidth": 0,
              "ticks": ""
             }
            },
            "type": "scatterpolargl"
           }
          ],
          "scatterternary": [
           {
            "marker": {
             "colorbar": {
              "outlinewidth": 0,
              "ticks": ""
             }
            },
            "type": "scatterternary"
           }
          ],
          "surface": [
           {
            "colorbar": {
             "outlinewidth": 0,
             "ticks": ""
            },
            "colorscale": [
             [
              0,
              "#0d0887"
             ],
             [
              0.1111111111111111,
              "#46039f"
             ],
             [
              0.2222222222222222,
              "#7201a8"
             ],
             [
              0.3333333333333333,
              "#9c179e"
             ],
             [
              0.4444444444444444,
              "#bd3786"
             ],
             [
              0.5555555555555556,
              "#d8576b"
             ],
             [
              0.6666666666666666,
              "#ed7953"
             ],
             [
              0.7777777777777778,
              "#fb9f3a"
             ],
             [
              0.8888888888888888,
              "#fdca26"
             ],
             [
              1,
              "#f0f921"
             ]
            ],
            "type": "surface"
           }
          ],
          "table": [
           {
            "cells": {
             "fill": {
              "color": "#EBF0F8"
             },
             "line": {
              "color": "white"
             }
            },
            "header": {
             "fill": {
              "color": "#C8D4E3"
             },
             "line": {
              "color": "white"
             }
            },
            "type": "table"
           }
          ]
         },
         "layout": {
          "annotationdefaults": {
           "arrowcolor": "#2a3f5f",
           "arrowhead": 0,
           "arrowwidth": 1
          },
          "autotypenumbers": "strict",
          "coloraxis": {
           "colorbar": {
            "outlinewidth": 0,
            "ticks": ""
           }
          },
          "colorscale": {
           "diverging": [
            [
             0,
             "#8e0152"
            ],
            [
             0.1,
             "#c51b7d"
            ],
            [
             0.2,
             "#de77ae"
            ],
            [
             0.3,
             "#f1b6da"
            ],
            [
             0.4,
             "#fde0ef"
            ],
            [
             0.5,
             "#f7f7f7"
            ],
            [
             0.6,
             "#e6f5d0"
            ],
            [
             0.7,
             "#b8e186"
            ],
            [
             0.8,
             "#7fbc41"
            ],
            [
             0.9,
             "#4d9221"
            ],
            [
             1,
             "#276419"
            ]
           ],
           "sequential": [
            [
             0,
             "#0d0887"
            ],
            [
             0.1111111111111111,
             "#46039f"
            ],
            [
             0.2222222222222222,
             "#7201a8"
            ],
            [
             0.3333333333333333,
             "#9c179e"
            ],
            [
             0.4444444444444444,
             "#bd3786"
            ],
            [
             0.5555555555555556,
             "#d8576b"
            ],
            [
             0.6666666666666666,
             "#ed7953"
            ],
            [
             0.7777777777777778,
             "#fb9f3a"
            ],
            [
             0.8888888888888888,
             "#fdca26"
            ],
            [
             1,
             "#f0f921"
            ]
           ],
           "sequentialminus": [
            [
             0,
             "#0d0887"
            ],
            [
             0.1111111111111111,
             "#46039f"
            ],
            [
             0.2222222222222222,
             "#7201a8"
            ],
            [
             0.3333333333333333,
             "#9c179e"
            ],
            [
             0.4444444444444444,
             "#bd3786"
            ],
            [
             0.5555555555555556,
             "#d8576b"
            ],
            [
             0.6666666666666666,
             "#ed7953"
            ],
            [
             0.7777777777777778,
             "#fb9f3a"
            ],
            [
             0.8888888888888888,
             "#fdca26"
            ],
            [
             1,
             "#f0f921"
            ]
           ]
          },
          "colorway": [
           "#636efa",
           "#EF553B",
           "#00cc96",
           "#ab63fa",
           "#FFA15A",
           "#19d3f3",
           "#FF6692",
           "#B6E880",
           "#FF97FF",
           "#FECB52"
          ],
          "font": {
           "color": "#2a3f5f"
          },
          "geo": {
           "bgcolor": "white",
           "lakecolor": "white",
           "landcolor": "#E5ECF6",
           "showlakes": true,
           "showland": true,
           "subunitcolor": "white"
          },
          "hoverlabel": {
           "align": "left"
          },
          "hovermode": "closest",
          "mapbox": {
           "style": "light"
          },
          "paper_bgcolor": "white",
          "plot_bgcolor": "#E5ECF6",
          "polar": {
           "angularaxis": {
            "gridcolor": "white",
            "linecolor": "white",
            "ticks": ""
           },
           "bgcolor": "#E5ECF6",
           "radialaxis": {
            "gridcolor": "white",
            "linecolor": "white",
            "ticks": ""
           }
          },
          "scene": {
           "xaxis": {
            "backgroundcolor": "#E5ECF6",
            "gridcolor": "white",
            "gridwidth": 2,
            "linecolor": "white",
            "showbackground": true,
            "ticks": "",
            "zerolinecolor": "white"
           },
           "yaxis": {
            "backgroundcolor": "#E5ECF6",
            "gridcolor": "white",
            "gridwidth": 2,
            "linecolor": "white",
            "showbackground": true,
            "ticks": "",
            "zerolinecolor": "white"
           },
           "zaxis": {
            "backgroundcolor": "#E5ECF6",
            "gridcolor": "white",
            "gridwidth": 2,
            "linecolor": "white",
            "showbackground": true,
            "ticks": "",
            "zerolinecolor": "white"
           }
          },
          "shapedefaults": {
           "line": {
            "color": "#2a3f5f"
           }
          },
          "ternary": {
           "aaxis": {
            "gridcolor": "white",
            "linecolor": "white",
            "ticks": ""
           },
           "baxis": {
            "gridcolor": "white",
            "linecolor": "white",
            "ticks": ""
           },
           "bgcolor": "#E5ECF6",
           "caxis": {
            "gridcolor": "white",
            "linecolor": "white",
            "ticks": ""
           }
          },
          "title": {
           "x": 0.05
          },
          "xaxis": {
           "automargin": true,
           "gridcolor": "white",
           "linecolor": "white",
           "ticks": "",
           "title": {
            "standoff": 15
           },
           "zerolinecolor": "white",
           "zerolinewidth": 2
          },
          "yaxis": {
           "automargin": true,
           "gridcolor": "white",
           "linecolor": "white",
           "ticks": "",
           "title": {
            "standoff": 15
           },
           "zerolinecolor": "white",
           "zerolinewidth": 2
          }
         }
        },
        "title": {
         "font": {
          "size": 24
         },
         "text": "<b>Most Valuable Tournaments</b>",
         "x": 0.5,
         "y": 0.9
        },
        "updatemenus": [
         {
          "active": 0,
          "buttons": [
           {
            "args": [
             {
              "visible": [
               true,
               true,
               true,
               true,
               true,
               true
              ]
             },
             {
              "yaxis": {
               "range": [
                0,
                34343220
               ]
              }
             }
            ],
            "label": "All Regions",
            "method": "update"
           },
           {
            "args": [
             {
              "visible": [
               true,
               false,
               false,
               false,
               false,
               false
              ]
             },
             {
              "yaxis": {
               "range": [
                0,
                23451542.52
               ]
              }
             }
            ],
            "label": "Oceania",
            "method": "update"
           },
           {
            "args": [
             {
              "visible": [
               false,
               true,
               false,
               false,
               false,
               false
              ]
             },
             {
              "yaxis": {
               "range": [
                0,
                11063964
               ]
              }
             }
            ],
            "label": "Asia",
            "method": "update"
           },
           {
            "args": [
             {
              "visible": [
               false,
               false,
               true,
               false,
               false,
               false
              ]
             },
             {
              "yaxis": {
               "range": [
                0,
                748805.5728
               ]
              }
             }
            ],
            "label": "Africa",
            "method": "update"
           },
           {
            "args": [
             {
              "visible": [
               false,
               false,
               false,
               true,
               false,
               false
              ]
             },
             {
              "yaxis": {
               "range": [
                0,
                2325288
               ]
              }
             }
            ],
            "label": "South America",
            "method": "update"
           },
           {
            "args": [
             {
              "visible": [
               false,
               false,
               false,
               false,
               true,
               false
              ]
             },
             {
              "yaxis": {
               "range": [
                0,
                34343220
               ]
              }
             }
            ],
            "label": "North America",
            "method": "update"
           },
           {
            "args": [
             {
              "visible": [
               false,
               false,
               false,
               false,
               false,
               true
              ]
             },
             {
              "yaxis": {
               "range": [
                0,
                25659857.52
               ]
              }
             }
            ],
            "label": "Europe",
            "method": "update"
           }
          ],
          "type": "dropdown"
         }
        ],
        "xaxis": {
         "autorange": true,
         "gridcolor": "lightgray",
         "showgrid": true,
         "title": {
          "text": "Tourney Name"
         }
        },
        "yaxis": {
         "autorange": true,
         "gridcolor": "lightgray",
         "showgrid": true,
         "title": {
          "text": "Tourney Prize"
         }
        }
       }
      }
     },
     "metadata": {},
     "output_type": "display_data"
    }
   ],
   "source": [
    "# Create a dictionary with continents as keys and their corresponding tournament data as values\n",
    "continent_data = {}\n",
    "for continent in df_tournaments['Region'].unique():\n",
    "    continent_data[continent] = df_tournaments.loc[df_tournaments['Region'] == continent]\n",
    "\n",
    "# Create an empty graph object\n",
    "fig_bar = go.Figure()\n",
    "\n",
    "# Add traces to the figure for each continent\n",
    "for continent, data in continent_data.items():\n",
    "    data = data.sort_values('tourney_fin_commit_USD', ascending=False) # sort data in descending order\n",
    "    fig_bar.add_trace(dict(type='bar',\n",
    "                     x=data['tourney_name'],\n",
    "                     y=data['tourney_fin_commit_USD'],\n",
    "                     name=continent,\n",
    "                     visible=True))\n",
    "                     #marker_color='gray'))\n",
    "\n",
    "# Create a dropdown menu to select continents\n",
    "buttons = []\n",
    "for i, continent in enumerate(continent_data.keys()):\n",
    "    visible = [False] * len(continent_data)\n",
    "    visible[i] = True\n",
    "    button = dict(label=continent,\n",
    "                  method='update',\n",
    "                  args=[{'visible': visible},\n",
    "                        {'yaxis': {'range': [0, 1.2 * continent_data[continent]['tourney_fin_commit_USD'].max()]}}])\n",
    "    buttons.append(button)\n",
    "\n",
    "# Add a default button that shows all continents\n",
    "visible = [True] * len(continent_data)\n",
    "button = dict(label='All Regions',\n",
    "              method='update',\n",
    "              args=[{'visible': visible},\n",
    "                    {'yaxis': {'range': [0, 1.2 * df_tournaments['tourney_fin_commit_USD'].max()]}}])\n",
    "buttons.insert(0, button)\n",
    "\n",
    "updatemenus = [dict(type='dropdown',\n",
    "                    active=0,\n",
    "                    buttons=buttons)]\n",
    "\n",
    "# Update the layout with the dropdown menu and better y-axis scaling\n",
    "fig_bar.update_layout(dict(title=dict(text='<b>Most Valuable Tournaments</b>',\n",
    "                                      font=dict(size=24),\n",
    "                                      x=0.5, y=0.9),\n",
    "                           updatemenus=updatemenus,\n",
    "                            yaxis=dict(showgrid=True,\n",
    "                                       gridcolor='lightgray',\n",
    "                                       autorange=True,\n",
    "                                       title='Tourney Prize'),\n",
    "                           xaxis=dict(showgrid=True,\n",
    "                                       gridcolor='lightgray',\n",
    "                                       title='Tourney Name',\n",
    "                                       autorange=True),\n",
    "                            plot_bgcolor='white'))\n",
    "\n",
    "fig_bar.show()"
   ]
  },
  {
   "cell_type": "markdown",
   "id": "5582c7dd",
   "metadata": {},
   "source": [
    "## Facts\n",
    "\n",
    "### Maior tempo de jogo"
   ]
  },
  {
   "cell_type": "code",
   "execution_count": null,
   "id": "bf9fafa1",
   "metadata": {},
   "outputs": [
    {
     "data": {
      "text/html": [
       "<div>\n",
       "<style scoped>\n",
       "    .dataframe tbody tr th:only-of-type {\n",
       "        vertical-align: middle;\n",
       "    }\n",
       "\n",
       "    .dataframe tbody tr th {\n",
       "        vertical-align: top;\n",
       "    }\n",
       "\n",
       "    .dataframe thead th {\n",
       "        text-align: right;\n",
       "    }\n",
       "</style>\n",
       "<table border=\"1\" class=\"dataframe\">\n",
       "  <thead>\n",
       "    <tr style=\"text-align: right;\">\n",
       "      <th></th>\n",
       "      <th>Unnamed: 0</th>\n",
       "      <th>tourney_year_id</th>\n",
       "      <th>tourney_order</th>\n",
       "      <th>tourney_type</th>\n",
       "      <th>tourney_name</th>\n",
       "      <th>tourney_id</th>\n",
       "      <th>tourney_slug</th>\n",
       "      <th>tourney_location</th>\n",
       "      <th>tourney_date</th>\n",
       "      <th>tourney_singles_draw</th>\n",
       "      <th>tourney_doubles_draw</th>\n",
       "      <th>tourney_conditions</th>\n",
       "      <th>tourney_surface</th>\n",
       "      <th>singles_winner_name</th>\n",
       "      <th>singles_winner_player_slug</th>\n",
       "      <th>singles_winner_player_id</th>\n",
       "      <th>doubles_winner_1_name</th>\n",
       "      <th>doubles_winner_1_player_slug</th>\n",
       "      <th>doubles_winner_1_player_id</th>\n",
       "      <th>doubles_winner_2_name</th>\n",
       "      <th>doubles_winner_2_player_slug</th>\n",
       "      <th>doubles_winner_2_player_id</th>\n",
       "      <th>tourney_fin_commit_USD</th>\n",
       "      <th>Continent</th>\n",
       "    </tr>\n",
       "  </thead>\n",
       "  <tbody>\n",
       "    <tr>\n",
       "      <th>0</th>\n",
       "      <td>0</td>\n",
       "      <td>2010-339</td>\n",
       "      <td>1</td>\n",
       "      <td>ATP 250</td>\n",
       "      <td>Brisbane</td>\n",
       "      <td>339</td>\n",
       "      <td>brisbane</td>\n",
       "      <td>Brisbane</td>\n",
       "      <td>2010-01-03</td>\n",
       "      <td>32</td>\n",
       "      <td>16</td>\n",
       "      <td>Outdoor</td>\n",
       "      <td>Hard</td>\n",
       "      <td>Andy Roddick</td>\n",
       "      <td>andy-roddick</td>\n",
       "      <td>r485</td>\n",
       "      <td>Jeremy Chardy</td>\n",
       "      <td>jeremy-chardy</td>\n",
       "      <td>ca12</td>\n",
       "      <td>Marc Gicquel</td>\n",
       "      <td>marc-gicquel</td>\n",
       "      <td>g436</td>\n",
       "      <td>424250.0</td>\n",
       "      <td>Oceania</td>\n",
       "    </tr>\n",
       "    <tr>\n",
       "      <th>1</th>\n",
       "      <td>1</td>\n",
       "      <td>2010-451</td>\n",
       "      <td>2</td>\n",
       "      <td>ATP 250</td>\n",
       "      <td>Doha</td>\n",
       "      <td>451</td>\n",
       "      <td>doha</td>\n",
       "      <td>Doha</td>\n",
       "      <td>2010-01-04</td>\n",
       "      <td>32</td>\n",
       "      <td>16</td>\n",
       "      <td>Outdoor</td>\n",
       "      <td>Hard</td>\n",
       "      <td>Nikolay Davydenko</td>\n",
       "      <td>nikolay-davydenko</td>\n",
       "      <td>d402</td>\n",
       "      <td>Guillermo Garcia-Lopez</td>\n",
       "      <td>guillermo-garcia-lopez</td>\n",
       "      <td>g476</td>\n",
       "      <td>Albert Montanes</td>\n",
       "      <td>albert-montanes</td>\n",
       "      <td>m824</td>\n",
       "      <td>1110250.0</td>\n",
       "      <td>Asia</td>\n",
       "    </tr>\n",
       "    <tr>\n",
       "      <th>2</th>\n",
       "      <td>2</td>\n",
       "      <td>2010-891</td>\n",
       "      <td>3</td>\n",
       "      <td>ATP 250</td>\n",
       "      <td>Chennai</td>\n",
       "      <td>891</td>\n",
       "      <td>chennai</td>\n",
       "      <td>Chennai</td>\n",
       "      <td>2010-01-04</td>\n",
       "      <td>32</td>\n",
       "      <td>16</td>\n",
       "      <td>Outdoor</td>\n",
       "      <td>Hard</td>\n",
       "      <td>Marin Cilic</td>\n",
       "      <td>marin-cilic</td>\n",
       "      <td>c977</td>\n",
       "      <td>Marcel Granollers</td>\n",
       "      <td>marcel-granollers</td>\n",
       "      <td>g710</td>\n",
       "      <td>Santiago Ventura</td>\n",
       "      <td>santiago-ventura</td>\n",
       "      <td>v251</td>\n",
       "      <td>450000.0</td>\n",
       "      <td>Asia</td>\n",
       "    </tr>\n",
       "    <tr>\n",
       "      <th>3</th>\n",
       "      <td>3</td>\n",
       "      <td>2010-338</td>\n",
       "      <td>4</td>\n",
       "      <td>ATP 250</td>\n",
       "      <td>Sydney</td>\n",
       "      <td>338</td>\n",
       "      <td>sydney</td>\n",
       "      <td>Sydney</td>\n",
       "      <td>2010-01-11</td>\n",
       "      <td>28</td>\n",
       "      <td>16</td>\n",
       "      <td>Outdoor</td>\n",
       "      <td>Hard</td>\n",
       "      <td>Marcos Baghdatis</td>\n",
       "      <td>marcos-baghdatis</td>\n",
       "      <td>b837</td>\n",
       "      <td>Daniel Nestor</td>\n",
       "      <td>daniel-nestor</td>\n",
       "      <td>n210</td>\n",
       "      <td>Nenad Zimonjic</td>\n",
       "      <td>nenad-zimonjic</td>\n",
       "      <td>z072</td>\n",
       "      <td>424250.0</td>\n",
       "      <td>Oceania</td>\n",
       "    </tr>\n",
       "    <tr>\n",
       "      <th>4</th>\n",
       "      <td>4</td>\n",
       "      <td>2010-301</td>\n",
       "      <td>5</td>\n",
       "      <td>ATP 250</td>\n",
       "      <td>Auckland</td>\n",
       "      <td>301</td>\n",
       "      <td>auckland</td>\n",
       "      <td>Auckland</td>\n",
       "      <td>2010-01-11</td>\n",
       "      <td>28</td>\n",
       "      <td>16</td>\n",
       "      <td>Outdoor</td>\n",
       "      <td>Hard</td>\n",
       "      <td>John Isner</td>\n",
       "      <td>john-isner</td>\n",
       "      <td>i186</td>\n",
       "      <td>Marcus Daniell</td>\n",
       "      <td>marcus-daniell</td>\n",
       "      <td>d763</td>\n",
       "      <td>Horia Tecau</td>\n",
       "      <td>horia-tecau</td>\n",
       "      <td>t749</td>\n",
       "      <td>407250.0</td>\n",
       "      <td>Oceania</td>\n",
       "    </tr>\n",
       "    <tr>\n",
       "      <th>...</th>\n",
       "      <td>...</td>\n",
       "      <td>...</td>\n",
       "      <td>...</td>\n",
       "      <td>...</td>\n",
       "      <td>...</td>\n",
       "      <td>...</td>\n",
       "      <td>...</td>\n",
       "      <td>...</td>\n",
       "      <td>...</td>\n",
       "      <td>...</td>\n",
       "      <td>...</td>\n",
       "      <td>...</td>\n",
       "      <td>...</td>\n",
       "      <td>...</td>\n",
       "      <td>...</td>\n",
       "      <td>...</td>\n",
       "      <td>...</td>\n",
       "      <td>...</td>\n",
       "      <td>...</td>\n",
       "      <td>...</td>\n",
       "      <td>...</td>\n",
       "      <td>...</td>\n",
       "      <td>...</td>\n",
       "      <td>...</td>\n",
       "    </tr>\n",
       "    <tr>\n",
       "      <th>655</th>\n",
       "      <td>655</td>\n",
       "      <td>2015-540</td>\n",
       "      <td>39</td>\n",
       "      <td>Grand Slam</td>\n",
       "      <td>Wimbledon</td>\n",
       "      <td>540</td>\n",
       "      <td>wimbledon</td>\n",
       "      <td>London, Great Britain</td>\n",
       "      <td>2015-06-29</td>\n",
       "      <td>128</td>\n",
       "      <td>64</td>\n",
       "      <td>Outdoor</td>\n",
       "      <td>Grass</td>\n",
       "      <td>Novak Djokovic</td>\n",
       "      <td>novak-djokovic</td>\n",
       "      <td>d643</td>\n",
       "      <td>Jean-Julien Rojer</td>\n",
       "      <td>jean-julien-rojer</td>\n",
       "      <td>r513</td>\n",
       "      <td>Horia Tecau</td>\n",
       "      <td>horia-tecau</td>\n",
       "      <td>t749</td>\n",
       "      <td>15124331.2</td>\n",
       "      <td>Europe</td>\n",
       "    </tr>\n",
       "    <tr>\n",
       "      <th>656</th>\n",
       "      <td>656</td>\n",
       "      <td>2016-540</td>\n",
       "      <td>39</td>\n",
       "      <td>Grand Slam</td>\n",
       "      <td>Wimbledon</td>\n",
       "      <td>540</td>\n",
       "      <td>wimbledon</td>\n",
       "      <td>London, Great Britain</td>\n",
       "      <td>2016-06-27</td>\n",
       "      <td>128</td>\n",
       "      <td>64</td>\n",
       "      <td>Outdoor</td>\n",
       "      <td>Grass</td>\n",
       "      <td>Andy Murray</td>\n",
       "      <td>andy-murray</td>\n",
       "      <td>mc10</td>\n",
       "      <td>Pierre-Hugues Herbert</td>\n",
       "      <td>pierre-hugues-herbert</td>\n",
       "      <td>h996</td>\n",
       "      <td>Nicolas Mahut</td>\n",
       "      <td>nicolas-mahut</td>\n",
       "      <td>m873</td>\n",
       "      <td>15840354.2</td>\n",
       "      <td>Europe</td>\n",
       "    </tr>\n",
       "    <tr>\n",
       "      <th>657</th>\n",
       "      <td>657</td>\n",
       "      <td>2017-540</td>\n",
       "      <td>40</td>\n",
       "      <td>Grand Slam</td>\n",
       "      <td>Wimbledon</td>\n",
       "      <td>540</td>\n",
       "      <td>wimbledon</td>\n",
       "      <td>London, Great Britain</td>\n",
       "      <td>2017-07-03</td>\n",
       "      <td>128</td>\n",
       "      <td>64</td>\n",
       "      <td>Outdoor</td>\n",
       "      <td>Grass</td>\n",
       "      <td>Roger Federer</td>\n",
       "      <td>roger-federer</td>\n",
       "      <td>f324</td>\n",
       "      <td>Lukasz Kubot</td>\n",
       "      <td>lukasz-kubot</td>\n",
       "      <td>k540</td>\n",
       "      <td>Marcelo Melo</td>\n",
       "      <td>marcelo-melo</td>\n",
       "      <td>m919</td>\n",
       "      <td>17858456.0</td>\n",
       "      <td>Europe</td>\n",
       "    </tr>\n",
       "    <tr>\n",
       "      <th>658</th>\n",
       "      <td>658</td>\n",
       "      <td>2018-540</td>\n",
       "      <td>40</td>\n",
       "      <td>Grand Slam</td>\n",
       "      <td>Wimbledon</td>\n",
       "      <td>540</td>\n",
       "      <td>wimbledon</td>\n",
       "      <td>London, Great Britain</td>\n",
       "      <td>2018-07-02</td>\n",
       "      <td>128</td>\n",
       "      <td>64</td>\n",
       "      <td>Outdoor</td>\n",
       "      <td>Grass</td>\n",
       "      <td>Novak Djokovic</td>\n",
       "      <td>novak-djokovic</td>\n",
       "      <td>d643</td>\n",
       "      <td>Mike Bryan</td>\n",
       "      <td>mike-bryan</td>\n",
       "      <td>b589</td>\n",
       "      <td>Jack Sock</td>\n",
       "      <td>jack-sock</td>\n",
       "      <td>sm25</td>\n",
       "      <td>19232738.8</td>\n",
       "      <td>Europe</td>\n",
       "    </tr>\n",
       "    <tr>\n",
       "      <th>659</th>\n",
       "      <td>659</td>\n",
       "      <td>2019-540</td>\n",
       "      <td>39</td>\n",
       "      <td>Grand Slam</td>\n",
       "      <td>Wimbledon</td>\n",
       "      <td>540</td>\n",
       "      <td>wimbledon</td>\n",
       "      <td>London, Great Britain</td>\n",
       "      <td>2019-07-01</td>\n",
       "      <td>128</td>\n",
       "      <td>64</td>\n",
       "      <td>Outdoor</td>\n",
       "      <td>Grass</td>\n",
       "      <td>Novak Djokovic</td>\n",
       "      <td>novak-djokovic</td>\n",
       "      <td>d643</td>\n",
       "      <td>Juan Sebastian Cabal</td>\n",
       "      <td>juan-sebastian-cabal</td>\n",
       "      <td>c834</td>\n",
       "      <td>Robert Farah</td>\n",
       "      <td>robert-farah</td>\n",
       "      <td>f525</td>\n",
       "      <td>21383214.6</td>\n",
       "      <td>Europe</td>\n",
       "    </tr>\n",
       "  </tbody>\n",
       "</table>\n",
       "<p>660 rows × 24 columns</p>\n",
       "</div>"
      ],
      "text/plain": [
       "     Unnamed: 0 tourney_year_id  tourney_order tourney_type tourney_name  \\\n",
       "0             0        2010-339              1      ATP 250     Brisbane   \n",
       "1             1        2010-451              2      ATP 250         Doha   \n",
       "2             2        2010-891              3      ATP 250      Chennai   \n",
       "3             3        2010-338              4      ATP 250       Sydney   \n",
       "4             4        2010-301              5      ATP 250     Auckland   \n",
       "..          ...             ...            ...          ...          ...   \n",
       "655         655        2015-540             39   Grand Slam    Wimbledon   \n",
       "656         656        2016-540             39   Grand Slam    Wimbledon   \n",
       "657         657        2017-540             40   Grand Slam    Wimbledon   \n",
       "658         658        2018-540             40   Grand Slam    Wimbledon   \n",
       "659         659        2019-540             39   Grand Slam    Wimbledon   \n",
       "\n",
       "     tourney_id tourney_slug       tourney_location tourney_date  \\\n",
       "0           339     brisbane               Brisbane   2010-01-03   \n",
       "1           451         doha                   Doha   2010-01-04   \n",
       "2           891      chennai                Chennai   2010-01-04   \n",
       "3           338       sydney                 Sydney   2010-01-11   \n",
       "4           301     auckland               Auckland   2010-01-11   \n",
       "..          ...          ...                    ...          ...   \n",
       "655         540    wimbledon  London, Great Britain   2015-06-29   \n",
       "656         540    wimbledon  London, Great Britain   2016-06-27   \n",
       "657         540    wimbledon  London, Great Britain   2017-07-03   \n",
       "658         540    wimbledon  London, Great Britain   2018-07-02   \n",
       "659         540    wimbledon  London, Great Britain   2019-07-01   \n",
       "\n",
       "     tourney_singles_draw  tourney_doubles_draw tourney_conditions  \\\n",
       "0                      32                    16            Outdoor   \n",
       "1                      32                    16            Outdoor   \n",
       "2                      32                    16            Outdoor   \n",
       "3                      28                    16            Outdoor   \n",
       "4                      28                    16            Outdoor   \n",
       "..                    ...                   ...                ...   \n",
       "655                   128                    64            Outdoor   \n",
       "656                   128                    64            Outdoor   \n",
       "657                   128                    64            Outdoor   \n",
       "658                   128                    64            Outdoor   \n",
       "659                   128                    64            Outdoor   \n",
       "\n",
       "    tourney_surface singles_winner_name singles_winner_player_slug  \\\n",
       "0              Hard        Andy Roddick               andy-roddick   \n",
       "1              Hard   Nikolay Davydenko          nikolay-davydenko   \n",
       "2              Hard         Marin Cilic                marin-cilic   \n",
       "3              Hard    Marcos Baghdatis           marcos-baghdatis   \n",
       "4              Hard          John Isner                 john-isner   \n",
       "..              ...                 ...                        ...   \n",
       "655           Grass      Novak Djokovic             novak-djokovic   \n",
       "656           Grass         Andy Murray                andy-murray   \n",
       "657           Grass       Roger Federer              roger-federer   \n",
       "658           Grass      Novak Djokovic             novak-djokovic   \n",
       "659           Grass      Novak Djokovic             novak-djokovic   \n",
       "\n",
       "    singles_winner_player_id   doubles_winner_1_name  \\\n",
       "0                       r485           Jeremy Chardy   \n",
       "1                       d402  Guillermo Garcia-Lopez   \n",
       "2                       c977       Marcel Granollers   \n",
       "3                       b837           Daniel Nestor   \n",
       "4                       i186          Marcus Daniell   \n",
       "..                       ...                     ...   \n",
       "655                     d643       Jean-Julien Rojer   \n",
       "656                     mc10   Pierre-Hugues Herbert   \n",
       "657                     f324            Lukasz Kubot   \n",
       "658                     d643              Mike Bryan   \n",
       "659                     d643    Juan Sebastian Cabal   \n",
       "\n",
       "    doubles_winner_1_player_slug doubles_winner_1_player_id  \\\n",
       "0                  jeremy-chardy                       ca12   \n",
       "1         guillermo-garcia-lopez                       g476   \n",
       "2              marcel-granollers                       g710   \n",
       "3                  daniel-nestor                       n210   \n",
       "4                 marcus-daniell                       d763   \n",
       "..                           ...                        ...   \n",
       "655            jean-julien-rojer                       r513   \n",
       "656        pierre-hugues-herbert                       h996   \n",
       "657                 lukasz-kubot                       k540   \n",
       "658                   mike-bryan                       b589   \n",
       "659         juan-sebastian-cabal                       c834   \n",
       "\n",
       "    doubles_winner_2_name doubles_winner_2_player_slug  \\\n",
       "0            Marc Gicquel                 marc-gicquel   \n",
       "1         Albert Montanes              albert-montanes   \n",
       "2        Santiago Ventura             santiago-ventura   \n",
       "3          Nenad Zimonjic               nenad-zimonjic   \n",
       "4             Horia Tecau                  horia-tecau   \n",
       "..                    ...                          ...   \n",
       "655           Horia Tecau                  horia-tecau   \n",
       "656         Nicolas Mahut                nicolas-mahut   \n",
       "657          Marcelo Melo                 marcelo-melo   \n",
       "658             Jack Sock                    jack-sock   \n",
       "659          Robert Farah                 robert-farah   \n",
       "\n",
       "    doubles_winner_2_player_id  tourney_fin_commit_USD Continent  \n",
       "0                         g436                424250.0   Oceania  \n",
       "1                         m824               1110250.0      Asia  \n",
       "2                         v251                450000.0      Asia  \n",
       "3                         z072                424250.0   Oceania  \n",
       "4                         t749                407250.0   Oceania  \n",
       "..                         ...                     ...       ...  \n",
       "655                       t749              15124331.2    Europe  \n",
       "656                       m873              15840354.2    Europe  \n",
       "657                       m919              17858456.0    Europe  \n",
       "658                       sm25              19232738.8    Europe  \n",
       "659                       f525              21383214.6    Europe  \n",
       "\n",
       "[660 rows x 24 columns]"
      ]
     },
     "execution_count": 24,
     "metadata": {},
     "output_type": "execute_result"
    }
   ],
   "source": [
    "tournaments"
   ]
  },
  {
   "cell_type": "code",
   "execution_count": null,
   "id": "94bdf43a",
   "metadata": {},
   "outputs": [
    {
     "data": {
      "text/html": [
       "<div>\n",
       "<style scoped>\n",
       "    .dataframe tbody tr th:only-of-type {\n",
       "        vertical-align: middle;\n",
       "    }\n",
       "\n",
       "    .dataframe tbody tr th {\n",
       "        vertical-align: top;\n",
       "    }\n",
       "\n",
       "    .dataframe thead th {\n",
       "        text-align: right;\n",
       "    }\n",
       "</style>\n",
       "<table border=\"1\" class=\"dataframe\">\n",
       "  <thead>\n",
       "    <tr style=\"text-align: right;\">\n",
       "      <th></th>\n",
       "      <th>Unnamed: 0</th>\n",
       "      <th>tourney_year_id</th>\n",
       "      <th>tourney_order</th>\n",
       "      <th>tourney_name</th>\n",
       "      <th>tourney_slug_match_scores</th>\n",
       "      <th>start_date</th>\n",
       "      <th>end_date</th>\n",
       "      <th>tourney_round_name</th>\n",
       "      <th>round_order</th>\n",
       "      <th>winner_name</th>\n",
       "      <th>winner_player_id</th>\n",
       "      <th>winner_slug</th>\n",
       "      <th>loser_name</th>\n",
       "      <th>loser_player_id</th>\n",
       "      <th>loser_slug</th>\n",
       "      <th>winner_seed</th>\n",
       "      <th>loser_seed</th>\n",
       "      <th>match_score_tiebreaks</th>\n",
       "      <th>winner_sets_won</th>\n",
       "      <th>loser_sets_won</th>\n",
       "      <th>winner_games_won</th>\n",
       "      <th>loser_games_won</th>\n",
       "      <th>winner_tiebreaks_won</th>\n",
       "      <th>loser_tiebreaks_won</th>\n",
       "      <th>match_id</th>\n",
       "      <th>prize_money_USD</th>\n",
       "      <th>tourney_slug_match_stats</th>\n",
       "      <th>match_time</th>\n",
       "      <th>match_duration</th>\n",
       "      <th>winner_serve_rating</th>\n",
       "      <th>winner_aces</th>\n",
       "      <th>winner_double_faults</th>\n",
       "      <th>winner_first_serves_in</th>\n",
       "      <th>winner_first_serves_total</th>\n",
       "      <th>winner_first_serve_points_won</th>\n",
       "      <th>winner_first_serve_points_total</th>\n",
       "      <th>winner_second_serve_points_won</th>\n",
       "      <th>winner_second_serve_points_total</th>\n",
       "      <th>winner_break_points_saved</th>\n",
       "      <th>winner_break_points_serve_total</th>\n",
       "      <th>winner_service_games_played</th>\n",
       "      <th>winner_return_rating</th>\n",
       "      <th>winner_first_serve_return_won</th>\n",
       "      <th>winner_first_serve_return_total</th>\n",
       "      <th>winner_second_serve_return_won</th>\n",
       "      <th>winner_second_serve_return_total</th>\n",
       "      <th>winner_break_points_converted</th>\n",
       "      <th>winner_break_points_return_total</th>\n",
       "      <th>winner_return_games_played</th>\n",
       "      <th>winner_service_points_won</th>\n",
       "      <th>winner_service_points_total</th>\n",
       "      <th>winner_return_points_won</th>\n",
       "      <th>winner_return_points_total</th>\n",
       "      <th>winner_total_points_won</th>\n",
       "      <th>winner_total_points_total</th>\n",
       "      <th>loser_serve_rating</th>\n",
       "      <th>loser_aces</th>\n",
       "      <th>loser_double_faults</th>\n",
       "      <th>loser_first_serves_in</th>\n",
       "      <th>loser_first_serves_total</th>\n",
       "      <th>loser_first_serve_points_won</th>\n",
       "      <th>loser_first_serve_points_total</th>\n",
       "      <th>loser_second_serve_points_won</th>\n",
       "      <th>loser_second_serve_points_total</th>\n",
       "      <th>loser_break_points_saved</th>\n",
       "      <th>loser_break_points_serve_total</th>\n",
       "      <th>loser_service_games_played</th>\n",
       "      <th>loser_return_rating</th>\n",
       "      <th>loser_first_serve_return_won</th>\n",
       "      <th>loser_first_serve_return_total</th>\n",
       "      <th>loser_second_serve_return_won</th>\n",
       "      <th>loser_second_serve_return_total</th>\n",
       "      <th>loser_break_points_converted</th>\n",
       "      <th>loser_break_points_return_total</th>\n",
       "      <th>loser_return_games_played</th>\n",
       "      <th>loser_service_points_won</th>\n",
       "      <th>loser_service_points_total</th>\n",
       "      <th>loser_return_points_won</th>\n",
       "      <th>loser_return_points_total</th>\n",
       "      <th>loser_total_points_won</th>\n",
       "      <th>loser_total_points_total</th>\n",
       "    </tr>\n",
       "  </thead>\n",
       "  <tbody>\n",
       "    <tr>\n",
       "      <th>0</th>\n",
       "      <td>0</td>\n",
       "      <td>2010-339</td>\n",
       "      <td>1</td>\n",
       "      <td>Brisbane</td>\n",
       "      <td>brisbane</td>\n",
       "      <td>2010-01-03</td>\n",
       "      <td>2010-01-10</td>\n",
       "      <td>Finals</td>\n",
       "      <td>1</td>\n",
       "      <td>Andy Roddick</td>\n",
       "      <td>r485</td>\n",
       "      <td>andy-roddick</td>\n",
       "      <td>Radek Stepanek</td>\n",
       "      <td>s694</td>\n",
       "      <td>radek-stepanek</td>\n",
       "      <td>1</td>\n",
       "      <td>2</td>\n",
       "      <td>76(2) 76(7)</td>\n",
       "      <td>2.0</td>\n",
       "      <td>0.0</td>\n",
       "      <td>14.0</td>\n",
       "      <td>12.0</td>\n",
       "      <td>2.0</td>\n",
       "      <td>0.0</td>\n",
       "      <td>2010-339-MS001-8-1-r485-s694</td>\n",
       "      <td>372500.0</td>\n",
       "      <td>brisbane</td>\n",
       "      <td>1900-01-01 02:05:00</td>\n",
       "      <td>125.0</td>\n",
       "      <td>304.0</td>\n",
       "      <td>7.0</td>\n",
       "      <td>1.0</td>\n",
       "      <td>64.0</td>\n",
       "      <td>83.0</td>\n",
       "      <td>45.0</td>\n",
       "      <td>64.0</td>\n",
       "      <td>13.0</td>\n",
       "      <td>19.0</td>\n",
       "      <td>3.0</td>\n",
       "      <td>5.0</td>\n",
       "      <td>12.0</td>\n",
       "      <td>119.0</td>\n",
       "      <td>18.0</td>\n",
       "      <td>56.0</td>\n",
       "      <td>18.0</td>\n",
       "      <td>39.0</td>\n",
       "      <td>2.0</td>\n",
       "      <td>8.0</td>\n",
       "      <td>12.0</td>\n",
       "      <td>58.0</td>\n",
       "      <td>83.0</td>\n",
       "      <td>36.0</td>\n",
       "      <td>95.0</td>\n",
       "      <td>94.0</td>\n",
       "      <td>178.0</td>\n",
       "      <td>261.0</td>\n",
       "      <td>5.0</td>\n",
       "      <td>8.0</td>\n",
       "      <td>56.0</td>\n",
       "      <td>95.0</td>\n",
       "      <td>38.0</td>\n",
       "      <td>56.0</td>\n",
       "      <td>21.0</td>\n",
       "      <td>39.0</td>\n",
       "      <td>6.0</td>\n",
       "      <td>8.0</td>\n",
       "      <td>12.0</td>\n",
       "      <td>118.0</td>\n",
       "      <td>19.0</td>\n",
       "      <td>64.0</td>\n",
       "      <td>6.0</td>\n",
       "      <td>19.0</td>\n",
       "      <td>2.0</td>\n",
       "      <td>5.0</td>\n",
       "      <td>12.0</td>\n",
       "      <td>59.0</td>\n",
       "      <td>95.0</td>\n",
       "      <td>25.0</td>\n",
       "      <td>83.0</td>\n",
       "      <td>84.0</td>\n",
       "      <td>178.0</td>\n",
       "    </tr>\n",
       "    <tr>\n",
       "      <th>1</th>\n",
       "      <td>1</td>\n",
       "      <td>2010-339</td>\n",
       "      <td>1</td>\n",
       "      <td>Brisbane</td>\n",
       "      <td>brisbane</td>\n",
       "      <td>2010-01-03</td>\n",
       "      <td>2010-01-10</td>\n",
       "      <td>Semi-Finals</td>\n",
       "      <td>2</td>\n",
       "      <td>Andy Roddick</td>\n",
       "      <td>r485</td>\n",
       "      <td>andy-roddick</td>\n",
       "      <td>Tomas Berdych</td>\n",
       "      <td>ba47</td>\n",
       "      <td>tomas-berdych</td>\n",
       "      <td>1</td>\n",
       "      <td>4</td>\n",
       "      <td>16 63 64</td>\n",
       "      <td>2.0</td>\n",
       "      <td>1.0</td>\n",
       "      <td>13.0</td>\n",
       "      <td>13.0</td>\n",
       "      <td>0.0</td>\n",
       "      <td>0.0</td>\n",
       "      <td>2010-339-MS002-7-2-r485-ba47</td>\n",
       "      <td>372500.0</td>\n",
       "      <td>brisbane</td>\n",
       "      <td>1900-01-01 02:08:00</td>\n",
       "      <td>128.0</td>\n",
       "      <td>288.0</td>\n",
       "      <td>7.0</td>\n",
       "      <td>1.0</td>\n",
       "      <td>60.0</td>\n",
       "      <td>81.0</td>\n",
       "      <td>43.0</td>\n",
       "      <td>60.0</td>\n",
       "      <td>11.0</td>\n",
       "      <td>21.0</td>\n",
       "      <td>4.0</td>\n",
       "      <td>6.0</td>\n",
       "      <td>13.0</td>\n",
       "      <td>106.0</td>\n",
       "      <td>9.0</td>\n",
       "      <td>43.0</td>\n",
       "      <td>24.0</td>\n",
       "      <td>45.0</td>\n",
       "      <td>2.0</td>\n",
       "      <td>12.0</td>\n",
       "      <td>13.0</td>\n",
       "      <td>54.0</td>\n",
       "      <td>81.0</td>\n",
       "      <td>33.0</td>\n",
       "      <td>88.0</td>\n",
       "      <td>87.0</td>\n",
       "      <td>169.0</td>\n",
       "      <td>269.0</td>\n",
       "      <td>12.0</td>\n",
       "      <td>2.0</td>\n",
       "      <td>43.0</td>\n",
       "      <td>88.0</td>\n",
       "      <td>34.0</td>\n",
       "      <td>43.0</td>\n",
       "      <td>21.0</td>\n",
       "      <td>45.0</td>\n",
       "      <td>10.0</td>\n",
       "      <td>12.0</td>\n",
       "      <td>13.0</td>\n",
       "      <td>124.0</td>\n",
       "      <td>17.0</td>\n",
       "      <td>60.0</td>\n",
       "      <td>10.0</td>\n",
       "      <td>21.0</td>\n",
       "      <td>2.0</td>\n",
       "      <td>6.0</td>\n",
       "      <td>13.0</td>\n",
       "      <td>55.0</td>\n",
       "      <td>88.0</td>\n",
       "      <td>27.0</td>\n",
       "      <td>81.0</td>\n",
       "      <td>82.0</td>\n",
       "      <td>169.0</td>\n",
       "    </tr>\n",
       "    <tr>\n",
       "      <th>2</th>\n",
       "      <td>2</td>\n",
       "      <td>2010-339</td>\n",
       "      <td>1</td>\n",
       "      <td>Brisbane</td>\n",
       "      <td>brisbane</td>\n",
       "      <td>2010-01-03</td>\n",
       "      <td>2010-01-10</td>\n",
       "      <td>Semi-Finals</td>\n",
       "      <td>2</td>\n",
       "      <td>Radek Stepanek</td>\n",
       "      <td>s694</td>\n",
       "      <td>radek-stepanek</td>\n",
       "      <td>Gael Monfils</td>\n",
       "      <td>mc65</td>\n",
       "      <td>gael-monfils</td>\n",
       "      <td>2</td>\n",
       "      <td>3</td>\n",
       "      <td>62 61</td>\n",
       "      <td>2.0</td>\n",
       "      <td>0.0</td>\n",
       "      <td>12.0</td>\n",
       "      <td>3.0</td>\n",
       "      <td>0.0</td>\n",
       "      <td>0.0</td>\n",
       "      <td>2010-339-MS003-7-1-s694-mc65</td>\n",
       "      <td>372500.0</td>\n",
       "      <td>brisbane</td>\n",
       "      <td>1900-01-01 01:01:00</td>\n",
       "      <td>61.0</td>\n",
       "      <td>309.0</td>\n",
       "      <td>3.0</td>\n",
       "      <td>0.0</td>\n",
       "      <td>31.0</td>\n",
       "      <td>50.0</td>\n",
       "      <td>20.0</td>\n",
       "      <td>31.0</td>\n",
       "      <td>15.0</td>\n",
       "      <td>19.0</td>\n",
       "      <td>1.0</td>\n",
       "      <td>1.0</td>\n",
       "      <td>8.0</td>\n",
       "      <td>223.0</td>\n",
       "      <td>13.0</td>\n",
       "      <td>27.0</td>\n",
       "      <td>11.0</td>\n",
       "      <td>18.0</td>\n",
       "      <td>4.0</td>\n",
       "      <td>7.0</td>\n",
       "      <td>7.0</td>\n",
       "      <td>35.0</td>\n",
       "      <td>50.0</td>\n",
       "      <td>24.0</td>\n",
       "      <td>45.0</td>\n",
       "      <td>59.0</td>\n",
       "      <td>95.0</td>\n",
       "      <td>191.0</td>\n",
       "      <td>1.0</td>\n",
       "      <td>3.0</td>\n",
       "      <td>27.0</td>\n",
       "      <td>45.0</td>\n",
       "      <td>14.0</td>\n",
       "      <td>27.0</td>\n",
       "      <td>7.0</td>\n",
       "      <td>18.0</td>\n",
       "      <td>3.0</td>\n",
       "      <td>7.0</td>\n",
       "      <td>7.0</td>\n",
       "      <td>56.0</td>\n",
       "      <td>11.0</td>\n",
       "      <td>31.0</td>\n",
       "      <td>4.0</td>\n",
       "      <td>19.0</td>\n",
       "      <td>0.0</td>\n",
       "      <td>1.0</td>\n",
       "      <td>8.0</td>\n",
       "      <td>21.0</td>\n",
       "      <td>45.0</td>\n",
       "      <td>15.0</td>\n",
       "      <td>50.0</td>\n",
       "      <td>36.0</td>\n",
       "      <td>95.0</td>\n",
       "    </tr>\n",
       "    <tr>\n",
       "      <th>3</th>\n",
       "      <td>3</td>\n",
       "      <td>2010-339</td>\n",
       "      <td>1</td>\n",
       "      <td>Brisbane</td>\n",
       "      <td>brisbane</td>\n",
       "      <td>2010-01-03</td>\n",
       "      <td>2010-01-10</td>\n",
       "      <td>Quarter-Finals</td>\n",
       "      <td>3</td>\n",
       "      <td>Andy Roddick</td>\n",
       "      <td>r485</td>\n",
       "      <td>andy-roddick</td>\n",
       "      <td>Richard Gasquet</td>\n",
       "      <td>g628</td>\n",
       "      <td>richard-gasquet</td>\n",
       "      <td>1</td>\n",
       "      <td>Not applicable</td>\n",
       "      <td>63 76(5)</td>\n",
       "      <td>2.0</td>\n",
       "      <td>0.0</td>\n",
       "      <td>13.0</td>\n",
       "      <td>9.0</td>\n",
       "      <td>1.0</td>\n",
       "      <td>0.0</td>\n",
       "      <td>2010-339-MS004-6-4-r485-g628</td>\n",
       "      <td>372500.0</td>\n",
       "      <td>brisbane</td>\n",
       "      <td>1900-01-01 01:25:00</td>\n",
       "      <td>85.0</td>\n",
       "      <td>344.0</td>\n",
       "      <td>16.0</td>\n",
       "      <td>1.0</td>\n",
       "      <td>45.0</td>\n",
       "      <td>60.0</td>\n",
       "      <td>39.0</td>\n",
       "      <td>45.0</td>\n",
       "      <td>10.0</td>\n",
       "      <td>15.0</td>\n",
       "      <td>0.0</td>\n",
       "      <td>0.0</td>\n",
       "      <td>11.0</td>\n",
       "      <td>93.0</td>\n",
       "      <td>7.0</td>\n",
       "      <td>38.0</td>\n",
       "      <td>15.0</td>\n",
       "      <td>29.0</td>\n",
       "      <td>1.0</td>\n",
       "      <td>8.0</td>\n",
       "      <td>10.0</td>\n",
       "      <td>49.0</td>\n",
       "      <td>60.0</td>\n",
       "      <td>22.0</td>\n",
       "      <td>67.0</td>\n",
       "      <td>71.0</td>\n",
       "      <td>127.0</td>\n",
       "      <td>281.0</td>\n",
       "      <td>6.0</td>\n",
       "      <td>2.0</td>\n",
       "      <td>38.0</td>\n",
       "      <td>67.0</td>\n",
       "      <td>31.0</td>\n",
       "      <td>38.0</td>\n",
       "      <td>14.0</td>\n",
       "      <td>29.0</td>\n",
       "      <td>7.0</td>\n",
       "      <td>8.0</td>\n",
       "      <td>10.0</td>\n",
       "      <td>46.0</td>\n",
       "      <td>6.0</td>\n",
       "      <td>45.0</td>\n",
       "      <td>5.0</td>\n",
       "      <td>15.0</td>\n",
       "      <td>0.0</td>\n",
       "      <td>0.0</td>\n",
       "      <td>11.0</td>\n",
       "      <td>45.0</td>\n",
       "      <td>67.0</td>\n",
       "      <td>11.0</td>\n",
       "      <td>60.0</td>\n",
       "      <td>56.0</td>\n",
       "      <td>127.0</td>\n",
       "    </tr>\n",
       "    <tr>\n",
       "      <th>4</th>\n",
       "      <td>4</td>\n",
       "      <td>2010-339</td>\n",
       "      <td>1</td>\n",
       "      <td>Brisbane</td>\n",
       "      <td>brisbane</td>\n",
       "      <td>2010-01-03</td>\n",
       "      <td>2010-01-10</td>\n",
       "      <td>Quarter-Finals</td>\n",
       "      <td>3</td>\n",
       "      <td>Radek Stepanek</td>\n",
       "      <td>s694</td>\n",
       "      <td>radek-stepanek</td>\n",
       "      <td>Wayne Odesnik</td>\n",
       "      <td>o234</td>\n",
       "      <td>wayne-odesnik</td>\n",
       "      <td>2</td>\n",
       "      <td>Not applicable</td>\n",
       "      <td>76(2) 61</td>\n",
       "      <td>2.0</td>\n",
       "      <td>0.0</td>\n",
       "      <td>13.0</td>\n",
       "      <td>7.0</td>\n",
       "      <td>1.0</td>\n",
       "      <td>0.0</td>\n",
       "      <td>2010-339-MS007-6-3-s694-o234</td>\n",
       "      <td>372500.0</td>\n",
       "      <td>brisbane</td>\n",
       "      <td>1900-01-01 01:40:00</td>\n",
       "      <td>100.0</td>\n",
       "      <td>279.0</td>\n",
       "      <td>7.0</td>\n",
       "      <td>4.0</td>\n",
       "      <td>33.0</td>\n",
       "      <td>61.0</td>\n",
       "      <td>24.0</td>\n",
       "      <td>33.0</td>\n",
       "      <td>17.0</td>\n",
       "      <td>28.0</td>\n",
       "      <td>1.0</td>\n",
       "      <td>2.0</td>\n",
       "      <td>9.0</td>\n",
       "      <td>180.0</td>\n",
       "      <td>15.0</td>\n",
       "      <td>40.0</td>\n",
       "      <td>18.0</td>\n",
       "      <td>29.0</td>\n",
       "      <td>4.0</td>\n",
       "      <td>10.0</td>\n",
       "      <td>10.0</td>\n",
       "      <td>41.0</td>\n",
       "      <td>61.0</td>\n",
       "      <td>33.0</td>\n",
       "      <td>69.0</td>\n",
       "      <td>74.0</td>\n",
       "      <td>130.0</td>\n",
       "      <td>219.0</td>\n",
       "      <td>3.0</td>\n",
       "      <td>3.0</td>\n",
       "      <td>40.0</td>\n",
       "      <td>69.0</td>\n",
       "      <td>25.0</td>\n",
       "      <td>40.0</td>\n",
       "      <td>11.0</td>\n",
       "      <td>29.0</td>\n",
       "      <td>6.0</td>\n",
       "      <td>10.0</td>\n",
       "      <td>10.0</td>\n",
       "      <td>127.0</td>\n",
       "      <td>9.0</td>\n",
       "      <td>33.0</td>\n",
       "      <td>11.0</td>\n",
       "      <td>28.0</td>\n",
       "      <td>1.0</td>\n",
       "      <td>2.0</td>\n",
       "      <td>9.0</td>\n",
       "      <td>36.0</td>\n",
       "      <td>69.0</td>\n",
       "      <td>20.0</td>\n",
       "      <td>61.0</td>\n",
       "      <td>56.0</td>\n",
       "      <td>130.0</td>\n",
       "    </tr>\n",
       "    <tr>\n",
       "      <th>...</th>\n",
       "      <td>...</td>\n",
       "      <td>...</td>\n",
       "      <td>...</td>\n",
       "      <td>...</td>\n",
       "      <td>...</td>\n",
       "      <td>...</td>\n",
       "      <td>...</td>\n",
       "      <td>...</td>\n",
       "      <td>...</td>\n",
       "      <td>...</td>\n",
       "      <td>...</td>\n",
       "      <td>...</td>\n",
       "      <td>...</td>\n",
       "      <td>...</td>\n",
       "      <td>...</td>\n",
       "      <td>...</td>\n",
       "      <td>...</td>\n",
       "      <td>...</td>\n",
       "      <td>...</td>\n",
       "      <td>...</td>\n",
       "      <td>...</td>\n",
       "      <td>...</td>\n",
       "      <td>...</td>\n",
       "      <td>...</td>\n",
       "      <td>...</td>\n",
       "      <td>...</td>\n",
       "      <td>...</td>\n",
       "      <td>...</td>\n",
       "      <td>...</td>\n",
       "      <td>...</td>\n",
       "      <td>...</td>\n",
       "      <td>...</td>\n",
       "      <td>...</td>\n",
       "      <td>...</td>\n",
       "      <td>...</td>\n",
       "      <td>...</td>\n",
       "      <td>...</td>\n",
       "      <td>...</td>\n",
       "      <td>...</td>\n",
       "      <td>...</td>\n",
       "      <td>...</td>\n",
       "      <td>...</td>\n",
       "      <td>...</td>\n",
       "      <td>...</td>\n",
       "      <td>...</td>\n",
       "      <td>...</td>\n",
       "      <td>...</td>\n",
       "      <td>...</td>\n",
       "      <td>...</td>\n",
       "      <td>...</td>\n",
       "      <td>...</td>\n",
       "      <td>...</td>\n",
       "      <td>...</td>\n",
       "      <td>...</td>\n",
       "      <td>...</td>\n",
       "      <td>...</td>\n",
       "      <td>...</td>\n",
       "      <td>...</td>\n",
       "      <td>...</td>\n",
       "      <td>...</td>\n",
       "      <td>...</td>\n",
       "      <td>...</td>\n",
       "      <td>...</td>\n",
       "      <td>...</td>\n",
       "      <td>...</td>\n",
       "      <td>...</td>\n",
       "      <td>...</td>\n",
       "      <td>...</td>\n",
       "      <td>...</td>\n",
       "      <td>...</td>\n",
       "      <td>...</td>\n",
       "      <td>...</td>\n",
       "      <td>...</td>\n",
       "      <td>...</td>\n",
       "      <td>...</td>\n",
       "      <td>...</td>\n",
       "      <td>...</td>\n",
       "      <td>...</td>\n",
       "      <td>...</td>\n",
       "      <td>...</td>\n",
       "      <td>...</td>\n",
       "    </tr>\n",
       "    <tr>\n",
       "      <th>42312</th>\n",
       "      <td>42616</td>\n",
       "      <td>2019-540</td>\n",
       "      <td>39</td>\n",
       "      <td>Wimbledon</td>\n",
       "      <td>wimbledon</td>\n",
       "      <td>2019-07-01</td>\n",
       "      <td>2019-07-14</td>\n",
       "      <td>1st Round Qualifying</td>\n",
       "      <td>10</td>\n",
       "      <td>Go Soeda</td>\n",
       "      <td>sc47</td>\n",
       "      <td>go-soeda</td>\n",
       "      <td>Filippo Baldi</td>\n",
       "      <td>bm03</td>\n",
       "      <td>filippo-baldi</td>\n",
       "      <td>Not applicable</td>\n",
       "      <td>Not applicable</td>\n",
       "      <td>64 36 61</td>\n",
       "      <td>2.0</td>\n",
       "      <td>1.0</td>\n",
       "      <td>15.0</td>\n",
       "      <td>11.0</td>\n",
       "      <td>0.0</td>\n",
       "      <td>0.0</td>\n",
       "      <td>2019-540-QS086-1-5-sc47-bm03</td>\n",
       "      <td>21383214.6</td>\n",
       "      <td>wimbledon</td>\n",
       "      <td>1900-01-01 01:49:00</td>\n",
       "      <td>109.0</td>\n",
       "      <td>282.0</td>\n",
       "      <td>4.0</td>\n",
       "      <td>1.0</td>\n",
       "      <td>54.0</td>\n",
       "      <td>96.0</td>\n",
       "      <td>41.0</td>\n",
       "      <td>54.0</td>\n",
       "      <td>23.0</td>\n",
       "      <td>42.0</td>\n",
       "      <td>12.0</td>\n",
       "      <td>13.0</td>\n",
       "      <td>13.0</td>\n",
       "      <td>206.0</td>\n",
       "      <td>11.0</td>\n",
       "      <td>43.0</td>\n",
       "      <td>17.0</td>\n",
       "      <td>30.0</td>\n",
       "      <td>3.0</td>\n",
       "      <td>3.0</td>\n",
       "      <td>13.0</td>\n",
       "      <td>64.0</td>\n",
       "      <td>96.0</td>\n",
       "      <td>28.0</td>\n",
       "      <td>73.0</td>\n",
       "      <td>92.0</td>\n",
       "      <td>169.0</td>\n",
       "      <td>252.0</td>\n",
       "      <td>3.0</td>\n",
       "      <td>3.0</td>\n",
       "      <td>43.0</td>\n",
       "      <td>73.0</td>\n",
       "      <td>32.0</td>\n",
       "      <td>43.0</td>\n",
       "      <td>13.0</td>\n",
       "      <td>30.0</td>\n",
       "      <td>0.0</td>\n",
       "      <td>3.0</td>\n",
       "      <td>13.0</td>\n",
       "      <td>84.0</td>\n",
       "      <td>13.0</td>\n",
       "      <td>54.0</td>\n",
       "      <td>19.0</td>\n",
       "      <td>42.0</td>\n",
       "      <td>1.0</td>\n",
       "      <td>13.0</td>\n",
       "      <td>13.0</td>\n",
       "      <td>45.0</td>\n",
       "      <td>73.0</td>\n",
       "      <td>32.0</td>\n",
       "      <td>96.0</td>\n",
       "      <td>77.0</td>\n",
       "      <td>169.0</td>\n",
       "    </tr>\n",
       "    <tr>\n",
       "      <th>42313</th>\n",
       "      <td>42617</td>\n",
       "      <td>2019-540</td>\n",
       "      <td>39</td>\n",
       "      <td>Wimbledon</td>\n",
       "      <td>wimbledon</td>\n",
       "      <td>2019-07-01</td>\n",
       "      <td>2019-07-14</td>\n",
       "      <td>1st Round Qualifying</td>\n",
       "      <td>10</td>\n",
       "      <td>Yuichi Sugita</td>\n",
       "      <td>se73</td>\n",
       "      <td>yuichi-sugita</td>\n",
       "      <td>Carlos Berlocq</td>\n",
       "      <td>b884</td>\n",
       "      <td>carlos-berlocq</td>\n",
       "      <td>Not applicable</td>\n",
       "      <td>Not applicable</td>\n",
       "      <td>64 62</td>\n",
       "      <td>2.0</td>\n",
       "      <td>0.0</td>\n",
       "      <td>12.0</td>\n",
       "      <td>6.0</td>\n",
       "      <td>0.0</td>\n",
       "      <td>0.0</td>\n",
       "      <td>2019-540-QS121-1-4-se73-b884</td>\n",
       "      <td>21383214.6</td>\n",
       "      <td>wimbledon</td>\n",
       "      <td>1900-01-01 01:04:00</td>\n",
       "      <td>64.0</td>\n",
       "      <td>333.0</td>\n",
       "      <td>2.0</td>\n",
       "      <td>0.0</td>\n",
       "      <td>35.0</td>\n",
       "      <td>45.0</td>\n",
       "      <td>29.0</td>\n",
       "      <td>35.0</td>\n",
       "      <td>7.0</td>\n",
       "      <td>10.0</td>\n",
       "      <td>0.0</td>\n",
       "      <td>0.0</td>\n",
       "      <td>9.0</td>\n",
       "      <td>221.0</td>\n",
       "      <td>11.0</td>\n",
       "      <td>31.0</td>\n",
       "      <td>10.0</td>\n",
       "      <td>19.0</td>\n",
       "      <td>3.0</td>\n",
       "      <td>3.0</td>\n",
       "      <td>9.0</td>\n",
       "      <td>36.0</td>\n",
       "      <td>45.0</td>\n",
       "      <td>21.0</td>\n",
       "      <td>50.0</td>\n",
       "      <td>57.0</td>\n",
       "      <td>95.0</td>\n",
       "      <td>241.0</td>\n",
       "      <td>4.0</td>\n",
       "      <td>3.0</td>\n",
       "      <td>31.0</td>\n",
       "      <td>50.0</td>\n",
       "      <td>20.0</td>\n",
       "      <td>31.0</td>\n",
       "      <td>9.0</td>\n",
       "      <td>19.0</td>\n",
       "      <td>0.0</td>\n",
       "      <td>3.0</td>\n",
       "      <td>9.0</td>\n",
       "      <td>47.0</td>\n",
       "      <td>6.0</td>\n",
       "      <td>35.0</td>\n",
       "      <td>3.0</td>\n",
       "      <td>10.0</td>\n",
       "      <td>0.0</td>\n",
       "      <td>0.0</td>\n",
       "      <td>9.0</td>\n",
       "      <td>29.0</td>\n",
       "      <td>50.0</td>\n",
       "      <td>9.0</td>\n",
       "      <td>45.0</td>\n",
       "      <td>38.0</td>\n",
       "      <td>95.0</td>\n",
       "    </tr>\n",
       "    <tr>\n",
       "      <th>42314</th>\n",
       "      <td>42618</td>\n",
       "      <td>2019-540</td>\n",
       "      <td>39</td>\n",
       "      <td>Wimbledon</td>\n",
       "      <td>wimbledon</td>\n",
       "      <td>2019-07-01</td>\n",
       "      <td>2019-07-14</td>\n",
       "      <td>1st Round Qualifying</td>\n",
       "      <td>10</td>\n",
       "      <td>Mikael Torpegaard</td>\n",
       "      <td>tc12</td>\n",
       "      <td>mikael-torpegaard</td>\n",
       "      <td>Nikola Milojevic</td>\n",
       "      <td>mm66</td>\n",
       "      <td>nikola-milojevic</td>\n",
       "      <td>Not applicable</td>\n",
       "      <td>Not applicable</td>\n",
       "      <td>46 76(6) 63</td>\n",
       "      <td>2.0</td>\n",
       "      <td>1.0</td>\n",
       "      <td>17.0</td>\n",
       "      <td>15.0</td>\n",
       "      <td>1.0</td>\n",
       "      <td>0.0</td>\n",
       "      <td>2019-540-QS090-1-3-tc12-mm66</td>\n",
       "      <td>21383214.6</td>\n",
       "      <td>wimbledon</td>\n",
       "      <td>1900-01-01 02:04:00</td>\n",
       "      <td>124.0</td>\n",
       "      <td>266.0</td>\n",
       "      <td>6.0</td>\n",
       "      <td>3.0</td>\n",
       "      <td>79.0</td>\n",
       "      <td>115.0</td>\n",
       "      <td>52.0</td>\n",
       "      <td>79.0</td>\n",
       "      <td>17.0</td>\n",
       "      <td>36.0</td>\n",
       "      <td>8.0</td>\n",
       "      <td>11.0</td>\n",
       "      <td>16.0</td>\n",
       "      <td>150.0</td>\n",
       "      <td>16.0</td>\n",
       "      <td>56.0</td>\n",
       "      <td>12.0</td>\n",
       "      <td>29.0</td>\n",
       "      <td>3.0</td>\n",
       "      <td>5.0</td>\n",
       "      <td>15.0</td>\n",
       "      <td>69.0</td>\n",
       "      <td>115.0</td>\n",
       "      <td>28.0</td>\n",
       "      <td>85.0</td>\n",
       "      <td>97.0</td>\n",
       "      <td>200.0</td>\n",
       "      <td>280.0</td>\n",
       "      <td>6.0</td>\n",
       "      <td>2.0</td>\n",
       "      <td>56.0</td>\n",
       "      <td>85.0</td>\n",
       "      <td>40.0</td>\n",
       "      <td>56.0</td>\n",
       "      <td>17.0</td>\n",
       "      <td>29.0</td>\n",
       "      <td>2.0</td>\n",
       "      <td>5.0</td>\n",
       "      <td>15.0</td>\n",
       "      <td>132.0</td>\n",
       "      <td>27.0</td>\n",
       "      <td>79.0</td>\n",
       "      <td>19.0</td>\n",
       "      <td>36.0</td>\n",
       "      <td>3.0</td>\n",
       "      <td>11.0</td>\n",
       "      <td>16.0</td>\n",
       "      <td>57.0</td>\n",
       "      <td>85.0</td>\n",
       "      <td>46.0</td>\n",
       "      <td>115.0</td>\n",
       "      <td>103.0</td>\n",
       "      <td>200.0</td>\n",
       "    </tr>\n",
       "    <tr>\n",
       "      <th>42315</th>\n",
       "      <td>42619</td>\n",
       "      <td>2019-540</td>\n",
       "      <td>39</td>\n",
       "      <td>Wimbledon</td>\n",
       "      <td>wimbledon</td>\n",
       "      <td>2019-07-01</td>\n",
       "      <td>2019-07-14</td>\n",
       "      <td>1st Round Qualifying</td>\n",
       "      <td>10</td>\n",
       "      <td>Yasutaka Uchiyama</td>\n",
       "      <td>u134</td>\n",
       "      <td>yasutaka-uchiyama</td>\n",
       "      <td>Jack Draper</td>\n",
       "      <td>d0co</td>\n",
       "      <td>jack-draper</td>\n",
       "      <td>Not applicable</td>\n",
       "      <td>WC</td>\n",
       "      <td>64 76</td>\n",
       "      <td>2.0</td>\n",
       "      <td>0.0</td>\n",
       "      <td>13.0</td>\n",
       "      <td>10.0</td>\n",
       "      <td>1.0</td>\n",
       "      <td>0.0</td>\n",
       "      <td>2019-540-QS070-1-2-u134-d0co</td>\n",
       "      <td>21383214.6</td>\n",
       "      <td>wimbledon</td>\n",
       "      <td>1900-01-01 01:32:00</td>\n",
       "      <td>92.0</td>\n",
       "      <td>315.0</td>\n",
       "      <td>14.0</td>\n",
       "      <td>1.0</td>\n",
       "      <td>58.0</td>\n",
       "      <td>80.0</td>\n",
       "      <td>41.0</td>\n",
       "      <td>58.0</td>\n",
       "      <td>15.0</td>\n",
       "      <td>22.0</td>\n",
       "      <td>2.0</td>\n",
       "      <td>3.0</td>\n",
       "      <td>11.0</td>\n",
       "      <td>147.0</td>\n",
       "      <td>15.0</td>\n",
       "      <td>44.0</td>\n",
       "      <td>10.0</td>\n",
       "      <td>22.0</td>\n",
       "      <td>2.0</td>\n",
       "      <td>4.0</td>\n",
       "      <td>11.0</td>\n",
       "      <td>56.0</td>\n",
       "      <td>80.0</td>\n",
       "      <td>25.0</td>\n",
       "      <td>66.0</td>\n",
       "      <td>81.0</td>\n",
       "      <td>146.0</td>\n",
       "      <td>270.0</td>\n",
       "      <td>5.0</td>\n",
       "      <td>4.0</td>\n",
       "      <td>44.0</td>\n",
       "      <td>66.0</td>\n",
       "      <td>29.0</td>\n",
       "      <td>44.0</td>\n",
       "      <td>12.0</td>\n",
       "      <td>22.0</td>\n",
       "      <td>2.0</td>\n",
       "      <td>4.0</td>\n",
       "      <td>11.0</td>\n",
       "      <td>103.0</td>\n",
       "      <td>17.0</td>\n",
       "      <td>58.0</td>\n",
       "      <td>7.0</td>\n",
       "      <td>22.0</td>\n",
       "      <td>1.0</td>\n",
       "      <td>3.0</td>\n",
       "      <td>11.0</td>\n",
       "      <td>41.0</td>\n",
       "      <td>66.0</td>\n",
       "      <td>24.0</td>\n",
       "      <td>80.0</td>\n",
       "      <td>65.0</td>\n",
       "      <td>146.0</td>\n",
       "    </tr>\n",
       "    <tr>\n",
       "      <th>42316</th>\n",
       "      <td>42620</td>\n",
       "      <td>2019-540</td>\n",
       "      <td>39</td>\n",
       "      <td>Wimbledon</td>\n",
       "      <td>wimbledon</td>\n",
       "      <td>2019-07-01</td>\n",
       "      <td>2019-07-14</td>\n",
       "      <td>1st Round Qualifying</td>\n",
       "      <td>10</td>\n",
       "      <td>Donald Young</td>\n",
       "      <td>y124</td>\n",
       "      <td>donald-young</td>\n",
       "      <td>Egor Gerasimov</td>\n",
       "      <td>gc89</td>\n",
       "      <td>egor-gerasimov</td>\n",
       "      <td>Not applicable</td>\n",
       "      <td>Not applicable</td>\n",
       "      <td>64 76(3)</td>\n",
       "      <td>2.0</td>\n",
       "      <td>0.0</td>\n",
       "      <td>13.0</td>\n",
       "      <td>10.0</td>\n",
       "      <td>1.0</td>\n",
       "      <td>0.0</td>\n",
       "      <td>2019-540-QS126-1-1-y124-gc89</td>\n",
       "      <td>21383214.6</td>\n",
       "      <td>wimbledon</td>\n",
       "      <td>1900-01-01 01:23:00</td>\n",
       "      <td>83.0</td>\n",
       "      <td>285.0</td>\n",
       "      <td>2.0</td>\n",
       "      <td>3.0</td>\n",
       "      <td>60.0</td>\n",
       "      <td>83.0</td>\n",
       "      <td>43.0</td>\n",
       "      <td>60.0</td>\n",
       "      <td>12.0</td>\n",
       "      <td>23.0</td>\n",
       "      <td>4.0</td>\n",
       "      <td>5.0</td>\n",
       "      <td>11.0</td>\n",
       "      <td>189.0</td>\n",
       "      <td>9.0</td>\n",
       "      <td>43.0</td>\n",
       "      <td>9.0</td>\n",
       "      <td>18.0</td>\n",
       "      <td>2.0</td>\n",
       "      <td>2.0</td>\n",
       "      <td>11.0</td>\n",
       "      <td>55.0</td>\n",
       "      <td>83.0</td>\n",
       "      <td>18.0</td>\n",
       "      <td>61.0</td>\n",
       "      <td>73.0</td>\n",
       "      <td>144.0</td>\n",
       "      <td>291.0</td>\n",
       "      <td>11.0</td>\n",
       "      <td>0.0</td>\n",
       "      <td>43.0</td>\n",
       "      <td>61.0</td>\n",
       "      <td>34.0</td>\n",
       "      <td>43.0</td>\n",
       "      <td>9.0</td>\n",
       "      <td>18.0</td>\n",
       "      <td>0.0</td>\n",
       "      <td>2.0</td>\n",
       "      <td>11.0</td>\n",
       "      <td>105.0</td>\n",
       "      <td>17.0</td>\n",
       "      <td>60.0</td>\n",
       "      <td>11.0</td>\n",
       "      <td>23.0</td>\n",
       "      <td>1.0</td>\n",
       "      <td>5.0</td>\n",
       "      <td>11.0</td>\n",
       "      <td>43.0</td>\n",
       "      <td>61.0</td>\n",
       "      <td>28.0</td>\n",
       "      <td>83.0</td>\n",
       "      <td>71.0</td>\n",
       "      <td>144.0</td>\n",
       "    </tr>\n",
       "  </tbody>\n",
       "</table>\n",
       "<p>42317 rows × 81 columns</p>\n",
       "</div>"
      ],
      "text/plain": [
       "       Unnamed: 0 tourney_year_id  tourney_order tourney_name  \\\n",
       "0               0        2010-339              1     Brisbane   \n",
       "1               1        2010-339              1     Brisbane   \n",
       "2               2        2010-339              1     Brisbane   \n",
       "3               3        2010-339              1     Brisbane   \n",
       "4               4        2010-339              1     Brisbane   \n",
       "...           ...             ...            ...          ...   \n",
       "42312       42616        2019-540             39    Wimbledon   \n",
       "42313       42617        2019-540             39    Wimbledon   \n",
       "42314       42618        2019-540             39    Wimbledon   \n",
       "42315       42619        2019-540             39    Wimbledon   \n",
       "42316       42620        2019-540             39    Wimbledon   \n",
       "\n",
       "      tourney_slug_match_scores  start_date    end_date    tourney_round_name  \\\n",
       "0                      brisbane  2010-01-03  2010-01-10                Finals   \n",
       "1                      brisbane  2010-01-03  2010-01-10           Semi-Finals   \n",
       "2                      brisbane  2010-01-03  2010-01-10           Semi-Finals   \n",
       "3                      brisbane  2010-01-03  2010-01-10        Quarter-Finals   \n",
       "4                      brisbane  2010-01-03  2010-01-10        Quarter-Finals   \n",
       "...                         ...         ...         ...                   ...   \n",
       "42312                 wimbledon  2019-07-01  2019-07-14  1st Round Qualifying   \n",
       "42313                 wimbledon  2019-07-01  2019-07-14  1st Round Qualifying   \n",
       "42314                 wimbledon  2019-07-01  2019-07-14  1st Round Qualifying   \n",
       "42315                 wimbledon  2019-07-01  2019-07-14  1st Round Qualifying   \n",
       "42316                 wimbledon  2019-07-01  2019-07-14  1st Round Qualifying   \n",
       "\n",
       "       round_order        winner_name winner_player_id        winner_slug  \\\n",
       "0                1       Andy Roddick             r485       andy-roddick   \n",
       "1                2       Andy Roddick             r485       andy-roddick   \n",
       "2                2     Radek Stepanek             s694     radek-stepanek   \n",
       "3                3       Andy Roddick             r485       andy-roddick   \n",
       "4                3     Radek Stepanek             s694     radek-stepanek   \n",
       "...            ...                ...              ...                ...   \n",
       "42312           10           Go Soeda             sc47           go-soeda   \n",
       "42313           10      Yuichi Sugita             se73      yuichi-sugita   \n",
       "42314           10  Mikael Torpegaard             tc12  mikael-torpegaard   \n",
       "42315           10  Yasutaka Uchiyama             u134  yasutaka-uchiyama   \n",
       "42316           10       Donald Young             y124       donald-young   \n",
       "\n",
       "             loser_name loser_player_id        loser_slug     winner_seed  \\\n",
       "0        Radek Stepanek            s694    radek-stepanek               1   \n",
       "1         Tomas Berdych            ba47     tomas-berdych               1   \n",
       "2          Gael Monfils            mc65      gael-monfils               2   \n",
       "3       Richard Gasquet            g628   richard-gasquet               1   \n",
       "4         Wayne Odesnik            o234     wayne-odesnik               2   \n",
       "...                 ...             ...               ...             ...   \n",
       "42312     Filippo Baldi            bm03     filippo-baldi  Not applicable   \n",
       "42313    Carlos Berlocq            b884    carlos-berlocq  Not applicable   \n",
       "42314  Nikola Milojevic            mm66  nikola-milojevic  Not applicable   \n",
       "42315       Jack Draper            d0co       jack-draper  Not applicable   \n",
       "42316    Egor Gerasimov            gc89    egor-gerasimov  Not applicable   \n",
       "\n",
       "           loser_seed match_score_tiebreaks  winner_sets_won  loser_sets_won  \\\n",
       "0                   2           76(2) 76(7)              2.0             0.0   \n",
       "1                   4              16 63 64              2.0             1.0   \n",
       "2                   3                 62 61              2.0             0.0   \n",
       "3      Not applicable              63 76(5)              2.0             0.0   \n",
       "4      Not applicable              76(2) 61              2.0             0.0   \n",
       "...               ...                   ...              ...             ...   \n",
       "42312  Not applicable              64 36 61              2.0             1.0   \n",
       "42313  Not applicable                 64 62              2.0             0.0   \n",
       "42314  Not applicable           46 76(6) 63              2.0             1.0   \n",
       "42315              WC                 64 76              2.0             0.0   \n",
       "42316  Not applicable              64 76(3)              2.0             0.0   \n",
       "\n",
       "       winner_games_won  loser_games_won  winner_tiebreaks_won  \\\n",
       "0                  14.0             12.0                   2.0   \n",
       "1                  13.0             13.0                   0.0   \n",
       "2                  12.0              3.0                   0.0   \n",
       "3                  13.0              9.0                   1.0   \n",
       "4                  13.0              7.0                   1.0   \n",
       "...                 ...              ...                   ...   \n",
       "42312              15.0             11.0                   0.0   \n",
       "42313              12.0              6.0                   0.0   \n",
       "42314              17.0             15.0                   1.0   \n",
       "42315              13.0             10.0                   1.0   \n",
       "42316              13.0             10.0                   1.0   \n",
       "\n",
       "       loser_tiebreaks_won                      match_id  prize_money_USD  \\\n",
       "0                      0.0  2010-339-MS001-8-1-r485-s694         372500.0   \n",
       "1                      0.0  2010-339-MS002-7-2-r485-ba47         372500.0   \n",
       "2                      0.0  2010-339-MS003-7-1-s694-mc65         372500.0   \n",
       "3                      0.0  2010-339-MS004-6-4-r485-g628         372500.0   \n",
       "4                      0.0  2010-339-MS007-6-3-s694-o234         372500.0   \n",
       "...                    ...                           ...              ...   \n",
       "42312                  0.0  2019-540-QS086-1-5-sc47-bm03       21383214.6   \n",
       "42313                  0.0  2019-540-QS121-1-4-se73-b884       21383214.6   \n",
       "42314                  0.0  2019-540-QS090-1-3-tc12-mm66       21383214.6   \n",
       "42315                  0.0  2019-540-QS070-1-2-u134-d0co       21383214.6   \n",
       "42316                  0.0  2019-540-QS126-1-1-y124-gc89       21383214.6   \n",
       "\n",
       "      tourney_slug_match_stats           match_time  match_duration  \\\n",
       "0                     brisbane  1900-01-01 02:05:00           125.0   \n",
       "1                     brisbane  1900-01-01 02:08:00           128.0   \n",
       "2                     brisbane  1900-01-01 01:01:00            61.0   \n",
       "3                     brisbane  1900-01-01 01:25:00            85.0   \n",
       "4                     brisbane  1900-01-01 01:40:00           100.0   \n",
       "...                        ...                  ...             ...   \n",
       "42312                wimbledon  1900-01-01 01:49:00           109.0   \n",
       "42313                wimbledon  1900-01-01 01:04:00            64.0   \n",
       "42314                wimbledon  1900-01-01 02:04:00           124.0   \n",
       "42315                wimbledon  1900-01-01 01:32:00            92.0   \n",
       "42316                wimbledon  1900-01-01 01:23:00            83.0   \n",
       "\n",
       "       winner_serve_rating  winner_aces  winner_double_faults  \\\n",
       "0                    304.0          7.0                   1.0   \n",
       "1                    288.0          7.0                   1.0   \n",
       "2                    309.0          3.0                   0.0   \n",
       "3                    344.0         16.0                   1.0   \n",
       "4                    279.0          7.0                   4.0   \n",
       "...                    ...          ...                   ...   \n",
       "42312                282.0          4.0                   1.0   \n",
       "42313                333.0          2.0                   0.0   \n",
       "42314                266.0          6.0                   3.0   \n",
       "42315                315.0         14.0                   1.0   \n",
       "42316                285.0          2.0                   3.0   \n",
       "\n",
       "       winner_first_serves_in  winner_first_serves_total  \\\n",
       "0                        64.0                       83.0   \n",
       "1                        60.0                       81.0   \n",
       "2                        31.0                       50.0   \n",
       "3                        45.0                       60.0   \n",
       "4                        33.0                       61.0   \n",
       "...                       ...                        ...   \n",
       "42312                    54.0                       96.0   \n",
       "42313                    35.0                       45.0   \n",
       "42314                    79.0                      115.0   \n",
       "42315                    58.0                       80.0   \n",
       "42316                    60.0                       83.0   \n",
       "\n",
       "       winner_first_serve_points_won  winner_first_serve_points_total  \\\n",
       "0                               45.0                             64.0   \n",
       "1                               43.0                             60.0   \n",
       "2                               20.0                             31.0   \n",
       "3                               39.0                             45.0   \n",
       "4                               24.0                             33.0   \n",
       "...                              ...                              ...   \n",
       "42312                           41.0                             54.0   \n",
       "42313                           29.0                             35.0   \n",
       "42314                           52.0                             79.0   \n",
       "42315                           41.0                             58.0   \n",
       "42316                           43.0                             60.0   \n",
       "\n",
       "       winner_second_serve_points_won  winner_second_serve_points_total  \\\n",
       "0                                13.0                              19.0   \n",
       "1                                11.0                              21.0   \n",
       "2                                15.0                              19.0   \n",
       "3                                10.0                              15.0   \n",
       "4                                17.0                              28.0   \n",
       "...                               ...                               ...   \n",
       "42312                            23.0                              42.0   \n",
       "42313                             7.0                              10.0   \n",
       "42314                            17.0                              36.0   \n",
       "42315                            15.0                              22.0   \n",
       "42316                            12.0                              23.0   \n",
       "\n",
       "       winner_break_points_saved  winner_break_points_serve_total  \\\n",
       "0                            3.0                              5.0   \n",
       "1                            4.0                              6.0   \n",
       "2                            1.0                              1.0   \n",
       "3                            0.0                              0.0   \n",
       "4                            1.0                              2.0   \n",
       "...                          ...                              ...   \n",
       "42312                       12.0                             13.0   \n",
       "42313                        0.0                              0.0   \n",
       "42314                        8.0                             11.0   \n",
       "42315                        2.0                              3.0   \n",
       "42316                        4.0                              5.0   \n",
       "\n",
       "       winner_service_games_played  winner_return_rating  \\\n",
       "0                             12.0                 119.0   \n",
       "1                             13.0                 106.0   \n",
       "2                              8.0                 223.0   \n",
       "3                             11.0                  93.0   \n",
       "4                              9.0                 180.0   \n",
       "...                            ...                   ...   \n",
       "42312                         13.0                 206.0   \n",
       "42313                          9.0                 221.0   \n",
       "42314                         16.0                 150.0   \n",
       "42315                         11.0                 147.0   \n",
       "42316                         11.0                 189.0   \n",
       "\n",
       "       winner_first_serve_return_won  winner_first_serve_return_total  \\\n",
       "0                               18.0                             56.0   \n",
       "1                                9.0                             43.0   \n",
       "2                               13.0                             27.0   \n",
       "3                                7.0                             38.0   \n",
       "4                               15.0                             40.0   \n",
       "...                              ...                              ...   \n",
       "42312                           11.0                             43.0   \n",
       "42313                           11.0                             31.0   \n",
       "42314                           16.0                             56.0   \n",
       "42315                           15.0                             44.0   \n",
       "42316                            9.0                             43.0   \n",
       "\n",
       "       winner_second_serve_return_won  winner_second_serve_return_total  \\\n",
       "0                                18.0                              39.0   \n",
       "1                                24.0                              45.0   \n",
       "2                                11.0                              18.0   \n",
       "3                                15.0                              29.0   \n",
       "4                                18.0                              29.0   \n",
       "...                               ...                               ...   \n",
       "42312                            17.0                              30.0   \n",
       "42313                            10.0                              19.0   \n",
       "42314                            12.0                              29.0   \n",
       "42315                            10.0                              22.0   \n",
       "42316                             9.0                              18.0   \n",
       "\n",
       "       winner_break_points_converted  winner_break_points_return_total  \\\n",
       "0                                2.0                               8.0   \n",
       "1                                2.0                              12.0   \n",
       "2                                4.0                               7.0   \n",
       "3                                1.0                               8.0   \n",
       "4                                4.0                              10.0   \n",
       "...                              ...                               ...   \n",
       "42312                            3.0                               3.0   \n",
       "42313                            3.0                               3.0   \n",
       "42314                            3.0                               5.0   \n",
       "42315                            2.0                               4.0   \n",
       "42316                            2.0                               2.0   \n",
       "\n",
       "       winner_return_games_played  winner_service_points_won  \\\n",
       "0                            12.0                       58.0   \n",
       "1                            13.0                       54.0   \n",
       "2                             7.0                       35.0   \n",
       "3                            10.0                       49.0   \n",
       "4                            10.0                       41.0   \n",
       "...                           ...                        ...   \n",
       "42312                        13.0                       64.0   \n",
       "42313                         9.0                       36.0   \n",
       "42314                        15.0                       69.0   \n",
       "42315                        11.0                       56.0   \n",
       "42316                        11.0                       55.0   \n",
       "\n",
       "       winner_service_points_total  winner_return_points_won  \\\n",
       "0                             83.0                      36.0   \n",
       "1                             81.0                      33.0   \n",
       "2                             50.0                      24.0   \n",
       "3                             60.0                      22.0   \n",
       "4                             61.0                      33.0   \n",
       "...                            ...                       ...   \n",
       "42312                         96.0                      28.0   \n",
       "42313                         45.0                      21.0   \n",
       "42314                        115.0                      28.0   \n",
       "42315                         80.0                      25.0   \n",
       "42316                         83.0                      18.0   \n",
       "\n",
       "       winner_return_points_total  winner_total_points_won  \\\n",
       "0                            95.0                     94.0   \n",
       "1                            88.0                     87.0   \n",
       "2                            45.0                     59.0   \n",
       "3                            67.0                     71.0   \n",
       "4                            69.0                     74.0   \n",
       "...                           ...                      ...   \n",
       "42312                        73.0                     92.0   \n",
       "42313                        50.0                     57.0   \n",
       "42314                        85.0                     97.0   \n",
       "42315                        66.0                     81.0   \n",
       "42316                        61.0                     73.0   \n",
       "\n",
       "       winner_total_points_total  loser_serve_rating  loser_aces  \\\n",
       "0                          178.0               261.0         5.0   \n",
       "1                          169.0               269.0        12.0   \n",
       "2                           95.0               191.0         1.0   \n",
       "3                          127.0               281.0         6.0   \n",
       "4                          130.0               219.0         3.0   \n",
       "...                          ...                 ...         ...   \n",
       "42312                      169.0               252.0         3.0   \n",
       "42313                       95.0               241.0         4.0   \n",
       "42314                      200.0               280.0         6.0   \n",
       "42315                      146.0               270.0         5.0   \n",
       "42316                      144.0               291.0        11.0   \n",
       "\n",
       "       loser_double_faults  loser_first_serves_in  loser_first_serves_total  \\\n",
       "0                      8.0                   56.0                      95.0   \n",
       "1                      2.0                   43.0                      88.0   \n",
       "2                      3.0                   27.0                      45.0   \n",
       "3                      2.0                   38.0                      67.0   \n",
       "4                      3.0                   40.0                      69.0   \n",
       "...                    ...                    ...                       ...   \n",
       "42312                  3.0                   43.0                      73.0   \n",
       "42313                  3.0                   31.0                      50.0   \n",
       "42314                  2.0                   56.0                      85.0   \n",
       "42315                  4.0                   44.0                      66.0   \n",
       "42316                  0.0                   43.0                      61.0   \n",
       "\n",
       "       loser_first_serve_points_won  loser_first_serve_points_total  \\\n",
       "0                              38.0                            56.0   \n",
       "1                              34.0                            43.0   \n",
       "2                              14.0                            27.0   \n",
       "3                              31.0                            38.0   \n",
       "4                              25.0                            40.0   \n",
       "...                             ...                             ...   \n",
       "42312                          32.0                            43.0   \n",
       "42313                          20.0                            31.0   \n",
       "42314                          40.0                            56.0   \n",
       "42315                          29.0                            44.0   \n",
       "42316                          34.0                            43.0   \n",
       "\n",
       "       loser_second_serve_points_won  loser_second_serve_points_total  \\\n",
       "0                               21.0                             39.0   \n",
       "1                               21.0                             45.0   \n",
       "2                                7.0                             18.0   \n",
       "3                               14.0                             29.0   \n",
       "4                               11.0                             29.0   \n",
       "...                              ...                              ...   \n",
       "42312                           13.0                             30.0   \n",
       "42313                            9.0                             19.0   \n",
       "42314                           17.0                             29.0   \n",
       "42315                           12.0                             22.0   \n",
       "42316                            9.0                             18.0   \n",
       "\n",
       "       loser_break_points_saved  loser_break_points_serve_total  \\\n",
       "0                           6.0                             8.0   \n",
       "1                          10.0                            12.0   \n",
       "2                           3.0                             7.0   \n",
       "3                           7.0                             8.0   \n",
       "4                           6.0                            10.0   \n",
       "...                         ...                             ...   \n",
       "42312                       0.0                             3.0   \n",
       "42313                       0.0                             3.0   \n",
       "42314                       2.0                             5.0   \n",
       "42315                       2.0                             4.0   \n",
       "42316                       0.0                             2.0   \n",
       "\n",
       "       loser_service_games_played  loser_return_rating  \\\n",
       "0                            12.0                118.0   \n",
       "1                            13.0                124.0   \n",
       "2                             7.0                 56.0   \n",
       "3                            10.0                 46.0   \n",
       "4                            10.0                127.0   \n",
       "...                           ...                  ...   \n",
       "42312                        13.0                 84.0   \n",
       "42313                         9.0                 47.0   \n",
       "42314                        15.0                132.0   \n",
       "42315                        11.0                103.0   \n",
       "42316                        11.0                105.0   \n",
       "\n",
       "       loser_first_serve_return_won  loser_first_serve_return_total  \\\n",
       "0                              19.0                            64.0   \n",
       "1                              17.0                            60.0   \n",
       "2                              11.0                            31.0   \n",
       "3                               6.0                            45.0   \n",
       "4                               9.0                            33.0   \n",
       "...                             ...                             ...   \n",
       "42312                          13.0                            54.0   \n",
       "42313                           6.0                            35.0   \n",
       "42314                          27.0                            79.0   \n",
       "42315                          17.0                            58.0   \n",
       "42316                          17.0                            60.0   \n",
       "\n",
       "       loser_second_serve_return_won  loser_second_serve_return_total  \\\n",
       "0                                6.0                             19.0   \n",
       "1                               10.0                             21.0   \n",
       "2                                4.0                             19.0   \n",
       "3                                5.0                             15.0   \n",
       "4                               11.0                             28.0   \n",
       "...                              ...                              ...   \n",
       "42312                           19.0                             42.0   \n",
       "42313                            3.0                             10.0   \n",
       "42314                           19.0                             36.0   \n",
       "42315                            7.0                             22.0   \n",
       "42316                           11.0                             23.0   \n",
       "\n",
       "       loser_break_points_converted  loser_break_points_return_total  \\\n",
       "0                               2.0                              5.0   \n",
       "1                               2.0                              6.0   \n",
       "2                               0.0                              1.0   \n",
       "3                               0.0                              0.0   \n",
       "4                               1.0                              2.0   \n",
       "...                             ...                              ...   \n",
       "42312                           1.0                             13.0   \n",
       "42313                           0.0                              0.0   \n",
       "42314                           3.0                             11.0   \n",
       "42315                           1.0                              3.0   \n",
       "42316                           1.0                              5.0   \n",
       "\n",
       "       loser_return_games_played  loser_service_points_won  \\\n",
       "0                           12.0                      59.0   \n",
       "1                           13.0                      55.0   \n",
       "2                            8.0                      21.0   \n",
       "3                           11.0                      45.0   \n",
       "4                            9.0                      36.0   \n",
       "...                          ...                       ...   \n",
       "42312                       13.0                      45.0   \n",
       "42313                        9.0                      29.0   \n",
       "42314                       16.0                      57.0   \n",
       "42315                       11.0                      41.0   \n",
       "42316                       11.0                      43.0   \n",
       "\n",
       "       loser_service_points_total  loser_return_points_won  \\\n",
       "0                            95.0                     25.0   \n",
       "1                            88.0                     27.0   \n",
       "2                            45.0                     15.0   \n",
       "3                            67.0                     11.0   \n",
       "4                            69.0                     20.0   \n",
       "...                           ...                      ...   \n",
       "42312                        73.0                     32.0   \n",
       "42313                        50.0                      9.0   \n",
       "42314                        85.0                     46.0   \n",
       "42315                        66.0                     24.0   \n",
       "42316                        61.0                     28.0   \n",
       "\n",
       "       loser_return_points_total  loser_total_points_won  \\\n",
       "0                           83.0                    84.0   \n",
       "1                           81.0                    82.0   \n",
       "2                           50.0                    36.0   \n",
       "3                           60.0                    56.0   \n",
       "4                           61.0                    56.0   \n",
       "...                          ...                     ...   \n",
       "42312                       96.0                    77.0   \n",
       "42313                       45.0                    38.0   \n",
       "42314                      115.0                   103.0   \n",
       "42315                       80.0                    65.0   \n",
       "42316                       83.0                    71.0   \n",
       "\n",
       "       loser_total_points_total  \n",
       "0                         178.0  \n",
       "1                         169.0  \n",
       "2                          95.0  \n",
       "3                         127.0  \n",
       "4                         130.0  \n",
       "...                         ...  \n",
       "42312                     169.0  \n",
       "42313                      95.0  \n",
       "42314                     200.0  \n",
       "42315                     146.0  \n",
       "42316                     144.0  \n",
       "\n",
       "[42317 rows x 81 columns]"
      ]
     },
     "execution_count": 25,
     "metadata": {},
     "output_type": "execute_result"
    }
   ],
   "source": [
    "all_match"
   ]
  },
  {
   "cell_type": "code",
   "execution_count": null,
   "id": "f99125e8",
   "metadata": {},
   "outputs": [
    {
     "name": "stdout",
     "output_type": "stream",
     "text": [
      "Longer game time:  1412.0 minutes\n"
     ]
    }
   ],
   "source": [
    "print(\"Longer game time: \", round(all_match[\"match_duration\"].max(),0), \"minutes\")"
   ]
  },
  {
   "cell_type": "markdown",
   "id": "82c6d030",
   "metadata": {},
   "source": [
    "### Menor tempo de jogo"
   ]
  },
  {
   "cell_type": "code",
   "execution_count": null,
   "id": "9bb485cd",
   "metadata": {},
   "outputs": [
    {
     "name": "stdout",
     "output_type": "stream",
     "text": [
      "Longer game time:  2.0 minutes\n"
     ]
    }
   ],
   "source": [
    "print(\"Longer game time: \", all_match[\"match_duration\"].min(), \"minutes\")"
   ]
  },
  {
   "cell_type": "markdown",
   "id": "0cb768cd",
   "metadata": {},
   "source": [
    "### Jogador que ganha mais vezes"
   ]
  },
  {
   "cell_type": "code",
   "execution_count": null,
   "id": "dfc7eb6c",
   "metadata": {},
   "outputs": [
    {
     "name": "stdout",
     "output_type": "stream",
     "text": [
      "MORE WINS:  Novak Djokovic with 61 times.\n"
     ]
    }
   ],
   "source": [
    "print(\"MORE WINS: \", tournaments[\"singles_winner_name\"].value_counts().idxmax(), \"with\", tournaments[\"singles_winner_name\"].value_counts()[0], \"times.\")\n",
    "    "
   ]
  },
  {
   "cell_type": "markdown",
   "id": "6b0b86b8",
   "metadata": {},
   "source": [
    "### Par que aparece mais vezes"
   ]
  },
  {
   "cell_type": "code",
   "execution_count": null,
   "id": "0b3bf6fc",
   "metadata": {},
   "outputs": [
    {
     "name": "stdout",
     "output_type": "stream",
     "text": [
      "The pair who won more times is Bob Bryan & Mike Bryan\n"
     ]
    }
   ],
   "source": [
    "print(\"The pair who won more times is\", (tournaments[\"doubles_winner_1_name\"] + \" & \" + tournaments[\"doubles_winner_2_name\"]).value_counts().head(1).idxmax())"
   ]
  },
  {
   "cell_type": "code",
   "execution_count": null,
   "id": "1448ca7d",
   "metadata": {},
   "outputs": [],
   "source": []
  }
 ],
 "metadata": {
  "kernelspec": {
   "display_name": "Python 3 (ipykernel)",
   "language": "python",
   "name": "python3"
  },
  "language_info": {
   "codemirror_mode": {
    "name": "ipython",
    "version": 3
   },
   "file_extension": ".py",
   "mimetype": "text/x-python",
   "name": "python",
   "nbconvert_exporter": "python",
   "pygments_lexer": "ipython3",
   "version": "3.11.0"
  }
 },
 "nbformat": 4,
 "nbformat_minor": 5
}
