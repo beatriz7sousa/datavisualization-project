{
 "cells": [
  {
   "cell_type": "markdown",
   "id": "97484084",
   "metadata": {},
   "source": []
  },
  {
   "cell_type": "code",
   "execution_count": 1,
   "id": "95986eb6",
   "metadata": {},
   "outputs": [],
   "source": [
    "\n",
    "import plotly.graph_objects as go # We are only importing the 'graph_objects' module from plotly here\n",
    "import pandas as pd\n",
    "import numpy as np \n",
    "import plotly.express as px\n"
   ]
  },
  {
   "cell_type": "code",
   "execution_count": 2,
   "id": "4fdc12da",
   "metadata": {},
   "outputs": [],
   "source": [
    "df_match = pd.read_csv('all_match_preparation.csv')\n",
    "df_t = pd.read_csv('tournaments_preparation.csv')"
   ]
  },
  {
   "cell_type": "code",
   "execution_count": 3,
   "id": "43761c23",
   "metadata": {},
   "outputs": [],
   "source": [
    "df_t[\"Characteristics\"]=\"Characteristics\""
   ]
  },
  {
   "cell_type": "code",
   "execution_count": 4,
   "id": "8fedc3b3",
   "metadata": {},
   "outputs": [
    {
     "data": {
      "text/html": [
       "<div>\n",
       "<style scoped>\n",
       "    .dataframe tbody tr th:only-of-type {\n",
       "        vertical-align: middle;\n",
       "    }\n",
       "\n",
       "    .dataframe tbody tr th {\n",
       "        vertical-align: top;\n",
       "    }\n",
       "\n",
       "    .dataframe thead th {\n",
       "        text-align: right;\n",
       "    }\n",
       "</style>\n",
       "<table border=\"1\" class=\"dataframe\">\n",
       "  <thead>\n",
       "    <tr style=\"text-align: right;\">\n",
       "      <th></th>\n",
       "      <th>Unnamed: 0</th>\n",
       "      <th>tourney_year_id</th>\n",
       "      <th>tourney_order</th>\n",
       "      <th>tourney_name</th>\n",
       "      <th>tourney_slug_match_scores</th>\n",
       "      <th>start_date</th>\n",
       "      <th>end_date</th>\n",
       "      <th>tourney_round_name</th>\n",
       "      <th>round_order</th>\n",
       "      <th>winner_name</th>\n",
       "      <th>...</th>\n",
       "      <th>winner_break_points_saved_norm</th>\n",
       "      <th>winner_double_faults_norm</th>\n",
       "      <th>winner_return_points_won_norm</th>\n",
       "      <th>winner_total_points_won_norm</th>\n",
       "      <th>loser_aces_norm</th>\n",
       "      <th>loser_break_points_converted_norm</th>\n",
       "      <th>loser_break_points_saved_norm</th>\n",
       "      <th>loser_double_faults_norm</th>\n",
       "      <th>loser_return_points_won_norm</th>\n",
       "      <th>loser_total_points_won_norm</th>\n",
       "    </tr>\n",
       "  </thead>\n",
       "  <tbody>\n",
       "    <tr>\n",
       "      <th>0</th>\n",
       "      <td>0</td>\n",
       "      <td>2010-339</td>\n",
       "      <td>1</td>\n",
       "      <td>Brisbane</td>\n",
       "      <td>brisbane</td>\n",
       "      <td>2010-01-03</td>\n",
       "      <td>2010-01-10</td>\n",
       "      <td>Finals</td>\n",
       "      <td>1</td>\n",
       "      <td>Andy Roddick</td>\n",
       "      <td>...</td>\n",
       "      <td>1.612903</td>\n",
       "      <td>0.384615</td>\n",
       "      <td>3.461538</td>\n",
       "      <td>1.966527</td>\n",
       "      <td>0.485437</td>\n",
       "      <td>0.769231</td>\n",
       "      <td>2.857143</td>\n",
       "      <td>3.809524</td>\n",
       "      <td>2.136752</td>\n",
       "      <td>1.673307</td>\n",
       "    </tr>\n",
       "    <tr>\n",
       "      <th>1</th>\n",
       "      <td>1</td>\n",
       "      <td>2010-339</td>\n",
       "      <td>1</td>\n",
       "      <td>Brisbane</td>\n",
       "      <td>brisbane</td>\n",
       "      <td>2010-01-03</td>\n",
       "      <td>2010-01-10</td>\n",
       "      <td>Semi-Finals</td>\n",
       "      <td>2</td>\n",
       "      <td>Andy Roddick</td>\n",
       "      <td>...</td>\n",
       "      <td>1.774194</td>\n",
       "      <td>0.384615</td>\n",
       "      <td>3.173077</td>\n",
       "      <td>1.820084</td>\n",
       "      <td>1.165049</td>\n",
       "      <td>0.769231</td>\n",
       "      <td>3.571429</td>\n",
       "      <td>0.952381</td>\n",
       "      <td>2.307692</td>\n",
       "      <td>1.633466</td>\n",
       "    </tr>\n",
       "    <tr>\n",
       "      <th>2</th>\n",
       "      <td>2</td>\n",
       "      <td>2010-339</td>\n",
       "      <td>1</td>\n",
       "      <td>Brisbane</td>\n",
       "      <td>brisbane</td>\n",
       "      <td>2010-01-03</td>\n",
       "      <td>2010-01-10</td>\n",
       "      <td>Semi-Finals</td>\n",
       "      <td>2</td>\n",
       "      <td>Radek Stepanek</td>\n",
       "      <td>...</td>\n",
       "      <td>1.290323</td>\n",
       "      <td>0.000000</td>\n",
       "      <td>2.307692</td>\n",
       "      <td>1.234310</td>\n",
       "      <td>0.097087</td>\n",
       "      <td>0.000000</td>\n",
       "      <td>2.321429</td>\n",
       "      <td>1.428571</td>\n",
       "      <td>1.282051</td>\n",
       "      <td>0.717131</td>\n",
       "    </tr>\n",
       "    <tr>\n",
       "      <th>3</th>\n",
       "      <td>3</td>\n",
       "      <td>2010-339</td>\n",
       "      <td>1</td>\n",
       "      <td>Brisbane</td>\n",
       "      <td>brisbane</td>\n",
       "      <td>2010-01-03</td>\n",
       "      <td>2010-01-10</td>\n",
       "      <td>Quarter-Finals</td>\n",
       "      <td>3</td>\n",
       "      <td>Andy Roddick</td>\n",
       "      <td>...</td>\n",
       "      <td>1.129032</td>\n",
       "      <td>0.384615</td>\n",
       "      <td>2.115385</td>\n",
       "      <td>1.485356</td>\n",
       "      <td>0.582524</td>\n",
       "      <td>0.000000</td>\n",
       "      <td>3.035714</td>\n",
       "      <td>0.952381</td>\n",
       "      <td>0.940171</td>\n",
       "      <td>1.115538</td>\n",
       "    </tr>\n",
       "    <tr>\n",
       "      <th>4</th>\n",
       "      <td>4</td>\n",
       "      <td>2010-339</td>\n",
       "      <td>1</td>\n",
       "      <td>Brisbane</td>\n",
       "      <td>brisbane</td>\n",
       "      <td>2010-01-03</td>\n",
       "      <td>2010-01-10</td>\n",
       "      <td>Quarter-Finals</td>\n",
       "      <td>3</td>\n",
       "      <td>Radek Stepanek</td>\n",
       "      <td>...</td>\n",
       "      <td>1.290323</td>\n",
       "      <td>1.538462</td>\n",
       "      <td>3.173077</td>\n",
       "      <td>1.548117</td>\n",
       "      <td>0.291262</td>\n",
       "      <td>0.384615</td>\n",
       "      <td>2.857143</td>\n",
       "      <td>1.428571</td>\n",
       "      <td>1.709402</td>\n",
       "      <td>1.115538</td>\n",
       "    </tr>\n",
       "  </tbody>\n",
       "</table>\n",
       "<p>5 rows × 93 columns</p>\n",
       "</div>"
      ],
      "text/plain": [
       "   Unnamed: 0 tourney_year_id  tourney_order tourney_name  \\\n",
       "0           0        2010-339              1     Brisbane   \n",
       "1           1        2010-339              1     Brisbane   \n",
       "2           2        2010-339              1     Brisbane   \n",
       "3           3        2010-339              1     Brisbane   \n",
       "4           4        2010-339              1     Brisbane   \n",
       "\n",
       "  tourney_slug_match_scores  start_date    end_date tourney_round_name  \\\n",
       "0                  brisbane  2010-01-03  2010-01-10             Finals   \n",
       "1                  brisbane  2010-01-03  2010-01-10        Semi-Finals   \n",
       "2                  brisbane  2010-01-03  2010-01-10        Semi-Finals   \n",
       "3                  brisbane  2010-01-03  2010-01-10     Quarter-Finals   \n",
       "4                  brisbane  2010-01-03  2010-01-10     Quarter-Finals   \n",
       "\n",
       "   round_order     winner_name  ... winner_break_points_saved_norm  \\\n",
       "0            1    Andy Roddick  ...                       1.612903   \n",
       "1            2    Andy Roddick  ...                       1.774194   \n",
       "2            2  Radek Stepanek  ...                       1.290323   \n",
       "3            3    Andy Roddick  ...                       1.129032   \n",
       "4            3  Radek Stepanek  ...                       1.290323   \n",
       "\n",
       "  winner_double_faults_norm winner_return_points_won_norm  \\\n",
       "0                  0.384615                      3.461538   \n",
       "1                  0.384615                      3.173077   \n",
       "2                  0.000000                      2.307692   \n",
       "3                  0.384615                      2.115385   \n",
       "4                  1.538462                      3.173077   \n",
       "\n",
       "  winner_total_points_won_norm loser_aces_norm  \\\n",
       "0                     1.966527        0.485437   \n",
       "1                     1.820084        1.165049   \n",
       "2                     1.234310        0.097087   \n",
       "3                     1.485356        0.582524   \n",
       "4                     1.548117        0.291262   \n",
       "\n",
       "  loser_break_points_converted_norm loser_break_points_saved_norm  \\\n",
       "0                          0.769231                      2.857143   \n",
       "1                          0.769231                      3.571429   \n",
       "2                          0.000000                      2.321429   \n",
       "3                          0.000000                      3.035714   \n",
       "4                          0.384615                      2.857143   \n",
       "\n",
       "  loser_double_faults_norm  loser_return_points_won_norm  \\\n",
       "0                 3.809524                      2.136752   \n",
       "1                 0.952381                      2.307692   \n",
       "2                 1.428571                      1.282051   \n",
       "3                 0.952381                      0.940171   \n",
       "4                 1.428571                      1.709402   \n",
       "\n",
       "   loser_total_points_won_norm  \n",
       "0                     1.673307  \n",
       "1                     1.633466  \n",
       "2                     0.717131  \n",
       "3                     1.115538  \n",
       "4                     1.115538  \n",
       "\n",
       "[5 rows x 93 columns]"
      ]
     },
     "execution_count": 4,
     "metadata": {},
     "output_type": "execute_result"
    }
   ],
   "source": [
    "df_match.head()"
   ]
  },
  {
   "cell_type": "code",
   "execution_count": 5,
   "id": "92a5d729",
   "metadata": {},
   "outputs": [
    {
     "data": {
      "text/html": [
       "<div>\n",
       "<style scoped>\n",
       "    .dataframe tbody tr th:only-of-type {\n",
       "        vertical-align: middle;\n",
       "    }\n",
       "\n",
       "    .dataframe tbody tr th {\n",
       "        vertical-align: top;\n",
       "    }\n",
       "\n",
       "    .dataframe thead th {\n",
       "        text-align: right;\n",
       "    }\n",
       "</style>\n",
       "<table border=\"1\" class=\"dataframe\">\n",
       "  <thead>\n",
       "    <tr style=\"text-align: right;\">\n",
       "      <th></th>\n",
       "      <th>Unnamed: 0</th>\n",
       "      <th>tourney_year_id</th>\n",
       "      <th>tourney_order</th>\n",
       "      <th>tourney_type</th>\n",
       "      <th>tourney_name</th>\n",
       "      <th>tourney_id</th>\n",
       "      <th>tourney_slug</th>\n",
       "      <th>tourney_location</th>\n",
       "      <th>tourney_date</th>\n",
       "      <th>tourney_singles_draw</th>\n",
       "      <th>...</th>\n",
       "      <th>singles_winner_player_slug</th>\n",
       "      <th>singles_winner_player_id</th>\n",
       "      <th>doubles_winner_1_name</th>\n",
       "      <th>doubles_winner_1_player_slug</th>\n",
       "      <th>doubles_winner_1_player_id</th>\n",
       "      <th>doubles_winner_2_name</th>\n",
       "      <th>doubles_winner_2_player_slug</th>\n",
       "      <th>doubles_winner_2_player_id</th>\n",
       "      <th>tourney_fin_commit_USD</th>\n",
       "      <th>Characteristics</th>\n",
       "    </tr>\n",
       "  </thead>\n",
       "  <tbody>\n",
       "    <tr>\n",
       "      <th>0</th>\n",
       "      <td>0</td>\n",
       "      <td>2010-339</td>\n",
       "      <td>1</td>\n",
       "      <td>ATP 250</td>\n",
       "      <td>Brisbane</td>\n",
       "      <td>339</td>\n",
       "      <td>brisbane</td>\n",
       "      <td>Brisbane</td>\n",
       "      <td>2010-01-03</td>\n",
       "      <td>32</td>\n",
       "      <td>...</td>\n",
       "      <td>andy-roddick</td>\n",
       "      <td>r485</td>\n",
       "      <td>Jeremy Chardy</td>\n",
       "      <td>jeremy-chardy</td>\n",
       "      <td>ca12</td>\n",
       "      <td>Marc Gicquel</td>\n",
       "      <td>marc-gicquel</td>\n",
       "      <td>g436</td>\n",
       "      <td>424250.0</td>\n",
       "      <td>Characteristics</td>\n",
       "    </tr>\n",
       "    <tr>\n",
       "      <th>1</th>\n",
       "      <td>1</td>\n",
       "      <td>2010-451</td>\n",
       "      <td>2</td>\n",
       "      <td>ATP 250</td>\n",
       "      <td>Doha</td>\n",
       "      <td>451</td>\n",
       "      <td>doha</td>\n",
       "      <td>Doha</td>\n",
       "      <td>2010-01-04</td>\n",
       "      <td>32</td>\n",
       "      <td>...</td>\n",
       "      <td>nikolay-davydenko</td>\n",
       "      <td>d402</td>\n",
       "      <td>Guillermo Garcia-Lopez</td>\n",
       "      <td>guillermo-garcia-lopez</td>\n",
       "      <td>g476</td>\n",
       "      <td>Albert Montanes</td>\n",
       "      <td>albert-montanes</td>\n",
       "      <td>m824</td>\n",
       "      <td>1110250.0</td>\n",
       "      <td>Characteristics</td>\n",
       "    </tr>\n",
       "    <tr>\n",
       "      <th>2</th>\n",
       "      <td>2</td>\n",
       "      <td>2010-891</td>\n",
       "      <td>3</td>\n",
       "      <td>ATP 250</td>\n",
       "      <td>Chennai</td>\n",
       "      <td>891</td>\n",
       "      <td>chennai</td>\n",
       "      <td>Chennai</td>\n",
       "      <td>2010-01-04</td>\n",
       "      <td>32</td>\n",
       "      <td>...</td>\n",
       "      <td>marin-cilic</td>\n",
       "      <td>c977</td>\n",
       "      <td>Marcel Granollers</td>\n",
       "      <td>marcel-granollers</td>\n",
       "      <td>g710</td>\n",
       "      <td>Santiago Ventura</td>\n",
       "      <td>santiago-ventura</td>\n",
       "      <td>v251</td>\n",
       "      <td>450000.0</td>\n",
       "      <td>Characteristics</td>\n",
       "    </tr>\n",
       "    <tr>\n",
       "      <th>3</th>\n",
       "      <td>3</td>\n",
       "      <td>2010-338</td>\n",
       "      <td>4</td>\n",
       "      <td>ATP 250</td>\n",
       "      <td>Sydney</td>\n",
       "      <td>338</td>\n",
       "      <td>sydney</td>\n",
       "      <td>Sydney</td>\n",
       "      <td>2010-01-11</td>\n",
       "      <td>28</td>\n",
       "      <td>...</td>\n",
       "      <td>marcos-baghdatis</td>\n",
       "      <td>b837</td>\n",
       "      <td>Daniel Nestor</td>\n",
       "      <td>daniel-nestor</td>\n",
       "      <td>n210</td>\n",
       "      <td>Nenad Zimonjic</td>\n",
       "      <td>nenad-zimonjic</td>\n",
       "      <td>z072</td>\n",
       "      <td>424250.0</td>\n",
       "      <td>Characteristics</td>\n",
       "    </tr>\n",
       "    <tr>\n",
       "      <th>4</th>\n",
       "      <td>4</td>\n",
       "      <td>2010-301</td>\n",
       "      <td>5</td>\n",
       "      <td>ATP 250</td>\n",
       "      <td>Auckland</td>\n",
       "      <td>301</td>\n",
       "      <td>auckland</td>\n",
       "      <td>Auckland</td>\n",
       "      <td>2010-01-11</td>\n",
       "      <td>28</td>\n",
       "      <td>...</td>\n",
       "      <td>john-isner</td>\n",
       "      <td>i186</td>\n",
       "      <td>Marcus Daniell</td>\n",
       "      <td>marcus-daniell</td>\n",
       "      <td>d763</td>\n",
       "      <td>Horia Tecau</td>\n",
       "      <td>horia-tecau</td>\n",
       "      <td>t749</td>\n",
       "      <td>407250.0</td>\n",
       "      <td>Characteristics</td>\n",
       "    </tr>\n",
       "  </tbody>\n",
       "</table>\n",
       "<p>5 rows × 24 columns</p>\n",
       "</div>"
      ],
      "text/plain": [
       "   Unnamed: 0 tourney_year_id  tourney_order tourney_type tourney_name  \\\n",
       "0           0        2010-339              1      ATP 250     Brisbane   \n",
       "1           1        2010-451              2      ATP 250         Doha   \n",
       "2           2        2010-891              3      ATP 250      Chennai   \n",
       "3           3        2010-338              4      ATP 250       Sydney   \n",
       "4           4        2010-301              5      ATP 250     Auckland   \n",
       "\n",
       "   tourney_id tourney_slug tourney_location tourney_date  \\\n",
       "0         339     brisbane         Brisbane   2010-01-03   \n",
       "1         451         doha             Doha   2010-01-04   \n",
       "2         891      chennai          Chennai   2010-01-04   \n",
       "3         338       sydney           Sydney   2010-01-11   \n",
       "4         301     auckland         Auckland   2010-01-11   \n",
       "\n",
       "   tourney_singles_draw  ...  singles_winner_player_slug  \\\n",
       "0                    32  ...                andy-roddick   \n",
       "1                    32  ...           nikolay-davydenko   \n",
       "2                    32  ...                 marin-cilic   \n",
       "3                    28  ...            marcos-baghdatis   \n",
       "4                    28  ...                  john-isner   \n",
       "\n",
       "  singles_winner_player_id   doubles_winner_1_name  \\\n",
       "0                     r485           Jeremy Chardy   \n",
       "1                     d402  Guillermo Garcia-Lopez   \n",
       "2                     c977       Marcel Granollers   \n",
       "3                     b837           Daniel Nestor   \n",
       "4                     i186          Marcus Daniell   \n",
       "\n",
       "  doubles_winner_1_player_slug doubles_winner_1_player_id  \\\n",
       "0                jeremy-chardy                       ca12   \n",
       "1       guillermo-garcia-lopez                       g476   \n",
       "2            marcel-granollers                       g710   \n",
       "3                daniel-nestor                       n210   \n",
       "4               marcus-daniell                       d763   \n",
       "\n",
       "  doubles_winner_2_name doubles_winner_2_player_slug  \\\n",
       "0          Marc Gicquel                 marc-gicquel   \n",
       "1       Albert Montanes              albert-montanes   \n",
       "2      Santiago Ventura             santiago-ventura   \n",
       "3        Nenad Zimonjic               nenad-zimonjic   \n",
       "4           Horia Tecau                  horia-tecau   \n",
       "\n",
       "  doubles_winner_2_player_id tourney_fin_commit_USD  Characteristics  \n",
       "0                       g436               424250.0  Characteristics  \n",
       "1                       m824              1110250.0  Characteristics  \n",
       "2                       v251               450000.0  Characteristics  \n",
       "3                       z072               424250.0  Characteristics  \n",
       "4                       t749               407250.0  Characteristics  \n",
       "\n",
       "[5 rows x 24 columns]"
      ]
     },
     "execution_count": 5,
     "metadata": {},
     "output_type": "execute_result"
    }
   ],
   "source": [
    "df_t.head()"
   ]
  },
  {
   "cell_type": "code",
   "execution_count": 6,
   "id": "25c99620",
   "metadata": {},
   "outputs": [
    {
     "data": {
      "text/plain": [
       "Outdoor    497\n",
       "Indoor     163\n",
       "Name: tourney_conditions, dtype: int64"
      ]
     },
     "execution_count": 6,
     "metadata": {},
     "output_type": "execute_result"
    }
   ],
   "source": [
    "df_t['tourney_conditions'].value_counts()"
   ]
  },
  {
   "cell_type": "code",
   "execution_count": 7,
   "id": "c3faa8e3",
   "metadata": {},
   "outputs": [
    {
     "data": {
      "text/plain": [
       "['Outdoor', 'Indoor']"
      ]
     },
     "execution_count": 7,
     "metadata": {},
     "output_type": "execute_result"
    }
   ],
   "source": [
    "values_conditions= df_t['tourney_conditions'].unique().tolist()\n",
    "values_conditions"
   ]
  },
  {
   "cell_type": "code",
   "execution_count": 8,
   "id": "729f32d4",
   "metadata": {},
   "outputs": [
    {
     "data": {
      "text/plain": [
       "Hard     374\n",
       "Clay     218\n",
       "Grass     68\n",
       "Name: tourney_surface, dtype: int64"
      ]
     },
     "execution_count": 8,
     "metadata": {},
     "output_type": "execute_result"
    }
   ],
   "source": [
    "df_t['tourney_surface'].value_counts()"
   ]
  },
  {
   "cell_type": "code",
   "execution_count": 9,
   "id": "e7fdd975",
   "metadata": {},
   "outputs": [
    {
     "data": {
      "text/plain": [
       "['Hard', 'Clay', 'Grass']"
      ]
     },
     "execution_count": 9,
     "metadata": {},
     "output_type": "execute_result"
    }
   ],
   "source": [
    "values_surface= df_t['tourney_surface'].unique().tolist()\n",
    "values_surface"
   ]
  },
  {
   "cell_type": "code",
   "execution_count": 10,
   "id": "73e8b31b",
   "metadata": {},
   "outputs": [
    {
     "data": {
      "text/html": [
       "<div>\n",
       "<style scoped>\n",
       "    .dataframe tbody tr th:only-of-type {\n",
       "        vertical-align: middle;\n",
       "    }\n",
       "\n",
       "    .dataframe tbody tr th {\n",
       "        vertical-align: top;\n",
       "    }\n",
       "\n",
       "    .dataframe thead th {\n",
       "        text-align: right;\n",
       "    }\n",
       "</style>\n",
       "<table border=\"1\" class=\"dataframe\">\n",
       "  <thead>\n",
       "    <tr style=\"text-align: right;\">\n",
       "      <th></th>\n",
       "      <th>tourney_type</th>\n",
       "      <th>tourney_conditions</th>\n",
       "      <th>tourney_surface</th>\n",
       "      <th>Count</th>\n",
       "      <th>Characteristics</th>\n",
       "    </tr>\n",
       "  </thead>\n",
       "  <tbody>\n",
       "    <tr>\n",
       "      <th>0</th>\n",
       "      <td>ATP 250</td>\n",
       "      <td>Indoor</td>\n",
       "      <td>Clay</td>\n",
       "      <td>6</td>\n",
       "      <td>Characteristics</td>\n",
       "    </tr>\n",
       "    <tr>\n",
       "      <th>1</th>\n",
       "      <td>ATP 250</td>\n",
       "      <td>Indoor</td>\n",
       "      <td>Hard</td>\n",
       "      <td>99</td>\n",
       "      <td>Characteristics</td>\n",
       "    </tr>\n",
       "    <tr>\n",
       "      <th>2</th>\n",
       "      <td>ATP 250</td>\n",
       "      <td>Outdoor</td>\n",
       "      <td>Clay</td>\n",
       "      <td>142</td>\n",
       "      <td>Characteristics</td>\n",
       "    </tr>\n",
       "    <tr>\n",
       "      <th>3</th>\n",
       "      <td>ATP 250</td>\n",
       "      <td>Outdoor</td>\n",
       "      <td>Grass</td>\n",
       "      <td>48</td>\n",
       "      <td>Characteristics</td>\n",
       "    </tr>\n",
       "    <tr>\n",
       "      <th>4</th>\n",
       "      <td>ATP 250</td>\n",
       "      <td>Outdoor</td>\n",
       "      <td>Hard</td>\n",
       "      <td>102</td>\n",
       "      <td>Characteristics</td>\n",
       "    </tr>\n",
       "  </tbody>\n",
       "</table>\n",
       "</div>"
      ],
      "text/plain": [
       "  tourney_type tourney_conditions tourney_surface  Count  Characteristics\n",
       "0      ATP 250             Indoor            Clay      6  Characteristics\n",
       "1      ATP 250             Indoor            Hard     99  Characteristics\n",
       "2      ATP 250            Outdoor            Clay    142  Characteristics\n",
       "3      ATP 250            Outdoor           Grass     48  Characteristics\n",
       "4      ATP 250            Outdoor            Hard    102  Characteristics"
      ]
     },
     "execution_count": 10,
     "metadata": {},
     "output_type": "execute_result"
    }
   ],
   "source": [
    "df_dist = df_t.groupby(by=[\"tourney_type\",\"tourney_conditions\", \"tourney_surface\"]).count()[[\"Unnamed: 0\"]].rename(columns={\"Unnamed: 0\":\"Count\"})\n",
    "df_dist[\"Characteristics\"] = \"Characteristics\"\n",
    "df_dist = df_dist.reset_index()\n",
    "df_dist.head()"
   ]
  },
  {
   "cell_type": "code",
   "execution_count": 26,
   "id": "596b3825",
   "metadata": {},
   "outputs": [
    {
     "data": {
      "application/vnd.plotly.v1+json": {
       "config": {
        "plotlyServerURL": "https://plot.ly"
       },
       "data": [
        {
         "branchvalues": "total",
         "domain": {
          "x": [
           0,
           1
          ],
          "y": [
           0,
           1
          ]
         },
         "hovertemplate": "%{label}<br>Number of tournaments: %{value}",
         "ids": [
          "Characteristics/ATP 250/Indoor/Clay",
          "Characteristics/ATP 250/Outdoor/Clay",
          "Characteristics/ATP 500/Outdoor/Clay",
          "Characteristics/Grand Slam/Outdoor/Clay",
          "Characteristics/Masters 1000/Outdoor/Clay",
          "Characteristics/ATP 250/Outdoor/Grass",
          "Characteristics/ATP 500/Outdoor/Grass",
          "Characteristics/Grand Slam/Outdoor/Grass",
          "Characteristics/ATP 250/Indoor/Hard",
          "Characteristics/ATP 500/Indoor/Hard",
          "Characteristics/ATP Finals/Indoor/Hard",
          "Characteristics/Masters 1000/Indoor/Hard",
          "Characteristics/Next Gen Finals/Indoor/Hard",
          "Characteristics/ATP 250/Outdoor/Hard",
          "Characteristics/ATP 500/Outdoor/Hard",
          "Characteristics/Grand Slam/Outdoor/Hard",
          "Characteristics/Masters 1000/Outdoor/Hard",
          "Characteristics/ATP 250/Indoor",
          "Characteristics/ATP 500/Indoor",
          "Characteristics/ATP Finals/Indoor",
          "Characteristics/Masters 1000/Indoor",
          "Characteristics/Next Gen Finals/Indoor",
          "Characteristics/ATP 250/Outdoor",
          "Characteristics/ATP 500/Outdoor",
          "Characteristics/Grand Slam/Outdoor",
          "Characteristics/Masters 1000/Outdoor",
          "Characteristics/ATP 250",
          "Characteristics/ATP 500",
          "Characteristics/ATP Finals",
          "Characteristics/Grand Slam",
          "Characteristics/Masters 1000",
          "Characteristics/Next Gen Finals",
          "Characteristics"
         ],
         "labels": [
          "Clay",
          "Clay",
          "Clay",
          "Clay",
          "Clay",
          "Grass",
          "Grass",
          "Grass",
          "Hard",
          "Hard",
          "Hard",
          "Hard",
          "Hard",
          "Hard",
          "Hard",
          "Hard",
          "Hard",
          "Indoor",
          "Indoor",
          "Indoor",
          "Indoor",
          "Indoor",
          "Outdoor",
          "Outdoor",
          "Outdoor",
          "Outdoor",
          "ATP 250",
          "ATP 500",
          "ATP Finals",
          "Grand Slam",
          "Masters 1000",
          "Next Gen Finals",
          "Characteristics"
         ],
         "name": "",
         "parents": [
          "Characteristics/ATP 250/Indoor",
          "Characteristics/ATP 250/Outdoor",
          "Characteristics/ATP 500/Outdoor",
          "Characteristics/Grand Slam/Outdoor",
          "Characteristics/Masters 1000/Outdoor",
          "Characteristics/ATP 250/Outdoor",
          "Characteristics/ATP 500/Outdoor",
          "Characteristics/Grand Slam/Outdoor",
          "Characteristics/ATP 250/Indoor",
          "Characteristics/ATP 500/Indoor",
          "Characteristics/ATP Finals/Indoor",
          "Characteristics/Masters 1000/Indoor",
          "Characteristics/Next Gen Finals/Indoor",
          "Characteristics/ATP 250/Outdoor",
          "Characteristics/ATP 500/Outdoor",
          "Characteristics/Grand Slam/Outdoor",
          "Characteristics/Masters 1000/Outdoor",
          "Characteristics/ATP 250",
          "Characteristics/ATP 500",
          "Characteristics/ATP Finals",
          "Characteristics/Masters 1000",
          "Characteristics/Next Gen Finals",
          "Characteristics/ATP 250",
          "Characteristics/ATP 500",
          "Characteristics/Grand Slam",
          "Characteristics/Masters 1000",
          "Characteristics",
          "Characteristics",
          "Characteristics",
          "Characteristics",
          "Characteristics",
          "Characteristics",
          ""
         ],
         "type": "sunburst",
         "values": [
          6,
          142,
          30,
          10,
          30,
          48,
          10,
          10,
          99,
          35,
          10,
          10,
          3,
          102,
          45,
          20,
          50,
          105,
          35,
          10,
          10,
          3,
          292,
          85,
          40,
          80,
          397,
          120,
          10,
          40,
          90,
          3,
          660
         ]
        }
       ],
       "layout": {
        "height": 750,
        "legend": {
         "tracegroupgap": 0
        },
        "template": {
         "data": {
          "bar": [
           {
            "error_x": {
             "color": "#2a3f5f"
            },
            "error_y": {
             "color": "#2a3f5f"
            },
            "marker": {
             "line": {
              "color": "#E5ECF6",
              "width": 0.5
             },
             "pattern": {
              "fillmode": "overlay",
              "size": 10,
              "solidity": 0.2
             }
            },
            "type": "bar"
           }
          ],
          "barpolar": [
           {
            "marker": {
             "line": {
              "color": "#E5ECF6",
              "width": 0.5
             },
             "pattern": {
              "fillmode": "overlay",
              "size": 10,
              "solidity": 0.2
             }
            },
            "type": "barpolar"
           }
          ],
          "carpet": [
           {
            "aaxis": {
             "endlinecolor": "#2a3f5f",
             "gridcolor": "white",
             "linecolor": "white",
             "minorgridcolor": "white",
             "startlinecolor": "#2a3f5f"
            },
            "baxis": {
             "endlinecolor": "#2a3f5f",
             "gridcolor": "white",
             "linecolor": "white",
             "minorgridcolor": "white",
             "startlinecolor": "#2a3f5f"
            },
            "type": "carpet"
           }
          ],
          "choropleth": [
           {
            "colorbar": {
             "outlinewidth": 0,
             "ticks": ""
            },
            "type": "choropleth"
           }
          ],
          "contour": [
           {
            "colorbar": {
             "outlinewidth": 0,
             "ticks": ""
            },
            "colorscale": [
             [
              0,
              "#0d0887"
             ],
             [
              0.1111111111111111,
              "#46039f"
             ],
             [
              0.2222222222222222,
              "#7201a8"
             ],
             [
              0.3333333333333333,
              "#9c179e"
             ],
             [
              0.4444444444444444,
              "#bd3786"
             ],
             [
              0.5555555555555556,
              "#d8576b"
             ],
             [
              0.6666666666666666,
              "#ed7953"
             ],
             [
              0.7777777777777778,
              "#fb9f3a"
             ],
             [
              0.8888888888888888,
              "#fdca26"
             ],
             [
              1,
              "#f0f921"
             ]
            ],
            "type": "contour"
           }
          ],
          "contourcarpet": [
           {
            "colorbar": {
             "outlinewidth": 0,
             "ticks": ""
            },
            "type": "contourcarpet"
           }
          ],
          "heatmap": [
           {
            "colorbar": {
             "outlinewidth": 0,
             "ticks": ""
            },
            "colorscale": [
             [
              0,
              "#0d0887"
             ],
             [
              0.1111111111111111,
              "#46039f"
             ],
             [
              0.2222222222222222,
              "#7201a8"
             ],
             [
              0.3333333333333333,
              "#9c179e"
             ],
             [
              0.4444444444444444,
              "#bd3786"
             ],
             [
              0.5555555555555556,
              "#d8576b"
             ],
             [
              0.6666666666666666,
              "#ed7953"
             ],
             [
              0.7777777777777778,
              "#fb9f3a"
             ],
             [
              0.8888888888888888,
              "#fdca26"
             ],
             [
              1,
              "#f0f921"
             ]
            ],
            "type": "heatmap"
           }
          ],
          "heatmapgl": [
           {
            "colorbar": {
             "outlinewidth": 0,
             "ticks": ""
            },
            "colorscale": [
             [
              0,
              "#0d0887"
             ],
             [
              0.1111111111111111,
              "#46039f"
             ],
             [
              0.2222222222222222,
              "#7201a8"
             ],
             [
              0.3333333333333333,
              "#9c179e"
             ],
             [
              0.4444444444444444,
              "#bd3786"
             ],
             [
              0.5555555555555556,
              "#d8576b"
             ],
             [
              0.6666666666666666,
              "#ed7953"
             ],
             [
              0.7777777777777778,
              "#fb9f3a"
             ],
             [
              0.8888888888888888,
              "#fdca26"
             ],
             [
              1,
              "#f0f921"
             ]
            ],
            "type": "heatmapgl"
           }
          ],
          "histogram": [
           {
            "marker": {
             "pattern": {
              "fillmode": "overlay",
              "size": 10,
              "solidity": 0.2
             }
            },
            "type": "histogram"
           }
          ],
          "histogram2d": [
           {
            "colorbar": {
             "outlinewidth": 0,
             "ticks": ""
            },
            "colorscale": [
             [
              0,
              "#0d0887"
             ],
             [
              0.1111111111111111,
              "#46039f"
             ],
             [
              0.2222222222222222,
              "#7201a8"
             ],
             [
              0.3333333333333333,
              "#9c179e"
             ],
             [
              0.4444444444444444,
              "#bd3786"
             ],
             [
              0.5555555555555556,
              "#d8576b"
             ],
             [
              0.6666666666666666,
              "#ed7953"
             ],
             [
              0.7777777777777778,
              "#fb9f3a"
             ],
             [
              0.8888888888888888,
              "#fdca26"
             ],
             [
              1,
              "#f0f921"
             ]
            ],
            "type": "histogram2d"
           }
          ],
          "histogram2dcontour": [
           {
            "colorbar": {
             "outlinewidth": 0,
             "ticks": ""
            },
            "colorscale": [
             [
              0,
              "#0d0887"
             ],
             [
              0.1111111111111111,
              "#46039f"
             ],
             [
              0.2222222222222222,
              "#7201a8"
             ],
             [
              0.3333333333333333,
              "#9c179e"
             ],
             [
              0.4444444444444444,
              "#bd3786"
             ],
             [
              0.5555555555555556,
              "#d8576b"
             ],
             [
              0.6666666666666666,
              "#ed7953"
             ],
             [
              0.7777777777777778,
              "#fb9f3a"
             ],
             [
              0.8888888888888888,
              "#fdca26"
             ],
             [
              1,
              "#f0f921"
             ]
            ],
            "type": "histogram2dcontour"
           }
          ],
          "mesh3d": [
           {
            "colorbar": {
             "outlinewidth": 0,
             "ticks": ""
            },
            "type": "mesh3d"
           }
          ],
          "parcoords": [
           {
            "line": {
             "colorbar": {
              "outlinewidth": 0,
              "ticks": ""
             }
            },
            "type": "parcoords"
           }
          ],
          "pie": [
           {
            "automargin": true,
            "type": "pie"
           }
          ],
          "scatter": [
           {
            "fillpattern": {
             "fillmode": "overlay",
             "size": 10,
             "solidity": 0.2
            },
            "type": "scatter"
           }
          ],
          "scatter3d": [
           {
            "line": {
             "colorbar": {
              "outlinewidth": 0,
              "ticks": ""
             }
            },
            "marker": {
             "colorbar": {
              "outlinewidth": 0,
              "ticks": ""
             }
            },
            "type": "scatter3d"
           }
          ],
          "scattercarpet": [
           {
            "marker": {
             "colorbar": {
              "outlinewidth": 0,
              "ticks": ""
             }
            },
            "type": "scattercarpet"
           }
          ],
          "scattergeo": [
           {
            "marker": {
             "colorbar": {
              "outlinewidth": 0,
              "ticks": ""
             }
            },
            "type": "scattergeo"
           }
          ],
          "scattergl": [
           {
            "marker": {
             "colorbar": {
              "outlinewidth": 0,
              "ticks": ""
             }
            },
            "type": "scattergl"
           }
          ],
          "scattermapbox": [
           {
            "marker": {
             "colorbar": {
              "outlinewidth": 0,
              "ticks": ""
             }
            },
            "type": "scattermapbox"
           }
          ],
          "scatterpolar": [
           {
            "marker": {
             "colorbar": {
              "outlinewidth": 0,
              "ticks": ""
             }
            },
            "type": "scatterpolar"
           }
          ],
          "scatterpolargl": [
           {
            "marker": {
             "colorbar": {
              "outlinewidth": 0,
              "ticks": ""
             }
            },
            "type": "scatterpolargl"
           }
          ],
          "scatterternary": [
           {
            "marker": {
             "colorbar": {
              "outlinewidth": 0,
              "ticks": ""
             }
            },
            "type": "scatterternary"
           }
          ],
          "surface": [
           {
            "colorbar": {
             "outlinewidth": 0,
             "ticks": ""
            },
            "colorscale": [
             [
              0,
              "#0d0887"
             ],
             [
              0.1111111111111111,
              "#46039f"
             ],
             [
              0.2222222222222222,
              "#7201a8"
             ],
             [
              0.3333333333333333,
              "#9c179e"
             ],
             [
              0.4444444444444444,
              "#bd3786"
             ],
             [
              0.5555555555555556,
              "#d8576b"
             ],
             [
              0.6666666666666666,
              "#ed7953"
             ],
             [
              0.7777777777777778,
              "#fb9f3a"
             ],
             [
              0.8888888888888888,
              "#fdca26"
             ],
             [
              1,
              "#f0f921"
             ]
            ],
            "type": "surface"
           }
          ],
          "table": [
           {
            "cells": {
             "fill": {
              "color": "#EBF0F8"
             },
             "line": {
              "color": "white"
             }
            },
            "header": {
             "fill": {
              "color": "#C8D4E3"
             },
             "line": {
              "color": "white"
             }
            },
            "type": "table"
           }
          ]
         },
         "layout": {
          "annotationdefaults": {
           "arrowcolor": "#2a3f5f",
           "arrowhead": 0,
           "arrowwidth": 1
          },
          "autotypenumbers": "strict",
          "coloraxis": {
           "colorbar": {
            "outlinewidth": 0,
            "ticks": ""
           }
          },
          "colorscale": {
           "diverging": [
            [
             0,
             "#8e0152"
            ],
            [
             0.1,
             "#c51b7d"
            ],
            [
             0.2,
             "#de77ae"
            ],
            [
             0.3,
             "#f1b6da"
            ],
            [
             0.4,
             "#fde0ef"
            ],
            [
             0.5,
             "#f7f7f7"
            ],
            [
             0.6,
             "#e6f5d0"
            ],
            [
             0.7,
             "#b8e186"
            ],
            [
             0.8,
             "#7fbc41"
            ],
            [
             0.9,
             "#4d9221"
            ],
            [
             1,
             "#276419"
            ]
           ],
           "sequential": [
            [
             0,
             "#0d0887"
            ],
            [
             0.1111111111111111,
             "#46039f"
            ],
            [
             0.2222222222222222,
             "#7201a8"
            ],
            [
             0.3333333333333333,
             "#9c179e"
            ],
            [
             0.4444444444444444,
             "#bd3786"
            ],
            [
             0.5555555555555556,
             "#d8576b"
            ],
            [
             0.6666666666666666,
             "#ed7953"
            ],
            [
             0.7777777777777778,
             "#fb9f3a"
            ],
            [
             0.8888888888888888,
             "#fdca26"
            ],
            [
             1,
             "#f0f921"
            ]
           ],
           "sequentialminus": [
            [
             0,
             "#0d0887"
            ],
            [
             0.1111111111111111,
             "#46039f"
            ],
            [
             0.2222222222222222,
             "#7201a8"
            ],
            [
             0.3333333333333333,
             "#9c179e"
            ],
            [
             0.4444444444444444,
             "#bd3786"
            ],
            [
             0.5555555555555556,
             "#d8576b"
            ],
            [
             0.6666666666666666,
             "#ed7953"
            ],
            [
             0.7777777777777778,
             "#fb9f3a"
            ],
            [
             0.8888888888888888,
             "#fdca26"
            ],
            [
             1,
             "#f0f921"
            ]
           ]
          },
          "colorway": [
           "#636efa",
           "#EF553B",
           "#00cc96",
           "#ab63fa",
           "#FFA15A",
           "#19d3f3",
           "#FF6692",
           "#B6E880",
           "#FF97FF",
           "#FECB52"
          ],
          "font": {
           "color": "#2a3f5f"
          },
          "geo": {
           "bgcolor": "white",
           "lakecolor": "white",
           "landcolor": "#E5ECF6",
           "showlakes": true,
           "showland": true,
           "subunitcolor": "white"
          },
          "hoverlabel": {
           "align": "left"
          },
          "hovermode": "closest",
          "mapbox": {
           "style": "light"
          },
          "paper_bgcolor": "white",
          "plot_bgcolor": "#E5ECF6",
          "polar": {
           "angularaxis": {
            "gridcolor": "white",
            "linecolor": "white",
            "ticks": ""
           },
           "bgcolor": "#E5ECF6",
           "radialaxis": {
            "gridcolor": "white",
            "linecolor": "white",
            "ticks": ""
           }
          },
          "scene": {
           "xaxis": {
            "backgroundcolor": "#E5ECF6",
            "gridcolor": "white",
            "gridwidth": 2,
            "linecolor": "white",
            "showbackground": true,
            "ticks": "",
            "zerolinecolor": "white"
           },
           "yaxis": {
            "backgroundcolor": "#E5ECF6",
            "gridcolor": "white",
            "gridwidth": 2,
            "linecolor": "white",
            "showbackground": true,
            "ticks": "",
            "zerolinecolor": "white"
           },
           "zaxis": {
            "backgroundcolor": "#E5ECF6",
            "gridcolor": "white",
            "gridwidth": 2,
            "linecolor": "white",
            "showbackground": true,
            "ticks": "",
            "zerolinecolor": "white"
           }
          },
          "shapedefaults": {
           "line": {
            "color": "#2a3f5f"
           }
          },
          "ternary": {
           "aaxis": {
            "gridcolor": "white",
            "linecolor": "white",
            "ticks": ""
           },
           "baxis": {
            "gridcolor": "white",
            "linecolor": "white",
            "ticks": ""
           },
           "bgcolor": "#E5ECF6",
           "caxis": {
            "gridcolor": "white",
            "linecolor": "white",
            "ticks": ""
           }
          },
          "title": {
           "x": 0.05
          },
          "xaxis": {
           "automargin": true,
           "gridcolor": "white",
           "linecolor": "white",
           "ticks": "",
           "title": {
            "standoff": 15
           },
           "zerolinecolor": "white",
           "zerolinewidth": 2
          },
          "yaxis": {
           "automargin": true,
           "gridcolor": "white",
           "linecolor": "white",
           "ticks": "",
           "title": {
            "standoff": 15
           },
           "zerolinecolor": "white",
           "zerolinewidth": 2
          }
         }
        },
        "title": {
         "text": "Characteristics of the tournament"
        },
        "width": 750
       }
      }
     },
     "metadata": {},
     "output_type": "display_data"
    }
   ],
   "source": [
    "fig = px.sunburst(df_dist,\n",
    "                  path = [\"Characteristics\", \"tourney_type\", \"tourney_conditions\", \"tourney_surface\"],\n",
    "                  values = 'Count',\n",
    "                  title = \"Characteristics of the tournament\",\n",
    "                  width = 750, height = 750).update_traces(hovertemplate = '%{label}<br>' + 'Number of tournaments: %{value}')\n",
    "fig.show()"
   ]
  },
  {
   "cell_type": "code",
   "execution_count": null,
   "id": "a6332d42",
   "metadata": {},
   "outputs": [],
   "source": []
  }
 ],
 "metadata": {
  "kernelspec": {
   "display_name": "Python 3 (ipykernel)",
   "language": "python",
   "name": "python3"
  },
  "language_info": {
   "codemirror_mode": {
    "name": "ipython",
    "version": 3
   },
   "file_extension": ".py",
   "mimetype": "text/x-python",
   "name": "python",
   "nbconvert_exporter": "python",
   "pygments_lexer": "ipython3",
   "version": "3.11.0"
  }
 },
 "nbformat": 4,
 "nbformat_minor": 5
}
