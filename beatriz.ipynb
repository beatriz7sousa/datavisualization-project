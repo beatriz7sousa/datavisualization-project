{
 "cells": [
  {
   "cell_type": "code",
   "execution_count": 2,
   "metadata": {},
   "outputs": [],
   "source": [
    "import pandas as pd\n",
    "import numpy as np\n",
    "import plotly.graph_objects as go\n",
    "import plotly.express as px"
   ]
  },
  {
   "cell_type": "code",
   "execution_count": 3,
   "metadata": {},
   "outputs": [
    {
     "data": {
      "text/plain": [
       "['rgb(253, 238, 153)',\n",
       " 'rgb(212, 225, 112)',\n",
       " 'rgb(160, 214, 91)',\n",
       " 'rgb(111, 198, 107)',\n",
       " 'rgb(81, 178, 124)',\n",
       " 'rgb(65, 157, 133)',\n",
       " 'rgb(53, 136, 136)',\n",
       " 'rgb(38, 116, 137)',\n",
       " 'rgb(18, 95, 142)',\n",
       " 'rgb(15, 71, 153)',\n",
       " 'rgb(42, 35, 160)',\n",
       " 'rgb(41, 24, 107)']"
      ]
     },
     "execution_count": 3,
     "metadata": {},
     "output_type": "execute_result"
    }
   ],
   "source": [
    "px.colors.sequential.haline_r"
   ]
  },
  {
   "cell_type": "code",
   "execution_count": 3,
   "metadata": {},
   "outputs": [],
   "source": [
    "tournaments = pd.read_csv('tournaments_preparation.csv', index_col = 0)\n",
    "all_match = pd.read_csv('all_match_preparation.csv', index_col = 0)"
   ]
  },
  {
   "cell_type": "code",
   "execution_count": 3,
   "metadata": {},
   "outputs": [],
   "source": [
    "# all_match[winner_skills + winner_skills_norm]\n",
    "# all_match.loc[all_match['winner_aces'] == 113, winner_skills + winner_skills_norm]"
   ]
  },
  {
   "cell_type": "code",
   "execution_count": 4,
   "metadata": {},
   "outputs": [
    {
     "data": {
      "text/html": [
       "<div>\n",
       "<style scoped>\n",
       "    .dataframe tbody tr th:only-of-type {\n",
       "        vertical-align: middle;\n",
       "    }\n",
       "\n",
       "    .dataframe tbody tr th {\n",
       "        vertical-align: top;\n",
       "    }\n",
       "\n",
       "    .dataframe thead th {\n",
       "        text-align: right;\n",
       "    }\n",
       "</style>\n",
       "<table border=\"1\" class=\"dataframe\">\n",
       "  <thead>\n",
       "    <tr style=\"text-align: right;\">\n",
       "      <th></th>\n",
       "      <th>41665</th>\n",
       "    </tr>\n",
       "  </thead>\n",
       "  <tbody>\n",
       "    <tr>\n",
       "      <th>winner_aces</th>\n",
       "      <td>7.0</td>\n",
       "    </tr>\n",
       "    <tr>\n",
       "      <th>winner_break_points_converted</th>\n",
       "      <td>1.0</td>\n",
       "    </tr>\n",
       "    <tr>\n",
       "      <th>winner_break_points_saved</th>\n",
       "      <td>2.0</td>\n",
       "    </tr>\n",
       "    <tr>\n",
       "      <th>winner_double_faults</th>\n",
       "      <td>2.0</td>\n",
       "    </tr>\n",
       "    <tr>\n",
       "      <th>winner_return_points_won</th>\n",
       "      <td>36.0</td>\n",
       "    </tr>\n",
       "    <tr>\n",
       "      <th>winner_total_points_won</th>\n",
       "      <td>115.0</td>\n",
       "    </tr>\n",
       "  </tbody>\n",
       "</table>\n",
       "</div>"
      ],
      "text/plain": [
       "                               41665\n",
       "winner_aces                      7.0\n",
       "winner_break_points_converted    1.0\n",
       "winner_break_points_saved        2.0\n",
       "winner_double_faults             2.0\n",
       "winner_return_points_won        36.0\n",
       "winner_total_points_won        115.0"
      ]
     },
     "execution_count": 4,
     "metadata": {},
     "output_type": "execute_result"
    }
   ],
   "source": [
    "# winner_skills = ['winner_aces', 'winner_break_points_converted', 'winner_break_points_saved', 'winner_double_faults', 'winner_return_points_won', 'winner_total_points_won']\n",
    "# loser_skills = ['loser_aces', 'loser_break_points_converted', 'loser_break_points_saved', 'loser_double_faults', 'loser_return_points_won', 'loser_total_points_won']\n",
    "\n",
    "# df1_for_plot = all_match[(all_match['tourney_name'] == 'Wimbledon') & (all_match['round_order'] == 1) & (all_match['tourney_year_id'] == '2016-540')]['winner_name'].iloc[0]\n",
    "# df1_for_plot\n",
    "# df1_for_plot.columns = ['score']\n",
    "# list_scores = [df1_for_plot.index[i].capitalize() +' = ' + str(df1_for_plot['score'][i]) for i in range(len(df1_for_plot))]\n",
    "# text_scores_1 = 'Federer'\n",
    "# for i in list_scores:\n",
    "#     text_scores_1 += '<br>' + i\n",
    "\n",
    "# winner_skills = ['winner_aces', 'winner_break_points_converted', 'winner_break_points_saved', 'winner_double_faults', 'winner_return_points_won', 'winner_total_points_won']\n",
    "# loser_skills = ['loser_aces', 'loser_break_points_converted', 'loser_break_points_saved', 'loser_double_faults', 'loser_return_points_won', 'loser_total_points_won']\n",
    "# skills = ['aces', 'break points converted', 'break points saved', 'double faults', 'return points won', 'total points won']\n",
    "\n",
    "# dfwinner_for_plot = pd.DataFrame(all_match[(all_match['tourney_name'] == 'Wimbledon') & (all_match['round_order'] == 1) & (all_match['tourney_year_id'] == '2016-540')][winner_skills].iloc[0])\n",
    "# dfwinner_for_plot.set_index(pd.Index(skills), inplace = True)\n",
    "# dfwinner_for_plot.columns = ['score']\n",
    "# dfwinner_for_plot"
   ]
  },
  {
   "cell_type": "code",
   "execution_count": 5,
   "metadata": {},
   "outputs": [],
   "source": [
    "# winner_skills = ['winner_aces', 'winner_break_points_converted', 'winner_break_points_saved', 'winner_double_faults', 'winner_return_points_won', 'winner_total_points_won']\n",
    "# loser_skills = ['loser_aces', 'loser_break_points_converted', 'loser_break_points_saved', 'loser_double_faults', 'loser_return_points_won', 'loser_total_points_won']\n",
    "# skills = ['Aces', 'Break Points Converted', 'Break Points Saved', 'Double Faults', 'Return Points Won', 'Total Points Won']"
   ]
  },
  {
   "cell_type": "code",
   "execution_count": 6,
   "metadata": {},
   "outputs": [
    {
     "data": {
      "text/html": [
       "<div>\n",
       "<style scoped>\n",
       "    .dataframe tbody tr th:only-of-type {\n",
       "        vertical-align: middle;\n",
       "    }\n",
       "\n",
       "    .dataframe tbody tr th {\n",
       "        vertical-align: top;\n",
       "    }\n",
       "\n",
       "    .dataframe thead th {\n",
       "        text-align: right;\n",
       "    }\n",
       "</style>\n",
       "<table border=\"1\" class=\"dataframe\">\n",
       "  <thead>\n",
       "    <tr style=\"text-align: right;\">\n",
       "      <th></th>\n",
       "      <th>winner_aces</th>\n",
       "      <th>winner_break_points_converted</th>\n",
       "      <th>winner_break_points_saved</th>\n",
       "      <th>winner_double_faults</th>\n",
       "      <th>winner_return_points_won</th>\n",
       "      <th>winner_total_points_won</th>\n",
       "      <th>loser_aces</th>\n",
       "      <th>loser_break_points_converted</th>\n",
       "      <th>loser_break_points_saved</th>\n",
       "      <th>loser_double_faults</th>\n",
       "      <th>loser_return_points_won</th>\n",
       "      <th>loser_total_points_won</th>\n",
       "    </tr>\n",
       "  </thead>\n",
       "  <tbody>\n",
       "    <tr>\n",
       "      <th>41665</th>\n",
       "      <td>7.0</td>\n",
       "      <td>1.0</td>\n",
       "      <td>2.0</td>\n",
       "      <td>2.0</td>\n",
       "      <td>36.0</td>\n",
       "      <td>115.0</td>\n",
       "      <td>NaN</td>\n",
       "      <td>NaN</td>\n",
       "      <td>NaN</td>\n",
       "      <td>NaN</td>\n",
       "      <td>NaN</td>\n",
       "      <td>NaN</td>\n",
       "    </tr>\n",
       "    <tr>\n",
       "      <th>41665</th>\n",
       "      <td>NaN</td>\n",
       "      <td>NaN</td>\n",
       "      <td>NaN</td>\n",
       "      <td>NaN</td>\n",
       "      <td>NaN</td>\n",
       "      <td>NaN</td>\n",
       "      <td>8.0</td>\n",
       "      <td>0.0</td>\n",
       "      <td>6.0</td>\n",
       "      <td>1.0</td>\n",
       "      <td>24.0</td>\n",
       "      <td>102.0</td>\n",
       "    </tr>\n",
       "  </tbody>\n",
       "</table>\n",
       "</div>"
      ],
      "text/plain": [
       "       winner_aces  winner_break_points_converted  winner_break_points_saved  \\\n",
       "41665          7.0                            1.0                        2.0   \n",
       "41665          NaN                            NaN                        NaN   \n",
       "\n",
       "       winner_double_faults  winner_return_points_won  \\\n",
       "41665                   2.0                      36.0   \n",
       "41665                   NaN                       NaN   \n",
       "\n",
       "       winner_total_points_won  loser_aces  loser_break_points_converted  \\\n",
       "41665                    115.0         NaN                           NaN   \n",
       "41665                      NaN         8.0                           0.0   \n",
       "\n",
       "       loser_break_points_saved  loser_double_faults  loser_return_points_won  \\\n",
       "41665                       NaN                  NaN                      NaN   \n",
       "41665                       6.0                  1.0                     24.0   \n",
       "\n",
       "       loser_total_points_won  \n",
       "41665                     NaN  \n",
       "41665                   102.0  "
      ]
     },
     "execution_count": 6,
     "metadata": {},
     "output_type": "execute_result"
    }
   ],
   "source": [
    "# # scatterpolar\n",
    "# dfwinner_for_plot = pd.DataFrame(all_match[(all_match['tourney_name'] == 'Wimbledon') & (all_match['round_order'] == 1) & (all_match['tourney_year_id'] == '2016-540')][winner_skills])\n",
    "# dfloser_for_plot = pd.DataFrame(all_match[(all_match['tourney_name'] == 'Wimbledon') & (all_match['round_order'] == 1) & (all_match['tourney_year_id'] == '2016-540')][loser_skills])\n",
    "# dfwinner_for_plot.set_index(pd.Index(skills), inplace = True)\n",
    "# dfwinner_for_plot.columns = ['score']\n",
    "# df_plot = pd.concat([dfwinner_for_plot, dfloser_for_plot])\n",
    "# df_plot\n",
    "# dfloser_for_plot = pd.DataFrame(all_match[(all_match['tourney_name'] == 'Wimbledon') & (all_match['round_order'] == 1) & (all_match['tourney_year_id'] == '2016-540')][loser_skills].iloc[0])\n",
    "# dfloser_for_plot.set_index(pd.Index(skills), inplace = True)\n",
    "# dfloser_for_plot.columns = ['score']\n",
    "\n",
    "# list_scores = [dfwinner_for_plot.index[i].capitalize() + ': ' + str(dfwinner_for_plot['score'][i]) for i in range(len(dfwinner_for_plot))]\n",
    "# text_scores_winner = all_match[(all_match['tourney_name'] == 'Wimbledon') & (all_match['round_order'] == 1) & (all_match['tourney_year_id'] == '2016-540')]['winner_name'].iloc[0]\n",
    "# for i in list_scores:\n",
    "#     text_scores_winner += '<br>' + i\n",
    "\n",
    "# list_scores = [dfloser_for_plot.index[i].capitalize() + ': ' + str(dfloser_for_plot['score'][i]) for i in range(len(dfloser_for_plot))]\n",
    "# text_scores_loser = all_match[(all_match['tourney_name'] == 'Wimbledon') & (all_match['round_order'] == 1) & (all_match['tourney_year_id'] == '2016-540')]['loser_name'].iloc[0]\n",
    "# for i in list_scores:\n",
    "#     text_scores_loser += '<br>' + i"
   ]
  },
  {
   "cell_type": "code",
   "execution_count": 11,
   "metadata": {},
   "outputs": [
    {
     "data": {
      "text/html": [
       "<div>\n",
       "<style scoped>\n",
       "    .dataframe tbody tr th:only-of-type {\n",
       "        vertical-align: middle;\n",
       "    }\n",
       "\n",
       "    .dataframe tbody tr th {\n",
       "        vertical-align: top;\n",
       "    }\n",
       "\n",
       "    .dataframe thead th {\n",
       "        text-align: right;\n",
       "    }\n",
       "</style>\n",
       "<table border=\"1\" class=\"dataframe\">\n",
       "  <thead>\n",
       "    <tr style=\"text-align: right;\">\n",
       "      <th></th>\n",
       "      <th>score</th>\n",
       "    </tr>\n",
       "  </thead>\n",
       "  <tbody>\n",
       "    <tr>\n",
       "      <th>Aces</th>\n",
       "      <td>0.619469</td>\n",
       "    </tr>\n",
       "    <tr>\n",
       "      <th>Break Points Converted</th>\n",
       "      <td>0.666667</td>\n",
       "    </tr>\n",
       "    <tr>\n",
       "      <th>Break Points Saved</th>\n",
       "      <td>1.451613</td>\n",
       "    </tr>\n",
       "    <tr>\n",
       "      <th>Double Faults</th>\n",
       "      <td>0.769231</td>\n",
       "    </tr>\n",
       "    <tr>\n",
       "      <th>Return Points Won</th>\n",
       "      <td>3.461538</td>\n",
       "    </tr>\n",
       "    <tr>\n",
       "      <th>Total Points Won</th>\n",
       "      <td>2.405858</td>\n",
       "    </tr>\n",
       "  </tbody>\n",
       "</table>\n",
       "</div>"
      ],
      "text/plain": [
       "                           score\n",
       "Aces                    0.619469\n",
       "Break Points Converted  0.666667\n",
       "Break Points Saved      1.451613\n",
       "Double Faults           0.769231\n",
       "Return Points Won       3.461538\n",
       "Total Points Won        2.405858"
      ]
     },
     "execution_count": 11,
     "metadata": {},
     "output_type": "execute_result"
    }
   ],
   "source": [
    "# winner_skills = ['winner_aces', 'winner_break_points_converted', 'winner_break_points_saved', 'winner_double_faults', 'winner_return_points_won', 'winner_total_points_won']\n",
    "# winner_skills_norm = ['winner_aces_norm', 'winner_break_points_converted_norm', 'winner_break_points_saved_norm', 'winner_double_faults_norm', 'winner_return_points_won_norm', 'winner_total_points_won_norm']\n",
    "# loser_skills = ['loser_aces', 'loser_break_points_converted', 'loser_break_points_saved', 'loser_double_faults', 'loser_return_points_won', 'loser_total_points_won']\n",
    "# loser_skills_norm = ['loser_aces_norm', 'loser_break_points_converted_norm', 'loser_break_points_saved_norm', 'loser_double_faults_norm', 'loser_return_points_won_norm', 'loser_total_points_won_norm']\n",
    "\n",
    "# skills = ['Aces', 'Break Points Converted', 'Break Points Saved', 'Double Faults', 'Return Points Won', 'Total Points Won']\n",
    "\n",
    "# dfwinner_for_plot = pd.DataFrame(all_match[(all_match['tourney_name'] == 'Wimbledon') & (all_match['round_order'] == 1) & (all_match['tourney_year_id'] == '2016-540')][winner_skills_norm].iloc[0])\n",
    "# dfwinner_for_plot.set_index(pd.Index(skills), inplace = True)\n",
    "# dfwinner_for_plot.columns = ['score']\n",
    "dfwinner_for_plot\n",
    "\n",
    "# dfwinner_for_text = pd.DataFrame(all_match[(all_match['tourney_name'] == 'Wimbledon') & (all_match['round_order'] == 1) & (all_match['tourney_year_id'] == '2016-540')][winner_skills].iloc[0])\n",
    "# dfwinner_for_text.set_index(pd.Index(skills), inplace = True)\n",
    "# dfwinner_for_text.columns = ['score']\n",
    "\n",
    "# dfloser_for_plot = pd.DataFrame(all_match[(all_match['tourney_name'] == 'Wimbledon') & (all_match['round_order'] == 1) & (all_match['tourney_year_id'] == '2016-540')][loser_skills_norm].iloc[0])\n",
    "# dfloser_for_plot.set_index(pd.Index(skills), inplace = True)\n",
    "# dfloser_for_plot.columns = ['score']\n",
    "\n",
    "# dfloser_for_text = pd.DataFrame(all_match[(all_match['tourney_name'] == 'Wimbledon') & (all_match['round_order'] == 1) & (all_match['tourney_year_id'] == '2016-540')][loser_skills].iloc[0])\n",
    "# dfloser_for_text.set_index(pd.Index(skills), inplace = True)\n",
    "# dfloser_for_text.columns = ['score']"
   ]
  },
  {
   "cell_type": "code",
   "execution_count": 30,
   "metadata": {},
   "outputs": [],
   "source": [
    "winner_skills = ['winner_aces', 'winner_break_points_converted', 'winner_break_points_saved', 'winner_double_faults', 'winner_return_points_won', 'winner_total_points_won']\n",
    "winner_skills_norm = ['winner_aces_norm', 'winner_break_points_converted_norm', 'winner_break_points_saved_norm', 'winner_double_faults_norm', 'winner_return_points_won_norm', 'winner_total_points_won_norm']\n",
    "loser_skills = ['loser_aces', 'loser_break_points_converted', 'loser_break_points_saved', 'loser_double_faults', 'loser_return_points_won', 'loser_total_points_won']\n",
    "loser_skills_norm = ['loser_aces_norm', 'loser_break_points_converted_norm', 'loser_break_points_saved_norm', 'loser_double_faults_norm', 'loser_return_points_won_norm', 'loser_total_points_won_norm']\n",
    "\n",
    "skills = ['Aces', 'Break Points Converted', 'Break Points Saved', 'Double Faults', 'Return Points Won', 'Total Points Won']\n",
    "\n",
    "def radar_plot(tournament, year):\n",
    "\n",
    "    # scatterpolar\n",
    "    dfwinner_for_plot = pd.DataFrame(all_match[(all_match['tourney_name'] == tournament) & (all_match['round_order'] == 1) & (all_match['tourney_year_id'] == year)][winner_skills_norm].iloc[0])\n",
    "    dfwinner_for_plot.set_index(pd.Index(skills), inplace = True)\n",
    "    dfwinner_for_plot.columns = ['score']\n",
    "\n",
    "    dfwinner_for_text = pd.DataFrame(all_match[(all_match['tourney_name'] == tournament) & (all_match['round_order'] == 1) & (all_match['tourney_year_id'] == year)][winner_skills].iloc[0])\n",
    "    dfwinner_for_text.set_index(pd.Index(skills), inplace = True)\n",
    "    dfwinner_for_text.columns = ['score']\n",
    "\n",
    "    dfloser_for_plot = pd.DataFrame(all_match[(all_match['tourney_name'] == tournament) & (all_match['round_order'] == 1) & (all_match['tourney_year_id'] == year)][loser_skills_norm].iloc[0])\n",
    "    dfloser_for_plot.set_index(pd.Index(skills), inplace = True)\n",
    "    dfloser_for_plot.columns = ['score']\n",
    "\n",
    "    dfloser_for_text = pd.DataFrame(all_match[(all_match['tourney_name'] == tournament) & (all_match['round_order'] == 1) & (all_match['tourney_year_id'] == year)][loser_skills].iloc[0])\n",
    "    dfloser_for_text.set_index(pd.Index(skills), inplace = True)\n",
    "    dfloser_for_text.columns = ['score']\n",
    "    \n",
    "    list_scores = [dfwinner_for_text.index[i].capitalize() + ': ' + str(dfwinner_for_text['score'][i]) for i in range(len(dfwinner_for_text))]\n",
    "    text_scores_winner = all_match[(all_match['tourney_name'] == tournament) & (all_match['round_order'] == 1) & (all_match['tourney_year_id'] == year)]['winner_name'].iloc[0]\n",
    "    for i in list_scores:\n",
    "        text_scores_winner += '<br>' + i\n",
    "\n",
    "    list_scores = [dfloser_for_text.index[i].capitalize() + ': ' + str(dfloser_for_text['score'][i]) for i in range(len(dfloser_for_text))]\n",
    "    text_scores_loser = all_match[(all_match['tourney_name'] == tournament) & (all_match['round_order'] == 1) & (all_match['tourney_year_id'] == year)]['loser_name'].iloc[0]\n",
    "    for i in list_scores:\n",
    "        text_scores_loser += '<br>' + i\n",
    "\n",
    "    fig = go.Figure()\n",
    "\n",
    "    fig.add_trace(go.Scatterpolar(\n",
    "        r = dfwinner_for_plot['score'],\n",
    "        theta = dfwinner_for_plot.index,\n",
    "        fill = 'toself', \n",
    "        marker_color = '#00b359',\n",
    "        opacity = 0.8, \n",
    "        hoverinfo = 'text',\n",
    "        name = text_scores_winner,\n",
    "        text = [dfwinner_for_text.index[i] + ': ' + str(dfwinner_for_text['score'][i]) for i in range(len(dfwinner_for_text))]\n",
    "    ))\n",
    "\n",
    "    fig.add_trace(go.Scatterpolar(\n",
    "        r = dfloser_for_plot['score'],\n",
    "        theta = dfloser_for_plot.index,\n",
    "        fill = 'toself',\n",
    "        marker_color = '#ff0000',\n",
    "        hoverinfo = 'text',\n",
    "        name = text_scores_loser,\n",
    "        text = [dfloser_for_text.index[i] + ': ' + str(dfloser_for_text['score'][i]) for i in range(len(dfloser_for_text))]\n",
    "    ))\n",
    "\n",
    "    fig.update_layout(\n",
    "        polar = dict(\n",
    "            bgcolor = 'white',\n",
    "            radialaxis = dict(\n",
    "                visible = True,\n",
    "                type = 'linear',\n",
    "                autotypenumbers = 'strict',\n",
    "                autorange = False,\n",
    "                range = [0, 10],\n",
    "                angle = 90,\n",
    "                showline = False,\n",
    "                showticklabels = False, ticks = '',\n",
    "                gridcolor = 'black'),\n",
    "        ),\n",
    "        width = 730,\n",
    "        height = 550,\n",
    "        margin = dict(l = 80, r = 80, t = 20, b = 20),\n",
    "        showlegend = False,\n",
    "        template = 'plotly_dark',\n",
    "        plot_bgcolor = 'rgba(0, 0, 0, 0)',\n",
    "        paper_bgcolor = 'rgba(0, 0, 0, 0)',\n",
    "        font_color = 'black',\n",
    "        font_size = 15\n",
    "    )\n",
    "\n",
    "    return fig"
   ]
  },
  {
   "cell_type": "code",
   "execution_count": 4,
   "metadata": {},
   "outputs": [],
   "source": [
    "winner_skills = ['winner_aces', 'winner_break_points_converted', 'winner_break_points_saved', 'winner_double_faults', 'winner_return_points_won', 'winner_total_points_won']\n",
    "winner_skills_norm = ['winner_aces_norm', 'winner_break_points_converted_norm', 'winner_break_points_saved_norm', 'winner_double_faults_norm', 'winner_return_points_won_norm', 'winner_total_points_won_norm']\n",
    "loser_skills = ['loser_aces', 'loser_break_points_converted', 'loser_break_points_saved', 'loser_double_faults', 'loser_return_points_won', 'loser_total_points_won']\n",
    "loser_skills_norm = ['loser_aces_norm', 'loser_break_points_converted_norm', 'loser_break_points_saved_norm', 'loser_double_faults_norm', 'loser_return_points_won_norm', 'loser_total_points_won_norm']\n",
    "\n",
    "skills = ['Aces', 'Break Points Converted', 'Break Points Saved', 'Double Faults', 'Return Points Won', 'Total Points Won']\n",
    "\n",
    "def radar_plot(tournament_name, year):\n",
    "    # filtering the dataset for the game that is going to be plotted\n",
    "    all_match_final=all_match[(all_match['tourney_name'] == tournament_name) & (all_match['round_order'] == 1) & (all_match['tourney_year'] == year)]\n",
    "\n",
    "    # datasets to plot\n",
    "    winner_for_plot = pd.DataFrame(all_match_final[winner_skills_norm].iloc[0])\n",
    "    winner_for_plot.set_index(pd.Index(skills), inplace = True)\n",
    "    winner_for_plot.columns = ['score']\n",
    "\n",
    "    winner_for_text = pd.DataFrame(all_match_final[winner_skills].iloc[0])\n",
    "    winner_for_text.set_index(pd.Index(skills), inplace = True)\n",
    "    winner_for_text.columns = ['score']\n",
    "\n",
    "    loser_for_plot = pd.DataFrame(all_match_final[loser_skills_norm].iloc[0])\n",
    "    loser_for_plot.set_index(pd.Index(skills), inplace = True)\n",
    "    loser_for_plot.columns = ['score']\n",
    "\n",
    "    loser_for_text = pd.DataFrame(all_match_final[loser_skills].iloc[0])\n",
    "    loser_for_text.set_index(pd.Index(skills), inplace = True)\n",
    "    loser_for_text.columns = ['score']\n",
    "    \n",
    "    list_scores = [winner_for_text.index[i].capitalize() + ': ' + str(winner_for_text['score'][i]) for i in range(len(winner_for_text))]\n",
    "    text_scores_winner = all_match_final['winner_name'].iloc[0]\n",
    "    for i in list_scores:\n",
    "        text_scores_winner += '<br>' + i\n",
    "\n",
    "    list_scores = [loser_for_text.index[i].capitalize() + ': ' + str(loser_for_text['score'][i]) for i in range(len(loser_for_text))]\n",
    "    text_scores_loser = all_match_final['loser_name'].iloc[0]\n",
    "    for i in list_scores:\n",
    "        text_scores_loser += '<br>' + i\n",
    "\n",
    "    ############---RADAR----##############################################################################################\n",
    "    fig_radar = go.Figure()\n",
    "\n",
    "    fig_radar.add_trace(go.Scatterpolar(r = winner_for_plot['score'],\n",
    "                                        theta = winner_for_plot.index,\n",
    "                                        fill = 'toself', \n",
    "                                        marker_color = '#00b359',\n",
    "                                        opacity = 0.8, \n",
    "                                        hoverinfo = 'text',\n",
    "                                        name = text_scores_winner,\n",
    "                                        text = [winner_for_text.index[i] + ': ' + str(winner_for_text['score'][i]) for i in range(len(winner_for_text))]\n",
    "                        ))\n",
    "\n",
    "    fig_radar.add_trace(go.Scatterpolar(r = loser_for_plot['score'],\n",
    "                                        theta = loser_for_plot.index,\n",
    "                                        fill = 'toself',\n",
    "                                        marker_color = '#ff0000',\n",
    "                                        hoverinfo = 'text',\n",
    "                                        name = text_scores_loser,\n",
    "                                        text = [loser_for_text.index[i] + ': ' + str(loser_for_text['score'][i]) for i in range(len(loser_for_text))]\n",
    "                        ))\n",
    "\n",
    "    fig_radar.update_layout(polar = dict(bgcolor = 'rgba(0, 0, 0, 0)',\n",
    "                                         radialaxis = dict(visible = True,\n",
    "                                                           type = 'linear',\n",
    "                                                           autotypenumbers = 'strict',\n",
    "                                                           autorange = True,\n",
    "                                                           # range = [0, 10],\n",
    "                                                           angle = 90,\n",
    "                                                           showline = False,\n",
    "                                                           showticklabels = False, ticks = '',\n",
    "                                                           gridcolor = 'black'\n",
    "                                                           ),\n",
    "                                        ),\n",
    "                            width = 730,\n",
    "                            height = 550,\n",
    "                            margin = dict(l = 80, r = 80, t = 20, b = 20),\n",
    "                            showlegend = False,\n",
    "                            template = 'plotly_dark',\n",
    "                            plot_bgcolor = 'rgba(0, 0, 0, 0)',\n",
    "                            paper_bgcolor = 'rgba(0, 0, 0, 0)',\n",
    "                            font_color = 'black',\n",
    "                            font_size = 15\n",
    "                            )\n",
    "\n",
    "    return fig_radar"
   ]
  },
  {
   "cell_type": "code",
   "execution_count": 5,
   "metadata": {},
   "outputs": [
    {
     "data": {
      "application/vnd.plotly.v1+json": {
       "config": {
        "plotlyServerURL": "https://plot.ly"
       },
       "data": [
        {
         "fill": "toself",
         "hoverinfo": "text",
         "marker": {
          "color": "#00b359"
         },
         "name": "Andy Murray<br>Aces: 7.0<br>Break points converted: 1.0<br>Break points saved: 2.0<br>Double faults: 2.0<br>Return points won: 36.0<br>Total points won: 115.0",
         "opacity": 0.8,
         "r": [
          0.6194690265486725,
          0.6666666666666666,
          1.4516129032258065,
          0.7692307692307693,
          3.4615384615384617,
          2.405857740585774
         ],
         "text": [
          "Aces: 7.0",
          "Break Points Converted: 1.0",
          "Break Points Saved: 2.0",
          "Double Faults: 2.0",
          "Return Points Won: 36.0",
          "Total Points Won: 115.0"
         ],
         "theta": [
          "Aces",
          "Break Points Converted",
          "Break Points Saved",
          "Double Faults",
          "Return Points Won",
          "Total Points Won"
         ],
         "type": "scatterpolar"
        },
        {
         "fill": "toself",
         "hoverinfo": "text",
         "marker": {
          "color": "#ff0000"
         },
         "name": "Milos Raonic<br>Aces: 8.0<br>Break points converted: 0.0<br>Break points saved: 6.0<br>Double faults: 1.0<br>Return points won: 24.0<br>Total points won: 102.0",
         "r": [
          0.7766990291262136,
          0,
          2.857142857142857,
          0.4761904761904761,
          2.051282051282051,
          2.03187250996016
         ],
         "text": [
          "Aces: 8.0",
          "Break Points Converted: 0.0",
          "Break Points Saved: 6.0",
          "Double Faults: 1.0",
          "Return Points Won: 24.0",
          "Total Points Won: 102.0"
         ],
         "theta": [
          "Aces",
          "Break Points Converted",
          "Break Points Saved",
          "Double Faults",
          "Return Points Won",
          "Total Points Won"
         ],
         "type": "scatterpolar"
        }
       ],
       "layout": {
        "font": {
         "color": "black",
         "size": 15
        },
        "height": 550,
        "margin": {
         "b": 20,
         "l": 80,
         "r": 80,
         "t": 20
        },
        "paper_bgcolor": "rgba(0, 0, 0, 0)",
        "plot_bgcolor": "rgba(0, 0, 0, 0)",
        "polar": {
         "bgcolor": "rgba(0, 0, 0, 0)",
         "radialaxis": {
          "angle": 90,
          "autorange": true,
          "autotypenumbers": "strict",
          "gridcolor": "black",
          "showline": false,
          "showticklabels": false,
          "ticks": "",
          "type": "linear",
          "visible": true
         }
        },
        "showlegend": false,
        "template": {
         "data": {
          "bar": [
           {
            "error_x": {
             "color": "#f2f5fa"
            },
            "error_y": {
             "color": "#f2f5fa"
            },
            "marker": {
             "line": {
              "color": "rgb(17,17,17)",
              "width": 0.5
             },
             "pattern": {
              "fillmode": "overlay",
              "size": 10,
              "solidity": 0.2
             }
            },
            "type": "bar"
           }
          ],
          "barpolar": [
           {
            "marker": {
             "line": {
              "color": "rgb(17,17,17)",
              "width": 0.5
             },
             "pattern": {
              "fillmode": "overlay",
              "size": 10,
              "solidity": 0.2
             }
            },
            "type": "barpolar"
           }
          ],
          "carpet": [
           {
            "aaxis": {
             "endlinecolor": "#A2B1C6",
             "gridcolor": "#506784",
             "linecolor": "#506784",
             "minorgridcolor": "#506784",
             "startlinecolor": "#A2B1C6"
            },
            "baxis": {
             "endlinecolor": "#A2B1C6",
             "gridcolor": "#506784",
             "linecolor": "#506784",
             "minorgridcolor": "#506784",
             "startlinecolor": "#A2B1C6"
            },
            "type": "carpet"
           }
          ],
          "choropleth": [
           {
            "colorbar": {
             "outlinewidth": 0,
             "ticks": ""
            },
            "type": "choropleth"
           }
          ],
          "contour": [
           {
            "colorbar": {
             "outlinewidth": 0,
             "ticks": ""
            },
            "colorscale": [
             [
              0,
              "#0d0887"
             ],
             [
              0.1111111111111111,
              "#46039f"
             ],
             [
              0.2222222222222222,
              "#7201a8"
             ],
             [
              0.3333333333333333,
              "#9c179e"
             ],
             [
              0.4444444444444444,
              "#bd3786"
             ],
             [
              0.5555555555555556,
              "#d8576b"
             ],
             [
              0.6666666666666666,
              "#ed7953"
             ],
             [
              0.7777777777777778,
              "#fb9f3a"
             ],
             [
              0.8888888888888888,
              "#fdca26"
             ],
             [
              1,
              "#f0f921"
             ]
            ],
            "type": "contour"
           }
          ],
          "contourcarpet": [
           {
            "colorbar": {
             "outlinewidth": 0,
             "ticks": ""
            },
            "type": "contourcarpet"
           }
          ],
          "heatmap": [
           {
            "colorbar": {
             "outlinewidth": 0,
             "ticks": ""
            },
            "colorscale": [
             [
              0,
              "#0d0887"
             ],
             [
              0.1111111111111111,
              "#46039f"
             ],
             [
              0.2222222222222222,
              "#7201a8"
             ],
             [
              0.3333333333333333,
              "#9c179e"
             ],
             [
              0.4444444444444444,
              "#bd3786"
             ],
             [
              0.5555555555555556,
              "#d8576b"
             ],
             [
              0.6666666666666666,
              "#ed7953"
             ],
             [
              0.7777777777777778,
              "#fb9f3a"
             ],
             [
              0.8888888888888888,
              "#fdca26"
             ],
             [
              1,
              "#f0f921"
             ]
            ],
            "type": "heatmap"
           }
          ],
          "heatmapgl": [
           {
            "colorbar": {
             "outlinewidth": 0,
             "ticks": ""
            },
            "colorscale": [
             [
              0,
              "#0d0887"
             ],
             [
              0.1111111111111111,
              "#46039f"
             ],
             [
              0.2222222222222222,
              "#7201a8"
             ],
             [
              0.3333333333333333,
              "#9c179e"
             ],
             [
              0.4444444444444444,
              "#bd3786"
             ],
             [
              0.5555555555555556,
              "#d8576b"
             ],
             [
              0.6666666666666666,
              "#ed7953"
             ],
             [
              0.7777777777777778,
              "#fb9f3a"
             ],
             [
              0.8888888888888888,
              "#fdca26"
             ],
             [
              1,
              "#f0f921"
             ]
            ],
            "type": "heatmapgl"
           }
          ],
          "histogram": [
           {
            "marker": {
             "pattern": {
              "fillmode": "overlay",
              "size": 10,
              "solidity": 0.2
             }
            },
            "type": "histogram"
           }
          ],
          "histogram2d": [
           {
            "colorbar": {
             "outlinewidth": 0,
             "ticks": ""
            },
            "colorscale": [
             [
              0,
              "#0d0887"
             ],
             [
              0.1111111111111111,
              "#46039f"
             ],
             [
              0.2222222222222222,
              "#7201a8"
             ],
             [
              0.3333333333333333,
              "#9c179e"
             ],
             [
              0.4444444444444444,
              "#bd3786"
             ],
             [
              0.5555555555555556,
              "#d8576b"
             ],
             [
              0.6666666666666666,
              "#ed7953"
             ],
             [
              0.7777777777777778,
              "#fb9f3a"
             ],
             [
              0.8888888888888888,
              "#fdca26"
             ],
             [
              1,
              "#f0f921"
             ]
            ],
            "type": "histogram2d"
           }
          ],
          "histogram2dcontour": [
           {
            "colorbar": {
             "outlinewidth": 0,
             "ticks": ""
            },
            "colorscale": [
             [
              0,
              "#0d0887"
             ],
             [
              0.1111111111111111,
              "#46039f"
             ],
             [
              0.2222222222222222,
              "#7201a8"
             ],
             [
              0.3333333333333333,
              "#9c179e"
             ],
             [
              0.4444444444444444,
              "#bd3786"
             ],
             [
              0.5555555555555556,
              "#d8576b"
             ],
             [
              0.6666666666666666,
              "#ed7953"
             ],
             [
              0.7777777777777778,
              "#fb9f3a"
             ],
             [
              0.8888888888888888,
              "#fdca26"
             ],
             [
              1,
              "#f0f921"
             ]
            ],
            "type": "histogram2dcontour"
           }
          ],
          "mesh3d": [
           {
            "colorbar": {
             "outlinewidth": 0,
             "ticks": ""
            },
            "type": "mesh3d"
           }
          ],
          "parcoords": [
           {
            "line": {
             "colorbar": {
              "outlinewidth": 0,
              "ticks": ""
             }
            },
            "type": "parcoords"
           }
          ],
          "pie": [
           {
            "automargin": true,
            "type": "pie"
           }
          ],
          "scatter": [
           {
            "marker": {
             "line": {
              "color": "#283442"
             }
            },
            "type": "scatter"
           }
          ],
          "scatter3d": [
           {
            "line": {
             "colorbar": {
              "outlinewidth": 0,
              "ticks": ""
             }
            },
            "marker": {
             "colorbar": {
              "outlinewidth": 0,
              "ticks": ""
             }
            },
            "type": "scatter3d"
           }
          ],
          "scattercarpet": [
           {
            "marker": {
             "colorbar": {
              "outlinewidth": 0,
              "ticks": ""
             }
            },
            "type": "scattercarpet"
           }
          ],
          "scattergeo": [
           {
            "marker": {
             "colorbar": {
              "outlinewidth": 0,
              "ticks": ""
             }
            },
            "type": "scattergeo"
           }
          ],
          "scattergl": [
           {
            "marker": {
             "line": {
              "color": "#283442"
             }
            },
            "type": "scattergl"
           }
          ],
          "scattermapbox": [
           {
            "marker": {
             "colorbar": {
              "outlinewidth": 0,
              "ticks": ""
             }
            },
            "type": "scattermapbox"
           }
          ],
          "scatterpolar": [
           {
            "marker": {
             "colorbar": {
              "outlinewidth": 0,
              "ticks": ""
             }
            },
            "type": "scatterpolar"
           }
          ],
          "scatterpolargl": [
           {
            "marker": {
             "colorbar": {
              "outlinewidth": 0,
              "ticks": ""
             }
            },
            "type": "scatterpolargl"
           }
          ],
          "scatterternary": [
           {
            "marker": {
             "colorbar": {
              "outlinewidth": 0,
              "ticks": ""
             }
            },
            "type": "scatterternary"
           }
          ],
          "surface": [
           {
            "colorbar": {
             "outlinewidth": 0,
             "ticks": ""
            },
            "colorscale": [
             [
              0,
              "#0d0887"
             ],
             [
              0.1111111111111111,
              "#46039f"
             ],
             [
              0.2222222222222222,
              "#7201a8"
             ],
             [
              0.3333333333333333,
              "#9c179e"
             ],
             [
              0.4444444444444444,
              "#bd3786"
             ],
             [
              0.5555555555555556,
              "#d8576b"
             ],
             [
              0.6666666666666666,
              "#ed7953"
             ],
             [
              0.7777777777777778,
              "#fb9f3a"
             ],
             [
              0.8888888888888888,
              "#fdca26"
             ],
             [
              1,
              "#f0f921"
             ]
            ],
            "type": "surface"
           }
          ],
          "table": [
           {
            "cells": {
             "fill": {
              "color": "#506784"
             },
             "line": {
              "color": "rgb(17,17,17)"
             }
            },
            "header": {
             "fill": {
              "color": "#2a3f5f"
             },
             "line": {
              "color": "rgb(17,17,17)"
             }
            },
            "type": "table"
           }
          ]
         },
         "layout": {
          "annotationdefaults": {
           "arrowcolor": "#f2f5fa",
           "arrowhead": 0,
           "arrowwidth": 1
          },
          "autotypenumbers": "strict",
          "coloraxis": {
           "colorbar": {
            "outlinewidth": 0,
            "ticks": ""
           }
          },
          "colorscale": {
           "diverging": [
            [
             0,
             "#8e0152"
            ],
            [
             0.1,
             "#c51b7d"
            ],
            [
             0.2,
             "#de77ae"
            ],
            [
             0.3,
             "#f1b6da"
            ],
            [
             0.4,
             "#fde0ef"
            ],
            [
             0.5,
             "#f7f7f7"
            ],
            [
             0.6,
             "#e6f5d0"
            ],
            [
             0.7,
             "#b8e186"
            ],
            [
             0.8,
             "#7fbc41"
            ],
            [
             0.9,
             "#4d9221"
            ],
            [
             1,
             "#276419"
            ]
           ],
           "sequential": [
            [
             0,
             "#0d0887"
            ],
            [
             0.1111111111111111,
             "#46039f"
            ],
            [
             0.2222222222222222,
             "#7201a8"
            ],
            [
             0.3333333333333333,
             "#9c179e"
            ],
            [
             0.4444444444444444,
             "#bd3786"
            ],
            [
             0.5555555555555556,
             "#d8576b"
            ],
            [
             0.6666666666666666,
             "#ed7953"
            ],
            [
             0.7777777777777778,
             "#fb9f3a"
            ],
            [
             0.8888888888888888,
             "#fdca26"
            ],
            [
             1,
             "#f0f921"
            ]
           ],
           "sequentialminus": [
            [
             0,
             "#0d0887"
            ],
            [
             0.1111111111111111,
             "#46039f"
            ],
            [
             0.2222222222222222,
             "#7201a8"
            ],
            [
             0.3333333333333333,
             "#9c179e"
            ],
            [
             0.4444444444444444,
             "#bd3786"
            ],
            [
             0.5555555555555556,
             "#d8576b"
            ],
            [
             0.6666666666666666,
             "#ed7953"
            ],
            [
             0.7777777777777778,
             "#fb9f3a"
            ],
            [
             0.8888888888888888,
             "#fdca26"
            ],
            [
             1,
             "#f0f921"
            ]
           ]
          },
          "colorway": [
           "#636efa",
           "#EF553B",
           "#00cc96",
           "#ab63fa",
           "#FFA15A",
           "#19d3f3",
           "#FF6692",
           "#B6E880",
           "#FF97FF",
           "#FECB52"
          ],
          "font": {
           "color": "#f2f5fa"
          },
          "geo": {
           "bgcolor": "rgb(17,17,17)",
           "lakecolor": "rgb(17,17,17)",
           "landcolor": "rgb(17,17,17)",
           "showlakes": true,
           "showland": true,
           "subunitcolor": "#506784"
          },
          "hoverlabel": {
           "align": "left"
          },
          "hovermode": "closest",
          "mapbox": {
           "style": "dark"
          },
          "paper_bgcolor": "rgb(17,17,17)",
          "plot_bgcolor": "rgb(17,17,17)",
          "polar": {
           "angularaxis": {
            "gridcolor": "#506784",
            "linecolor": "#506784",
            "ticks": ""
           },
           "bgcolor": "rgb(17,17,17)",
           "radialaxis": {
            "gridcolor": "#506784",
            "linecolor": "#506784",
            "ticks": ""
           }
          },
          "scene": {
           "xaxis": {
            "backgroundcolor": "rgb(17,17,17)",
            "gridcolor": "#506784",
            "gridwidth": 2,
            "linecolor": "#506784",
            "showbackground": true,
            "ticks": "",
            "zerolinecolor": "#C8D4E3"
           },
           "yaxis": {
            "backgroundcolor": "rgb(17,17,17)",
            "gridcolor": "#506784",
            "gridwidth": 2,
            "linecolor": "#506784",
            "showbackground": true,
            "ticks": "",
            "zerolinecolor": "#C8D4E3"
           },
           "zaxis": {
            "backgroundcolor": "rgb(17,17,17)",
            "gridcolor": "#506784",
            "gridwidth": 2,
            "linecolor": "#506784",
            "showbackground": true,
            "ticks": "",
            "zerolinecolor": "#C8D4E3"
           }
          },
          "shapedefaults": {
           "line": {
            "color": "#f2f5fa"
           }
          },
          "sliderdefaults": {
           "bgcolor": "#C8D4E3",
           "bordercolor": "rgb(17,17,17)",
           "borderwidth": 1,
           "tickwidth": 0
          },
          "ternary": {
           "aaxis": {
            "gridcolor": "#506784",
            "linecolor": "#506784",
            "ticks": ""
           },
           "baxis": {
            "gridcolor": "#506784",
            "linecolor": "#506784",
            "ticks": ""
           },
           "bgcolor": "rgb(17,17,17)",
           "caxis": {
            "gridcolor": "#506784",
            "linecolor": "#506784",
            "ticks": ""
           }
          },
          "title": {
           "x": 0.05
          },
          "updatemenudefaults": {
           "bgcolor": "#506784",
           "borderwidth": 0
          },
          "xaxis": {
           "automargin": true,
           "gridcolor": "#283442",
           "linecolor": "#506784",
           "ticks": "",
           "title": {
            "standoff": 15
           },
           "zerolinecolor": "#283442",
           "zerolinewidth": 2
          },
          "yaxis": {
           "automargin": true,
           "gridcolor": "#283442",
           "linecolor": "#506784",
           "ticks": "",
           "title": {
            "standoff": 15
           },
           "zerolinecolor": "#283442",
           "zerolinewidth": 2
          }
         }
        },
        "width": 730
       }
      }
     },
     "metadata": {},
     "output_type": "display_data"
    }
   ],
   "source": [
    "radar_plot('Wimbledon', 2016)"
   ]
  },
  {
   "cell_type": "code",
   "execution_count": 12,
   "metadata": {},
   "outputs": [
    {
     "data": {
      "text/plain": [
       "array([[ 0., 10.,  0., 10., 10., 10.],\n",
       "       [10.,  0., 10.,  0.,  0.,  0.]])"
      ]
     },
     "execution_count": 12,
     "metadata": {},
     "output_type": "execute_result"
    }
   ],
   "source": [
    "# dfwinner_for_plot = pd.DataFrame(all_match[(all_match['tourney_name'] == 'Wimbledon') & (all_match['round_order'] == 1) & (all_match['tourney_year_id'] == '2016-540')][winner_skills])\n",
    "\n",
    "# winner_names_skills = {'winner_aces': 'Aces',\n",
    "#                 'winner_break_points_converted': 'Break Points Converted',\n",
    "#                 'winner_break_points_saved': 'Break Points Saved',\n",
    "#                 'winner_double_faults': 'Double Faults', \n",
    "#                 'winner_return_points_won': 'Return Points Won',\n",
    "#                 'winner_total_points_won': 'Total Points Won'}\n",
    "\n",
    "# dfwinner_for_plot.rename(mapper = winner_names_skills, axis = 1, inplace = True)\n",
    "# dfwinner_for_plot['Player'] = 'Winner'\n",
    "\n",
    "# dfloser_for_plot = pd.DataFrame(all_match[(all_match['tourney_name'] == 'Wimbledon') & (all_match['round_order'] == 1) & (all_match['tourney_year_id'] == '2016-540')][loser_skills])\n",
    "# loser_names_skills = {'loser_aces': 'Aces',\n",
    "#                         'loser_break_points_converted': 'Break Points Converted',\n",
    "#                         'loser_break_points_saved': 'Break Points Saved',\n",
    "#                         'loser_double_faults': 'Double Faults', \n",
    "#                         'loser_return_points_won': 'Return Points Won',\n",
    "#                         'loser_total_points_won': 'Total Points Won'}\n",
    "# dfloser_for_plot.rename(mapper = loser_names_skills, axis = 1, inplace = True)\n",
    "# dfloser_for_plot['Player'] = 'Loser'\n",
    "\n",
    "# df_plot = pd.concat([dfwinner_for_plot, dfloser_for_plot])\n",
    "\n",
    "# scaler = MinMaxScaler(feature_range = (0, 10))\n",
    "# normalized_data = scaler.fit_transform(df_plot.iloc[:, :-1])\n",
    "# normalized_data\n",
    "# # df_plot"
   ]
  },
  {
   "cell_type": "code",
   "execution_count": 83,
   "metadata": {},
   "outputs": [],
   "source": [
    "# skills = ['Aces', 'Break Points Converted', 'Break Points Saved', 'Double Faults', 'Return Points Won', 'Total Points Won']\n",
    "\n",
    "# # Define different ranges for each skill\n",
    "# ranges = {\n",
    "#     'Aces': [0, 45],\n",
    "#     'Break Points Converted': [0, 13],\n",
    "#     'Break Points Saved': [0, 20],\n",
    "#     'Double Faults': [0, 13],\n",
    "#     'Return Points Won': [0, 85],\n",
    "#     'Total Points Won': [0, 205]\n",
    "# }\n",
    "\n",
    "# # radar plot from the fifa dashboard\n",
    "# def tab_1_function(tournament, year):\n",
    "\n",
    "#     winner_skills = ['winner_aces', 'winner_break_points_converted', 'winner_break_points_saved', 'winner_double_faults', 'winner_return_points_won', 'winner_total_points_won']\n",
    "#     loser_skills = ['loser_aces', 'loser_break_points_converted', 'loser_break_points_saved', 'loser_double_faults', 'loser_return_points_won', 'loser_total_points_won']\n",
    "\n",
    "#     dfwinner_for_plot = pd.DataFrame(all_match[(all_match['tourney_name'] == tournament) & (all_match['round_order'] == 1) & (all_match['tourney_year_id'] == year)][winner_skills])\n",
    "#     winner_names_skills = {'winner_aces': 'Aces',\n",
    "#                            'winner_break_points_converted': 'Break Points Converted',\n",
    "#                            'winner_break_points_saved': 'Break Points Saved',\n",
    "#                            'winner_double_faults': 'Double Faults', \n",
    "#                            'winner_return_points_won': 'Return Points Won',\n",
    "#                            'winner_total_points_won': 'Total Points Won'}\n",
    "#     dfwinner_for_plot.rename(mapper = winner_names_skills, axis = 1, inplace = True)\n",
    "#     dfwinner_for_plot['Result'] = 'Winner'\n",
    "#     dfwinner_for_plot['ResultID'] = 1\n",
    "\n",
    "#     dfloser_for_plot = pd.DataFrame(all_match[(all_match['tourney_name'] == tournament) & (all_match['round_order'] == 1) & (all_match['tourney_year_id'] == year)][loser_skills])\n",
    "#     loser_names_skills = {'loser_aces': 'Aces',\n",
    "#                           'loser_break_points_converted': 'Break Points Converted',\n",
    "#                           'loser_break_points_saved': 'Break Points Saved',\n",
    "#                           'loser_double_faults': 'Double Faults', \n",
    "#                           'loser_return_points_won': 'Return Points Won',\n",
    "#                           'loser_total_points_won': 'Total Points Won'}\n",
    "#     dfloser_for_plot.rename(mapper = loser_names_skills, axis = 1, inplace = True)\n",
    "#     dfloser_for_plot['Result'] = 'Loser'\n",
    "#     dfloser_for_plot['ResultID'] = 0\n",
    "\n",
    "#     df_plot = pd.concat([dfwinner_for_plot, dfloser_for_plot])\n",
    "\n",
    "#     # Create the figure and add the parallel coordinates trace\n",
    "#     fig = go.Figure(data = \n",
    "#           go.Parcoords(\n",
    "#             line = dict(color = df_plot['ResultID'],\n",
    "#                         colorscale = ['#00b359', '#cc0000']),\n",
    "#             dimensions = list([dict(range = [0, 45], \n",
    "#                                     label = 'Aces',\n",
    "#                                     values = df_plot['Aces']),\n",
    "#                                 dict(range = [0, 13], \n",
    "#                                     label = 'Break Points Converted',\n",
    "#                                     values = df_plot['Break Points Converted']),\n",
    "#                                 dict(range = [0, 20], \n",
    "#                                     label = 'Break Points Saved',\n",
    "#                                     values = df_plot['Break Points Saved']),\n",
    "#                                 dict(range = [0, 13], \n",
    "#                                     label = 'Double Faults',\n",
    "#                                     values = df_plot['Double Faults']),\n",
    "#                                 dict(range = [0, 85], \n",
    "#                                     label = 'Return Points Won',\n",
    "#                                     values = df_plot['Return Points Won']),\n",
    "#                                 dict(range = [0, 205], \n",
    "#                                     label = 'Total Points Won',\n",
    "#                                     values = df_plot['Total Points Won']),\n",
    "#                                 ])                        \n",
    "#             ))\n",
    "\n",
    "#     # Update the layout\n",
    "#     fig.update_layout(\n",
    "#         width = 550,\n",
    "#         height = 400,\n",
    "#         margin = dict(l = 50, r = 50, t = 20, b = 50),\n",
    "#         font = dict(size = 15),\n",
    "#         plot_bgcolor = 'white',\n",
    "#         paper_bgcolor = 'white'\n",
    "#     )\n",
    "\n",
    "#     fig.show()"
   ]
  },
  {
   "cell_type": "code",
   "execution_count": 84,
   "metadata": {},
   "outputs": [
    {
     "data": {
      "application/vnd.plotly.v1+json": {
       "config": {
        "plotlyServerURL": "https://plot.ly"
       },
       "data": [
        {
         "dimensions": [
          {
           "label": "Aces",
           "range": [
            0,
            45
           ],
           "values": [
            7,
            8
           ]
          },
          {
           "label": "Break Points Converted",
           "range": [
            0,
            13
           ],
           "values": [
            1,
            0
           ]
          },
          {
           "label": "Break Points Saved",
           "range": [
            0,
            20
           ],
           "values": [
            2,
            6
           ]
          },
          {
           "label": "Double Faults",
           "range": [
            0,
            13
           ],
           "values": [
            2,
            1
           ]
          },
          {
           "label": "Return Points Won",
           "range": [
            0,
            85
           ],
           "values": [
            36,
            24
           ]
          },
          {
           "label": "Total Points Won",
           "range": [
            0,
            205
           ],
           "values": [
            115,
            102
           ]
          }
         ],
         "line": {
          "color": [
           1,
           0
          ],
          "colorscale": [
           [
            0,
            "#00b359"
           ],
           [
            1,
            "#cc0000"
           ]
          ]
         },
         "type": "parcoords"
        }
       ],
       "layout": {
        "font": {
         "size": 15
        },
        "height": 400,
        "margin": {
         "b": 50,
         "l": 50,
         "r": 50,
         "t": 20
        },
        "paper_bgcolor": "white",
        "plot_bgcolor": "white",
        "template": {
         "data": {
          "bar": [
           {
            "error_x": {
             "color": "#2a3f5f"
            },
            "error_y": {
             "color": "#2a3f5f"
            },
            "marker": {
             "line": {
              "color": "#E5ECF6",
              "width": 0.5
             },
             "pattern": {
              "fillmode": "overlay",
              "size": 10,
              "solidity": 0.2
             }
            },
            "type": "bar"
           }
          ],
          "barpolar": [
           {
            "marker": {
             "line": {
              "color": "#E5ECF6",
              "width": 0.5
             },
             "pattern": {
              "fillmode": "overlay",
              "size": 10,
              "solidity": 0.2
             }
            },
            "type": "barpolar"
           }
          ],
          "carpet": [
           {
            "aaxis": {
             "endlinecolor": "#2a3f5f",
             "gridcolor": "white",
             "linecolor": "white",
             "minorgridcolor": "white",
             "startlinecolor": "#2a3f5f"
            },
            "baxis": {
             "endlinecolor": "#2a3f5f",
             "gridcolor": "white",
             "linecolor": "white",
             "minorgridcolor": "white",
             "startlinecolor": "#2a3f5f"
            },
            "type": "carpet"
           }
          ],
          "choropleth": [
           {
            "colorbar": {
             "outlinewidth": 0,
             "ticks": ""
            },
            "type": "choropleth"
           }
          ],
          "contour": [
           {
            "colorbar": {
             "outlinewidth": 0,
             "ticks": ""
            },
            "colorscale": [
             [
              0,
              "#0d0887"
             ],
             [
              0.1111111111111111,
              "#46039f"
             ],
             [
              0.2222222222222222,
              "#7201a8"
             ],
             [
              0.3333333333333333,
              "#9c179e"
             ],
             [
              0.4444444444444444,
              "#bd3786"
             ],
             [
              0.5555555555555556,
              "#d8576b"
             ],
             [
              0.6666666666666666,
              "#ed7953"
             ],
             [
              0.7777777777777778,
              "#fb9f3a"
             ],
             [
              0.8888888888888888,
              "#fdca26"
             ],
             [
              1,
              "#f0f921"
             ]
            ],
            "type": "contour"
           }
          ],
          "contourcarpet": [
           {
            "colorbar": {
             "outlinewidth": 0,
             "ticks": ""
            },
            "type": "contourcarpet"
           }
          ],
          "heatmap": [
           {
            "colorbar": {
             "outlinewidth": 0,
             "ticks": ""
            },
            "colorscale": [
             [
              0,
              "#0d0887"
             ],
             [
              0.1111111111111111,
              "#46039f"
             ],
             [
              0.2222222222222222,
              "#7201a8"
             ],
             [
              0.3333333333333333,
              "#9c179e"
             ],
             [
              0.4444444444444444,
              "#bd3786"
             ],
             [
              0.5555555555555556,
              "#d8576b"
             ],
             [
              0.6666666666666666,
              "#ed7953"
             ],
             [
              0.7777777777777778,
              "#fb9f3a"
             ],
             [
              0.8888888888888888,
              "#fdca26"
             ],
             [
              1,
              "#f0f921"
             ]
            ],
            "type": "heatmap"
           }
          ],
          "heatmapgl": [
           {
            "colorbar": {
             "outlinewidth": 0,
             "ticks": ""
            },
            "colorscale": [
             [
              0,
              "#0d0887"
             ],
             [
              0.1111111111111111,
              "#46039f"
             ],
             [
              0.2222222222222222,
              "#7201a8"
             ],
             [
              0.3333333333333333,
              "#9c179e"
             ],
             [
              0.4444444444444444,
              "#bd3786"
             ],
             [
              0.5555555555555556,
              "#d8576b"
             ],
             [
              0.6666666666666666,
              "#ed7953"
             ],
             [
              0.7777777777777778,
              "#fb9f3a"
             ],
             [
              0.8888888888888888,
              "#fdca26"
             ],
             [
              1,
              "#f0f921"
             ]
            ],
            "type": "heatmapgl"
           }
          ],
          "histogram": [
           {
            "marker": {
             "pattern": {
              "fillmode": "overlay",
              "size": 10,
              "solidity": 0.2
             }
            },
            "type": "histogram"
           }
          ],
          "histogram2d": [
           {
            "colorbar": {
             "outlinewidth": 0,
             "ticks": ""
            },
            "colorscale": [
             [
              0,
              "#0d0887"
             ],
             [
              0.1111111111111111,
              "#46039f"
             ],
             [
              0.2222222222222222,
              "#7201a8"
             ],
             [
              0.3333333333333333,
              "#9c179e"
             ],
             [
              0.4444444444444444,
              "#bd3786"
             ],
             [
              0.5555555555555556,
              "#d8576b"
             ],
             [
              0.6666666666666666,
              "#ed7953"
             ],
             [
              0.7777777777777778,
              "#fb9f3a"
             ],
             [
              0.8888888888888888,
              "#fdca26"
             ],
             [
              1,
              "#f0f921"
             ]
            ],
            "type": "histogram2d"
           }
          ],
          "histogram2dcontour": [
           {
            "colorbar": {
             "outlinewidth": 0,
             "ticks": ""
            },
            "colorscale": [
             [
              0,
              "#0d0887"
             ],
             [
              0.1111111111111111,
              "#46039f"
             ],
             [
              0.2222222222222222,
              "#7201a8"
             ],
             [
              0.3333333333333333,
              "#9c179e"
             ],
             [
              0.4444444444444444,
              "#bd3786"
             ],
             [
              0.5555555555555556,
              "#d8576b"
             ],
             [
              0.6666666666666666,
              "#ed7953"
             ],
             [
              0.7777777777777778,
              "#fb9f3a"
             ],
             [
              0.8888888888888888,
              "#fdca26"
             ],
             [
              1,
              "#f0f921"
             ]
            ],
            "type": "histogram2dcontour"
           }
          ],
          "mesh3d": [
           {
            "colorbar": {
             "outlinewidth": 0,
             "ticks": ""
            },
            "type": "mesh3d"
           }
          ],
          "parcoords": [
           {
            "line": {
             "colorbar": {
              "outlinewidth": 0,
              "ticks": ""
             }
            },
            "type": "parcoords"
           }
          ],
          "pie": [
           {
            "automargin": true,
            "type": "pie"
           }
          ],
          "scatter": [
           {
            "fillpattern": {
             "fillmode": "overlay",
             "size": 10,
             "solidity": 0.2
            },
            "type": "scatter"
           }
          ],
          "scatter3d": [
           {
            "line": {
             "colorbar": {
              "outlinewidth": 0,
              "ticks": ""
             }
            },
            "marker": {
             "colorbar": {
              "outlinewidth": 0,
              "ticks": ""
             }
            },
            "type": "scatter3d"
           }
          ],
          "scattercarpet": [
           {
            "marker": {
             "colorbar": {
              "outlinewidth": 0,
              "ticks": ""
             }
            },
            "type": "scattercarpet"
           }
          ],
          "scattergeo": [
           {
            "marker": {
             "colorbar": {
              "outlinewidth": 0,
              "ticks": ""
             }
            },
            "type": "scattergeo"
           }
          ],
          "scattergl": [
           {
            "marker": {
             "colorbar": {
              "outlinewidth": 0,
              "ticks": ""
             }
            },
            "type": "scattergl"
           }
          ],
          "scattermapbox": [
           {
            "marker": {
             "colorbar": {
              "outlinewidth": 0,
              "ticks": ""
             }
            },
            "type": "scattermapbox"
           }
          ],
          "scatterpolar": [
           {
            "marker": {
             "colorbar": {
              "outlinewidth": 0,
              "ticks": ""
             }
            },
            "type": "scatterpolar"
           }
          ],
          "scatterpolargl": [
           {
            "marker": {
             "colorbar": {
              "outlinewidth": 0,
              "ticks": ""
             }
            },
            "type": "scatterpolargl"
           }
          ],
          "scatterternary": [
           {
            "marker": {
             "colorbar": {
              "outlinewidth": 0,
              "ticks": ""
             }
            },
            "type": "scatterternary"
           }
          ],
          "surface": [
           {
            "colorbar": {
             "outlinewidth": 0,
             "ticks": ""
            },
            "colorscale": [
             [
              0,
              "#0d0887"
             ],
             [
              0.1111111111111111,
              "#46039f"
             ],
             [
              0.2222222222222222,
              "#7201a8"
             ],
             [
              0.3333333333333333,
              "#9c179e"
             ],
             [
              0.4444444444444444,
              "#bd3786"
             ],
             [
              0.5555555555555556,
              "#d8576b"
             ],
             [
              0.6666666666666666,
              "#ed7953"
             ],
             [
              0.7777777777777778,
              "#fb9f3a"
             ],
             [
              0.8888888888888888,
              "#fdca26"
             ],
             [
              1,
              "#f0f921"
             ]
            ],
            "type": "surface"
           }
          ],
          "table": [
           {
            "cells": {
             "fill": {
              "color": "#EBF0F8"
             },
             "line": {
              "color": "white"
             }
            },
            "header": {
             "fill": {
              "color": "#C8D4E3"
             },
             "line": {
              "color": "white"
             }
            },
            "type": "table"
           }
          ]
         },
         "layout": {
          "annotationdefaults": {
           "arrowcolor": "#2a3f5f",
           "arrowhead": 0,
           "arrowwidth": 1
          },
          "autotypenumbers": "strict",
          "coloraxis": {
           "colorbar": {
            "outlinewidth": 0,
            "ticks": ""
           }
          },
          "colorscale": {
           "diverging": [
            [
             0,
             "#8e0152"
            ],
            [
             0.1,
             "#c51b7d"
            ],
            [
             0.2,
             "#de77ae"
            ],
            [
             0.3,
             "#f1b6da"
            ],
            [
             0.4,
             "#fde0ef"
            ],
            [
             0.5,
             "#f7f7f7"
            ],
            [
             0.6,
             "#e6f5d0"
            ],
            [
             0.7,
             "#b8e186"
            ],
            [
             0.8,
             "#7fbc41"
            ],
            [
             0.9,
             "#4d9221"
            ],
            [
             1,
             "#276419"
            ]
           ],
           "sequential": [
            [
             0,
             "#0d0887"
            ],
            [
             0.1111111111111111,
             "#46039f"
            ],
            [
             0.2222222222222222,
             "#7201a8"
            ],
            [
             0.3333333333333333,
             "#9c179e"
            ],
            [
             0.4444444444444444,
             "#bd3786"
            ],
            [
             0.5555555555555556,
             "#d8576b"
            ],
            [
             0.6666666666666666,
             "#ed7953"
            ],
            [
             0.7777777777777778,
             "#fb9f3a"
            ],
            [
             0.8888888888888888,
             "#fdca26"
            ],
            [
             1,
             "#f0f921"
            ]
           ],
           "sequentialminus": [
            [
             0,
             "#0d0887"
            ],
            [
             0.1111111111111111,
             "#46039f"
            ],
            [
             0.2222222222222222,
             "#7201a8"
            ],
            [
             0.3333333333333333,
             "#9c179e"
            ],
            [
             0.4444444444444444,
             "#bd3786"
            ],
            [
             0.5555555555555556,
             "#d8576b"
            ],
            [
             0.6666666666666666,
             "#ed7953"
            ],
            [
             0.7777777777777778,
             "#fb9f3a"
            ],
            [
             0.8888888888888888,
             "#fdca26"
            ],
            [
             1,
             "#f0f921"
            ]
           ]
          },
          "colorway": [
           "#636efa",
           "#EF553B",
           "#00cc96",
           "#ab63fa",
           "#FFA15A",
           "#19d3f3",
           "#FF6692",
           "#B6E880",
           "#FF97FF",
           "#FECB52"
          ],
          "font": {
           "color": "#2a3f5f"
          },
          "geo": {
           "bgcolor": "white",
           "lakecolor": "white",
           "landcolor": "#E5ECF6",
           "showlakes": true,
           "showland": true,
           "subunitcolor": "white"
          },
          "hoverlabel": {
           "align": "left"
          },
          "hovermode": "closest",
          "mapbox": {
           "style": "light"
          },
          "paper_bgcolor": "white",
          "plot_bgcolor": "#E5ECF6",
          "polar": {
           "angularaxis": {
            "gridcolor": "white",
            "linecolor": "white",
            "ticks": ""
           },
           "bgcolor": "#E5ECF6",
           "radialaxis": {
            "gridcolor": "white",
            "linecolor": "white",
            "ticks": ""
           }
          },
          "scene": {
           "xaxis": {
            "backgroundcolor": "#E5ECF6",
            "gridcolor": "white",
            "gridwidth": 2,
            "linecolor": "white",
            "showbackground": true,
            "ticks": "",
            "zerolinecolor": "white"
           },
           "yaxis": {
            "backgroundcolor": "#E5ECF6",
            "gridcolor": "white",
            "gridwidth": 2,
            "linecolor": "white",
            "showbackground": true,
            "ticks": "",
            "zerolinecolor": "white"
           },
           "zaxis": {
            "backgroundcolor": "#E5ECF6",
            "gridcolor": "white",
            "gridwidth": 2,
            "linecolor": "white",
            "showbackground": true,
            "ticks": "",
            "zerolinecolor": "white"
           }
          },
          "shapedefaults": {
           "line": {
            "color": "#2a3f5f"
           }
          },
          "ternary": {
           "aaxis": {
            "gridcolor": "white",
            "linecolor": "white",
            "ticks": ""
           },
           "baxis": {
            "gridcolor": "white",
            "linecolor": "white",
            "ticks": ""
           },
           "bgcolor": "#E5ECF6",
           "caxis": {
            "gridcolor": "white",
            "linecolor": "white",
            "ticks": ""
           }
          },
          "title": {
           "x": 0.05
          },
          "xaxis": {
           "automargin": true,
           "gridcolor": "white",
           "linecolor": "white",
           "ticks": "",
           "title": {
            "standoff": 15
           },
           "zerolinecolor": "white",
           "zerolinewidth": 2
          },
          "yaxis": {
           "automargin": true,
           "gridcolor": "white",
           "linecolor": "white",
           "ticks": "",
           "title": {
            "standoff": 15
           },
           "zerolinecolor": "white",
           "zerolinewidth": 2
          }
         }
        },
        "width": 550
       }
      }
     },
     "metadata": {},
     "output_type": "display_data"
    }
   ],
   "source": [
    "# tab_1_function('Wimbledon', '2016-540')"
   ]
  },
  {
   "cell_type": "code",
   "execution_count": null,
   "metadata": {},
   "outputs": [],
   "source": []
  }
 ],
 "metadata": {
  "kernelspec": {
   "display_name": "DataVisualization",
   "language": "python",
   "name": "python3"
  },
  "language_info": {
   "codemirror_mode": {
    "name": "ipython",
    "version": 3
   },
   "file_extension": ".py",
   "mimetype": "text/x-python",
   "name": "python",
   "nbconvert_exporter": "python",
   "pygments_lexer": "ipython3",
   "version": "3.11.0"
  },
  "orig_nbformat": 4
 },
 "nbformat": 4,
 "nbformat_minor": 2
}
